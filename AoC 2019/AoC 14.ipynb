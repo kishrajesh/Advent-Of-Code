{
 "cells": [
  {
   "cell_type": "code",
   "execution_count": 6,
   "metadata": {},
   "outputs": [],
   "source": [
    "puzzle = open(\"AoC14.txt\").read().splitlines()"
   ]
  },
  {
   "cell_type": "code",
   "execution_count": 7,
   "metadata": {},
   "outputs": [],
   "source": [
    "rules = {}\n",
    "for p in puzzle:\n",
    "    ing, out = p.split(\" => \")\n",
    "    out = out.split()\n",
    "    rules[out[1]] = (int(out[0]), [(int(i.split()[0]), i.split()[1]) for i in ing.split(\", \")])"
   ]
  },
  {
   "cell_type": "code",
   "execution_count": 13,
   "metadata": {},
   "outputs": [
    {
     "name": "stdout",
     "output_type": "stream",
     "text": [
      "11\n"
     ]
    }
   ],
   "source": [
    "def getMinOre(out, amt, ruleBook):\n",
    "    if out == \"ORE\":\n",
    "        return amt\n",
    "    if amt == 0:\n",
    "        return 0\n",
    "    rule = ruleBook[out]\n",
    "    mult = (amt + rule[0] - 1) // rule[0]\n",
    "    totOre = 0\n",
    "    for i in rule[1]:\n",
    "        totOre += getMinOre(i[1], i[0] * mult, ruleBook)\n",
    "    return totOre\n",
    "ans1 = getMinOre(\"C\", 1, rules)\n",
    "print(ans1)"
   ]
  },
  {
   "cell_type": "code",
   "execution_count": null,
   "metadata": {},
   "outputs": [],
   "source": []
  }
 ],
 "metadata": {
  "kernelspec": {
   "display_name": "Python 3",
   "language": "python",
   "name": "python3"
  },
  "language_info": {
   "codemirror_mode": {
    "name": "ipython",
    "version": 3
   },
   "file_extension": ".py",
   "mimetype": "text/x-python",
   "name": "python",
   "nbconvert_exporter": "python",
   "pygments_lexer": "ipython3",
   "version": "3.11.0"
  }
 },
 "nbformat": 4,
 "nbformat_minor": 2
}
