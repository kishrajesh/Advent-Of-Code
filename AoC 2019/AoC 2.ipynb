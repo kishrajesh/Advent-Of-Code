{
 "cells": [
  {
   "cell_type": "code",
   "execution_count": 1,
   "metadata": {},
   "outputs": [],
   "source": [
    "import numpy as np"
   ]
  },
  {
   "cell_type": "code",
   "execution_count": 33,
   "metadata": {},
   "outputs": [],
   "source": [
    "puzzle=np.loadtxt('AoC02.txt',unpack=True,delimiter=\",\")"
   ]
  },
  {
   "cell_type": "code",
   "execution_count": 20,
   "metadata": {},
   "outputs": [
    {
     "name": "stdout",
     "output_type": "stream",
     "text": [
      "3790689.0\n"
     ]
    }
   ],
   "source": [
    "for i in range(0,int(len(puzzle)/4)):\n",
    "    if(puzzle[4*i]==1):\n",
    "        puzzle[int(puzzle[4*i+3])]=puzzle[int(puzzle[4*i+1])]+puzzle[int(puzzle[4*i+2])]\n",
    "    if(puzzle[4*i]==2):\n",
    "        puzzle[int(puzzle[4*i+3])]=puzzle[int(puzzle[4*i+1])]*puzzle[int(puzzle[4*i+2])]\n",
    "    if(puzzle[4*i]==99):\n",
    "        break\n",
    "print(puzzle[0])"
   ]
  },
  {
   "cell_type": "code",
   "execution_count": 36,
   "metadata": {},
   "outputs": [
    {
     "name": "stdout",
     "output_type": "stream",
     "text": [
      "sol: 65 33\n"
     ]
    }
   ],
   "source": [
    "def sol(a,b,puz):\n",
    "    puz[1]=a\n",
    "    puz[2]=b\n",
    "    for i in range(0,int(len(puz)/4)):\n",
    "        if(puz[4*i]==1):\n",
    "            puz[int(puz[4*i+3])]=puz[int(puz[4*i+1])]+puz[int(puz[4*i+2])]\n",
    "        if(puz[4*i]==2):\n",
    "            puz[int(puz[4*i+3])]=puz[int(puz[4*i+1])]*puz[int(puz[4*i+2])]\n",
    "        if(puz[4*i]==99):\n",
    "            break\n",
    "    return(puz[0])\n",
    "for i in range(100):\n",
    "    for j in range(100):\n",
    "        puzzle=np.loadtxt('AoC2.txt',unpack=True,delimiter=\",\")\n",
    "        #print(i,j)\n",
    "        if(sol(i,j,puzzle)==19690720):\n",
    "            print(\"sol:\",i,j)"
   ]
  },
  {
   "cell_type": "code",
   "execution_count": null,
   "metadata": {},
   "outputs": [],
   "source": []
  }
 ],
 "metadata": {
  "kernelspec": {
   "display_name": "Python 3.8.16 64-bit ('3.8.16')",
   "language": "python",
   "name": "python3"
  },
  "language_info": {
   "codemirror_mode": {
    "name": "ipython",
    "version": 3
   },
   "file_extension": ".py",
   "mimetype": "text/x-python",
   "name": "python",
   "nbconvert_exporter": "python",
   "pygments_lexer": "ipython3",
   "version": "3.8.16"
  },
  "vscode": {
   "interpreter": {
    "hash": "83d716789636f2c43bd4464069cb5695a0d9efbaa75c4707909d1f0a350467f7"
   }
  }
 },
 "nbformat": 4,
 "nbformat_minor": 4
}
