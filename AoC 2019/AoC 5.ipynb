{
 "cells": [
  {
   "cell_type": "code",
   "execution_count": 61,
   "metadata": {},
   "outputs": [],
   "source": [
    "puzzle = open(\"AoC5.txt\", \"r\").read().splitlines()\n",
    "puzzle = [int(i) for i in puzzle[0].split(\",\")]"
   ]
  },
  {
   "cell_type": "code",
   "execution_count": 62,
   "metadata": {},
   "outputs": [],
   "source": [
    "def paramModes(opcode):\n",
    "    opcode = str(opcode)\n",
    "    if len(opcode) < 3:\n",
    "        return [0,0,0]\n",
    "    elif len(opcode) == 3:\n",
    "        return [int(opcode[0]),0,0]\n",
    "    elif len(opcode) == 4:\n",
    "        return [int(opcode[1]),int(opcode[0]),0]\n",
    "    elif len(opcode) == 5:\n",
    "        return [int(opcode[2]),int(opcode[1]),int(opcode[0])]\n",
    "    return [0,0,0]"
   ]
  },
  {
   "cell_type": "code",
   "execution_count": 63,
   "metadata": {},
   "outputs": [],
   "source": [
    "def intcode(p, input):\n",
    "    #intcode computer\n",
    "    i = 0\n",
    "    while i < len(p):\n",
    "        if p[i] == 99:\n",
    "            break\n",
    "        elif p[i]%100 == 1:\n",
    "            c,b,a = paramModes(p[i])\n",
    "            p1,p2=p[i+1],p[i+2]\n",
    "            if c == 0:\n",
    "                p1 = p[p[i+1]]\n",
    "            if b == 0:\n",
    "                p2 = p[p[i+2]]\n",
    "            p[p[i+3]] = p1 + p2\n",
    "            i += 4\n",
    "        elif p[i]%100 == 2:\n",
    "            c,b,a = paramModes(p[i])\n",
    "            p1,p2=p[i+1],p[i+2]\n",
    "            if c == 0:\n",
    "                p1 = p[p[i+1]]\n",
    "            if b == 0:\n",
    "                p2 = p[p[i+2]]\n",
    "            p[p[i+3]] = p1 * p2\n",
    "            i += 4\n",
    "        elif p[i]%100 == 3:\n",
    "            p[p[i+1]] = input\n",
    "            i += 2\n",
    "        elif p[i]%100 == 4:\n",
    "            c,b,a = paramModes(p[i])\n",
    "            if c == 0:\n",
    "                print(p[p[i+1]])\n",
    "            else:\n",
    "                print(p[i+1])\n",
    "            i += 2\n",
    "        elif p[i]%100 == 5:\n",
    "            c,b,a = paramModes(p[i])\n",
    "            p1,p2=p[i+1],p[i+2]\n",
    "            if c == 0:\n",
    "                p1 = p[p[i+1]]\n",
    "            if b == 0:\n",
    "                p2 = p[p[i+2]]\n",
    "            if p1 != 0:\n",
    "                i = p2\n",
    "            else:\n",
    "                i += 3\n",
    "        elif p[i]%100 == 6:\n",
    "            c,b,a = paramModes(p[i])\n",
    "            p1,p2=p[i+1],p[i+2]\n",
    "            if c == 0:\n",
    "                p1 = p[p[i+1]]\n",
    "            if b == 0:\n",
    "                p2 = p[p[i+2]]\n",
    "            if p1 == 0:\n",
    "                i = p2\n",
    "            else:\n",
    "                i += 3\n",
    "        elif p[i]%100 == 7:\n",
    "            c,b,a = paramModes(p[i])\n",
    "            p1,p2=p[i+1],p[i+2]\n",
    "            if c == 0:\n",
    "                p1 = p[p[i+1]]\n",
    "            if b == 0:\n",
    "                p2 = p[p[i+2]]\n",
    "            if p1 < p2:\n",
    "                p[p[i+3]] = 1\n",
    "            else:\n",
    "                p[p[i+3]] = 0\n",
    "            i += 4\n",
    "        elif p[i]%100 == 8:\n",
    "            c,b,a = paramModes(p[i])\n",
    "            p1,p2=p[i+1],p[i+2]\n",
    "            if c == 0:\n",
    "                p1 = p[p[i+1]]\n",
    "            if b == 0:\n",
    "                p2 = p[p[i+2]]\n",
    "            if p1 == p2:\n",
    "                p[p[i+3]] = 1\n",
    "            else:\n",
    "                p[p[i+3]] = 0\n",
    "            i += 4"
   ]
  },
  {
   "cell_type": "code",
   "execution_count": 59,
   "metadata": {},
   "outputs": [
    {
     "name": "stdout",
     "output_type": "stream",
     "text": [
      "0\n",
      "0\n",
      "0\n",
      "0\n",
      "0\n",
      "0\n",
      "0\n",
      "0\n",
      "0\n",
      "9654885\n"
     ]
    }
   ],
   "source": [
    "intcode(puzzle, 1)"
   ]
  },
  {
   "cell_type": "code",
   "execution_count": 64,
   "metadata": {},
   "outputs": [
    {
     "name": "stdout",
     "output_type": "stream",
     "text": [
      "7079459\n"
     ]
    }
   ],
   "source": [
    "intcode(puzzle, 5)"
   ]
  },
  {
   "cell_type": "code",
   "execution_count": null,
   "metadata": {},
   "outputs": [],
   "source": []
  }
 ],
 "metadata": {
  "kernelspec": {
   "display_name": "Python 3.8.16 64-bit ('3.8.16')",
   "language": "python",
   "name": "python3"
  },
  "language_info": {
   "codemirror_mode": {
    "name": "ipython",
    "version": 3
   },
   "file_extension": ".py",
   "mimetype": "text/x-python",
   "name": "python",
   "nbconvert_exporter": "python",
   "pygments_lexer": "ipython3",
   "version": "3.8.16"
  },
  "orig_nbformat": 4,
  "vscode": {
   "interpreter": {
    "hash": "83d716789636f2c43bd4464069cb5695a0d9efbaa75c4707909d1f0a350467f7"
   }
  }
 },
 "nbformat": 4,
 "nbformat_minor": 2
}
