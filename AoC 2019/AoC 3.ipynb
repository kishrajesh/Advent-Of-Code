{
 "cells": [
  {
   "cell_type": "code",
   "execution_count": 37,
   "metadata": {},
   "outputs": [],
   "source": [
    "import numpy as np"
   ]
  },
  {
   "cell_type": "code",
   "execution_count": 38,
   "metadata": {},
   "outputs": [],
   "source": [
    "puzzle = open(\"AoC3.txt\", \"r\").read().splitlines()\n",
    "puzzle = [i.split(\",\") for i in puzzle]"
   ]
  },
  {
   "cell_type": "code",
   "execution_count": 39,
   "metadata": {},
   "outputs": [],
   "source": [
    "path1=[(0,0)]\n",
    "for i in puzzle[0]:\n",
    "    direc=i[0:1]\n",
    "    num=int(i[1:])\n",
    "    for j in range(num):\n",
    "        x=path1[-1]\n",
    "        if(direc=='U'):\n",
    "            path1.append((x[0], x[1]+1))\n",
    "        if(direc=='D'):\n",
    "            path1.append((x[0], x[1]-1))\n",
    "        if(direc=='L'):\n",
    "            path1.append((x[0]-1, x[1]))\n",
    "        if(direc=='R'):\n",
    "            path1.append((x[0]+1, x[1]))"
   ]
  },
  {
   "cell_type": "code",
   "execution_count": 40,
   "metadata": {},
   "outputs": [],
   "source": [
    "path2=[(0,0)]\n",
    "for i in puzzle[1]:\n",
    "    direc=i[0:1]\n",
    "    num=int(i[1:])\n",
    "    for j in range(num):\n",
    "        x=path2[-1]\n",
    "        if(direc=='U'):\n",
    "            path2.append((x[0], x[1]+1))\n",
    "        if(direc=='D'):\n",
    "            path2.append((x[0], x[1]-1))\n",
    "        if(direc=='L'):\n",
    "            path2.append((x[0]-1, x[1]))\n",
    "        if(direc=='R'):\n",
    "            path2.append((x[0]+1, x[1]))\n"
   ]
  },
  {
   "cell_type": "code",
   "execution_count": 41,
   "metadata": {},
   "outputs": [
    {
     "name": "stdout",
     "output_type": "stream",
     "text": [
      "399\n"
     ]
    }
   ],
   "source": [
    "def intersection(lst1, lst2):\n",
    "    temp = set(lst2)\n",
    "    lst3 = [value for value in lst1 if value in temp]\n",
    "    return lst3\n",
    "def manDist(point):\n",
    "    return abs(point[0])+abs(point[1])\n",
    "dists = [manDist(i) for i in intersection(path1, path2)]\n",
    "dists.sort()\n",
    "print(dists[1])"
   ]
  },
  {
   "cell_type": "code",
   "execution_count": 42,
   "metadata": {},
   "outputs": [
    {
     "name": "stdout",
     "output_type": "stream",
     "text": [
      "15678\n"
     ]
    }
   ],
   "source": [
    "def intersection2(lst1, lst2):\n",
    "    temp1 = [(i, lst1[i]) for i in range(len(lst1))]\n",
    "    temp2 = [(i, lst2[i]) for i in range(len(lst2))]\n",
    "    s1 = set(lst1)\n",
    "    s2 = set(lst2)\n",
    "    ans = []\n",
    "    for i in range(len(temp1)):\n",
    "        if(temp1[i][1] in s2):\n",
    "            for j in range(len(temp2)):\n",
    "                if temp1[i][1] == temp2[j][1]:\n",
    "                    ans.append((i, j))\n",
    "    return ans\n",
    "inter = intersection2(path1, path2)\n",
    "dists2 = [i[0]+i[1] for i in inter]\n",
    "dists2.sort()\n",
    "print(dists2[1])"
   ]
  }
 ],
 "metadata": {
  "kernelspec": {
   "display_name": "Python 3.8.16 64-bit ('3.8.16')",
   "language": "python",
   "name": "python3"
  },
  "language_info": {
   "codemirror_mode": {
    "name": "ipython",
    "version": 3
   },
   "file_extension": ".py",
   "mimetype": "text/x-python",
   "name": "python",
   "nbconvert_exporter": "python",
   "pygments_lexer": "ipython3",
   "version": "3.8.16"
  },
  "vscode": {
   "interpreter": {
    "hash": "83d716789636f2c43bd4464069cb5695a0d9efbaa75c4707909d1f0a350467f7"
   }
  }
 },
 "nbformat": 4,
 "nbformat_minor": 4
}
