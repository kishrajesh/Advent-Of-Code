{
 "cells": [
  {
   "cell_type": "code",
   "execution_count": 1,
   "metadata": {},
   "outputs": [],
   "source": [
    "import numpy as np\n",
    "puzzle = open(\"AoC4.txt\", \"r\").read().splitlines()\n",
    "a,b = [int(x) for x in puzzle[0].split(\"-\")]"
   ]
  },
  {
   "cell_type": "code",
   "execution_count": 2,
   "metadata": {},
   "outputs": [
    {
     "name": "stdout",
     "output_type": "stream",
     "text": [
      "240920 789857\n"
     ]
    }
   ],
   "source": [
    "print(a,b)"
   ]
  },
  {
   "cell_type": "code",
   "execution_count": 3,
   "metadata": {},
   "outputs": [],
   "source": [
    "def works(x):\n",
    "    s = str(x)\n",
    "    if len(s) !=6:\n",
    "        return False\n",
    "    if s!= \"\".join(sorted(s)):\n",
    "        return False\n",
    "    for i in range(10):\n",
    "        if str(i)*2 in s:\n",
    "            return True\n",
    "    return False"
   ]
  },
  {
   "cell_type": "code",
   "execution_count": 4,
   "metadata": {},
   "outputs": [
    {
     "name": "stdout",
     "output_type": "stream",
     "text": [
      "1154\n"
     ]
    }
   ],
   "source": [
    "ans1 = 0\n",
    "for i in range(a,b+1):\n",
    "    if works(i):\n",
    "        ans1+=1\n",
    "print(ans1)"
   ]
  },
  {
   "cell_type": "code",
   "execution_count": 5,
   "metadata": {},
   "outputs": [],
   "source": [
    "def works2(x):\n",
    "    s = str(x)\n",
    "    if len(s) !=6:\n",
    "        return False\n",
    "    if s!= \"\".join(sorted(s)):\n",
    "        return False\n",
    "    for i in range(10):\n",
    "        if str(i)*2 in s and str(i)*3 not in s:\n",
    "            return True\n",
    "    return False"
   ]
  },
  {
   "cell_type": "code",
   "execution_count": 6,
   "metadata": {},
   "outputs": [
    {
     "name": "stdout",
     "output_type": "stream",
     "text": [
      "750\n"
     ]
    }
   ],
   "source": [
    "ans2 = 0\n",
    "for i in range(a,b+1):\n",
    "    if works2(i):\n",
    "        ans2+=1\n",
    "print(ans2)"
   ]
  },
  {
   "cell_type": "code",
   "execution_count": null,
   "metadata": {},
   "outputs": [],
   "source": []
  }
 ],
 "metadata": {
  "kernelspec": {
   "display_name": "Python 3.8.16 64-bit ('3.8.16')",
   "language": "python",
   "name": "python3"
  },
  "language_info": {
   "codemirror_mode": {
    "name": "ipython",
    "version": 3
   },
   "file_extension": ".py",
   "mimetype": "text/x-python",
   "name": "python",
   "nbconvert_exporter": "python",
   "pygments_lexer": "ipython3",
   "version": "3.8.16"
  },
  "orig_nbformat": 4,
  "vscode": {
   "interpreter": {
    "hash": "83d716789636f2c43bd4464069cb5695a0d9efbaa75c4707909d1f0a350467f7"
   }
  }
 },
 "nbformat": 4,
 "nbformat_minor": 2
}
