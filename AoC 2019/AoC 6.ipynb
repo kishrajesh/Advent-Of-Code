{
 "cells": [
  {
   "cell_type": "code",
   "execution_count": 90,
   "metadata": {},
   "outputs": [],
   "source": [
    "puzzle = open(\"AoC06.txt\", \"r\").read().splitlines()"
   ]
  },
  {
   "cell_type": "code",
   "execution_count": 93,
   "metadata": {},
   "outputs": [],
   "source": [
    "#make a graph class\n",
    "class Graph:\n",
    "    def __init__(self):\n",
    "        self.nodes = set()\n",
    "        self.orbits = {}\n",
    "        self.distances = {}\n",
    "        self.children = {}\n",
    "\n",
    "    def add_node(self, value):\n",
    "        if(value in self.nodes):\n",
    "            return\n",
    "        self.nodes.add(value)\n",
    "        self.orbits[value] = []\n",
    "        self.children[value] = []\n",
    "\n",
    "    #A -> B if A orbits B\n",
    "    def add_orbit(self, from_node, to_node, distance):\n",
    "        self.orbits[from_node].append(to_node)\n",
    "        self.children[to_node].append(from_node)\n",
    "        self.distances[(from_node, to_node)] = distance\n",
    "        self.distances[(to_node, from_node)] = distance\n",
    "        \n",
    "def numOrb(graph, node, depth):\n",
    "    if len(graph.orbits[node]) == 0:\n",
    "        return depth\n",
    "    else:\n",
    "        return sum([numOrb(graph, i, depth+1) for i in graph.orbits[node]])"
   ]
  },
  {
   "cell_type": "code",
   "execution_count": 94,
   "metadata": {},
   "outputs": [],
   "source": [
    "g = Graph()\n",
    "for i in puzzle:\n",
    "    g.add_node(i.split(\")\")[0])\n",
    "    g.add_node(i.split(\")\")[1])\n",
    "    g.add_orbit(i.split(\")\")[1], i.split(\")\")[0], 1)"
   ]
  },
  {
   "cell_type": "code",
   "execution_count": 95,
   "metadata": {},
   "outputs": [
    {
     "name": "stdout",
     "output_type": "stream",
     "text": [
      "162439\n"
     ]
    }
   ],
   "source": [
    "ans1 = 0\n",
    "for i in g.nodes:\n",
    "    ans1 += numOrb(g, i, 0)\n",
    "print(ans1)"
   ]
  },
  {
   "cell_type": "code",
   "execution_count": 97,
   "metadata": {},
   "outputs": [],
   "source": [
    "meOrbit = g.orbits[\"YOU\"][0]\n",
    "santaOrbit = g.orbits[\"SAN\"][0]"
   ]
  },
  {
   "cell_type": "code",
   "execution_count": 98,
   "metadata": {},
   "outputs": [
    {
     "name": "stdout",
     "output_type": "stream",
     "text": [
      "367\n"
     ]
    }
   ],
   "source": [
    "def minPath(graph, start, end):\n",
    "    #use BFS to find smallest path from start to end\n",
    "    #orbits are directed, children are directed in opposite direction\n",
    "    #so we need to check both\n",
    "    visited = set()\n",
    "    queue = [(start, 0)]\n",
    "    while queue:\n",
    "        node, dist = queue.pop(0)\n",
    "        if node == end:\n",
    "            return dist\n",
    "        visited.add(node)\n",
    "        for i in graph.orbits[node]:\n",
    "            if i not in visited:\n",
    "                queue.append((i, dist+1))\n",
    "        for i in graph.children[node]:\n",
    "            if i not in visited:\n",
    "                queue.append((i, dist+1))\n",
    "    return -1\n",
    "print(minPath(g, meOrbit, santaOrbit))"
   ]
  },
  {
   "cell_type": "code",
   "execution_count": null,
   "metadata": {},
   "outputs": [],
   "source": []
  }
 ],
 "metadata": {
  "kernelspec": {
   "display_name": "Python 3.8.16 64-bit ('3.8.16')",
   "language": "python",
   "name": "python3"
  },
  "language_info": {
   "codemirror_mode": {
    "name": "ipython",
    "version": 3
   },
   "file_extension": ".py",
   "mimetype": "text/x-python",
   "name": "python",
   "nbconvert_exporter": "python",
   "pygments_lexer": "ipython3",
   "version": "3.8.16"
  },
  "orig_nbformat": 4,
  "vscode": {
   "interpreter": {
    "hash": "83d716789636f2c43bd4464069cb5695a0d9efbaa75c4707909d1f0a350467f7"
   }
  }
 },
 "nbformat": 4,
 "nbformat_minor": 2
}
