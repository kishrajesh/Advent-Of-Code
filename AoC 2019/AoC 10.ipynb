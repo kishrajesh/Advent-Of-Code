{
 "cells": [
  {
   "cell_type": "code",
   "execution_count": 26,
   "metadata": {},
   "outputs": [],
   "source": [
    "puzzle = open(\"AoC10.txt\").read().splitlines()\n",
    "puzzle = [list(x) for x in puzzle]"
   ]
  },
  {
   "cell_type": "code",
   "execution_count": 27,
   "metadata": {},
   "outputs": [],
   "source": [
    "roids = []\n",
    "for i in range(len(puzzle)):\n",
    "    for j in range(len(puzzle[i])):\n",
    "        if puzzle[i][j] == \"#\":\n",
    "            roids.append((i, j))"
   ]
  },
  {
   "cell_type": "code",
   "execution_count": 28,
   "metadata": {},
   "outputs": [],
   "source": [
    "import math\n",
    "def countAst(asts, station):\n",
    "    angles = set()\n",
    "    for ast in asts:\n",
    "        if ast == station:\n",
    "            continue\n",
    "        di, dj = ast[0] - station[0], ast[1] - station[1]\n",
    "        gcd = math.gcd(di, dj)\n",
    "        di, dj = di // gcd, dj // gcd\n",
    "        angles.add((di, dj))\n",
    "    return len(angles)"
   ]
  },
  {
   "cell_type": "code",
   "execution_count": 29,
   "metadata": {},
   "outputs": [
    {
     "name": "stdout",
     "output_type": "stream",
     "text": [
      "347\n"
     ]
    }
   ],
   "source": [
    "ans1 = 0\n",
    "station = (0, 0)\n",
    "for roid in roids:\n",
    "    if countAst(roids, roid) > ans1:\n",
    "        ans1 = countAst(roids, roid)\n",
    "        station = roid\n",
    "print(ans1)"
   ]
  },
  {
   "cell_type": "code",
   "execution_count": 30,
   "metadata": {},
   "outputs": [
    {
     "name": "stdout",
     "output_type": "stream",
     "text": [
      "829\n"
     ]
    }
   ],
   "source": [
    "def getRoids(asts, station):\n",
    "    angDis = set()\n",
    "    libr = {}\n",
    "    for ast in asts:\n",
    "        if ast == station:\n",
    "            continue\n",
    "        di, dj = ast[0] - station[0], ast[1] - station[1]\n",
    "        ang = math.atan2(dj, di) \n",
    "        ang = (math.pi-ang) % (2 * math.pi)\n",
    "        dis = math.sqrt(di**2 + dj**2)\n",
    "        #angDis.add((ang, dis, ast))\n",
    "        if ang not in libr:\n",
    "            libr[ang] = []\n",
    "        libr[ang].append((dis, ast))\n",
    "    for key in libr:\n",
    "        libr[key] = sorted(libr[key])\n",
    "        for i in range(len(libr[key])):\n",
    "            angDis.add((i, key, libr[key][i][1]))\n",
    "    angDis = sorted(list(angDis))\n",
    "    return angDis\n",
    "#print(station)\n",
    "#print(getRoids(roids, station))\n",
    "Y, X = getRoids(roids, station)[199][2]\n",
    "ans2 = 100 * X + Y\n",
    "print(ans2)"
   ]
  },
  {
   "cell_type": "code",
   "execution_count": null,
   "metadata": {},
   "outputs": [],
   "source": []
  }
 ],
 "metadata": {
  "kernelspec": {
   "display_name": "Python 3",
   "language": "python",
   "name": "python3"
  },
  "language_info": {
   "codemirror_mode": {
    "name": "ipython",
    "version": 3
   },
   "file_extension": ".py",
   "mimetype": "text/x-python",
   "name": "python",
   "nbconvert_exporter": "python",
   "pygments_lexer": "ipython3",
   "version": "3.11.0"
  }
 },
 "nbformat": 4,
 "nbformat_minor": 2
}
