{
 "cells": [
  {
   "cell_type": "code",
   "execution_count": 35,
   "metadata": {},
   "outputs": [],
   "source": [
    "puzzle = open(\"AoC12.txt\").read().splitlines()"
   ]
  },
  {
   "cell_type": "code",
   "execution_count": 36,
   "metadata": {},
   "outputs": [],
   "source": [
    "moons = []\n",
    "for p in puzzle:\n",
    "    pos = p.split(\", \")\n",
    "    x, y, z = int(pos[0][3:]), int(pos[1][2:]), int(pos[2][2:-1])\n",
    "    moons.append([x, y, z, 0, 0, 0])"
   ]
  },
  {
   "cell_type": "code",
   "execution_count": 37,
   "metadata": {},
   "outputs": [],
   "source": [
    "def update(currMoons):\n",
    "    for i in range(4):\n",
    "        for j in range(i+1, 4):\n",
    "            for k in range(3):\n",
    "                if currMoons[i][k] < currMoons[j][k]:\n",
    "                    currMoons[i][k+3] += 1\n",
    "                    currMoons[j][k+3] -= 1\n",
    "                elif currMoons[i][k] > currMoons[j][k]:\n",
    "                    currMoons[i][k+3] -= 1\n",
    "                    currMoons[j][k+3] += 1\n",
    "    for i in range(4):\n",
    "        for k in range(3):\n",
    "            currMoons[i][k] += currMoons[i][k+3]\n",
    "def energy(currMoons):\n",
    "    total = 0\n",
    "    for i in range(4):\n",
    "        pot = sum([abs(x) for x in currMoons[i][:3]])\n",
    "        kin = sum([abs(x) for x in currMoons[i][3:]])\n",
    "        total += pot * kin\n",
    "    return total"
   ]
  },
  {
   "cell_type": "code",
   "execution_count": 38,
   "metadata": {},
   "outputs": [
    {
     "name": "stdout",
     "output_type": "stream",
     "text": [
      "6849\n"
     ]
    }
   ],
   "source": [
    "currMoons = [x[:] for x in moons]\n",
    "for _ in range(1000):\n",
    "    update(currMoons)\n",
    "ans1 = energy(currMoons)\n",
    "print(ans1)"
   ]
  },
  {
   "cell_type": "code",
   "execution_count": 39,
   "metadata": {},
   "outputs": [
    {
     "name": "stdout",
     "output_type": "stream",
     "text": [
      "356658899375688\n"
     ]
    }
   ],
   "source": [
    "x_period, y_period, z_period = 0, 0, 0\n",
    "currMoons = [x[:] for x in moons]\n",
    "x_set, y_set, z_set = set(), set(), set()\n",
    "x_start = (tuple([x[0] for x in currMoons]), tuple([x[3] for x in currMoons]))\n",
    "y_start = (tuple([x[1] for x in currMoons]), tuple([x[4] for x in currMoons]))\n",
    "z_start = (tuple([x[2] for x in currMoons]), tuple([x[5] for x in currMoons]))\n",
    "x_set.add(x_start)\n",
    "y_set.add(y_start)\n",
    "z_set.add(z_start)\n",
    "while True:\n",
    "    update(currMoons)\n",
    "    x_state = (tuple([x[0] for x in currMoons]), tuple([x[3] for x in currMoons]))\n",
    "    y_state = (tuple([x[1] for x in currMoons]), tuple([x[4] for x in currMoons]))\n",
    "    z_state = (tuple([x[2] for x in currMoons]), tuple([x[5] for x in currMoons]))\n",
    "    if x_state in x_set and x_period == 0:\n",
    "        x_period = len(x_set)\n",
    "    if y_state in y_set and y_period == 0:\n",
    "        y_period = len(y_set)\n",
    "    if z_state in z_set and z_period == 0:\n",
    "        z_period = len(z_set)\n",
    "\n",
    "    if x_period != 0 and y_period != 0 and z_period != 0:\n",
    "        break\n",
    "    x_set.add(x_state)\n",
    "    y_set.add(y_state)\n",
    "    z_set.add(z_state)\n",
    "import math\n",
    "ans2 = math.lcm(x_period, y_period, z_period)\n",
    "print(ans2)"
   ]
  },
  {
   "cell_type": "code",
   "execution_count": null,
   "metadata": {},
   "outputs": [],
   "source": []
  }
 ],
 "metadata": {
  "kernelspec": {
   "display_name": "Python 3",
   "language": "python",
   "name": "python3"
  },
  "language_info": {
   "codemirror_mode": {
    "name": "ipython",
    "version": 3
   },
   "file_extension": ".py",
   "mimetype": "text/x-python",
   "name": "python",
   "nbconvert_exporter": "python",
   "pygments_lexer": "ipython3",
   "version": "3.11.0"
  }
 },
 "nbformat": 4,
 "nbformat_minor": 2
}
