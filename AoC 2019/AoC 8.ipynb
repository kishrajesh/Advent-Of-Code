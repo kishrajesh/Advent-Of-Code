{
 "cells": [
  {
   "cell_type": "code",
   "execution_count": 18,
   "metadata": {},
   "outputs": [],
   "source": [
    "puzzle = open(\"AoC08.txt\").read().splitlines()\n",
    "puzzle = list(puzzle[0])\n",
    "puzzle = [int(x) for x in puzzle]"
   ]
  },
  {
   "cell_type": "code",
   "execution_count": 19,
   "metadata": {},
   "outputs": [],
   "source": [
    "layers = []\n",
    "w, h = 25, 6\n",
    "layer_size = w * h\n",
    "for i in range(0, len(puzzle), layer_size):\n",
    "    layers.append(puzzle[i:i+layer_size])"
   ]
  },
  {
   "cell_type": "code",
   "execution_count": 20,
   "metadata": {},
   "outputs": [
    {
     "name": "stdout",
     "output_type": "stream",
     "text": [
      "1064\n"
     ]
    }
   ],
   "source": [
    "minZeros = len(layers[0])\n",
    "ans1 = 0\n",
    "for layer in layers:\n",
    "    zeros = layer.count(0)\n",
    "    if zeros < minZeros:\n",
    "        minZeros = zeros\n",
    "        ans1 = layer.count(1) * layer.count(2)\n",
    "print(ans1)\n"
   ]
  },
  {
   "cell_type": "code",
   "execution_count": 25,
   "metadata": {},
   "outputs": [
    {
     "name": "stdout",
     "output_type": "stream",
     "text": [
      "###  ####  ##   ##  #  # \n",
      "#  # #    #  # #  # # #  \n",
      "#  # ###  #    #  # ##   \n",
      "###  #    #    #### # #  \n",
      "#    #    #  # #  # # #  \n",
      "#    #     ##  #  # #  # \n"
     ]
    }
   ],
   "source": [
    "visible_layer = [2] * layer_size\n",
    "for layer in layers:\n",
    "    for i in range(layer_size):\n",
    "        if visible_layer[i] == 2:\n",
    "            visible_layer[i] = layer[i]\n",
    "for hei in range(h):\n",
    "    line = visible_layer[hei*w:(hei+1)*w]\n",
    "    line = \"\".join([\"#\" if x == 1 else \" \" for x in line])\n",
    "    print(line)\n",
    "        "
   ]
  },
  {
   "cell_type": "code",
   "execution_count": null,
   "metadata": {},
   "outputs": [],
   "source": []
  }
 ],
 "metadata": {
  "kernelspec": {
   "display_name": "Python 3",
   "language": "python",
   "name": "python3"
  },
  "language_info": {
   "codemirror_mode": {
    "name": "ipython",
    "version": 3
   },
   "file_extension": ".py",
   "mimetype": "text/x-python",
   "name": "python",
   "nbconvert_exporter": "python",
   "pygments_lexer": "ipython3",
   "version": "3.11.0"
  }
 },
 "nbformat": 4,
 "nbformat_minor": 2
}
