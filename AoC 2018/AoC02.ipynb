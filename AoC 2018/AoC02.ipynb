{
 "cells": [
  {
   "cell_type": "code",
   "execution_count": 8,
   "metadata": {},
   "outputs": [],
   "source": [
    "puzzle = open(\"AoC02.txt\").read().splitlines()"
   ]
  },
  {
   "cell_type": "code",
   "execution_count": 9,
   "metadata": {},
   "outputs": [
    {
     "name": "stdout",
     "output_type": "stream",
     "text": [
      "6916\n"
     ]
    }
   ],
   "source": [
    "double = 0\n",
    "triple = 0\n",
    "for p in puzzle:\n",
    "    d = False\n",
    "    t = False\n",
    "    for c in p:\n",
    "        if p.count(c) == 2:\n",
    "            d = True\n",
    "        if p.count(c) == 3:\n",
    "            t = True\n",
    "    if d:\n",
    "        double += 1\n",
    "    if t:\n",
    "        triple += 1\n",
    "ans1 = double * triple\n",
    "print(ans1)"
   ]
  },
  {
   "cell_type": "code",
   "execution_count": 13,
   "metadata": {},
   "outputs": [
    {
     "name": "stdout",
     "output_type": "stream",
     "text": [
      "oeylbtcxjqnzhgyylfapviusr\n"
     ]
    }
   ],
   "source": [
    "visited = [set() for _ in range(len(puzzle[0]))]\n",
    "for p in puzzle:\n",
    "    for i in range(len(p)):\n",
    "        if p[:i] + p[i+1:] in visited[i]:\n",
    "            ans2 = p[:i] + p[i+1:]\n",
    "            print(ans2)\n",
    "        else:\n",
    "            visited[i].add(p[:i] + p[i+1:])"
   ]
  },
  {
   "cell_type": "code",
   "execution_count": null,
   "metadata": {},
   "outputs": [],
   "source": []
  }
 ],
 "metadata": {
  "kernelspec": {
   "display_name": "Python 3",
   "language": "python",
   "name": "python3"
  },
  "language_info": {
   "codemirror_mode": {
    "name": "ipython",
    "version": 3
   },
   "file_extension": ".py",
   "mimetype": "text/x-python",
   "name": "python",
   "nbconvert_exporter": "python",
   "pygments_lexer": "ipython3",
   "version": "3.11.0"
  }
 },
 "nbformat": 4,
 "nbformat_minor": 2
}
