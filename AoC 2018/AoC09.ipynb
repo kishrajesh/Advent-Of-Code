{
 "cells": [
  {
   "cell_type": "code",
   "execution_count": 18,
   "metadata": {},
   "outputs": [],
   "source": [
    "puzzle = open(\"AoC09.txt\").read().splitlines()\n"
   ]
  },
  {
   "cell_type": "code",
   "execution_count": 19,
   "metadata": {},
   "outputs": [
    {
     "name": "stdout",
     "output_type": "stream",
     "text": [
      "375414\n"
     ]
    }
   ],
   "source": [
    "player, marble = puzzle[0].split()[0], puzzle[0].split()[6]\n",
    "player, marble = int(player), int(marble)\n",
    "circle = [0]\n",
    "current = 0\n",
    "scores = [0] * player\n",
    "player = 0\n",
    "for i in range(1, marble + 1):\n",
    "    if i % 23 == 0:\n",
    "        current = (current - 7) % len(circle)\n",
    "        scores[player] += i + circle.pop(current)\n",
    "    else:\n",
    "        current = (current + 2) % len(circle)\n",
    "        circle.insert(current, i)\n",
    "    player = (player + 1) % len(scores)\n",
    "ans1 = max(scores)\n",
    "print(ans1)"
   ]
  },
  {
   "cell_type": "code",
   "execution_count": 23,
   "metadata": {},
   "outputs": [
    {
     "name": "stdout",
     "output_type": "stream",
     "text": [
      "309825\n",
      "7147668\n"
     ]
    }
   ],
   "source": [
    "player, marble = puzzle[0].split()[0], puzzle[0].split()[6]\n",
    "player, marble = int(player), int(marble)\n",
    "p = player\n",
    "marble *= 100\n",
    "circle = [0]\n",
    "current = 0\n",
    "scores = [0] * player\n",
    "p = 0\n",
    "for i in range(1, min(marble + 1, 23*player + 1)):\n",
    "    if i % 23 == 0:\n",
    "        current = (current - 7) % len(circle)\n",
    "        scores[p] += i + circle.pop(current)\n",
    "    else:\n",
    "        current = (current + 2) % len(circle)\n",
    "        circle.insert(current, i)\n",
    "    p = (p + 1) % len(scores)\n",
    "scores = scores * (marble // (23*player))\n",
    "print(len(scores))\n",
    "for i in range((23*player)*(marble//(23*player)) + 1, marble + 1):\n",
    "    if i % 23 == 0:\n",
    "        current = (current - 7) % len(circle)\n",
    "        scores[p] += i + circle.pop(current)\n",
    "    else:\n",
    "        current = (current + 2) % len(circle)\n",
    "        circle.insert(current, i)\n",
    "    p = (p + 1) % len(scores)\n",
    "ans2 = max(scores)\n",
    "print(ans2)"
   ]
  },
  {
   "cell_type": "code",
   "execution_count": null,
   "metadata": {},
   "outputs": [],
   "source": []
  }
 ],
 "metadata": {
  "kernelspec": {
   "display_name": "Python 3",
   "language": "python",
   "name": "python3"
  },
  "language_info": {
   "codemirror_mode": {
    "name": "ipython",
    "version": 3
   },
   "file_extension": ".py",
   "mimetype": "text/x-python",
   "name": "python",
   "nbconvert_exporter": "python",
   "pygments_lexer": "ipython3",
   "version": "3.11.0"
  }
 },
 "nbformat": 4,
 "nbformat_minor": 2
}
