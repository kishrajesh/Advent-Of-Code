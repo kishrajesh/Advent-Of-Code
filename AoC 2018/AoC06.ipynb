{
 "cells": [
  {
   "cell_type": "code",
   "execution_count": 7,
   "metadata": {},
   "outputs": [],
   "source": [
    "puzzle = open(\"AoC06.txt\").read().splitlines()\n",
    "puzzle = [p.split(\", \") for p in puzzle]\n",
    "puzzle = [(int(p[0]), int(p[1])) for p in puzzle]"
   ]
  },
  {
   "cell_type": "code",
   "execution_count": 11,
   "metadata": {},
   "outputs": [
    {
     "name": "stdout",
     "output_type": "stream",
     "text": [
      "2917\n"
     ]
    }
   ],
   "source": [
    "area = {}\n",
    "for p in puzzle:\n",
    "    area[p] = 0\n",
    "#find the p with the max number of points closest to it\n",
    "max_x = max([p[0] for p in puzzle])\n",
    "max_y = max([p[1] for p in puzzle])\n",
    "min_x = min([p[0] for p in puzzle])\n",
    "min_y = min([p[1] for p in puzzle])\n",
    "for x in range(min_x, max_x+1):\n",
    "    for y in range(min_y, max_y+1):\n",
    "        min_dist = 1000000\n",
    "        min_p = None\n",
    "        for p in puzzle:\n",
    "            dist = abs(x-p[0]) + abs(y-p[1])\n",
    "            if dist < min_dist:\n",
    "                min_dist = dist\n",
    "                min_p = p\n",
    "            elif dist == min_dist:\n",
    "                min_p = None\n",
    "        if min_p:\n",
    "            area[min_p] += 1\n",
    "#remove all points that have an infinite area\n",
    "for x in range(min_x, max_x+1):\n",
    "    for y in range(min_y, max_y+1):\n",
    "        if x == min_x or x == max_x or y == min_y or y == max_y:\n",
    "            min_dist = 1000000\n",
    "            min_p = None\n",
    "            for p in puzzle:\n",
    "                dist = abs(x-p[0]) + abs(y-p[1])\n",
    "                if dist < min_dist:\n",
    "                    min_dist = dist\n",
    "                    min_p = p\n",
    "                elif dist == min_dist:\n",
    "                    min_p = None\n",
    "            if min_p:\n",
    "                area[min_p] = 0\n",
    "ans1 = max(area.values())\n",
    "print(ans1)"
   ]
  },
  {
   "cell_type": "code",
   "execution_count": 12,
   "metadata": {},
   "outputs": [
    {
     "name": "stdout",
     "output_type": "stream",
     "text": [
      "44202\n"
     ]
    }
   ],
   "source": [
    "ans2 = 0\n",
    "for x in range(min_x, max_x+1):\n",
    "    for y in range(min_y, max_y+1):\n",
    "        total_dist = 0\n",
    "        for p in puzzle:\n",
    "            total_dist += abs(x-p[0]) + abs(y-p[1])\n",
    "        if total_dist < 10000:\n",
    "            ans2 += 1\n",
    "print(ans2)"
   ]
  },
  {
   "cell_type": "code",
   "execution_count": null,
   "metadata": {},
   "outputs": [],
   "source": []
  }
 ],
 "metadata": {
  "kernelspec": {
   "display_name": "Python 3",
   "language": "python",
   "name": "python3"
  },
  "language_info": {
   "codemirror_mode": {
    "name": "ipython",
    "version": 3
   },
   "file_extension": ".py",
   "mimetype": "text/x-python",
   "name": "python",
   "nbconvert_exporter": "python",
   "pygments_lexer": "ipython3",
   "version": "3.11.0"
  }
 },
 "nbformat": 4,
 "nbformat_minor": 2
}
