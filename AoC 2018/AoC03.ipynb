{
 "cells": [
  {
   "cell_type": "code",
   "execution_count": 13,
   "metadata": {},
   "outputs": [],
   "source": [
    "puzzle = open(\"AoC03.txt\").read().splitlines()"
   ]
  },
  {
   "cell_type": "code",
   "execution_count": 17,
   "metadata": {},
   "outputs": [
    {
     "name": "stdout",
     "output_type": "stream",
     "text": [
      "116491\n"
     ]
    }
   ],
   "source": [
    "def overlap(claim1, claim2):\n",
    "    x1, y1, w1, h1 = claim1\n",
    "    x2, y2, w2, h2 = claim2\n",
    "    #return rectangle coordinates of overlap\n",
    "    if x1+w1 <= x2 or x2+w2 <= x1 or y1+h1 <= y2 or y2+h2 <= y1:\n",
    "        return []\n",
    "    else:\n",
    "        x = max(x1, x2)\n",
    "        y = max(y1, y2)\n",
    "        w = min(x1+w1, x2+w2) - x\n",
    "        h = min(y1+h1, y2+h2) - y\n",
    "        return [(x,y,w,h)]\n",
    "points = set()\n",
    "overlaps = set()\n",
    "for c1 in range(len(puzzle)):\n",
    "    for c2 in range(c1+1, len(puzzle)):\n",
    "        claim1 = puzzle[c1].split()\n",
    "        claim2 = puzzle[c2].split()\n",
    "        x1, y1 = claim1[2][:-1].split(',')\n",
    "        w1, h1 = claim1[3].split('x')\n",
    "        x2, y2 = claim2[2][:-1].split(',')\n",
    "        w2, h2 = claim2[3].split('x')\n",
    "        overlaps.update(overlap((int(x1), int(y1), int(w1), int(h1)), (int(x2), int(y2), int(w2), int(h2))))\n",
    "        #points.update([(x,y) for x in range(int(x1), int(x1)+int(w1)) for y in range(int(y1), int(y1)+int(h1))])\n",
    "#find the total area of overlaps (including further overlaps)\n",
    "for o in overlaps:\n",
    "    points.update([(x,y) for x in range(o[0], o[0]+o[2]) for y in range(o[1], o[1]+o[3])])\n",
    "ans1 = len(points)\n",
    "print(ans1)\n"
   ]
  },
  {
   "cell_type": "code",
   "execution_count": 18,
   "metadata": {},
   "outputs": [
    {
     "name": "stdout",
     "output_type": "stream",
     "text": [
      "#707\n"
     ]
    }
   ],
   "source": [
    "for c1 in range(len(puzzle)):\n",
    "    claim1 = puzzle[c1].split()\n",
    "    x1, y1 = claim1[2][:-1].split(',')\n",
    "    w1, h1 = claim1[3].split('x')\n",
    "    if not any([(x,y) in points for x in range(int(x1), int(x1)+int(w1)) for y in range(int(y1), int(y1)+int(h1))]):\n",
    "        ans2 = claim1[0]\n",
    "        break\n",
    "print(ans2)"
   ]
  },
  {
   "cell_type": "code",
   "execution_count": null,
   "metadata": {},
   "outputs": [],
   "source": []
  }
 ],
 "metadata": {
  "kernelspec": {
   "display_name": "Python 3",
   "language": "python",
   "name": "python3"
  },
  "language_info": {
   "codemirror_mode": {
    "name": "ipython",
    "version": 3
   },
   "file_extension": ".py",
   "mimetype": "text/x-python",
   "name": "python",
   "nbconvert_exporter": "python",
   "pygments_lexer": "ipython3",
   "version": "3.11.0"
  }
 },
 "nbformat": 4,
 "nbformat_minor": 2
}
