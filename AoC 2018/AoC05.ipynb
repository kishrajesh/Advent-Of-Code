{
 "cells": [
  {
   "cell_type": "code",
   "execution_count": 1,
   "metadata": {},
   "outputs": [],
   "source": [
    "puzzle = open(\"AoC05.txt\").read().splitlines()\n",
    "puzzle = puzzle[0]"
   ]
  },
  {
   "cell_type": "code",
   "execution_count": 2,
   "metadata": {},
   "outputs": [
    {
     "name": "stdout",
     "output_type": "stream",
     "text": [
      "11252\n"
     ]
    }
   ],
   "source": [
    "def reduce(s):\n",
    "    i = 0\n",
    "    while i < len(s)-1:\n",
    "        if s[i].lower() == s[i+1].lower() and s[i] != s[i+1]:\n",
    "            s = s[:i] + s[i+2:]\n",
    "            i = max(0, i-1)\n",
    "        else:\n",
    "            i += 1\n",
    "    return s\n",
    "tempPuzzle = puzzle\n",
    "ans1 = len(reduce(tempPuzzle))\n",
    "print(ans1)"
   ]
  },
  {
   "cell_type": "code",
   "execution_count": 4,
   "metadata": {},
   "outputs": [
    {
     "name": "stdout",
     "output_type": "stream",
     "text": [
      "6118\n"
     ]
    }
   ],
   "source": [
    "ans2 = len(puzzle)\n",
    "for c in set(puzzle.lower()):\n",
    "    tempPuzzle = puzzle.replace(c, \"\").replace(c.upper(), \"\")\n",
    "    ans2 = min(ans2, len(reduce(tempPuzzle)))\n",
    "print(ans2)"
   ]
  },
  {
   "cell_type": "code",
   "execution_count": null,
   "metadata": {},
   "outputs": [],
   "source": []
  }
 ],
 "metadata": {
  "kernelspec": {
   "display_name": "Python 3",
   "language": "python",
   "name": "python3"
  },
  "language_info": {
   "codemirror_mode": {
    "name": "ipython",
    "version": 3
   },
   "file_extension": ".py",
   "mimetype": "text/x-python",
   "name": "python",
   "nbconvert_exporter": "python",
   "pygments_lexer": "ipython3",
   "version": "3.11.0"
  }
 },
 "nbformat": 4,
 "nbformat_minor": 2
}
