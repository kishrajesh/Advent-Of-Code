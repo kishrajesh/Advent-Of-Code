{
 "cells": [
  {
   "cell_type": "code",
   "execution_count": 3,
   "metadata": {},
   "outputs": [],
   "source": [
    "puzzle = open(\"AoC08.txt\").read().splitlines()\n",
    "puzzle = puzzle[0].split(\" \")\n",
    "puzzle = [int(x) for x in puzzle]"
   ]
  },
  {
   "cell_type": "code",
   "execution_count": 6,
   "metadata": {},
   "outputs": [
    {
     "name": "stdout",
     "output_type": "stream",
     "text": [
      "43996\n"
     ]
    }
   ],
   "source": [
    "def parse_node(puzz):\n",
    "    metadata = []\n",
    "    child = puzz[0]\n",
    "    meta = puzz[1]\n",
    "    puzz = puzz[2:]\n",
    "    for i in range(child):\n",
    "        puzz, meta_child = parse_node(puzz)\n",
    "        metadata += meta_child\n",
    "    metadata += puzz[:meta]\n",
    "    return puzz[meta:], metadata\n",
    "ans1 = sum(parse_node(puzzle)[1])\n",
    "print(ans1)\n"
   ]
  },
  {
   "cell_type": "code",
   "execution_count": 9,
   "metadata": {},
   "outputs": [
    {
     "name": "stdout",
     "output_type": "stream",
     "text": [
      "35189\n"
     ]
    }
   ],
   "source": [
    "def value(node):\n",
    "    if node[0] == 0:\n",
    "        return sum(node[2])\n",
    "    else:\n",
    "        return sum(value(node[3][x-1]) for x in node[2] if x <= node[0])\n",
    "def value(puzz):\n",
    "    child = puzz[0]\n",
    "    meta = puzz[1]\n",
    "    puzz = puzz[2:]\n",
    "    if child == 0:\n",
    "        return sum(puzz[:meta]), puzz[meta:]\n",
    "    else:\n",
    "        values = []\n",
    "        for i in range(child):\n",
    "            val, puzz = value(puzz)\n",
    "            values.append(val)\n",
    "        return sum(values[x-1] for x in puzz[:meta] if x <= child), puzz[meta:]\n",
    "ans2 = value(puzzle)[0]\n",
    "print(ans2)"
   ]
  },
  {
   "cell_type": "code",
   "execution_count": null,
   "metadata": {},
   "outputs": [],
   "source": []
  }
 ],
 "metadata": {
  "kernelspec": {
   "display_name": "Python 3",
   "language": "python",
   "name": "python3"
  },
  "language_info": {
   "codemirror_mode": {
    "name": "ipython",
    "version": 3
   },
   "file_extension": ".py",
   "mimetype": "text/x-python",
   "name": "python",
   "nbconvert_exporter": "python",
   "pygments_lexer": "ipython3",
   "version": "3.11.0"
  }
 },
 "nbformat": 4,
 "nbformat_minor": 2
}
