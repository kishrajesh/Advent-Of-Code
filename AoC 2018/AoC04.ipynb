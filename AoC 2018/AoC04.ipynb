{
 "cells": [
  {
   "cell_type": "code",
   "execution_count": 1,
   "metadata": {},
   "outputs": [],
   "source": [
    "puzzle = open(\"AoC04.txt\").read().splitlines()\n",
    "puzzle.sort()"
   ]
  },
  {
   "cell_type": "code",
   "execution_count": 4,
   "metadata": {},
   "outputs": [],
   "source": [
    "guards = {}\n",
    "#guards[i] is total minutes guard i is asleep\n",
    "#guards[i][j] is the number of times guard i is asleep at minute j\n",
    "for i in puzzle:\n",
    "    if \"Guard\" in i:\n",
    "        guard = int(i.split()[3][1:])\n",
    "        if guard not in guards:\n",
    "            guards[guard] = [0]*60\n",
    "    elif \"falls\" in i:\n",
    "        start = int(i.split()[1][3:5])\n",
    "    elif \"wakes\" in i:\n",
    "        end = int(i.split()[1][3:5])\n",
    "        guards[guard][start:end] = [x+1 for x in guards[guard][start:end]]"
   ]
  },
  {
   "cell_type": "code",
   "execution_count": 6,
   "metadata": {},
   "outputs": [
    {
     "name": "stdout",
     "output_type": "stream",
     "text": [
      "19025\n"
     ]
    }
   ],
   "source": [
    "mostMinutes = 0\n",
    "mostGuard = 0\n",
    "for i in guards:\n",
    "    if sum(guards[i]) > mostMinutes:\n",
    "        mostMinutes = sum(guards[i])\n",
    "        mostGuard = i\n",
    "minute = guards[mostGuard].index(max(guards[mostGuard]))\n",
    "ans1 = mostGuard*minute\n",
    "print(ans1)"
   ]
  },
  {
   "cell_type": "code",
   "execution_count": 7,
   "metadata": {},
   "outputs": [
    {
     "name": "stdout",
     "output_type": "stream",
     "text": [
      "23776\n"
     ]
    }
   ],
   "source": [
    "mostMin = {}\n",
    "for i in guards:\n",
    "    mostMin[i] = max(guards[i])\n",
    "mostGuard = max(mostMin, key=mostMin.get)\n",
    "minute = guards[mostGuard].index(max(guards[mostGuard]))\n",
    "ans2 = mostGuard*minute\n",
    "print(ans2)"
   ]
  },
  {
   "cell_type": "code",
   "execution_count": null,
   "metadata": {},
   "outputs": [],
   "source": []
  }
 ],
 "metadata": {
  "kernelspec": {
   "display_name": "Python 3",
   "language": "python",
   "name": "python3"
  },
  "language_info": {
   "codemirror_mode": {
    "name": "ipython",
    "version": 3
   },
   "file_extension": ".py",
   "mimetype": "text/x-python",
   "name": "python",
   "nbconvert_exporter": "python",
   "pygments_lexer": "ipython3",
   "version": "3.11.0"
  }
 },
 "nbformat": 4,
 "nbformat_minor": 2
}
