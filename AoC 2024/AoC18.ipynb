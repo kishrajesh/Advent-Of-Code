{
 "cells": [
  {
   "cell_type": "code",
   "execution_count": 43,
   "metadata": {},
   "outputs": [],
   "source": [
    "puzzle = open(\"AoC18.txt\").read().splitlines()\n",
    "puzzle = [x.split(\",\") for x in puzzle]\n",
    "puzzle = [(int(x[0]), int(x[1])) for x in puzzle]"
   ]
  },
  {
   "cell_type": "code",
   "execution_count": 44,
   "metadata": {},
   "outputs": [],
   "source": [
    "maxI, maxJ = 70, 70\n",
    "stop = 1024\n",
    "grid = [[0 for j in range(maxJ+1)] for i in range(maxI+1)]\n",
    "for x in puzzle[:stop]:\n",
    "    i, j = x\n",
    "    grid[i][j] = 1"
   ]
  },
  {
   "cell_type": "code",
   "execution_count": 45,
   "metadata": {},
   "outputs": [],
   "source": [
    "def findSteps(grid):\n",
    "    #use bfs to find shortest dist from top left to bottom right\n",
    "    queue = [(0, 0, 0)]\n",
    "    visited = set()\n",
    "    while queue:\n",
    "        i, j, steps = queue.pop(0)\n",
    "        if (i, j) == (maxI, maxJ):\n",
    "            return steps\n",
    "        if (i, j) in visited:\n",
    "            continue\n",
    "        visited.add((i, j))\n",
    "        if i > 0 and grid[i-1][j] == 0:\n",
    "            if (i-1, j) not in visited:\n",
    "                queue.append((i-1, j, steps+1))\n",
    "        if i < maxI and grid[i+1][j] == 0:\n",
    "            if (i+1, j) not in visited:\n",
    "                queue.append((i+1, j, steps+1))\n",
    "        if j > 0 and grid[i][j-1] == 0:\n",
    "            if (i, j-1) not in visited:\n",
    "                queue.append((i, j-1, steps+1))\n",
    "        if j < maxJ and grid[i][j+1] == 0:\n",
    "            if (i, j+1) not in visited:\n",
    "                queue.append((i, j+1, steps+1))\n",
    "    return -1\n"
   ]
  },
  {
   "cell_type": "code",
   "execution_count": 46,
   "metadata": {},
   "outputs": [
    {
     "name": "stdout",
     "output_type": "stream",
     "text": [
      "438\n"
     ]
    }
   ],
   "source": [
    "ans1 = findSteps(grid)\n",
    "print(ans1)"
   ]
  },
  {
   "cell_type": "code",
   "execution_count": 47,
   "metadata": {},
   "outputs": [
    {
     "name": "stdout",
     "output_type": "stream",
     "text": [
      "26,22\n"
     ]
    }
   ],
   "source": [
    "grid2 = [[0 for j in range(71)] for i in range(71)]\n",
    "for x in puzzle[:stop]:\n",
    "    i, j = x\n",
    "    grid2[i][j] = 1\n",
    "ctr = stop\n",
    "block = -1,-1\n",
    "while True and ctr < len(puzzle):\n",
    "    i, j = puzzle[ctr]\n",
    "    grid2[i][j] = 1\n",
    "    if findSteps(grid2) == -1:\n",
    "        block = puzzle[ctr]\n",
    "        break\n",
    "    ctr += 1\n",
    "x, y = block\n",
    "ans2 = str(x)+\",\"+str(y)\n",
    "print(ans2)\n"
   ]
  },
  {
   "cell_type": "code",
   "execution_count": null,
   "metadata": {},
   "outputs": [],
   "source": []
  }
 ],
 "metadata": {
  "kernelspec": {
   "display_name": "Python 3",
   "language": "python",
   "name": "python3"
  },
  "language_info": {
   "codemirror_mode": {
    "name": "ipython",
    "version": 3
   },
   "file_extension": ".py",
   "mimetype": "text/x-python",
   "name": "python",
   "nbconvert_exporter": "python",
   "pygments_lexer": "ipython3",
   "version": "3.11.0"
  }
 },
 "nbformat": 4,
 "nbformat_minor": 2
}
