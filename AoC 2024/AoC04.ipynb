{
 "cells": [
  {
   "cell_type": "code",
   "execution_count": 14,
   "metadata": {},
   "outputs": [],
   "source": [
    "puzzle = open(\"AoC04.txt\").read().splitlines()"
   ]
  },
  {
   "cell_type": "code",
   "execution_count": null,
   "metadata": {},
   "outputs": [],
   "source": [
    "def checkXMAS(grid, start, dir):\n",
    "    word = \"XMAS\"\n",
    "    for i in range(4):\n",
    "        if start[0] + i * dir[0] < 0 or start[0] + i * dir[0] >= len(grid):\n",
    "            return False\n",
    "        if start[1] + i * dir[1] < 0 or start[1] + i * dir[1] >= len(grid[0]):\n",
    "            return False\n",
    "        if grid[start[0] + i * dir[0]][start[1] + i * dir[1]] != word[i]:\n",
    "            return False\n",
    "    return True\n",
    "def findTot1(grid):\n",
    "    total = 0\n",
    "    for dx in [-1, 0, 1]:\n",
    "        for dy in [-1, 0, 1]:\n",
    "            if dx == 0 and dy == 0:\n",
    "                continue\n",
    "            for i in range(len(grid)):\n",
    "                for j in range(len(grid[0])):\n",
    "                    if checkXMAS(grid, [i, j], [dx, dy]):\n",
    "                        total += 1\n",
    "    return total"
   ]
  },
  {
   "cell_type": "code",
   "execution_count": null,
   "metadata": {},
   "outputs": [
    {
     "name": "stdout",
     "output_type": "stream",
     "text": [
      "2646\n"
     ]
    }
   ],
   "source": [
    "ans1 = findTot1(puzzle)\n",
    "print(ans1)"
   ]
  },
  {
   "cell_type": "code",
   "execution_count": 18,
   "metadata": {},
   "outputs": [],
   "source": [
    "def checkMAS(grid, pos):\n",
    "    if pos[0] in [0, len(grid) - 1] or pos[1] in [0, len(grid[0]) - 1]:\n",
    "        return False\n",
    "    if grid[pos[0]][pos[1]] != \"A\":\n",
    "        return False\n",
    "    check1 = grid[pos[0]-1][pos[1]-1]+grid[pos[0]+1][pos[1]+1]\n",
    "    check2 = grid[pos[0]-1][pos[1]+1]+grid[pos[0]+1][pos[1]-1]\n",
    "    if check1 in [\"MS\", \"SM\"] and check2 in [\"MS\", \"SM\"]:\n",
    "        return True\n",
    "    return False\n",
    "def findTot2(grid):\n",
    "    total = 0\n",
    "    for i in range(len(grid)):\n",
    "        for j in range(len(grid[0])):\n",
    "            if checkMAS(grid, [i, j]):\n",
    "                total += 1\n",
    "    return total\n"
   ]
  },
  {
   "cell_type": "code",
   "execution_count": 19,
   "metadata": {},
   "outputs": [
    {
     "name": "stdout",
     "output_type": "stream",
     "text": [
      "2000\n"
     ]
    }
   ],
   "source": [
    "ans2 = findTot2(puzzle)\n",
    "print(ans2)"
   ]
  },
  {
   "cell_type": "code",
   "execution_count": null,
   "metadata": {},
   "outputs": [],
   "source": []
  }
 ],
 "metadata": {
  "kernelspec": {
   "display_name": "Python 3",
   "language": "python",
   "name": "python3"
  },
  "language_info": {
   "codemirror_mode": {
    "name": "ipython",
    "version": 3
   },
   "file_extension": ".py",
   "mimetype": "text/x-python",
   "name": "python",
   "nbconvert_exporter": "python",
   "pygments_lexer": "ipython3",
   "version": "3.11.0"
  }
 },
 "nbformat": 4,
 "nbformat_minor": 2
}
