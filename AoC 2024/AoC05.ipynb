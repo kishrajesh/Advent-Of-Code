{
 "cells": [
  {
   "cell_type": "code",
   "execution_count": 1,
   "metadata": {},
   "outputs": [],
   "source": [
    "puzzle = open(\"AoC05.txt\").read().splitlines()"
   ]
  },
  {
   "cell_type": "code",
   "execution_count": 2,
   "metadata": {},
   "outputs": [],
   "source": [
    "rules = []\n",
    "updates = []\n",
    "ctr = 0\n",
    "while ctr < len(puzzle):\n",
    "    if \"|\" not in puzzle[ctr]:\n",
    "        break\n",
    "    f, l = puzzle[ctr].split(\"|\")\n",
    "    rules.append((int(f), int(l)))\n",
    "    ctr += 1\n",
    "ctr+=1\n",
    "while ctr < len(puzzle):\n",
    "    if puzzle[ctr] == \"\":\n",
    "        break\n",
    "    updates.append(puzzle[ctr].split(\",\"))\n",
    "    updates[-1] = [int(x) for x in updates[-1]]\n",
    "    ctr += 1\n"
   ]
  },
  {
   "cell_type": "code",
   "execution_count": 3,
   "metadata": {},
   "outputs": [],
   "source": [
    "def check_rule(rules, update):\n",
    "    pos = {}\n",
    "    for i in range(len(update)):\n",
    "        pos[update[i]] = i\n",
    "    flag = True\n",
    "    for rule in rules:\n",
    "        if rule[0] in pos and rule[1] in pos:\n",
    "            if pos[rule[0]] > pos[rule[1]]:\n",
    "                flag = False\n",
    "                break\n",
    "    return flag"
   ]
  },
  {
   "cell_type": "code",
   "execution_count": 4,
   "metadata": {},
   "outputs": [
    {
     "name": "stdout",
     "output_type": "stream",
     "text": [
      "4281\n"
     ]
    }
   ],
   "source": [
    "ans1 = 0\n",
    "for update in updates:\n",
    "    if check_rule(rules, update):\n",
    "        mid = len(update) // 2\n",
    "        ans1 += update[mid]\n",
    "print(ans1)"
   ]
  },
  {
   "cell_type": "code",
   "execution_count": 5,
   "metadata": {},
   "outputs": [],
   "source": [
    "def check_pair(rules, p1, p2):\n",
    "    if (p1, p2) in rules:\n",
    "        return True\n",
    "    if (p2, p1) in rules:\n",
    "        return False\n",
    "    return None"
   ]
  },
  {
   "cell_type": "code",
   "execution_count": 6,
   "metadata": {},
   "outputs": [],
   "source": [
    "from functools import cmp_to_key"
   ]
  },
  {
   "cell_type": "code",
   "execution_count": 7,
   "metadata": {},
   "outputs": [],
   "source": [
    "def resort(update, rules):\n",
    "    nums = update.copy()\n",
    "    nums.sort(key=cmp_to_key(lambda x, y: 1 if check_pair(rules, x, y) else -1))\n",
    "    mid = len(nums) // 2\n",
    "    return nums[mid]"
   ]
  },
  {
   "cell_type": "code",
   "execution_count": 8,
   "metadata": {},
   "outputs": [
    {
     "name": "stdout",
     "output_type": "stream",
     "text": [
      "5466\n"
     ]
    }
   ],
   "source": [
    "ans2 = 0\n",
    "for update in updates:\n",
    "    if not check_rule(rules, update):\n",
    "        ans2 += resort(update, rules)\n",
    "print(ans2)"
   ]
  }
 ],
 "metadata": {
  "kernelspec": {
   "display_name": "Python 3",
   "language": "python",
   "name": "python3"
  },
  "language_info": {
   "codemirror_mode": {
    "name": "ipython",
    "version": 3
   },
   "file_extension": ".py",
   "mimetype": "text/x-python",
   "name": "python",
   "nbconvert_exporter": "python",
   "pygments_lexer": "ipython3",
   "version": "3.11.0"
  }
 },
 "nbformat": 4,
 "nbformat_minor": 2
}
