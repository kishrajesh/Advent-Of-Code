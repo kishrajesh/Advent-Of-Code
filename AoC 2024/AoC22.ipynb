{
 "cells": [
  {
   "cell_type": "code",
   "execution_count": 181,
   "metadata": {},
   "outputs": [],
   "source": [
    "puzzle = open(\"AoC22.txt\").read().splitlines()\n",
    "puzzle = [int(x) for x in puzzle]"
   ]
  },
  {
   "cell_type": "code",
   "execution_count": 182,
   "metadata": {},
   "outputs": [],
   "source": [
    "def genNext(secret):\n",
    "    s1 = ((secret*64)^secret)%16777216\n",
    "    s2 = ((s1//32)^s1)%16777216\n",
    "    s3 = ((s2*2048)^s2)%16777216\n",
    "    return s3\n",
    "def genNextLoop(secret, loop, cache={}):\n",
    "    cache[secret] = 0\n",
    "    init = secret\n",
    "    loopLength = 0\n",
    "    for i in range(loop):\n",
    "        secret = genNext(secret)\n",
    "        cache[secret] = i+1\n",
    "        if secret == init:\n",
    "            loopLength = i+1\n",
    "            break\n",
    "    if loopLength == 0:\n",
    "        return secret\n",
    "    newInd = loop%loopLength\n",
    "    secret = cache[newInd]\n",
    "    return secret"
   ]
  },
  {
   "cell_type": "code",
   "execution_count": 183,
   "metadata": {},
   "outputs": [
    {
     "name": "stdout",
     "output_type": "stream",
     "text": [
      "16619522798\n"
     ]
    }
   ],
   "source": [
    "ans1 = 0\n",
    "for i in puzzle:\n",
    "    next = genNextLoop(i, 2000)\n",
    "    ans1 += next\n",
    "print(ans1)"
   ]
  },
  {
   "cell_type": "code",
   "execution_count": 184,
   "metadata": {},
   "outputs": [],
   "source": [
    "def genStockPrices(secret, loop):\n",
    "    diffs = []\n",
    "    prices = []\n",
    "    subSeqs = {}\n",
    "    prices.append(secret%10)\n",
    "    for i in range(loop):\n",
    "        secret1 = genNext(secret)\n",
    "        diffs.append(secret1%10-secret%10)\n",
    "        prices.append(secret1%10)\n",
    "        secret = secret1\n",
    "    for i in range(len(diffs)-4):\n",
    "        s = tuple(diffs[i:i+4])\n",
    "        if s not in subSeqs:\n",
    "            subSeqs[s] = prices[i+4]\n",
    "        else:\n",
    "            continue\n",
    "    return diffs, prices, subSeqs"
   ]
  },
  {
   "cell_type": "code",
   "execution_count": 185,
   "metadata": {},
   "outputs": [
    {
     "name": "stdout",
     "output_type": "stream",
     "text": [
      "1854\n"
     ]
    }
   ],
   "source": [
    "from tqdm import tqdm\n",
    "subSeqMaps = []\n",
    "possSubSeqs = []\n",
    "for i in range(len(puzzle)):\n",
    "    diffs, prices, subSeqs = genStockPrices(puzzle[i], 2000)\n",
    "    subSeqMaps.append(subSeqs)\n",
    "totScores = {}\n",
    "for s in subSeqMaps:\n",
    "    for key in s:\n",
    "        if key in totScores:\n",
    "            totScores[key] += s[key]\n",
    "        else:\n",
    "            totScores[key] = s[key]\n",
    "ans2 = max(totScores, key=totScores.get)\n",
    "ans2 = totScores[ans2]\n",
    "print(ans2)"
   ]
  },
  {
   "cell_type": "code",
   "execution_count": null,
   "metadata": {},
   "outputs": [],
   "source": []
  }
 ],
 "metadata": {
  "kernelspec": {
   "display_name": "Python 3",
   "language": "python",
   "name": "python3"
  },
  "language_info": {
   "codemirror_mode": {
    "name": "ipython",
    "version": 3
   },
   "file_extension": ".py",
   "mimetype": "text/x-python",
   "name": "python",
   "nbconvert_exporter": "python",
   "pygments_lexer": "ipython3",
   "version": "3.11.0"
  }
 },
 "nbformat": 4,
 "nbformat_minor": 2
}
