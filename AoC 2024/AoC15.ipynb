{
 "cells": [
  {
   "cell_type": "code",
   "execution_count": 69,
   "metadata": {},
   "outputs": [],
   "source": [
    "puzzle = open(\"AoC15.txt\").read().splitlines()\n"
   ]
  },
  {
   "cell_type": "code",
   "execution_count": 70,
   "metadata": {},
   "outputs": [],
   "source": [
    "grid = []\n",
    "row = 0\n",
    "while puzzle[row] != \"\":\n",
    "    grid.append(list(puzzle[row]))\n",
    "    row += 1\n",
    "instructions = \"\".join(puzzle[row+1:])"
   ]
  },
  {
   "cell_type": "code",
   "execution_count": 71,
   "metadata": {},
   "outputs": [],
   "source": [
    "def move(grid, curri, currj, dir):\n",
    "    #move one step in the direction dir, accounting for obstacles and boxes\n",
    "    #changes grid in place\n",
    "    #returns new position\n",
    "    dirs = {\"^\": (-1, 0), \"v\": (1, 0), \"<\": (0, -1), \">\": (0, 1)}\n",
    "    i, j = dirs[dir]\n",
    "    if grid[curri+i][currj+j] == \"#\":\n",
    "        return curri, currj\n",
    "    if grid[curri+i][currj+j] == \".\":\n",
    "        return curri+i, currj+j\n",
    "    if grid[curri+i][currj+j] == \"O\":\n",
    "        newPos = curri, currj\n",
    "        while grid[newPos[0]+i][newPos[1]+j] == \"O\":\n",
    "            newPos = newPos[0]+i, newPos[1]+j\n",
    "        if grid[newPos[0]+i][newPos[1]+j] == \"#\":\n",
    "            return curri, currj\n",
    "        if grid[newPos[0]+i][newPos[1]+j] == \".\":\n",
    "            grid[newPos[0]+i][newPos[1]+j] = \"O\"\n",
    "            grid[curri+i][currj+j] = \".\"\n",
    "            return curri+i, currj+j\n",
    "    return curri, currj"
   ]
  },
  {
   "cell_type": "code",
   "execution_count": 72,
   "metadata": {},
   "outputs": [],
   "source": [
    "def iterate(grid, instructions, starti, startj):\n",
    "    curri, currj = starti, startj\n",
    "    for i in range(len(instructions)):\n",
    "        curri, currj = move(grid, curri, currj, instructions[i])\n",
    "    return grid\n",
    "def GPS(grid):\n",
    "    sum = 0\n",
    "    for i in range(len(grid)):\n",
    "        for j in range(len(grid[i])):\n",
    "            if grid[i][j] == \"O\":\n",
    "                sum += 100*i+j\n",
    "    return sum"
   ]
  },
  {
   "cell_type": "code",
   "execution_count": 73,
   "metadata": {},
   "outputs": [
    {
     "name": "stdout",
     "output_type": "stream",
     "text": [
      "1406392\n"
     ]
    }
   ],
   "source": [
    "newGrid = [row.copy() for row in grid]\n",
    "for i in range(len(grid)):\n",
    "    for j in range(len(grid[i])):\n",
    "        if grid[i][j] == \"@\":\n",
    "            starti, startj = i, j\n",
    "            newGrid[i][j] = \".\"\n",
    "newGrid = iterate(newGrid, instructions, starti, startj)\n",
    "ans1 = GPS(newGrid)\n",
    "print(ans1)"
   ]
  },
  {
   "cell_type": "code",
   "execution_count": 74,
   "metadata": {},
   "outputs": [],
   "source": [
    "def createNewGrid(grid):\n",
    "    newGrid = []\n",
    "    for i in range(len(grid)):\n",
    "        newLine = []\n",
    "        for j in range(len(grid[0])):\n",
    "            if grid[i][j] == \"@\":\n",
    "                newLine.append(\"@\")\n",
    "                newLine.append(\".\")\n",
    "            elif grid[i][j] == \"#\":\n",
    "                newLine.append(\"#\")\n",
    "                newLine.append(\"#\")\n",
    "            elif grid[i][j] == \".\":\n",
    "                newLine.append(\".\")\n",
    "                newLine.append(\".\")\n",
    "            elif grid[i][j] == \"O\":\n",
    "                newLine.append(\"[\")\n",
    "                newLine.append(\"]\")\n",
    "        newGrid.append(newLine)\n",
    "    return newGrid\n",
    "def getBoxes(grid):\n",
    "    boxes = set()\n",
    "    for i in range(len(grid)):\n",
    "        for j in range(len(grid[i])):\n",
    "            if grid[i][j] == \"[\":\n",
    "                boxes.add((i, j))\n",
    "    return boxes\n",
    "def getWalls(grid):\n",
    "    walls = set()\n",
    "    for i in range(len(grid)):\n",
    "        for j in range(len(grid[i])):\n",
    "            if grid[i][j] == \"#\":\n",
    "                walls.add((i, j))\n",
    "    return walls\n",
    "def getGPS(boxes):\n",
    "    sum = 0\n",
    "    for i, j in boxes:\n",
    "        sum += 100*i+j\n",
    "    return sum\n",
    "def getStart(grid):\n",
    "    for i in range(len(grid)):\n",
    "        for j in range(len(grid[i])):\n",
    "            if grid[i][j] == \"@\":\n",
    "                return i, j"
   ]
  },
  {
   "cell_type": "code",
   "execution_count": 75,
   "metadata": {},
   "outputs": [],
   "source": [
    "def move2(boxes, walls, curri, currj, dir):\n",
    "    #move one step in the direction dir, accounting for obstacles and boxes\n",
    "    #returns new position, set of boxes\n",
    "    dirs = {\"^\": (-1, 0), \"v\": (1, 0), \"<\": (0, -1), \">\": (0, 1)}\n",
    "    i, j = dirs[dir]\n",
    "    if (curri+i, currj+j) in walls:\n",
    "        return curri, currj, boxes\n",
    "    if (curri+i, currj+j) not in walls and (curri+i, currj+j) not in boxes and (curri+i, currj+j-1) not in boxes:\n",
    "        return curri+i, currj+j, boxes\n",
    "    if (curri+i, currj+j) in boxes or (curri+i, currj+j-1) in boxes:\n",
    "        movingBoxes = set()\n",
    "        if (curri+i, currj+j) in boxes:\n",
    "            movingBoxes.add((curri+i, currj+j))\n",
    "            newPos = curri+i, currj+j\n",
    "        else:\n",
    "            movingBoxes.add((curri+i, currj+j-1))\n",
    "            newPos = curri+i, currj+j-1\n",
    "        queue = [(newPos)]\n",
    "        visited = set()\n",
    "        ctr = 0\n",
    "        while queue:\n",
    "            ctr+=1\n",
    "            box = queue.pop(0)\n",
    "            if box in visited:\n",
    "                continue\n",
    "            visited.add(box)\n",
    "            movingBoxes.add(box)\n",
    "            if (box[0]+i, box[1]+j) in walls or (box[0]+i, box[1]+j+1) in walls:\n",
    "                return curri, currj, boxes\n",
    "            if (box[0]+i, box[1]+j) in boxes:\n",
    "                if (box[0]+i, box[1]+j) not in visited:\n",
    "                    queue.append((box[0]+i, box[1]+j))\n",
    "            if (box[0]+i, box[1]+j+1) in boxes:\n",
    "                if (box[0]+i, box[1]+j+1) not in visited:\n",
    "                    queue.append((box[0]+i, box[1]+j+1))\n",
    "            if (box[0]+i, box[1]+j-1) in boxes:\n",
    "                if (box[0]+i, box[1]+j-1) not in visited:\n",
    "                    queue.append((box[0]+i, box[1]+j-1))\n",
    "        for m in movingBoxes:\n",
    "            boxes.remove(m)\n",
    "        for m in movingBoxes:\n",
    "            boxes.add((m[0]+i, m[1]+j))\n",
    "        return curri+i, currj+j, boxes\n"
   ]
  },
  {
   "cell_type": "code",
   "execution_count": 76,
   "metadata": {},
   "outputs": [],
   "source": [
    "def createGrid(walls, boxes, maxI, maxJ, currI, currJ):\n",
    "    grid = []\n",
    "    for i in range(maxI):\n",
    "        line = []\n",
    "        j = 0\n",
    "        while j < maxJ:\n",
    "            if (i, j) in walls:\n",
    "                line.append(\"#\")\n",
    "            elif (i, j) in boxes:\n",
    "                line.append(\"[\")\n",
    "                line.append(\"]\")\n",
    "                j+=1\n",
    "            elif (i, j) == (currI, currJ):\n",
    "                line.append(\"@\")\n",
    "            else:\n",
    "                line.append(\".\")\n",
    "            j+=1\n",
    "        grid.append(line)\n",
    "    return grid\n"
   ]
  },
  {
   "cell_type": "code",
   "execution_count": 77,
   "metadata": {},
   "outputs": [
    {
     "name": "stderr",
     "output_type": "stream",
     "text": [
      "100%|██████████| 20000/20000 [00:00<00:00, 502929.22it/s]"
     ]
    },
    {
     "name": "stdout",
     "output_type": "stream",
     "text": [
      "1429013\n"
     ]
    },
    {
     "name": "stderr",
     "output_type": "stream",
     "text": [
      "\n"
     ]
    }
   ],
   "source": [
    "newGrid2 = createNewGrid(grid)\n",
    "maxI, maxJ = len(newGrid2), len(newGrid2[0])\n",
    "starti, startj = getStart(newGrid2)\n",
    "boxes = getBoxes(newGrid2)\n",
    "walls = getWalls(newGrid2)\n",
    "curri, currj = starti, startj\n",
    "from tqdm import tqdm\n",
    "for i in tqdm(range(len(instructions))):\n",
    "    curri, currj, boxes = move2(boxes, walls, curri, currj, instructions[i])\n",
    "ans2 = getGPS(boxes)\n",
    "print(ans2)"
   ]
  },
  {
   "cell_type": "code",
   "execution_count": null,
   "metadata": {},
   "outputs": [],
   "source": []
  },
  {
   "cell_type": "code",
   "execution_count": null,
   "metadata": {},
   "outputs": [],
   "source": []
  }
 ],
 "metadata": {
  "kernelspec": {
   "display_name": "Python 3",
   "language": "python",
   "name": "python3"
  },
  "language_info": {
   "codemirror_mode": {
    "name": "ipython",
    "version": 3
   },
   "file_extension": ".py",
   "mimetype": "text/x-python",
   "name": "python",
   "nbconvert_exporter": "python",
   "pygments_lexer": "ipython3",
   "version": "3.11.0"
  }
 },
 "nbformat": 4,
 "nbformat_minor": 2
}
