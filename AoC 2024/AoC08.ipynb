{
 "cells": [
  {
   "cell_type": "code",
   "execution_count": 12,
   "metadata": {},
   "outputs": [],
   "source": [
    "puzzle = open(\"AoC08.txt\").read().splitlines()\n",
    "puzzle = [list(x) for x in puzzle]\n",
    "m, n = len(puzzle), len(puzzle[0])"
   ]
  },
  {
   "cell_type": "code",
   "execution_count": 13,
   "metadata": {},
   "outputs": [],
   "source": [
    "def getAntinodes(pos1, pos2, m, n):\n",
    "    x1, y1 = pos1\n",
    "    x2, y2 = pos2\n",
    "    positions = [(x1-(x2-x1), y1-(y2-y1)), (x2+(x2-x1), y2+(y2-y1))]\n",
    "    return [x for x in positions if 0 <= x[0] < m and 0 <= x[1] < n]"
   ]
  },
  {
   "cell_type": "code",
   "execution_count": 14,
   "metadata": {},
   "outputs": [],
   "source": [
    "def antis(ants, m, n):\n",
    "    nodes = []\n",
    "    for i in range(len(ants)):\n",
    "        for j in range(i+1, len(ants)):\n",
    "            nodes += getAntinodes(ants[i], ants[j], m, n)\n",
    "    return set(nodes)"
   ]
  },
  {
   "cell_type": "code",
   "execution_count": 15,
   "metadata": {},
   "outputs": [],
   "source": [
    "nodes = {}\n",
    "for i in range(len(puzzle)):\n",
    "    for j in range(len(puzzle[i])):\n",
    "        if puzzle[i][j] != \".\":\n",
    "            c = puzzle[i][j]\n",
    "            if c not in nodes:\n",
    "                nodes[c] = []\n",
    "            nodes[c].append((i, j))\n"
   ]
  },
  {
   "cell_type": "code",
   "execution_count": 16,
   "metadata": {},
   "outputs": [
    {
     "name": "stdout",
     "output_type": "stream",
     "text": [
      "254\n"
     ]
    }
   ],
   "source": [
    "antinodes = set()\n",
    "for k in nodes:\n",
    "    antinodes |= antis(nodes[k], m, n)\n",
    "ans1 = len(antinodes)\n",
    "print(ans1)"
   ]
  },
  {
   "cell_type": "code",
   "execution_count": 17,
   "metadata": {},
   "outputs": [],
   "source": [
    "import math\n",
    "def getAntinodes2(pos1, pos2, m, n):\n",
    "    x1, y1 = pos1\n",
    "    x2, y2 = pos2\n",
    "    dx, dy = x2-x1, y2-y1\n",
    "    dx, dy = dx//math.gcd(dx, dy), dy//math.gcd(dx, dy)\n",
    "    positions = []\n",
    "    currx, curry = x1, y1\n",
    "    while 0 <= currx < m and 0 <= curry < n:\n",
    "        positions.append((currx, curry))\n",
    "        currx += dx\n",
    "        curry += dy\n",
    "    currx, curry = x1, y1\n",
    "    while 0 <= currx < m and 0 <= curry < n:\n",
    "        positions.append((currx, curry))\n",
    "        currx -= dx\n",
    "        curry -= dy\n",
    "    return positions\n",
    "def antis2(ants, m, n):\n",
    "    nodes = []\n",
    "    for i in range(len(ants)):\n",
    "        for j in range(i+1, len(ants)):\n",
    "            nodes += getAntinodes2(ants[i], ants[j], m, n)\n",
    "    return set(nodes)"
   ]
  },
  {
   "cell_type": "code",
   "execution_count": 18,
   "metadata": {},
   "outputs": [
    {
     "name": "stdout",
     "output_type": "stream",
     "text": [
      "951\n"
     ]
    }
   ],
   "source": [
    "antinodes2 = set()\n",
    "for k in nodes:\n",
    "    antinodes2 |= antis2(nodes[k], m, n)\n",
    "ans2 = len(antinodes2)\n",
    "print(ans2)"
   ]
  },
  {
   "cell_type": "code",
   "execution_count": null,
   "metadata": {},
   "outputs": [],
   "source": []
  }
 ],
 "metadata": {
  "kernelspec": {
   "display_name": "Python 3",
   "language": "python",
   "name": "python3"
  },
  "language_info": {
   "codemirror_mode": {
    "name": "ipython",
    "version": 3
   },
   "file_extension": ".py",
   "mimetype": "text/x-python",
   "name": "python",
   "nbconvert_exporter": "python",
   "pygments_lexer": "ipython3",
   "version": "3.11.0"
  }
 },
 "nbformat": 4,
 "nbformat_minor": 2
}
