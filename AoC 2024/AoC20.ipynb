{
 "cells": [
  {
   "cell_type": "code",
   "execution_count": 666,
   "metadata": {},
   "outputs": [],
   "source": [
    "puzzle = open(\"AoC20.txt\").read().splitlines()\n",
    "puzzle = [list(x) for x in puzzle]"
   ]
  },
  {
   "cell_type": "code",
   "execution_count": 667,
   "metadata": {},
   "outputs": [],
   "source": [
    "start = (0, 0)\n",
    "end = (0,0)\n",
    "for i in range(len(puzzle)):\n",
    "    for j in range(len(puzzle[i])):\n",
    "        if puzzle[i][j] == \"S\":\n",
    "            start = (i, j)\n",
    "        if puzzle[i][j] == \"E\":\n",
    "            end = (i, j)"
   ]
  },
  {
   "cell_type": "code",
   "execution_count": 668,
   "metadata": {},
   "outputs": [],
   "source": [
    "newpuzzle = []\n",
    "for i in range(len(puzzle)):\n",
    "    newpuzzle.append([])\n",
    "    for j in range(len(puzzle[i])):\n",
    "        if puzzle[i][j] == \"S\":\n",
    "            newpuzzle[i].append(\".\")\n",
    "        elif puzzle[i][j] == \"E\":\n",
    "            newpuzzle[i].append(\".\")\n",
    "        elif puzzle[i][j] == \"#\":\n",
    "            newpuzzle[i].append(\"#\")\n",
    "        else:\n",
    "            newpuzzle[i].append(\".\")"
   ]
  },
  {
   "cell_type": "code",
   "execution_count": 669,
   "metadata": {},
   "outputs": [],
   "source": [
    "def findShortest(graph, end):\n",
    "    #find length of shortest path from all points to end\n",
    "    #points can only move up, down, left, right\n",
    "    #only calculate length of path if it starts with a \".\"\n",
    "    #if it starts with a \"#\", it is a wall and can't be moved through\n",
    "    shorts = {}\n",
    "    queue = [end]\n",
    "    visited = set()\n",
    "    visited.add(end)\n",
    "    shorts[end] = 0\n",
    "    while queue:\n",
    "        current = queue.pop(0)\n",
    "        for i in [(0,1), (0,-1), (1,0), (-1,0)]:\n",
    "            new = (current[0] + i[0], current[1] + i[1])\n",
    "            if new in visited:\n",
    "                continue\n",
    "            if graph[new[0]][new[1]] == \"#\":\n",
    "                continue\n",
    "            visited.add(new)\n",
    "            queue.append(new)\n",
    "            shorts[new] = shorts[current] + 1\n",
    "    return shorts\n",
    "    "
   ]
  },
  {
   "cell_type": "code",
   "execution_count": 670,
   "metadata": {},
   "outputs": [],
   "source": [
    "shortEnd = findShortest(newpuzzle, end)\n",
    "shortStart = findShortest(newpuzzle, start)"
   ]
  },
  {
   "cell_type": "code",
   "execution_count": 671,
   "metadata": {},
   "outputs": [
    {
     "name": "stdout",
     "output_type": "stream",
     "text": [
      "9464\n"
     ]
    }
   ],
   "source": [
    "normal = shortStart[end]\n",
    "print(normal)"
   ]
  },
  {
   "cell_type": "code",
   "execution_count": 672,
   "metadata": {},
   "outputs": [],
   "source": [
    "import math\n",
    "def findShortest2(graph, coord1, coord2, starts, ends, start, end):\n",
    "    #find shortest distance between start and end given that can now go through coord1 and coord2\n",
    "    #find all points adjacent to coord1 that are \".\"\n",
    "    #find all points adjacent to coord2 that are \".\"\n",
    "    points1 = []\n",
    "    d = abs(coord1[0] - coord2[0]) + abs(coord1[1] - coord2[1])\n",
    "    #points2 = []\n",
    "    for i in [(0,1), (0,-1), (1,0), (-1,0)]:\n",
    "        new = (coord1[0] + i[0], coord1[1] + i[1])\n",
    "        if 0<=new[0]<len(graph) and 0<=new[1]<len(graph[new[0]]) and graph[new[0]][new[1]] == \".\":\n",
    "            points1.append(new)\n",
    "    #for i in [(0,1), (0,-1), (1,0), (-1,0)]:\n",
    "    #    new = (coord2[0] + i[0], coord2[1] + i[1])\n",
    "    #    if 0<=new[0]<len(graph) and 0<=new[1]<len(graph[new[0]]) and graph[new[0]][new[1]] == \".\":\n",
    "    #        points2.append(new)\n",
    "    minDist = starts[end]\n",
    "    for i in points1:\n",
    "        dist = starts[i] + ends[coord2] + d +1\n",
    "        if dist < minDist:\n",
    "            minDist = dist\n",
    "    return minDist\n",
    "def generatePairs(graph):\n",
    "    #generate consecutive pairs that arent on the outer edges\n",
    "    pairs = []\n",
    "    for i in range(1, len(graph)-1):\n",
    "        for j in range(1, len(graph[i])-1):\n",
    "            pairs.append(((i, j), (i+1, j)))\n",
    "            pairs.append(((i, j), (i, j+1)))\n",
    "            pairs.append(((i, j), (i-1, j)))\n",
    "            pairs.append(((i, j), (i, j-1)))\n",
    "    return pairs\n",
    "\n",
    "    "
   ]
  },
  {
   "cell_type": "code",
   "execution_count": 673,
   "metadata": {},
   "outputs": [
    {
     "name": "stdout",
     "output_type": "stream",
     "text": [
      "1363\n"
     ]
    }
   ],
   "source": [
    "cheats = generatePairs(newpuzzle)\n",
    "distances = []\n",
    "for i in cheats:\n",
    "    if newpuzzle[i[1][0]][i[1][1]]==\".\":\n",
    "        distances.append((findShortest2(newpuzzle, i[0], i[1], shortStart, shortEnd, start, end), i))\n",
    "distances.sort()\n",
    "#for d in distances:\n",
    "#    if d[0] < normal:\n",
    "#        print(d[1], normal-d[0])\n",
    "ans1 = 0\n",
    "for d in distances:\n",
    "    if d[0] <= normal-100:\n",
    "        ans1 += 1\n",
    "print(ans1)"
   ]
  },
  {
   "cell_type": "code",
   "execution_count": 674,
   "metadata": {},
   "outputs": [
    {
     "name": "stderr",
     "output_type": "stream",
     "text": [
      "100%|██████████| 139/139 [01:38<00:00,  1.41it/s]\n",
      "100%|██████████| 14682501/14682501 [00:06<00:00, 2177340.10it/s]\n"
     ]
    },
    {
     "name": "stdout",
     "output_type": "stream",
     "text": [
      "1007186\n"
     ]
    }
   ],
   "source": [
    "def findShortest3(graph, coord1, coord2, starts, ends, start, end):\n",
    "    #find shortest distance between start and end given that can now go through coord1 and coord2\n",
    "    d = abs(coord1[0] - coord2[0]) + abs(coord1[1] - coord2[1])\n",
    "    minDist = starts[end]\n",
    "    dist = starts[coord1] + ends[coord2] + d\n",
    "    if dist < minDist:\n",
    "        minDist = dist\n",
    "    return minDist\n",
    "def generatePairsMaxDist(graph, maxDist):\n",
    "    #generate all pairs of points that arent on the outer edges\n",
    "    pairs = []\n",
    "    for i1 in tqdm(range(1, len(graph)-1)):\n",
    "        for i2 in range(1, len(graph)-1):\n",
    "            if abs(i1-i2) > maxDist:\n",
    "                continue\n",
    "            for j1 in range(1, len(graph[0])-1):\n",
    "                for j2 in range(1, len(graph[0])-1):\n",
    "                    if abs(i1-i2) + abs(j1-j2) <= maxDist:\n",
    "                        pairs.append(((i1, j1), (i2, j2)))\n",
    "    return pairs\n",
    "cheats2 = generatePairsMaxDist(newpuzzle, 20)\n",
    "distances2 = []\n",
    "for i in tqdm(cheats2):\n",
    "    if newpuzzle[i[1][0]][i[1][1]]==\".\" and newpuzzle[i[0][0]][i[0][1]]==\".\":\n",
    "        distances2.append((findShortest3(newpuzzle, i[0], i[1], shortStart, shortEnd, start, end), i))\n",
    "distances2.sort()\n",
    "#for d in distances:\n",
    "#    if d[0] < normal:\n",
    "#        print(d[1], normal-d[0])\n",
    "ans2 = 0\n",
    "for d in distances2:\n",
    "    if normal-d[0]>=100:\n",
    "        ans2 += 1\n",
    "print(ans2)"
   ]
  },
  {
   "cell_type": "code",
   "execution_count": null,
   "metadata": {},
   "outputs": [],
   "source": []
  }
 ],
 "metadata": {
  "kernelspec": {
   "display_name": "Python 3",
   "language": "python",
   "name": "python3"
  },
  "language_info": {
   "codemirror_mode": {
    "name": "ipython",
    "version": 3
   },
   "file_extension": ".py",
   "mimetype": "text/x-python",
   "name": "python",
   "nbconvert_exporter": "python",
   "pygments_lexer": "ipython3",
   "version": "3.11.0"
  }
 },
 "nbformat": 4,
 "nbformat_minor": 2
}
