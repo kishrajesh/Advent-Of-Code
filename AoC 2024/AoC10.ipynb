{
 "cells": [
  {
   "cell_type": "code",
   "execution_count": 15,
   "metadata": {},
   "outputs": [],
   "source": [
    "puzzle = open(\"AoC10.txt\").read().splitlines()\n",
    "puzzle = [list(x) for x in puzzle]\n",
    "puzzle = [[int(x) for x in y] for y in puzzle] "
   ]
  },
  {
   "cell_type": "code",
   "execution_count": 20,
   "metadata": {},
   "outputs": [],
   "source": [
    "def checkTrailheadScore(map, pos):\n",
    "    i, j = pos\n",
    "    if map[i][j] != 0:\n",
    "        return 0\n",
    "    score = 0\n",
    "    #run bfs to find all the paths\n",
    "    queue = [(i, j, 1, 0)] #pos, paths, distance\n",
    "    visited = set()\n",
    "    dirs = [0, 1, 0, -1, 0]\n",
    "    while queue:\n",
    "        i_n, j_n, paths, dist = queue.pop(0)\n",
    "        if (i_n, j_n) in visited:\n",
    "            continue\n",
    "        visited.add((i_n, j_n))\n",
    "        if map[i_n][j_n] == 9:\n",
    "            score += paths\n",
    "            continue\n",
    "        for k in range(4):\n",
    "            i_n_n = i_n + dirs[k]\n",
    "            j_n_n = j_n + dirs[k + 1]\n",
    "            if i_n_n >= 0 and i_n_n < len(map) and j_n_n >= 0 and j_n_n < len(map[0]):\n",
    "                if map[i_n_n][j_n_n] == dist+1:\n",
    "                    queue.append((i_n_n, j_n_n, paths, dist + 1))\n",
    "    return score\n",
    "        "
   ]
  },
  {
   "cell_type": "code",
   "execution_count": 21,
   "metadata": {},
   "outputs": [
    {
     "name": "stdout",
     "output_type": "stream",
     "text": [
      "489\n"
     ]
    }
   ],
   "source": [
    "ans1 = 0\n",
    "for i in range(len(puzzle)):\n",
    "    for j in range(len(puzzle[0])):\n",
    "        score = checkTrailheadScore(puzzle, (i, j))\n",
    "        ans1+=score\n",
    "print(ans1)"
   ]
  },
  {
   "cell_type": "code",
   "execution_count": 22,
   "metadata": {},
   "outputs": [],
   "source": [
    "def checkTrailheadRating(map, pos):\n",
    "    i, j = pos\n",
    "    if map[i][j] != 0:\n",
    "        return 0\n",
    "    score = 0\n",
    "    #run bfs to find all the paths\n",
    "    queue = [(i, j, 1, 0)] #pos, paths, distance\n",
    "    visited = set()\n",
    "    dirs = [0, 1, 0, -1, 0]\n",
    "    paths = {}\n",
    "    while queue:\n",
    "        i_n, j_n, paths, dist = queue.pop(0)\n",
    "        #if (i_n, j_n) in visited:\n",
    "        #    continue\n",
    "        visited.add((i_n, j_n))\n",
    "        if map[i_n][j_n] == 9:\n",
    "            score += paths\n",
    "            continue\n",
    "        for k in range(4):\n",
    "            i_n_n = i_n + dirs[k]\n",
    "            j_n_n = j_n + dirs[k + 1]\n",
    "            if i_n_n >= 0 and i_n_n < len(map) and j_n_n >= 0 and j_n_n < len(map[0]):\n",
    "                if map[i_n_n][j_n_n] == dist+1:\n",
    "                    queue.append((i_n_n, j_n_n, paths, dist + 1))\n",
    "    return score"
   ]
  },
  {
   "cell_type": "code",
   "execution_count": 24,
   "metadata": {},
   "outputs": [
    {
     "name": "stdout",
     "output_type": "stream",
     "text": [
      "1086\n"
     ]
    }
   ],
   "source": [
    "ans2 = 0\n",
    "for i in range(len(puzzle)):\n",
    "    for j in range(len(puzzle[0])):\n",
    "        score = checkTrailheadRating(puzzle, (i, j))\n",
    "        ans2+=score\n",
    "print(ans2)"
   ]
  },
  {
   "cell_type": "code",
   "execution_count": null,
   "metadata": {},
   "outputs": [],
   "source": []
  }
 ],
 "metadata": {
  "kernelspec": {
   "display_name": "Python 3",
   "language": "python",
   "name": "python3"
  },
  "language_info": {
   "codemirror_mode": {
    "name": "ipython",
    "version": 3
   },
   "file_extension": ".py",
   "mimetype": "text/x-python",
   "name": "python",
   "nbconvert_exporter": "python",
   "pygments_lexer": "ipython3",
   "version": "3.11.0"
  }
 },
 "nbformat": 4,
 "nbformat_minor": 2
}
