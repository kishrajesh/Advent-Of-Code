{
 "cells": [
  {
   "cell_type": "code",
   "execution_count": 233,
   "metadata": {},
   "outputs": [],
   "source": [
    "puzzle = open(\"AoC17.txt\").read().splitlines()\n"
   ]
  },
  {
   "cell_type": "code",
   "execution_count": 234,
   "metadata": {},
   "outputs": [],
   "source": [
    "A = int(puzzle[0].split(\": \")[-1])\n",
    "B = int(puzzle[1].split(\": \")[-1])\n",
    "C = int(puzzle[2].split(\": \")[-1])\n",
    "program = puzzle[4].split(\": \")[-1].split(\",\")\n",
    "program = [int(i) for i in program]"
   ]
  },
  {
   "cell_type": "code",
   "execution_count": 235,
   "metadata": {},
   "outputs": [],
   "source": [
    "#instruction (represented by opcode), operand\n",
    "#so instruction pointer increases by 2 each time (unless it jumps)\n",
    "#two types of operands - combo and literal\n",
    "#combo 0-3 is literal values\n",
    "#combo 4 is register A\n",
    "#combo 5 is register B\n",
    "#combo 6 is register C\n",
    "#combo 7 is reserved (will not appear in valid program)\n",
    "#instructions:\n",
    "#0 - adv: calculates value in A/2^(combo operand), truncates to integer, stores in A\n",
    "#1 - bxl: calculates bitwise XOR of B and literal operand, stores in B\n",
    "#2 - bst: calculates combo operand mod 8, stores in B\n",
    "#3 - jnz: if A is not zero, jumps to literal operand (so instruction pointer doesn't increase by 2 after)\n",
    "#4 - bxc: calculates bitwise XOR of B and C, stores in B (reads operand but doesn't use it)\n",
    "#5 - out: calculates valye of combo operand mod 8, outputs to terminal\n",
    "#6 - bdv: calculates value in A/2^(combo operand), truncates to integer, stores in B\n",
    "#7 - cdv: calculates value in A/2^(combo operand), truncates to integer, stores in C"
   ]
  },
  {
   "cell_type": "code",
   "execution_count": 236,
   "metadata": {},
   "outputs": [],
   "source": [
    "def comboOp(combo, A, B, C):\n",
    "    if combo < 4:\n",
    "        return combo\n",
    "    elif combo == 4:\n",
    "        return A\n",
    "    elif combo == 5:\n",
    "        return B\n",
    "    elif combo == 6:\n",
    "        return C\n",
    "    return -1\n",
    "      "
   ]
  },
  {
   "cell_type": "code",
   "execution_count": 237,
   "metadata": {},
   "outputs": [],
   "source": [
    "def run_program(program, A, B, C):\n",
    "    ip = 0\n",
    "    outputs = []\n",
    "    while ip < len(program):\n",
    "        instruction = program[ip]\n",
    "        lit_operand = program[ip+1]\n",
    "        combo_operand = comboOp(lit_operand, A, B, C)\n",
    "        if instruction == 0:\n",
    "            A = A // (2**combo_operand)\n",
    "        elif instruction == 1:\n",
    "            B = B ^ lit_operand\n",
    "        elif instruction == 2:\n",
    "            B = combo_operand % 8\n",
    "        elif instruction == 3:\n",
    "            if A != 0:\n",
    "                ip = lit_operand\n",
    "                continue\n",
    "        elif instruction == 4:\n",
    "            B = B ^ C\n",
    "        elif instruction == 5:\n",
    "            outputs.append(combo_operand % 8)\n",
    "        elif instruction == 6:\n",
    "            B = A // (2**combo_operand)\n",
    "        elif instruction == 7:\n",
    "            C = A // (2**combo_operand)\n",
    "        ip += 2\n",
    "    return A, B, C, outputs"
   ]
  },
  {
   "cell_type": "code",
   "execution_count": 238,
   "metadata": {},
   "outputs": [],
   "source": [
    "def convertAns(outputs):\n",
    "    return \"\".join([str(i)+\",\" for i in outputs])[:-1]"
   ]
  },
  {
   "cell_type": "code",
   "execution_count": 239,
   "metadata": {},
   "outputs": [
    {
     "name": "stdout",
     "output_type": "stream",
     "text": [
      "4,3,7,1,5,3,0,5,4\n"
     ]
    }
   ],
   "source": [
    "A_new, B_new, C_new, outputs = run_program(program, A, B, C)\n",
    "ans1 = convertAns(outputs)\n",
    "print(ans1)"
   ]
  },
  {
   "cell_type": "code",
   "execution_count": 240,
   "metadata": {},
   "outputs": [],
   "source": [
    "def checkIfCopy(program, A, B, C):\n",
    "    initial_A = A\n",
    "    ip = 0\n",
    "    outputs = []\n",
    "    ctr = 0\n",
    "    while ip < len(program):\n",
    "        instruction = program[ip]\n",
    "        lit_operand = program[ip+1]\n",
    "        combo_operand = comboOp(lit_operand, A, B, C)\n",
    "        if instruction == 0:\n",
    "            A = A // (2**combo_operand)\n",
    "        elif instruction == 1:\n",
    "            B = B ^ lit_operand\n",
    "        elif instruction == 2:\n",
    "            B = combo_operand % 8\n",
    "        elif instruction == 3:\n",
    "            if A != 0:\n",
    "                ip = lit_operand\n",
    "                continue\n",
    "        elif instruction == 4:\n",
    "            B = B ^ C\n",
    "        elif instruction == 5:\n",
    "            outputs.append(combo_operand % 8)\n",
    "            if outputs[-1] != program[ctr]:\n",
    "                return False\n",
    "            ctr += 1\n",
    "        elif instruction == 6:\n",
    "            B = A // (2**combo_operand)\n",
    "        elif instruction == 7:\n",
    "            C = A // (2**combo_operand)\n",
    "        ip += 2\n",
    "    return outputs == program"
   ]
  },
  {
   "cell_type": "code",
   "execution_count": 241,
   "metadata": {},
   "outputs": [],
   "source": [
    "from tqdm import tqdm\n",
    "def checkPostFix(program, A, B, C, init):\n",
    "    poss = []\n",
    "    for i in range(8):\n",
    "        p = run_program(program, init*8+i, B, C)\n",
    "        n = len(p[-1])\n",
    "        last = program[-n:]\n",
    "        if p[-1] == last:\n",
    "            poss.append(init*8+i)        \n",
    "    return poss"
   ]
  },
  {
   "cell_type": "code",
   "execution_count": 242,
   "metadata": {},
   "outputs": [
    {
     "name": "stderr",
     "output_type": "stream",
     "text": [
      "100%|██████████| 2/2 [00:00<00:00, 20815.40it/s]"
     ]
    },
    {
     "name": "stdout",
     "output_type": "stream",
     "text": [
      "43 (0, 0, 0, [3, 0])\n",
      "47 (0, 0, 0, [3, 0])\n"
     ]
    },
    {
     "name": "stderr",
     "output_type": "stream",
     "text": [
      "\n"
     ]
    }
   ],
   "source": [
    "possibilities = checkPostFix(program, A, B, C, 5)\n",
    "for i in tqdm(possibilities):\n",
    "    print(i, run_program(program, i, B, C))"
   ]
  },
  {
   "cell_type": "code",
   "execution_count": 243,
   "metadata": {},
   "outputs": [
    {
     "name": "stdout",
     "output_type": "stream",
     "text": [
      "190384615275535\n"
     ]
    }
   ],
   "source": [
    "programs = []\n",
    "#use bfs to find all 16 digit programs\n",
    "queue = [(0,0)] #elements in queue are (init, number of digits in result)\n",
    "while queue:\n",
    "    init, n = queue.pop(0)\n",
    "    if n == 16:\n",
    "        programs.append(init)\n",
    "    else:\n",
    "        poss = checkPostFix(program, A, B, C, init)\n",
    "        for p in poss:\n",
    "            queue.append((p, n+1))\n",
    "ans2 = programs[0]\n",
    "print(ans2)"
   ]
  },
  {
   "cell_type": "code",
   "execution_count": null,
   "metadata": {},
   "outputs": [],
   "source": []
  }
 ],
 "metadata": {
  "kernelspec": {
   "display_name": "Python 3",
   "language": "python",
   "name": "python3"
  },
  "language_info": {
   "codemirror_mode": {
    "name": "ipython",
    "version": 3
   },
   "file_extension": ".py",
   "mimetype": "text/x-python",
   "name": "python",
   "nbconvert_exporter": "python",
   "pygments_lexer": "ipython3",
   "version": "3.11.0"
  }
 },
 "nbformat": 4,
 "nbformat_minor": 2
}
