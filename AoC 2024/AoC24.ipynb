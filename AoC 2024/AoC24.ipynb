{
 "cells": [
  {
   "cell_type": "code",
   "execution_count": 18,
   "metadata": {},
   "outputs": [],
   "source": [
    "puzzle = open(\"AoC24.txt\").read().splitlines()"
   ]
  },
  {
   "cell_type": "code",
   "execution_count": 19,
   "metadata": {},
   "outputs": [],
   "source": [
    "xBits = {}\n",
    "yBits = {}\n",
    "zBits = {}\n",
    "gates = {}\n",
    "gateRules = {}\n",
    "i = 0\n",
    "while puzzle[i]!=\"\":\n",
    "    gate, value = puzzle[i].split(\": \")\n",
    "    if gate[0]==\"x\":\n",
    "        xBits[gate] = int(value)\n",
    "    elif gate[0]==\"y\":\n",
    "        yBits[gate] = int(value)\n",
    "    gates[gate] = value\n",
    "    i+=1\n",
    "i+=1\n",
    "while i<len(puzzle):\n",
    "    inGates, outGate = puzzle[i].split(\" -> \")\n",
    "    inGate1, op, inGate2 = inGates.split(\" \")\n",
    "    gateRules[outGate] = (inGate1, op, inGate2)\n",
    "    i+=1"
   ]
  },
  {
   "cell_type": "code",
   "execution_count": 20,
   "metadata": {},
   "outputs": [],
   "source": [
    "z_outs = []\n",
    "for out in gateRules:\n",
    "    if out[0]==\"z\":\n",
    "        z_outs.append(out)\n",
    "z_outs.sort()\n",
    "def getVal(out, gateRule, gates, cache):\n",
    "    if out in cache:\n",
    "        gates[out] = cache[out]\n",
    "        return cache[out], cache\n",
    "    if out in gates:\n",
    "        cache[out] = int(gates[out])\n",
    "        return cache[out], cache\n",
    "    inGate1, op, inGate2 = gateRule[out]\n",
    "    if op==\"AND\":\n",
    "        cache[out] = getVal(inGate1, gateRule, gates, cache)[0] & getVal(inGate2, gateRule, gates, cache)[0]\n",
    "    elif op==\"OR\":\n",
    "        cache[out] = getVal(inGate1, gateRule, gates, cache)[0] | getVal(inGate2, gateRule, gates, cache)[0]\n",
    "    elif op==\"XOR\":\n",
    "        cache[out] = getVal(inGate1, gateRule, gates, cache)[0] ^ getVal(inGate2, gateRule, gates, cache)[0]\n",
    "    gates[out] = cache[out]\n",
    "    return cache[out], cache"
   ]
  },
  {
   "cell_type": "code",
   "execution_count": 21,
   "metadata": {},
   "outputs": [
    {
     "name": "stdout",
     "output_type": "stream",
     "text": [
      "38869984335432\n"
     ]
    }
   ],
   "source": [
    "ans1 = 0\n",
    "for out in z_outs:\n",
    "    num = int(out[1:])\n",
    "    ans1 = getVal(out, gateRules, gates, {})[0]*2**num + ans1\n",
    "print(ans1)\n"
   ]
  },
  {
   "cell_type": "code",
   "execution_count": 22,
   "metadata": {},
   "outputs": [],
   "source": [
    "invalidEnds = []\n",
    "#checks if there are any rules that are x__ OP y__ -> z__ where OP isn't XOR (indicates wrong rule)\n",
    "for out in gateRules:\n",
    "    if out[0]==\"z\":\n",
    "        in1, op, in2 = gateRules[out]\n",
    "        if op!=\"XOR\":\n",
    "            num = int(out[1:])\n",
    "            if num!=45:\n",
    "                invalidEnds.append((out, gateRules[out]))\n",
    "            if num==45 and op!=\"OR\":\n",
    "                invalidEnds.append((out, gateRules[out]))"
   ]
  },
  {
   "cell_type": "code",
   "execution_count": 23,
   "metadata": {},
   "outputs": [],
   "source": [
    "invalidMids = []\n",
    "#checks if there are any rules that have XOR but aren't start or end\n",
    "for out in gateRules:\n",
    "    if out[0]!=\"z\":\n",
    "        in1, op, in2 = gateRules[out]\n",
    "        if op==\"XOR\":\n",
    "            if in1[0] not in \"xy\" or in2[0] not in \"xy\":\n",
    "                invalidMids.append((out, gateRules[out]))"
   ]
  },
  {
   "cell_type": "code",
   "execution_count": 24,
   "metadata": {},
   "outputs": [],
   "source": [
    "def getCorrectEndFromMid(invalidMid, gateRules):\n",
    "    left, op, right = gateRules[invalidMid]\n",
    "    left1, opL, right1 = gateRules[left]\n",
    "    if opL==\"XOR\":\n",
    "        return left1[1:]\n",
    "    left2, opR, right2 = gateRules[right]\n",
    "    if opR==\"XOR\":\n",
    "        return left2[1:]\n",
    "    return -1"
   ]
  },
  {
   "cell_type": "code",
   "execution_count": 25,
   "metadata": {},
   "outputs": [],
   "source": [
    "newGateRules = {}\n",
    "for out in gateRules:\n",
    "    if out not in invalidEnds and out not in invalidMids:\n",
    "        newGateRules[out] = gateRules[out]\n",
    "for out in invalidMids:\n",
    "    mid = out[0]\n",
    "    act = \"z\"+getCorrectEndFromMid(mid, gateRules)\n",
    "    newGateRules[act] = gateRules[mid]\n",
    "    newGateRules[mid] = gateRules[act]"
   ]
  },
  {
   "cell_type": "code",
   "execution_count": 26,
   "metadata": {},
   "outputs": [],
   "source": [
    "i = 0\n",
    "newGates = {}\n",
    "while puzzle[i]!=\"\":\n",
    "    gate, value = puzzle[i].split(\": \")\n",
    "    newGates[gate] = value\n",
    "    i+=1"
   ]
  },
  {
   "cell_type": "code",
   "execution_count": 27,
   "metadata": {},
   "outputs": [],
   "source": [
    "x_val = 0\n",
    "y_val = 0\n",
    "for x, val in xBits.items():\n",
    "    x_val += val*2**int(x[1:])\n",
    "for y, val in yBits.items():\n",
    "    y_val += val*2**int(y[1:])\n",
    "new_z = 0\n",
    "for out in z_outs:\n",
    "    num = int(out[1:])\n",
    "    val1 = getVal(out, newGateRules, newGates, {})[0]\n",
    "    new_z += val1*2**num\n",
    "binRep = bin((x_val+y_val)^new_z)[2:][::-1]\n",
    "firstMessedBit = 0\n",
    "for i in range(46):\n",
    "    if binRep[i]==\"1\":\n",
    "        firstMessedBit = i\n",
    "        break\n",
    "strMessed = str(firstMessedBit)\n",
    "if len(strMessed)==1:\n",
    "    strMessed = \"0\"+strMessed\n",
    "invalidCarries = []\n",
    "for out in gateRules:\n",
    "    in1, op, in2 = gateRules[out]\n",
    "    if in1 == \"x\"+strMessed or in1 == \"y\"+strMessed:\n",
    "        invalidCarries.append((out, gateRules[out]))"
   ]
  },
  {
   "cell_type": "code",
   "execution_count": 28,
   "metadata": {},
   "outputs": [
    {
     "name": "stdout",
     "output_type": "stream",
     "text": [
      "drg,gvw,jbp,jgc,qjb,z15,z22,z35\n"
     ]
    }
   ],
   "source": [
    "invalid = []\n",
    "for out,rule in invalidEnds:\n",
    "    invalid.append(out)\n",
    "for out, rule in invalidMids:\n",
    "    invalid.append(out)\n",
    "for out, rule in invalidCarries:\n",
    "    invalid.append(out)\n",
    "invalid.sort()\n",
    "output = \"\"\n",
    "for c in invalid:\n",
    "    output += c+\",\"\n",
    "ans2 = output[:-1]\n",
    "print(ans2)"
   ]
  },
  {
   "cell_type": "code",
   "execution_count": null,
   "metadata": {},
   "outputs": [],
   "source": []
  }
 ],
 "metadata": {
  "kernelspec": {
   "display_name": "Python 3",
   "language": "python",
   "name": "python3"
  },
  "language_info": {
   "codemirror_mode": {
    "name": "ipython",
    "version": 3
   },
   "file_extension": ".py",
   "mimetype": "text/x-python",
   "name": "python",
   "nbconvert_exporter": "python",
   "pygments_lexer": "ipython3",
   "version": "3.11.0"
  }
 },
 "nbformat": 4,
 "nbformat_minor": 2
}
