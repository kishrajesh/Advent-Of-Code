{
 "cells": [
  {
   "cell_type": "code",
   "execution_count": 1,
   "metadata": {},
   "outputs": [],
   "source": [
    "puzzle = open(\"AoC11.txt\").read().splitlines()\n",
    "puzzle = puzzle[0].split(\" \")\n",
    "puzzle = [int(x) for x in puzzle]"
   ]
  },
  {
   "cell_type": "code",
   "execution_count": 2,
   "metadata": {},
   "outputs": [],
   "source": [
    "import math\n",
    "def nextArr(stones):\n",
    "    newStones = []\n",
    "    for i in range(len(stones)):\n",
    "        val = stones[i]\n",
    "        if val == 0:\n",
    "            newStones.append(1)\n",
    "            continue\n",
    "        length = math.floor(math.log10(val)) + 1\n",
    "        if length%2 == 0:\n",
    "            left = val // 10**(length//2)\n",
    "            right = val % 10**(length//2)\n",
    "            newStones.append(left)\n",
    "            newStones.append(right)\n",
    "        else:\n",
    "            newStones.append(val*2024)\n",
    "    return newStones"
   ]
  },
  {
   "cell_type": "code",
   "execution_count": 3,
   "metadata": {},
   "outputs": [
    {
     "name": "stdout",
     "output_type": "stream",
     "text": [
      "217812\n"
     ]
    }
   ],
   "source": [
    "copy = puzzle.copy()\n",
    "for i in range(25):\n",
    "    copy = nextArr(copy)\n",
    "ans1 = len(copy)\n",
    "print(ans1)"
   ]
  },
  {
   "cell_type": "code",
   "execution_count": 18,
   "metadata": {},
   "outputs": [],
   "source": [
    "import math\n",
    "from collections import defaultdict\n",
    "def newNextDict(stones):\n",
    "    newStones = defaultdict(int)\n",
    "    for s in stones:\n",
    "        num = stones[s]\n",
    "        if s == 0:\n",
    "            newStones[1] += num\n",
    "            continue\n",
    "        length = math.floor(math.log10(s)) + 1\n",
    "        if length%2 == 0:\n",
    "            left = s // 10**(length//2)\n",
    "            right = s % 10**(length//2)\n",
    "            newStones[left] += num\n",
    "            newStones[right] += num\n",
    "        else:\n",
    "            newStones[s*2024] += num\n",
    "    return newStones\n"
   ]
  },
  {
   "cell_type": "code",
   "execution_count": 21,
   "metadata": {},
   "outputs": [
    {
     "name": "stderr",
     "output_type": "stream",
     "text": [
      "100%|██████████| 75/75 [00:00<00:00, 1513.56it/s]"
     ]
    },
    {
     "name": "stdout",
     "output_type": "stream",
     "text": [
      "259112729857522\n"
     ]
    },
    {
     "name": "stderr",
     "output_type": "stream",
     "text": [
      "\n"
     ]
    }
   ],
   "source": [
    "from tqdm import tqdm\n",
    "newStones = defaultdict(int)\n",
    "for s in puzzle:\n",
    "    newStones[s] += 1\n",
    "for i in tqdm(range(75)):\n",
    "    newStones = newNextDict(newStones)\n",
    "ans2 = 0\n",
    "for s in newStones:\n",
    "    ans2 += newStones[s]\n",
    "print(ans2)"
   ]
  },
  {
   "cell_type": "code",
   "execution_count": null,
   "metadata": {},
   "outputs": [],
   "source": []
  }
 ],
 "metadata": {
  "kernelspec": {
   "display_name": "Python 3",
   "language": "python",
   "name": "python3"
  },
  "language_info": {
   "codemirror_mode": {
    "name": "ipython",
    "version": 3
   },
   "file_extension": ".py",
   "mimetype": "text/x-python",
   "name": "python",
   "nbconvert_exporter": "python",
   "pygments_lexer": "ipython3",
   "version": "3.11.0"
  }
 },
 "nbformat": 4,
 "nbformat_minor": 2
}
