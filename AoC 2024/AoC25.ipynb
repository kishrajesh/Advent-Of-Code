{
 "cells": [
  {
   "cell_type": "code",
   "execution_count": 26,
   "metadata": {},
   "outputs": [],
   "source": [
    "puzzle = open(\"AoC25.txt\").read().splitlines()"
   ]
  },
  {
   "cell_type": "code",
   "execution_count": 27,
   "metadata": {},
   "outputs": [],
   "source": [
    "schems = []\n",
    "i = 0\n",
    "while i < len(puzzle):\n",
    "    schem = []\n",
    "    while i< len(puzzle) and puzzle[i]!=\"\":\n",
    "        schem.append(puzzle[i])\n",
    "        i += 1\n",
    "    schems.append(schem)\n",
    "    i += 1"
   ]
  },
  {
   "cell_type": "code",
   "execution_count": 28,
   "metadata": {},
   "outputs": [],
   "source": [
    "def getInfo(schem):\n",
    "    heights = []\n",
    "    typ = \"\"\n",
    "    if schem[0]==\".....\" and schem[-1]==\"#####\":\n",
    "        typ = \"key\"\n",
    "        for i in range(5):\n",
    "            h = 0\n",
    "            while schem[h][i]==\".\":\n",
    "                h += 1\n",
    "            heights.append(6-h)\n",
    "    else:\n",
    "        typ = \"lock\"\n",
    "        for i in range(5):\n",
    "            h = 1\n",
    "            while schem[h][i]==\"#\":\n",
    "                h += 1\n",
    "            heights.append(h-1)\n",
    "    return typ, heights\n",
    "def check(key, lock):\n",
    "    for i in range(5):\n",
    "        if key[i] + lock[i]>5:\n",
    "            return False\n",
    "    return True"
   ]
  },
  {
   "cell_type": "code",
   "execution_count": 29,
   "metadata": {},
   "outputs": [],
   "source": [
    "keys = []\n",
    "locks = []\n",
    "for schem in schems:\n",
    "    t, h = getInfo(schem)\n",
    "    if t == \"key\":\n",
    "        keys.append(h)\n",
    "    else:\n",
    "        locks.append(h)"
   ]
  },
  {
   "cell_type": "code",
   "execution_count": 30,
   "metadata": {},
   "outputs": [
    {
     "name": "stdout",
     "output_type": "stream",
     "text": [
      "3107\n"
     ]
    }
   ],
   "source": [
    "ans1 = 0\n",
    "for key in keys:\n",
    "    for lock in locks:\n",
    "        if check(key, lock):\n",
    "            ans1 += 1\n",
    "print(ans1)"
   ]
  },
  {
   "cell_type": "code",
   "execution_count": null,
   "metadata": {},
   "outputs": [],
   "source": []
  }
 ],
 "metadata": {
  "kernelspec": {
   "display_name": "Python 3",
   "language": "python",
   "name": "python3"
  },
  "language_info": {
   "codemirror_mode": {
    "name": "ipython",
    "version": 3
   },
   "file_extension": ".py",
   "mimetype": "text/x-python",
   "name": "python",
   "nbconvert_exporter": "python",
   "pygments_lexer": "ipython3",
   "version": "3.11.0"
  }
 },
 "nbformat": 4,
 "nbformat_minor": 2
}
