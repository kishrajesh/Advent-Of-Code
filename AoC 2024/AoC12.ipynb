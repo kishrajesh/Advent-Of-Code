{
 "cells": [
  {
   "cell_type": "code",
   "execution_count": 52,
   "metadata": {},
   "outputs": [],
   "source": [
    "puzzle = open(\"AoC12.txt\").read().splitlines()\n",
    "puzzle = [list(x) for x in puzzle]"
   ]
  },
  {
   "cell_type": "code",
   "execution_count": 53,
   "metadata": {},
   "outputs": [],
   "source": [
    "def area(region):\n",
    "    #region is a set of coordinates on the grid\n",
    "    return len(region)\n",
    "def perim(region):\n",
    "    #region is a set of coordinates on the grid\n",
    "    perimeter = 0\n",
    "    for coord in region:\n",
    "        for dx, dy in [(0,1), (0,-1), (1,0), (-1,0)]:\n",
    "            if (coord[0]+dx, coord[1]+dy) not in region:\n",
    "                perimeter += 1\n",
    "    return perimeter"
   ]
  },
  {
   "cell_type": "code",
   "execution_count": 54,
   "metadata": {},
   "outputs": [],
   "source": [
    "regions = []\n",
    "visited = set()\n",
    "for i in range(len(puzzle)):\n",
    "    for j in range(len(puzzle[0])):\n",
    "        if (i,j) in visited:\n",
    "            continue\n",
    "        queue = [(i,j)]\n",
    "        letter = puzzle[i][j]\n",
    "        region = set()\n",
    "        while queue:\n",
    "            x, y = queue.pop()\n",
    "            if (x,y) in visited:\n",
    "                continue\n",
    "            visited.add((x,y))\n",
    "            if puzzle[x][y] == letter:\n",
    "                region.add((x,y))\n",
    "                for dx, dy in [(0,1), (0,-1), (1,0), (-1,0)]:\n",
    "                    if 0 <= x+dx < len(puzzle) and 0 <= y+dy < len(puzzle[0]) and puzzle[x+dx][y+dy] == letter:\n",
    "                        queue.append((x+dx, y+dy))\n",
    "        regions.append((letter, region))\n",
    "\n"
   ]
  },
  {
   "cell_type": "code",
   "execution_count": 55,
   "metadata": {},
   "outputs": [
    {
     "name": "stdout",
     "output_type": "stream",
     "text": [
      "1433460\n"
     ]
    }
   ],
   "source": [
    "ans1 = 0\n",
    "for r in regions:\n",
    "    ans1 += area(r[1])*perim(r[1])\n",
    "print(ans1)"
   ]
  },
  {
   "cell_type": "code",
   "execution_count": 56,
   "metadata": {},
   "outputs": [],
   "source": [
    "def corners(region):\n",
    "    #region is a set of coordinates on the grid\n",
    "    #draw a loop around the region\n",
    "    #return number of times the loop changes direction\n",
    "    corners = 0\n",
    "    for coord in region:\n",
    "        x,y = coord\n",
    "        corners += (x-1, y) not in region and (x, y-1) not in region\n",
    "        corners += (x-1, y) not in region and (x, y+1) not in region\n",
    "        corners += (x+1, y) not in region and (x, y-1) not in region\n",
    "        corners += (x+1, y) not in region and (x, y+1) not in region\n",
    "\n",
    "        corners += (x-1, y) in region and (x, y-1) in region and (x-1, y-1) not in region\n",
    "        corners += (x-1, y) in region and (x, y+1) in region and (x-1, y+1) not in region\n",
    "        corners += (x+1, y) in region and (x, y-1) in region and (x+1, y-1) not in region\n",
    "        corners += (x+1, y) in region and (x, y+1) in region and (x+1, y+1) not in region\n",
    "        \n",
    "    return corners\n"
   ]
  },
  {
   "cell_type": "code",
   "execution_count": 57,
   "metadata": {},
   "outputs": [
    {
     "name": "stdout",
     "output_type": "stream",
     "text": [
      "855082\n"
     ]
    }
   ],
   "source": [
    "ans2 = 0\n",
    "for r in regions:\n",
    "    ans2 += area(r[1])*corners(r[1])\n",
    "print(ans2)"
   ]
  },
  {
   "cell_type": "code",
   "execution_count": null,
   "metadata": {},
   "outputs": [],
   "source": []
  }
 ],
 "metadata": {
  "kernelspec": {
   "display_name": "Python 3",
   "language": "python",
   "name": "python3"
  },
  "language_info": {
   "codemirror_mode": {
    "name": "ipython",
    "version": 3
   },
   "file_extension": ".py",
   "mimetype": "text/x-python",
   "name": "python",
   "nbconvert_exporter": "python",
   "pygments_lexer": "ipython3",
   "version": "3.11.0"
  }
 },
 "nbformat": 4,
 "nbformat_minor": 2
}
