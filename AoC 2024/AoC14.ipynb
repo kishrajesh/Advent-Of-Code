{
 "cells": [
  {
   "cell_type": "code",
   "execution_count": 79,
   "metadata": {},
   "outputs": [],
   "source": [
    "puzzle = open(\"AoC14.txt\").read().splitlines()\n",
    "puzzle = [i.split(\" \") for i in puzzle]"
   ]
  },
  {
   "cell_type": "code",
   "execution_count": 80,
   "metadata": {},
   "outputs": [],
   "source": [
    "pos = []\n",
    "vel = []\n",
    "for p in puzzle:\n",
    "    p, v = p[0].split(\",\"), p[1].split(\",\")\n",
    "    pos.append([int(p[0][2:]), int(p[1])])\n",
    "    vel.append([int(v[0][2:]), int(v[1])])"
   ]
  },
  {
   "cell_type": "code",
   "execution_count": 81,
   "metadata": {},
   "outputs": [],
   "source": [
    "def getPos(currPos, currVel, maxX, maxY, time):\n",
    "    newPos = (currPos[0]+time*currVel[0], currPos[1]+time*currVel[1])\n",
    "    newPos = (newPos[0]%maxX, newPos[1]%maxY)\n",
    "    return newPos"
   ]
  },
  {
   "cell_type": "code",
   "execution_count": 82,
   "metadata": {},
   "outputs": [],
   "source": [
    "def getQuadrants(positions, width, height):\n",
    "    quads = []\n",
    "    for i in range(4):\n",
    "        quads.append([])\n",
    "    midW = (width-1)/2\n",
    "    midH = (height-1)/2\n",
    "    for p in positions:\n",
    "        if p[0] < midW and p[1] < midH:\n",
    "            quads[0].append(p)\n",
    "        elif p[0] > midW and p[1] < midH:\n",
    "            quads[1].append(p)\n",
    "        elif p[0] < midW and p[1] > midH:\n",
    "            quads[2].append(p)\n",
    "        elif p[0] > midW and p[1] > midH:\n",
    "            quads[3].append(p)\n",
    "    return quads"
   ]
  },
  {
   "cell_type": "code",
   "execution_count": 83,
   "metadata": {},
   "outputs": [
    {
     "name": "stdout",
     "output_type": "stream",
     "text": [
      "214400550\n"
     ]
    }
   ],
   "source": [
    "newPoses = []\n",
    "wide = 101\n",
    "tall = 103\n",
    "def getSafety(positions, width, height):\n",
    "    quads = getQuadrants(positions, width, height)\n",
    "    safety = 1\n",
    "    for q in quads:\n",
    "        safety *= len(q)\n",
    "    return safety\n",
    "for i in range(len(pos)):\n",
    "    newPoses.append(getPos(pos[i], vel[i], wide, tall, 100))\n",
    "ans1 = getSafety(newPoses, wide, tall)\n",
    "print(ans1)"
   ]
  },
  {
   "cell_type": "code",
   "execution_count": 84,
   "metadata": {},
   "outputs": [],
   "source": [
    "def displayGrid(poses, vels, time, width, height):\n",
    "    grid = [[\".\" for i in range(width)] for j in range(height)]\n",
    "    for i in range(len(poses)):\n",
    "        p = getPos(poses[i], vels[i], width, height, time)\n",
    "        grid[p[1]][p[0]] = \"#\"\n",
    "    filename = \"AoC14/AoC14_\"+str(time)+\".txt\"\n",
    "    with open(filename, \"w\") as f:\n",
    "        for row in grid:\n",
    "            f.write(\"\".join(row)+\"\\n\")\n",
    "    print(\"Wrote to\", filename)"
   ]
  },
  {
   "cell_type": "code",
   "execution_count": 85,
   "metadata": {},
   "outputs": [
    {
     "name": "stderr",
     "output_type": "stream",
     "text": [
      " 78%|███████▊  | 8148/10402 [00:05<00:01, 1385.18it/s]"
     ]
    },
    {
     "name": "stdout",
     "output_type": "stream",
     "text": [
      "....#...................#........................###############################.....................\n",
      "Found at 8149\n",
      "Wrote to AoC14/AoC14_8149.txt\n"
     ]
    },
    {
     "name": "stderr",
     "output_type": "stream",
     "text": [
      "\n"
     ]
    }
   ],
   "source": [
    "def checkConsecutive(positions, width, height):\n",
    "    grid = [[\".\" for i in range(width)] for j in range(height)]\n",
    "    for i in range(len(positions)):\n",
    "        p = positions[i]\n",
    "        grid[p[1]][p[0]] = \"#\"\n",
    "    #check if there are any rows with 10 or more consecutive #\n",
    "    for row in grid:\n",
    "        if \"\".join(row).count(\"#########\") >= 1:\n",
    "            print(\"\".join(row))\n",
    "            return 1\n",
    "    #check if there are any columns with 10 or more consecutive #\n",
    "    for i in range(width):\n",
    "        col = \"\".join([row[i] for row in grid])\n",
    "        if col.count(\"#########\") >= 1:\n",
    "            print(col)\n",
    "            return 1\n",
    "    return -1\n",
    "    \n",
    "    \n",
    "time = 0\n",
    "from tqdm import tqdm\n",
    "for i in tqdm(range(1, 101*103)):\n",
    "    newPoses = []\n",
    "    time = i\n",
    "    for j in range(len(pos)):\n",
    "        newPoses.append(getPos(pos[j], vel[j], wide, tall, i))\n",
    "    if checkConsecutive(newPoses, wide, tall) != -1:\n",
    "        print(\"Found at\", time)\n",
    "        displayGrid(pos, vel, time, wide, tall)\n",
    "        break"
   ]
  }
 ],
 "metadata": {
  "kernelspec": {
   "display_name": "Python 3",
   "language": "python",
   "name": "python3"
  },
  "language_info": {
   "codemirror_mode": {
    "name": "ipython",
    "version": 3
   },
   "file_extension": ".py",
   "mimetype": "text/x-python",
   "name": "python",
   "nbconvert_exporter": "python",
   "pygments_lexer": "ipython3",
   "version": "3.11.0"
  }
 },
 "nbformat": 4,
 "nbformat_minor": 2
}
