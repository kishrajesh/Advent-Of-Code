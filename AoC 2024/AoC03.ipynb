{
 "cells": [
  {
   "cell_type": "code",
   "execution_count": 47,
   "metadata": {},
   "outputs": [],
   "source": [
    "puzzle = open(\"AoC03.txt\").read().splitlines()"
   ]
  },
  {
   "cell_type": "code",
   "execution_count": 48,
   "metadata": {},
   "outputs": [],
   "source": [
    "def parse1(line):\n",
    "    ans = 0\n",
    "    for i in range(len(line)-4):\n",
    "        if line[i:i+4] == \"mul(\":\n",
    "            ctr = i+4\n",
    "            while ctr < len(line) and line[ctr] in \"0123456789\":\n",
    "                ctr += 1\n",
    "            a = int(line[i+4:ctr])\n",
    "            if ctr == len(line):\n",
    "                return ans\n",
    "            if line[ctr] != \",\":\n",
    "                continue\n",
    "            st = ctr\n",
    "            ctr += 1\n",
    "            while ctr < len(line) and line[ctr] in \"0123456789\":\n",
    "                ctr += 1\n",
    "            b = int(line[st+1:ctr])\n",
    "            if ctr == len(line):\n",
    "                return ans\n",
    "            if line[ctr] != \")\":\n",
    "                continue\n",
    "            ans += a*b\n",
    "    return ans\n"
   ]
  },
  {
   "cell_type": "code",
   "execution_count": 49,
   "metadata": {},
   "outputs": [
    {
     "name": "stdout",
     "output_type": "stream",
     "text": [
      "182619815\n"
     ]
    }
   ],
   "source": [
    "ans1 = 0\n",
    "for line in puzzle:\n",
    "    ans1 += parse1(line)\n",
    "print(ans1)"
   ]
  },
  {
   "cell_type": "code",
   "execution_count": 50,
   "metadata": {},
   "outputs": [],
   "source": [
    "def parse2(line):\n",
    "    ans = 0\n",
    "    flag = True\n",
    "    for i in range(len(line)-4):\n",
    "        if line[i:i+4] == \"do()\":\n",
    "            flag = True\n",
    "        if line[i:i+7] == \"don't()\":\n",
    "            flag = False\n",
    "        if flag:\n",
    "            if line[i:i+4] == \"mul(\":\n",
    "                ctr = i+4\n",
    "                while ctr < len(line) and line[ctr] in \"0123456789\":\n",
    "                    ctr += 1\n",
    "                a = int(line[i+4:ctr])\n",
    "                if ctr == len(line):\n",
    "                    return ans\n",
    "                if line[ctr] != \",\":\n",
    "                    continue\n",
    "                st = ctr\n",
    "                ctr += 1\n",
    "                while ctr < len(line) and line[ctr] in \"0123456789\":\n",
    "                    ctr += 1\n",
    "                b = int(line[st+1:ctr])\n",
    "                if ctr == len(line):\n",
    "                    return ans\n",
    "                if line[ctr] != \")\":\n",
    "                    continue\n",
    "                ans += a*b\n",
    "    return ans\n"
   ]
  },
  {
   "cell_type": "code",
   "execution_count": 51,
   "metadata": {},
   "outputs": [
    {
     "name": "stdout",
     "output_type": "stream",
     "text": [
      "80747545\n"
     ]
    }
   ],
   "source": [
    "ans2 = 0\n",
    "newpuzzle = \"\".join(puzzle)\n",
    "ans2 += parse2(newpuzzle)\n",
    "print(ans2)"
   ]
  }
 ],
 "metadata": {
  "kernelspec": {
   "display_name": "Python 3",
   "language": "python",
   "name": "python3"
  },
  "language_info": {
   "codemirror_mode": {
    "name": "ipython",
    "version": 3
   },
   "file_extension": ".py",
   "mimetype": "text/x-python",
   "name": "python",
   "nbconvert_exporter": "python",
   "pygments_lexer": "ipython3",
   "version": "3.11.0"
  }
 },
 "nbformat": 4,
 "nbformat_minor": 2
}
