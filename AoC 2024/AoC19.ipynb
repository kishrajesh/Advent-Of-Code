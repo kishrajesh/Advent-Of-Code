{
 "cells": [
  {
   "cell_type": "code",
   "execution_count": 25,
   "metadata": {},
   "outputs": [],
   "source": [
    "puzzle = open(\"AoC19.txt\").read().splitlines()\n",
    "towels = puzzle[0].split(\", \")\n",
    "designs = []\n",
    "for i in range(2, len(puzzle)):\n",
    "    designs.append(puzzle[i])"
   ]
  },
  {
   "cell_type": "code",
   "execution_count": 26,
   "metadata": {},
   "outputs": [],
   "source": [
    "def isPoss(towels, design):\n",
    "    if len(design) == 0:\n",
    "        return True\n",
    "    if len(towels) == 0:\n",
    "        return False\n",
    "    flag = False\n",
    "    for towel in towels:\n",
    "        d = len(towel)\n",
    "        if design[:d] == towel:\n",
    "            flag = flag or isPoss(towels, design[d:])\n",
    "    return flag"
   ]
  },
  {
   "cell_type": "code",
   "execution_count": 27,
   "metadata": {},
   "outputs": [
    {
     "name": "stdout",
     "output_type": "stream",
     "text": [
      "265\n"
     ]
    }
   ],
   "source": [
    "ans1 = 0\n",
    "for design in designs:\n",
    "    if isPoss(towels, design):\n",
    "        ans1 += 1\n",
    "print(ans1)"
   ]
  },
  {
   "cell_type": "code",
   "execution_count": 28,
   "metadata": {},
   "outputs": [],
   "source": [
    "def numPoss(towels, design):\n",
    "    poss = [0] * (len(design) + 1)\n",
    "    poss[0] = 1\n",
    "    for i in range(1, len(design) + 1):\n",
    "        for towel in towels:\n",
    "            d = len(towel)\n",
    "            if i - d >= 0 and design[i-d:i] == towel:\n",
    "                poss[i] += poss[i-d]\n",
    "    return poss[-1]"
   ]
  },
  {
   "cell_type": "code",
   "execution_count": 29,
   "metadata": {},
   "outputs": [
    {
     "name": "stdout",
     "output_type": "stream",
     "text": [
      "752461716635602\n"
     ]
    }
   ],
   "source": [
    "ans2 = 0\n",
    "for design in designs:\n",
    "    ans2 += numPoss(towels, design)\n",
    "print(ans2)"
   ]
  },
  {
   "cell_type": "code",
   "execution_count": null,
   "metadata": {},
   "outputs": [],
   "source": []
  }
 ],
 "metadata": {
  "kernelspec": {
   "display_name": "Python 3",
   "language": "python",
   "name": "python3"
  },
  "language_info": {
   "codemirror_mode": {
    "name": "ipython",
    "version": 3
   },
   "file_extension": ".py",
   "mimetype": "text/x-python",
   "name": "python",
   "nbconvert_exporter": "python",
   "pygments_lexer": "ipython3",
   "version": "3.11.0"
  }
 },
 "nbformat": 4,
 "nbformat_minor": 2
}
