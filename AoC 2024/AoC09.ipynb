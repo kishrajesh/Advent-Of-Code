{
 "cells": [
  {
   "cell_type": "code",
   "execution_count": 72,
   "metadata": {},
   "outputs": [],
   "source": [
    "puzzle = open(\"AoC09.txt\").read().splitlines()\n",
    "puzzle = list(puzzle[0])"
   ]
  },
  {
   "cell_type": "code",
   "execution_count": 73,
   "metadata": {},
   "outputs": [],
   "source": [
    "def checksum(file):\n",
    "    ans = 0\n",
    "    for i in range(len(file)):\n",
    "        if file[i] == \".\":\n",
    "            continue\n",
    "        ans += int(file[i])*i\n",
    "    return ans"
   ]
  },
  {
   "cell_type": "code",
   "execution_count": 74,
   "metadata": {},
   "outputs": [],
   "source": [
    "def unpack(file):\n",
    "    ans = []\n",
    "    num = 0\n",
    "    for i in range(len(file)):\n",
    "        if i%2==0:\n",
    "            for _ in range(int(file[i])):\n",
    "                ans.append(num)\n",
    "        else:\n",
    "            for _ in range(int(file[i])):\n",
    "                ans.append(\".\")\n",
    "            num +=1\n",
    "    return ans"
   ]
  },
  {
   "cell_type": "code",
   "execution_count": 75,
   "metadata": {},
   "outputs": [],
   "source": [
    "def compress(file):\n",
    "    leftpt = 0\n",
    "    rightpt = len(file)-1\n",
    "    while leftpt < rightpt:\n",
    "        if file[leftpt] == \".\" and file[rightpt] != \".\":\n",
    "            file[leftpt], file[rightpt] = file[rightpt], file[leftpt]\n",
    "            leftpt += 1\n",
    "            rightpt -= 1\n",
    "        elif file[leftpt] != \".\":\n",
    "            leftpt += 1\n",
    "        elif file[rightpt] == \".\":\n",
    "            rightpt -= 1\n",
    "    return file"
   ]
  },
  {
   "cell_type": "code",
   "execution_count": 76,
   "metadata": {},
   "outputs": [
    {
     "name": "stdout",
     "output_type": "stream",
     "text": [
      "6334655979668\n"
     ]
    }
   ],
   "source": [
    "unpacked = unpack(puzzle)\n",
    "compressed = compress(unpacked)\n",
    "ans1 = checksum(compressed)\n",
    "print(ans1)"
   ]
  },
  {
   "cell_type": "code",
   "execution_count": 77,
   "metadata": {},
   "outputs": [],
   "source": [
    "def unpack2(file):\n",
    "    #now file looks like a list of tuples (ID#, length)\n",
    "    ans = []\n",
    "    num = 0\n",
    "    for i in range(len(file)):\n",
    "        if i%2==0:\n",
    "            ans.append((num, int(file[i])))\n",
    "        else:\n",
    "            ans.append((\".\", int(file[i])))\n",
    "            num += 1\n",
    "    return ans\n",
    "def compress2(file):\n",
    "    rightpt = len(file)-1\n",
    "    while rightpt > 0:\n",
    "        if file[rightpt][0] == \".\":\n",
    "            rightpt -= 1\n",
    "        else:\n",
    "            for i in range(0, rightpt):\n",
    "                if file[i][0] == \".\" and file[i][1] >= file[rightpt][1]:\n",
    "                    if file[i][1] == file[rightpt][1]:\n",
    "                        file[i], file[rightpt] = file[rightpt], file[i]\n",
    "                        break\n",
    "                    else:\n",
    "                        newlen = file[i][1] - file[rightpt][1]\n",
    "                        file[i], file[rightpt] = file[rightpt], (\".\", file[rightpt][1])\n",
    "                        file.insert(i+1, (\".\", newlen))\n",
    "                        rightpt += 1\n",
    "                        break\n",
    "            rightpt -= 1\n",
    "    return file\n",
    "def checksum2(file):\n",
    "    out = []\n",
    "    for i in range(len(file)):\n",
    "        if file[i][0] == \".\":\n",
    "            for _ in range(file[i][1]):\n",
    "                out.append(\".\")\n",
    "        else:\n",
    "            for _ in range(file[i][1]):\n",
    "                out.append(file[i][0])\n",
    "    return checksum(out)"
   ]
  },
  {
   "cell_type": "code",
   "execution_count": 78,
   "metadata": {},
   "outputs": [
    {
     "name": "stdout",
     "output_type": "stream",
     "text": [
      "6349492251099\n"
     ]
    }
   ],
   "source": [
    "unpacked2 = unpack2(puzzle)\n",
    "compressed2 = compress2(unpacked2)\n",
    "ans2 = checksum2(compressed2)\n",
    "print(ans2)"
   ]
  },
  {
   "cell_type": "code",
   "execution_count": null,
   "metadata": {},
   "outputs": [],
   "source": []
  }
 ],
 "metadata": {
  "kernelspec": {
   "display_name": "Python 3",
   "language": "python",
   "name": "python3"
  },
  "language_info": {
   "codemirror_mode": {
    "name": "ipython",
    "version": 3
   },
   "file_extension": ".py",
   "mimetype": "text/x-python",
   "name": "python",
   "nbconvert_exporter": "python",
   "pygments_lexer": "ipython3",
   "version": "3.11.0"
  }
 },
 "nbformat": 4,
 "nbformat_minor": 2
}
