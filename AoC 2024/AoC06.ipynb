{
 "cells": [
  {
   "cell_type": "code",
   "execution_count": 1,
   "metadata": {},
   "outputs": [],
   "source": [
    "puzzle = open(\"AoC06.txt\").read().splitlines()"
   ]
  },
  {
   "cell_type": "code",
   "execution_count": 2,
   "metadata": {},
   "outputs": [],
   "source": [
    "puzzle = [list(p) for p in puzzle]"
   ]
  },
  {
   "cell_type": "code",
   "execution_count": 5,
   "metadata": {},
   "outputs": [],
   "source": [
    "def isOut(grid, x, y):\n",
    "    return x < 0 or x >= len(grid[0]) or y < 0 or y >= len(grid)\n",
    "def getNewDir(dir):\n",
    "    x, y = dir\n",
    "    if (x,y) == (0,-1):\n",
    "        return (-1,0)\n",
    "    if (x,y) == (-1,0):\n",
    "        return (0,1)\n",
    "    if (x,y) == (0,1):\n",
    "        return (1,0)\n",
    "    if (x,y) == (1,0):\n",
    "        return (0,-1)"
   ]
  },
  {
   "cell_type": "code",
   "execution_count": 18,
   "metadata": {},
   "outputs": [
    {
     "name": "stdout",
     "output_type": "stream",
     "text": [
      "5129\n"
     ]
    }
   ],
   "source": [
    "puzzCopy = [p.copy() for p in puzzle]\n",
    "x_st, y_st = 0, 0\n",
    "dir_st = (0,0)\n",
    "dirChange = [(0, -1), (-1, 0), (0, 1), (1, 0)]\n",
    "for i in range(len(puzzle)):\n",
    "    for j in range(len(puzzle[0])):\n",
    "        if puzzle[i][j] not in \"#.\":\n",
    "            x_st, y_st = i, j\n",
    "            c = puzzle[i][j]\n",
    "            if c == \"^\":\n",
    "                dir_st = (-1, 0)\n",
    "            elif c == \"v\":\n",
    "                dir_st = (1, 0)\n",
    "            elif c == \"<\":\n",
    "                dir_st = (0, -1)\n",
    "            elif c == \">\":\n",
    "                dir_st = (0, 1)\n",
    "            break\n",
    "def getVisited(puzzCopy, x, y, dir):\n",
    "    visited = set()\n",
    "    while not isOut(puzzCopy, x, y):\n",
    "        visited.add((x, y))\n",
    "        newPos = (x + dir[0], y + dir[1])\n",
    "        if isOut(puzzCopy, newPos[0], newPos[1]):\n",
    "            break\n",
    "        while puzzCopy[newPos[0]][newPos[1]] == \"#\":\n",
    "            dir = getNewDir(dir)\n",
    "            newPos = (x + dir[0], y + dir[1])\n",
    "        x, y = newPos\n",
    "    return visited\n",
    "ans1 = len(getVisited(puzzCopy, x_st, y_st, dir_st))\n",
    "print(ans1)\n"
   ]
  },
  {
   "cell_type": "code",
   "execution_count": 10,
   "metadata": {},
   "outputs": [],
   "source": [
    "def checkRepeat(grid, x, y, dir):\n",
    "    #start with x,y in direction dir and check if ever repeat\n",
    "    visited = set() #visited is (x,y,dir)\n",
    "    while True:\n",
    "        if (x,y,dir) in visited:\n",
    "            return True\n",
    "        visited.add((x,y,dir))\n",
    "        newPos = (x + dir[0], y + dir[1])\n",
    "        if isOut(grid, newPos[0], newPos[1]):\n",
    "            return False\n",
    "        while grid[newPos[0]][newPos[1]] == \"#\":\n",
    "            dir = getNewDir(dir)\n",
    "            newPos = (x + dir[0], y + dir[1])\n",
    "        x, y = newPos"
   ]
  },
  {
   "cell_type": "code",
   "execution_count": 11,
   "metadata": {},
   "outputs": [
    {
     "name": "stdout",
     "output_type": "stream",
     "text": [
      "False\n"
     ]
    }
   ],
   "source": [
    "print(checkRepeat(puzzle, x_st, y_st, dir_st))"
   ]
  },
  {
   "cell_type": "code",
   "execution_count": 21,
   "metadata": {},
   "outputs": [],
   "source": [
    "from tqdm import tqdm\n",
    "def getNewGrid(grid, x, y):\n",
    "    newGrid = [g.copy() for g in grid]\n",
    "    newGrid[x][y] = \"#\"\n",
    "    return newGrid\n",
    "def checkNewGrid(grid, x, y, x_st, y_st, dir_st):\n",
    "    newGrid = getNewGrid(grid, x, y)\n",
    "    return checkRepeat(newGrid, x_st, y_st, dir_st)\n",
    "def findObst(grid, x_st, y_st, dir_st):\n",
    "    poss = list(getVisited(grid, x_st, y_st, dir_st))\n",
    "    tot = 0\n",
    "    for p in tqdm(range(len(poss))):\n",
    "        i,j = poss[p]\n",
    "        if grid[i][j] == \".\":\n",
    "            if checkNewGrid(grid, i, j, x_st, y_st, dir_st):\n",
    "                tot+=1\n",
    "    return tot"
   ]
  },
  {
   "cell_type": "code",
   "execution_count": 22,
   "metadata": {},
   "outputs": [
    {
     "name": "stderr",
     "output_type": "stream",
     "text": [
      "100%|██████████| 5129/5129 [00:07<00:00, 648.27it/s]"
     ]
    },
    {
     "name": "stdout",
     "output_type": "stream",
     "text": [
      "1888\n"
     ]
    },
    {
     "name": "stderr",
     "output_type": "stream",
     "text": [
      "\n"
     ]
    }
   ],
   "source": [
    "ans2 = findObst(puzzle, x_st, y_st, dir_st)\n",
    "print(ans2)"
   ]
  },
  {
   "cell_type": "code",
   "execution_count": null,
   "metadata": {},
   "outputs": [],
   "source": []
  }
 ],
 "metadata": {
  "kernelspec": {
   "display_name": "Python 3",
   "language": "python",
   "name": "python3"
  },
  "language_info": {
   "codemirror_mode": {
    "name": "ipython",
    "version": 3
   },
   "file_extension": ".py",
   "mimetype": "text/x-python",
   "name": "python",
   "nbconvert_exporter": "python",
   "pygments_lexer": "ipython3",
   "version": "3.11.0"
  }
 },
 "nbformat": 4,
 "nbformat_minor": 2
}
