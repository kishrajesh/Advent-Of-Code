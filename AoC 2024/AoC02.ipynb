{
 "cells": [
  {
   "cell_type": "code",
   "execution_count": 1,
   "metadata": {},
   "outputs": [],
   "source": [
    "puzzle = open(\"AoC02.txt\").read().splitlines()"
   ]
  },
  {
   "cell_type": "code",
   "execution_count": 3,
   "metadata": {},
   "outputs": [],
   "source": [
    "for i in range(len(puzzle)):\n",
    "    puzzle[i] = puzzle[i].split()\n",
    "    puzzle[i] = [int(x) for x in puzzle[i]]"
   ]
  },
  {
   "cell_type": "code",
   "execution_count": 9,
   "metadata": {},
   "outputs": [],
   "source": [
    "def isSafe(report):\n",
    "    inc = True\n",
    "    for i in range(len(report)-1):\n",
    "        if report[i] > report[i+1]:\n",
    "            inc = False\n",
    "            break\n",
    "    dec = True\n",
    "    for i in range(len(report)-1):\n",
    "        if report[i] < report[i+1]:\n",
    "            dec = False\n",
    "            break\n",
    "    diff = True\n",
    "    for i in range(len(report)-1):\n",
    "        d = report[i] - report[i+1]\n",
    "        if not(-3<=d<=-1 or 1<=d<=3):\n",
    "            diff = False\n",
    "            break\n",
    "    return diff and (dec or inc)"
   ]
  },
  {
   "cell_type": "code",
   "execution_count": null,
   "metadata": {},
   "outputs": [
    {
     "name": "stdout",
     "output_type": "stream",
     "text": [
      "356\n"
     ]
    }
   ],
   "source": [
    "ans1 = 0\n",
    "for line in puzzle:\n",
    "    if isSafe(line):\n",
    "        ans1 += 1\n",
    "print(ans1)"
   ]
  },
  {
   "cell_type": "code",
   "execution_count": 11,
   "metadata": {},
   "outputs": [],
   "source": [
    "def tryLevel(report):\n",
    "    for i in range(len(report)):\n",
    "        newReport = report.copy()\n",
    "        newReport.pop(i)\n",
    "        if isSafe(newReport):\n",
    "            return True\n",
    "    return False"
   ]
  },
  {
   "cell_type": "code",
   "execution_count": 13,
   "metadata": {},
   "outputs": [
    {
     "name": "stdout",
     "output_type": "stream",
     "text": [
      "413\n"
     ]
    }
   ],
   "source": [
    "ans2 = 0\n",
    "for line in puzzle:\n",
    "    if tryLevel(line) or isSafe(line):\n",
    "        ans2 += 1\n",
    "print(ans2)"
   ]
  },
  {
   "cell_type": "code",
   "execution_count": null,
   "metadata": {},
   "outputs": [],
   "source": []
  }
 ],
 "metadata": {
  "kernelspec": {
   "display_name": "Python 3",
   "language": "python",
   "name": "python3"
  },
  "language_info": {
   "codemirror_mode": {
    "name": "ipython",
    "version": 3
   },
   "file_extension": ".py",
   "mimetype": "text/x-python",
   "name": "python",
   "nbconvert_exporter": "python",
   "pygments_lexer": "ipython3",
   "version": "3.11.0"
  }
 },
 "nbformat": 4,
 "nbformat_minor": 2
}
