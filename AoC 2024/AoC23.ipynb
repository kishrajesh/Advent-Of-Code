{
 "cells": [
  {
   "cell_type": "code",
   "execution_count": 1,
   "metadata": {},
   "outputs": [],
   "source": [
    "puzzle = open(\"AoC23.txt\").read().splitlines()\n",
    "puzzle = [x.split(\"-\") for x in puzzle]"
   ]
  },
  {
   "cell_type": "code",
   "execution_count": 2,
   "metadata": {},
   "outputs": [],
   "source": [
    "comps = set()\n",
    "neighs = {}\n",
    "for x, y in puzzle:\n",
    "    comps.add(x)\n",
    "    comps.add(y)\n",
    "    if x not in neighs:\n",
    "        neighs[x] = set()\n",
    "    if y not in neighs:\n",
    "        neighs[y] = set()\n",
    "    neighs[x].add(y)\n",
    "    neighs[y].add(x)"
   ]
  },
  {
   "cell_type": "code",
   "execution_count": 3,
   "metadata": {},
   "outputs": [
    {
     "name": "stdout",
     "output_type": "stream",
     "text": [
      "1419\n"
     ]
    }
   ],
   "source": [
    "t_comps = set()\n",
    "for c in comps:\n",
    "    if c[0]==\"t\":\n",
    "        t_comps.add(c)\n",
    "icc = set()\n",
    "for c in t_comps:\n",
    "    for n in neighs[c]:\n",
    "        for m in neighs[n]:\n",
    "            if m!=c:\n",
    "                if c in neighs[m] :\n",
    "                    icc.add(frozenset([c,n,m]))\n",
    "ans1 = len(icc)\n",
    "#for ic in icc:\n",
    "#    print(ic)\n",
    "print(ans1)"
   ]
  },
  {
   "cell_type": "code",
   "execution_count": 4,
   "metadata": {},
   "outputs": [],
   "source": [
    "def getPassword(comp):\n",
    "    listComp = list(comp)\n",
    "    listComp.sort()\n",
    "    output = \"\"\n",
    "    for c in listComp:\n",
    "        output += c+\",\"\n",
    "    return output[:-1]"
   ]
  },
  {
   "cell_type": "code",
   "execution_count": 5,
   "metadata": {},
   "outputs": [
    {
     "name": "stdout",
     "output_type": "stream",
     "text": [
      "af,aq,ck,ee,fb,it,kg,of,ol,rt,sc,vk,zh\n"
     ]
    }
   ],
   "source": [
    "import networkx as nx\n",
    "G = nx.Graph()\n",
    "for c in comps:\n",
    "    G.add_node(c)\n",
    "for c in comps:\n",
    "    for n in neighs[c]:\n",
    "        G.add_edge(c,n)\n",
    "        G.add_edge(n,c)\n",
    "cliques = list(nx.find_cliques(G))\n",
    "maxLength = max([len(c) for c in cliques])\n",
    "maxClique = []\n",
    "for c in cliques:\n",
    "    if len(c) == maxLength:\n",
    "        maxClique = c\n",
    "        break\n",
    "ans2 = getPassword(maxClique)\n",
    "print(ans2)"
   ]
  },
  {
   "cell_type": "code",
   "execution_count": 9,
   "metadata": {},
   "outputs": [
    {
     "name": "stdout",
     "output_type": "stream",
     "text": [
      "af,aq,ck,ee,fb,it,kg,of,ol,rt,sc,vk,zh\n"
     ]
    }
   ],
   "source": [
    "def getCliques(nodes, neighbors, cache):\n",
    "    if len(nodes) == 0:\n",
    "        return [()]\n",
    "    if len(nodes) == 1:\n",
    "        return [tuple(nodes)]\n",
    "    if tuple(nodes) in cache:\n",
    "        return cache[tuple(nodes)]\n",
    "    node = nodes[0]\n",
    "    cliques = getCliques(nodes[1:], neighbors, cache)\n",
    "    newCliques = []\n",
    "    newCliques.append((node,))\n",
    "    for c in cliques:\n",
    "        newCliques.append(c)\n",
    "        flag = True\n",
    "        for n in c:\n",
    "            if n not in neighbors[node]:\n",
    "                flag = False\n",
    "                break\n",
    "        if flag:\n",
    "            newClique = list(c)+[node]\n",
    "            newClique.sort()\n",
    "            newCliques.append(tuple(newClique))\n",
    "    cache[tuple(nodes)] = newCliques\n",
    "    return cache[tuple(nodes)]\n",
    "sortedComps = list(comps)\n",
    "sortedComps.sort()\n",
    "cliques = getCliques(sortedComps, neighs, {})\n",
    "maxLength = max([len(c) for c in cliques])\n",
    "maxClique = []\n",
    "for c in cliques:\n",
    "    if len(c) == maxLength:\n",
    "        maxClique = c\n",
    "        break\n",
    "print(getPassword(maxClique))"
   ]
  },
  {
   "cell_type": "code",
   "execution_count": null,
   "metadata": {},
   "outputs": [],
   "source": []
  }
 ],
 "metadata": {
  "kernelspec": {
   "display_name": "Python 3",
   "language": "python",
   "name": "python3"
  },
  "language_info": {
   "codemirror_mode": {
    "name": "ipython",
    "version": 3
   },
   "file_extension": ".py",
   "mimetype": "text/x-python",
   "name": "python",
   "nbconvert_exporter": "python",
   "pygments_lexer": "ipython3",
   "version": "3.11.0"
  }
 },
 "nbformat": 4,
 "nbformat_minor": 2
}
