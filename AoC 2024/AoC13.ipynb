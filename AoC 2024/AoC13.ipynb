{
 "cells": [
  {
   "cell_type": "code",
   "execution_count": 1,
   "metadata": {},
   "outputs": [],
   "source": [
    "puzzle = open(\"AoC13.txt\").read().splitlines()\n",
    "triples = [] #each triple is (A_x, A_y), (B_x, B_y), (P_x, P_y)\n",
    "for i in range(len(puzzle)//4+1):\n",
    "    A, B, P = puzzle[4*i:4*i+3]\n",
    "    A_x_ind, A_y_ind = A.index(\"X+\"), A.index(\"Y+\")\n",
    "    B_x_ind, B_y_ind = B.index(\"X+\"), B.index(\"Y+\")\n",
    "    P_x_ind, P_y_ind = P.index(\"X=\"), P.index(\"Y=\")\n",
    "    A_x = int(A[A_x_ind+2:A.index(\",\", A_x_ind)])\n",
    "    A_y = int(A[A_y_ind+2:])\n",
    "    B_x = int(B[B_x_ind+2:B.index(\",\", B_x_ind)])\n",
    "    B_y = int(B[B_y_ind+2:])\n",
    "    P_x = int(P[P_x_ind+2:P.index(\",\", P_x_ind)])\n",
    "    P_y = int(P[P_y_ind+2:])\n",
    "    trip = ((A_x, A_y), (B_x, B_y), (P_x, P_y))\n",
    "    triples.append(trip)\n"
   ]
  },
  {
   "cell_type": "code",
   "execution_count": 2,
   "metadata": {},
   "outputs": [],
   "source": [
    "def getPushes(trip):\n",
    "    A, B, P = trip\n",
    "    A_x, A_y = A\n",
    "    B_x, B_y = B\n",
    "    P_x, P_y = P\n",
    "    p_a, p_b = -1, -1\n",
    "    for i in range(100):\n",
    "        for j in range(100):\n",
    "            if (A_x*i+B_x*j == P_x) and (A_y*i+B_y*j == P_y):\n",
    "                p_a, p_b = i, j\n",
    "    return p_a, p_b"
   ]
  },
  {
   "cell_type": "code",
   "execution_count": 3,
   "metadata": {},
   "outputs": [
    {
     "name": "stdout",
     "output_type": "stream",
     "text": [
      "34787\n"
     ]
    }
   ],
   "source": [
    "ans1 = 0\n",
    "for trip in triples:\n",
    "    p_a, p_b = getPushes(trip)\n",
    "    if p_a >= 0 and p_b >= 0:\n",
    "        ans1 += 3*p_a+p_b\n",
    "print(ans1)"
   ]
  },
  {
   "cell_type": "code",
   "execution_count": 4,
   "metadata": {},
   "outputs": [],
   "source": [
    "def getPushes2(trip):\n",
    "    A, B, P = trip\n",
    "    A_x, A_y = A\n",
    "    B_x, B_y = B\n",
    "    P_x, P_y = P\n",
    "    if A_x*B_y == A_y*B_x:\n",
    "        return -1, -1\n",
    "    a = (P_x*B_y-P_y*B_x)/(A_x*B_y-A_y*B_x)\n",
    "    b = (P_y*A_x-P_x*A_y)/(A_x*B_y-A_y*B_x)\n",
    "    if a.is_integer() and b.is_integer():\n",
    "        return int(a), int(b)\n",
    "    return -1, -1"
   ]
  },
  {
   "cell_type": "code",
   "execution_count": 5,
   "metadata": {},
   "outputs": [
    {
     "name": "stdout",
     "output_type": "stream",
     "text": [
      "85644161121698\n"
     ]
    }
   ],
   "source": [
    "delta = 10000000000000\n",
    "ans2 = 0\n",
    "for trip in triples:\n",
    "    A, B, P = trip\n",
    "    p_x_new, p_y_new = P[0]+delta, P[1]+delta\n",
    "    new_trip = (A, B, (p_x_new, p_y_new))\n",
    "    p_a, p_b = getPushes2(new_trip)\n",
    "    #print(p_a, p_b)\n",
    "    if p_a >= 0 and p_b >= 0:\n",
    "        ans2 += 3*p_a+p_b\n",
    "print(ans2)"
   ]
  },
  {
   "cell_type": "code",
   "execution_count": null,
   "metadata": {},
   "outputs": [],
   "source": []
  }
 ],
 "metadata": {
  "kernelspec": {
   "display_name": "Python 3",
   "language": "python",
   "name": "python3"
  },
  "language_info": {
   "codemirror_mode": {
    "name": "ipython",
    "version": 3
   },
   "file_extension": ".py",
   "mimetype": "text/x-python",
   "name": "python",
   "nbconvert_exporter": "python",
   "pygments_lexer": "ipython3",
   "version": "3.11.0"
  }
 },
 "nbformat": 4,
 "nbformat_minor": 2
}
