{
 "cells": [
  {
   "cell_type": "code",
   "execution_count": 1,
   "metadata": {},
   "outputs": [],
   "source": [
    "puzzle = open(\"AoC21.txt\").read().splitlines()\n",
    "puzzle = [list(x) for x in puzzle]"
   ]
  },
  {
   "cell_type": "code",
   "execution_count": 2,
   "metadata": {},
   "outputs": [],
   "source": [
    "def convertDiffToMoves(coord1, coord2, pos):\n",
    "    a,b = coord1\n",
    "    c,d = coord2\n",
    "    corns = set()\n",
    "    if (a,d) in pos:\n",
    "        corns.add((a,d))\n",
    "    if (c,b) in pos:\n",
    "        corns.add((c,b))\n",
    "    if a==c or b==d:\n",
    "        return [convertDiff((c-a,d-b))]\n",
    "    diffMoves = []\n",
    "    for co in corns:\n",
    "        diff = \"\"\n",
    "        diff1 = (co[0]-a, co[1]-b)\n",
    "        diff+=convertDiff(diff1)\n",
    "        diff2 = (c-co[0], d-co[1])\n",
    "        diff+=convertDiff(diff2)\n",
    "        diffMoves.append(diff)\n",
    "    return diffMoves\n",
    "\n",
    "def convertDiff(diff):\n",
    "    if diff[0]==0:\n",
    "        if diff[1]>0:\n",
    "            return \">\"*diff[1]\n",
    "        else:\n",
    "            return \"<\"*(-diff[1])\n",
    "    else:\n",
    "        if diff[0]>0:\n",
    "            return \"v\"*diff[0]\n",
    "        else:\n",
    "            return \"^\"*(-diff[0])"
   ]
  },
  {
   "cell_type": "code",
   "execution_count": 3,
   "metadata": {},
   "outputs": [],
   "source": [
    "numPosMap = {\"7\": (0,0), \"8\": (0,1), \"9\": (0,2), \"4\": (1,0), \"5\": (1,1), \"6\": (1,2), \"1\": (2,0), \"2\": (2,1), \"3\": (2,2), \"0\": (3,1), \"A\": (3,2)}\n",
    "numPos = set()\n",
    "for k, v in numPosMap.items():\n",
    "    numPos.add(v)\n",
    "numPadMap = {}\n",
    "for i in numPosMap:\n",
    "    for j in numPosMap:\n",
    "        if i!=j:\n",
    "            diffs = convertDiffToMoves(numPosMap[i], numPosMap[j], numPos)\n",
    "            numPadMap[(i,j)] = diffs\n",
    "        else:\n",
    "            numPadMap[(i,j)] = [\"\"]"
   ]
  },
  {
   "cell_type": "code",
   "execution_count": 4,
   "metadata": {},
   "outputs": [],
   "source": [
    "dirPosMap = {\"^\": (0,1), \"A\": (0,2), \"<\": (1,0), \"v\": (1,1), \">\": (1,2)}\n",
    "dirPos = set()\n",
    "for k, v in dirPosMap.items():\n",
    "    dirPos.add(v)\n",
    "dirPadMap = {}\n",
    "for i in dirPosMap:\n",
    "    for j in dirPosMap:\n",
    "        if i!=j:\n",
    "            diffs = convertDiffToMoves(dirPosMap[i], dirPosMap[j], dirPos)\n",
    "            dirPadMap[(i,j)] = diffs\n",
    "        else:\n",
    "            dirPadMap[(i,j)] = [\"\"]"
   ]
  },
  {
   "cell_type": "code",
   "execution_count": 5,
   "metadata": {},
   "outputs": [],
   "source": [
    "def genPathsFromNums(combo):\n",
    "    start = \"A\"\n",
    "    paths = [\"\"]\n",
    "    for num in combo:\n",
    "        paths = [path+diff+\"A\" for path in paths for diff in numPadMap[(start,num)]]\n",
    "        start = num\n",
    "    return paths"
   ]
  },
  {
   "cell_type": "code",
   "execution_count": 6,
   "metadata": {},
   "outputs": [],
   "source": [
    "def buildSeq(keys, index, prevKey, currPath, result):\n",
    "    if index == len(keys):\n",
    "        result.append(currPath)\n",
    "        return result\n",
    "    paths = dirPadMap[(prevKey, keys[index])]\n",
    "    final = []\n",
    "    for path in paths:\n",
    "        final += buildSeq(keys, index+1, keys[index], currPath + path + 'A', result)\n",
    "    return final"
   ]
  },
  {
   "cell_type": "code",
   "execution_count": 7,
   "metadata": {},
   "outputs": [
    {
     "name": "stdout",
     "output_type": "stream",
     "text": [
      "215374\n"
     ]
    }
   ],
   "source": [
    "from tqdm import tqdm\n",
    "def scuffedRobotSolve(paths, depth):\n",
    "    if depth==0:\n",
    "        return paths \n",
    "    newpaths = []\n",
    "    for path in paths:\n",
    "        newpaths += buildSeq(list(path), 0, \"A\", \"\", [])\n",
    "    minLength = min([len(x) for x in newpaths])\n",
    "    returnPaths = [x for x in newpaths if len(x)==minLength]\n",
    "    return scuffedRobotSolve(returnPaths, depth-1)\n",
    "def scuffedPart1Solve(combo):\n",
    "    paths = genPathsFromNums(combo)\n",
    "    solve = scuffedRobotSolve(paths, 2)\n",
    "    #print(solve[0])\n",
    "    return len(solve[0])\n",
    "ans1 = 0\n",
    "for i in puzzle:\n",
    "    numPart = int(\"\".join(i)[:-1])\n",
    "    leng = scuffedPart1Solve(i)\n",
    "    #print(i, leng)\n",
    "    ans1 += leng*numPart\n",
    "print(ans1)"
   ]
  },
  {
   "cell_type": "code",
   "execution_count": 8,
   "metadata": {},
   "outputs": [],
   "source": [
    "def splitPath(path):\n",
    "    paths = []\n",
    "    start = 0\n",
    "    for i in range(len(path)):\n",
    "        if path[i]==\"A\":\n",
    "            paths.append(path[start:i+1])\n",
    "            start = i+1\n",
    "    return paths"
   ]
  },
  {
   "cell_type": "code",
   "execution_count": 9,
   "metadata": {},
   "outputs": [],
   "source": [
    "def regularRobotSolve(path, depth, cache={}):\n",
    "    #finds min length of a path given depth amount of robots\n",
    "    if path==\"\":\n",
    "        return 0\n",
    "    #print(path)\n",
    "    if depth==0:\n",
    "        return len(path)\n",
    "    if (tuple(path), depth) in cache:\n",
    "        return cache[(tuple(path), depth)]\n",
    "    paths = splitPath(path)\n",
    "    minAns = 0\n",
    "    for p in paths:\n",
    "        possSeq = buildSeq(list(p), 0, \"A\", \"\", [])\n",
    "        minVal = float(\"inf\")\n",
    "        for seq in possSeq:\n",
    "            solve = regularRobotSolve(seq, depth-1, cache)\n",
    "            minVal = min(minVal, solve)\n",
    "        minAns += minVal\n",
    "    cache[(tuple(path), depth)] = minAns\n",
    "    return minAns"
   ]
  },
  {
   "cell_type": "code",
   "execution_count": 46,
   "metadata": {},
   "outputs": [
    {
     "name": "stdout",
     "output_type": "stream",
     "text": [
      "260586897262600\n"
     ]
    }
   ],
   "source": [
    "def unscuffedPart2Solve(combo):\n",
    "    paths = genPathsFromNums(combo)\n",
    "    minSolve = float(\"inf\")\n",
    "    for path in paths:\n",
    "        minSolve = min(minSolve, regularRobotSolve(path, 25))\n",
    "    #print(solve[0])\n",
    "    return minSolve\n",
    "ans2 = 0\n",
    "for i in puzzle:\n",
    "    numPart = int(\"\".join(i)[:-1])\n",
    "    leng = unscuffedPart2Solve(i)\n",
    "    #print(i, leng)\n",
    "    ans2 += leng*numPart\n",
    "print(ans2)"
   ]
  },
  {
   "cell_type": "code",
   "execution_count": null,
   "metadata": {},
   "outputs": [],
   "source": []
  }
 ],
 "metadata": {
  "kernelspec": {
   "display_name": "Python 3",
   "language": "python",
   "name": "python3"
  },
  "language_info": {
   "codemirror_mode": {
    "name": "ipython",
    "version": 3
   },
   "file_extension": ".py",
   "mimetype": "text/x-python",
   "name": "python",
   "nbconvert_exporter": "python",
   "pygments_lexer": "ipython3",
   "version": "3.11.0"
  }
 },
 "nbformat": 4,
 "nbformat_minor": 2
}
