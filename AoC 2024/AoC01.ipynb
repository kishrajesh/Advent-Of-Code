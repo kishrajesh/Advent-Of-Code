{
 "cells": [
  {
   "cell_type": "code",
   "execution_count": 1,
   "metadata": {},
   "outputs": [],
   "source": [
    "puzzle = open(\"AoC01.txt\").read().splitlines()"
   ]
  },
  {
   "cell_type": "code",
   "execution_count": 3,
   "metadata": {},
   "outputs": [
    {
     "name": "stdout",
     "output_type": "stream",
     "text": [
      "3246517\n"
     ]
    }
   ],
   "source": [
    "left = []\n",
    "right = []\n",
    "for line in puzzle:\n",
    "    l, r = line.split(\"   \")\n",
    "    left.append(int(l))\n",
    "    right.append(int(r))\n",
    "left.sort()\n",
    "right.sort()\n",
    "ans1 = 0\n",
    "for i in range(len(left)):\n",
    "    ans1 += max(left[i], right[i])-min(left[i], right[i])\n",
    "print(ans1)"
   ]
  },
  {
   "cell_type": "code",
   "execution_count": 4,
   "metadata": {},
   "outputs": [
    {
     "name": "stdout",
     "output_type": "stream",
     "text": [
      "29379307\n"
     ]
    }
   ],
   "source": [
    "hash = {}\n",
    "for i in range(len(right)):\n",
    "    num = right[i]\n",
    "    if num not in hash:\n",
    "        hash[num] = 1\n",
    "    else:\n",
    "        hash[num] += 1\n",
    "ans2 = 0\n",
    "for i in range(len(left)):\n",
    "    num = left[i]\n",
    "    if num in hash:\n",
    "        ans2 += num*hash[num]\n",
    "print(ans2)"
   ]
  },
  {
   "cell_type": "code",
   "execution_count": null,
   "metadata": {},
   "outputs": [],
   "source": []
  }
 ],
 "metadata": {
  "kernelspec": {
   "display_name": "Python 3",
   "language": "python",
   "name": "python3"
  },
  "language_info": {
   "codemirror_mode": {
    "name": "ipython",
    "version": 3
   },
   "file_extension": ".py",
   "mimetype": "text/x-python",
   "name": "python",
   "nbconvert_exporter": "python",
   "pygments_lexer": "ipython3",
   "version": "3.11.0"
  }
 },
 "nbformat": 4,
 "nbformat_minor": 2
}
