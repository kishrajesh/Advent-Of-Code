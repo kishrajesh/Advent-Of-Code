{
 "cells": [
  {
   "cell_type": "code",
   "execution_count": 2,
   "metadata": {},
   "outputs": [
    {
     "name": "stdout",
     "output_type": "stream",
     "text": [
      "['bg gcdaeb aebg efabdcg abdce cafdbe fcbdeg bdacg gbd cafgd', 'daecb dcbae gb eabg']\n"
     ]
    }
   ],
   "source": [
    "puzzle = (open(\"AoC8.txt\", \"r\").read().splitlines())\n",
    "puzzle = [i.split(\" | \") for i in puzzle]\n",
    "print(puzzle[0])"
   ]
  },
  {
   "cell_type": "code",
   "execution_count": 3,
   "metadata": {},
   "outputs": [
    {
     "name": "stdout",
     "output_type": "stream",
     "text": [
      "383\n"
     ]
    }
   ],
   "source": [
    "ctr=0\n",
    "for i in puzzle:\n",
    "    for j in i[1].split(\" \"):\n",
    "        if(len(j) in [2,4,3,7]):\n",
    "            ctr+=1\n",
    "print(ctr)"
   ]
  },
  {
   "cell_type": "code",
   "execution_count": 35,
   "metadata": {},
   "outputs": [],
   "source": [
    "import itertools\n",
    "nums=['abcefg', 'cf', 'acdeg', 'acdfg', 'bcdf', 'abdfg', 'abdefg', 'acf', 'abdcefg', 'abcdfg']\n",
    "ns=[set(list(i)) for i in nums]\n",
    "def works(perm, st):\n",
    "    x=set(list(st))\n",
    "    fin=set([])\n",
    "    for i in x:\n",
    "        fin.add(perm[ord(i)-ord('a')])\n",
    "    if(fin in ns):\n",
    "        return True, ns.index(fin)\n",
    "    return False,0\n",
    "def solve(p1, p2):\n",
    "    for i in itertools.permutations(['a','b','c','d','e','f','g']):\n",
    "        ctr=True\n",
    "        for j in p1:\n",
    "            if(not works(i, j)[0]):\n",
    "                ctr=False\n",
    "                break\n",
    "        if(ctr):\n",
    "            #print(\"amogus\")\n",
    "            fin=\"\"\n",
    "            for j in p2:\n",
    "                fin+=str(works(i, j)[1])\n",
    "            return(int(fin))\n",
    "    return True\n",
    "    "
   ]
  },
  {
   "cell_type": "code",
   "execution_count": 44,
   "metadata": {},
   "outputs": [
    {
     "name": "stdout",
     "output_type": "stream",
     "text": [
      "998900\n"
     ]
    }
   ],
   "source": [
    "su=0\n",
    "for i in puzzle:\n",
    "    su+=(solve(i[0].split(\" \"), i[1].split(\" \")))\n",
    "print(su)"
   ]
  },
  {
   "cell_type": "code",
   "execution_count": null,
   "metadata": {},
   "outputs": [],
   "source": []
  }
 ],
 "metadata": {
  "kernelspec": {
   "display_name": "Python 3",
   "language": "python",
   "name": "python3"
  },
  "language_info": {
   "codemirror_mode": {
    "name": "ipython",
    "version": 3
   },
   "file_extension": ".py",
   "mimetype": "text/x-python",
   "name": "python",
   "nbconvert_exporter": "python",
   "pygments_lexer": "ipython3",
   "version": "3.8.8"
  }
 },
 "nbformat": 4,
 "nbformat_minor": 4
}
