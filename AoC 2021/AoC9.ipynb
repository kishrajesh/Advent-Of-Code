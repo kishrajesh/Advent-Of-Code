{
 "cells": [
  {
   "cell_type": "code",
   "execution_count": 150,
   "metadata": {},
   "outputs": [],
   "source": [
    "puzzle = (open(\"AoC9.txt\", \"r\").read().splitlines())\n",
    "puzzle = [list(i) for i in puzzle]\n",
    "puzzle = [[int(j) for j in i] for i in puzzle]"
   ]
  },
  {
   "cell_type": "code",
   "execution_count": 151,
   "metadata": {},
   "outputs": [
    {
     "name": "stdout",
     "output_type": "stream",
     "text": [
      "423\n"
     ]
    }
   ],
   "source": [
    "def bound(x,y,p):\n",
    "    maX=len(p)\n",
    "    maY=len(p[0])\n",
    "    s=[]\n",
    "    a=[-1,0,1]\n",
    "    for i in a:\n",
    "        for j in a:\n",
    "            x1=x+i\n",
    "            y1=y+j\n",
    "            if((abs(i)+abs(j)==1) and 0<=x1 and x1<maX and 0<=y1 and y1<maY):\n",
    "                s.append(p[x1][y1])\n",
    "    return s\n",
    "ans=0\n",
    "mins=[]\n",
    "for i in range(len(puzzle)):\n",
    "    for j in range(len(puzzle[0])):\n",
    "        if(min(bound(i,j,puzzle))>puzzle[i][j]):\n",
    "            ans+=(1+puzzle[i][j])\n",
    "            mins.append([i,j])\n",
    "print(ans)"
   ]
  },
  {
   "cell_type": "code",
   "execution_count": 152,
   "metadata": {},
   "outputs": [
    {
     "name": "stdout",
     "output_type": "stream",
     "text": [
      "1198704\n"
     ]
    }
   ],
   "source": [
    "used=[]\n",
    "def boundC(x,y,p):\n",
    "    maX=len(p)\n",
    "    maY=len(p[0])\n",
    "    s=[]\n",
    "    a=[-1,0,1]\n",
    "    for i in a:\n",
    "        for j in a:\n",
    "            x1=x+i\n",
    "            y1=y+j\n",
    "            if((abs(i)+abs(j)==1) and 0<=x1 and x1<maX and 0<=y1 and y1<maY):\n",
    "                s.append([x1,y1])\n",
    "    return s\n",
    "def fill(p,x,y):\n",
    "    ans=1\n",
    "    for i in boundC(x,y,p):\n",
    "        if(p[i[0]][i[1]]<9 and p[i[0]][i[1]]>p[x][y] and i not in used):\n",
    "            ans+=fill(p,i[0],i[1])\n",
    "            used.append(i)\n",
    "\n",
    "            #print(x,y,i,p[i[0]][i[1]])\n",
    "            #p[x][y]=9\n",
    "    return ans\n",
    "basins=[]\n",
    "ans=1\n",
    "for i in mins:\n",
    "    basins.append(fill(puzzle,i[0],i[1]))\n",
    "ma=[i for i in basins]\n",
    "for j in range(3):\n",
    "    m=max(ma)\n",
    "    ma.pop(ma.index(m))\n",
    "    ans*=m\n",
    "print(ans)"
   ]
  }
 ],
 "metadata": {
  "kernelspec": {
   "display_name": "Python 3",
   "language": "python",
   "name": "python3"
  },
  "language_info": {
   "codemirror_mode": {
    "name": "ipython",
    "version": 3
   },
   "file_extension": ".py",
   "mimetype": "text/x-python",
   "name": "python",
   "nbconvert_exporter": "python",
   "pygments_lexer": "ipython3",
   "version": "3.8.8"
  }
 },
 "nbformat": 4,
 "nbformat_minor": 4
}
