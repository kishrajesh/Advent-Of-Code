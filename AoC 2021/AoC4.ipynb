{
 "cells": [
  {
   "cell_type": "code",
   "execution_count": 51,
   "metadata": {},
   "outputs": [],
   "source": [
    "puzzle = (open(\"AoC4.txt\", \"r\").read().splitlines())\n",
    "nums=[int(i) for i in puzzle[0].split(',')]\n",
    "boards=[]\n",
    "for i in range(1, len(puzzle), 6):\n",
    "    b=[puzzle[i+1], puzzle[i+2], puzzle[i+3], puzzle[i+4], puzzle[i+5]]\n",
    "    for i in range(5):\n",
    "        b[i]=[int(b[i][3*j:3*j+3]) for j in range(5)]\n",
    "    boards.append(b)"
   ]
  },
  {
   "cell_type": "code",
   "execution_count": 52,
   "metadata": {},
   "outputs": [],
   "source": [
    "def win(nums, board):\n",
    "    for i in range(5):\n",
    "        ctr=True\n",
    "        for j in range(5):\n",
    "            if(board[i][j] not in nums):\n",
    "                ctr = False\n",
    "        if(ctr):\n",
    "            return True\n",
    "    for i in range(5):\n",
    "        ctr=True\n",
    "        for j in range(5):\n",
    "            if(board[j][i] not in nums):\n",
    "                ctr = False\n",
    "        if(ctr):\n",
    "            return True\n",
    "    return False \n",
    "def calc(nms, board):\n",
    "    ans=0\n",
    "    for i in range(5):\n",
    "        for j in range(5):\n",
    "            if(board[i][j] not in nms):\n",
    "                ans+=board[i][j]\n",
    "    return ans"
   ]
  },
  {
   "cell_type": "code",
   "execution_count": 55,
   "metadata": {},
   "outputs": [
    {
     "name": "stdout",
     "output_type": "stream",
     "text": [
      "67716\n"
     ]
    }
   ],
   "source": [
    "ans=[]\n",
    "for i in range(1,len(nums)):\n",
    "    num=[nums[j] for j in range(i)]\n",
    "    for j in boards:\n",
    "        if win(num, j):\n",
    "            ans.append(calc(num, j)*num[-1])\n",
    "            break\n",
    "print(ans[0])"
   ]
  },
  {
   "cell_type": "code",
   "execution_count": 59,
   "metadata": {},
   "outputs": [
    {
     "name": "stdout",
     "output_type": "stream",
     "text": [
      "1830\n"
     ]
    }
   ],
   "source": [
    "ans=[]\n",
    "b=[i for i in boards]\n",
    "for i in range(1,len(nums)):\n",
    "    num=[nums[j] for j in range(i)]\n",
    "    for j in b:\n",
    "        if win(num, j):\n",
    "            b.remove(j)\n",
    "            ans.append(calc(num, j)*num[-1])\n",
    "print(ans[-1])"
   ]
  },
  {
   "cell_type": "code",
   "execution_count": null,
   "metadata": {},
   "outputs": [],
   "source": []
  }
 ],
 "metadata": {
  "kernelspec": {
   "display_name": "Python 3",
   "language": "python",
   "name": "python3"
  },
  "language_info": {
   "codemirror_mode": {
    "name": "ipython",
    "version": 3
   },
   "file_extension": ".py",
   "mimetype": "text/x-python",
   "name": "python",
   "nbconvert_exporter": "python",
   "pygments_lexer": "ipython3",
   "version": "3.8.8"
  }
 },
 "nbformat": 4,
 "nbformat_minor": 4
}
