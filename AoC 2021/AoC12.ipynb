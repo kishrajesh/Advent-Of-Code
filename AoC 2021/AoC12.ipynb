{
 "cells": [
  {
   "cell_type": "code",
   "execution_count": 215,
   "metadata": {},
   "outputs": [],
   "source": [
    "puzzle = (open(\"AoC12.txt\", \"r\").read().splitlines())\n",
    "puzzle = [i.split(\"-\") for i in puzzle]"
   ]
  },
  {
   "cell_type": "code",
   "execution_count": 216,
   "metadata": {},
   "outputs": [
    {
     "name": "stdout",
     "output_type": "stream",
     "text": [
      "3421\n"
     ]
    }
   ],
   "source": [
    "#print(puzzle)\n",
    "def size(c):\n",
    "    return c[0].isupper()\n",
    "def neigh(c, tunn):\n",
    "    ne=[]\n",
    "    for i in tunn:\n",
    "        if(i[0]==c):\n",
    "            ne.append(i[1])\n",
    "        if(i[1]==c):\n",
    "            ne.append(i[0])\n",
    "    return(ne)\n",
    "def remC(c, tunn):\n",
    "    t=[i for i in tunn]\n",
    "    x=[]\n",
    "    for i in t:\n",
    "        if(c not in i):\n",
    "            x.append(i)\n",
    "    return x\n",
    "def path1(c, tunn):\n",
    "    t=[i for i in tunn]\n",
    "    if(c=='end'):\n",
    "        return 1\n",
    "    if(tunn==[]):\n",
    "        return 0\n",
    "\n",
    "    ans=0\n",
    "    for i in neigh(c,t):\n",
    "        if(size(c)!=True):\n",
    "            ans+=path(i,remC(c, t))\n",
    "        else:\n",
    "            ans+=path(i,t)\n",
    "    return ans\n",
    "print(path1('start', puzzle))"
   ]
  },
  {
   "cell_type": "code",
   "execution_count": 217,
   "metadata": {},
   "outputs": [
    {
     "name": "stdout",
     "output_type": "stream",
     "text": [
      "84870\n"
     ]
    }
   ],
   "source": [
    "def ins(cave, paths):\n",
    "    path=[]\n",
    "    for i in paths:\n",
    "        x=i\n",
    "        x.insert(0, cave)\n",
    "        path.append(x)\n",
    "    return path\n",
    "def add(paths, arr):\n",
    "    x=arr\n",
    "    for i in paths:\n",
    "        x.append(i)\n",
    "    return x\n",
    "def path2(c, tunn, rp):\n",
    "    #rp is '' if no small cave has been visited twice\n",
    "    #rp is a c if c is visited once and can be visited twice\n",
    "    #rp is False if a cave is already visited twice\n",
    "    #rp cannot be 'start'\n",
    "    paths=[[]]\n",
    "    if(rp=='start'):\n",
    "        return 0, [[]]\n",
    "    t=[i for i in tunn]\n",
    "    if(c=='end'):\n",
    "        return 1, [['end']]\n",
    "    if(tunn==[]):\n",
    "        return 0, [[]]\n",
    "    ans=0\n",
    "    for i in neigh(c,t):\n",
    "        if(size(c)!=True):\n",
    "            #we can either choose to change rp or not\n",
    "            #change rp:\n",
    "            if(rp==''):\n",
    "                x,y=path2(i,t,c)\n",
    "                ans+=x\n",
    "                paths=add(ins(c, y), paths)\n",
    "            if(rp==c):\n",
    "                x,y=path2(i, remC(c,t), False)\n",
    "                ans+=x\n",
    "                paths=add(ins(c, y), paths)\n",
    "            #don't change rp (only works if rp!=c)\n",
    "            if(rp!=c):\n",
    "                x,y=path2(i, remC(c,t), rp)\n",
    "                ans+=x\n",
    "                paths=add(ins(c, y), paths)\n",
    "        else:\n",
    "            x,y=path2(i,t,rp)\n",
    "            ans+=x\n",
    "            paths=add(ins(c, y), paths)\n",
    "\n",
    "    return ans, paths\n",
    "a,b=(path2('start', puzzle, ''))\n",
    "ans=[]\n",
    "for i in b:\n",
    "    if(len(i)>0 and i[-1]=='end'):\n",
    "        ans.append(i)\n",
    "print(len(set(map(tuple, ans))))"
   ]
  },
  {
   "cell_type": "code",
   "execution_count": null,
   "metadata": {},
   "outputs": [],
   "source": []
  }
 ],
 "metadata": {
  "kernelspec": {
   "display_name": "Python 3",
   "language": "python",
   "name": "python3"
  },
  "language_info": {
   "codemirror_mode": {
    "name": "ipython",
    "version": 3
   },
   "file_extension": ".py",
   "mimetype": "text/x-python",
   "name": "python",
   "nbconvert_exporter": "python",
   "pygments_lexer": "ipython3",
   "version": "3.8.8"
  }
 },
 "nbformat": 4,
 "nbformat_minor": 4
}
