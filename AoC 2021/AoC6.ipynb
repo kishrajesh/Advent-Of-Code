{
 "cells": [
  {
   "cell_type": "code",
   "execution_count": 25,
   "metadata": {},
   "outputs": [],
   "source": [
    "puzzle = (open(\"AoC6.txt\", \"r\").read().splitlines())\n",
    "puzzle=[int(i) for i in puzzle[0].split(',')]"
   ]
  },
  {
   "cell_type": "code",
   "execution_count": 26,
   "metadata": {},
   "outputs": [],
   "source": [
    "def ne(f):\n",
    "    x=[i for i in f]\n",
    "    for i in range(0,8):\n",
    "        x[i]=f[i+1]\n",
    "    x[8]=f[0]\n",
    "    x[6]+=f[0]\n",
    "    return x"
   ]
  },
  {
   "cell_type": "code",
   "execution_count": 27,
   "metadata": {},
   "outputs": [
    {
     "name": "stdout",
     "output_type": "stream",
     "text": [
      "354564\n"
     ]
    }
   ],
   "source": [
    "fish=[0,0,0,0,0,0,0,0,0]\n",
    "for i in puzzle:\n",
    "    fish[i]+=1\n",
    "for i in range(80):\n",
    "    fish=ne(fish)\n",
    "print(sum(fish))"
   ]
  },
  {
   "cell_type": "code",
   "execution_count": 28,
   "metadata": {},
   "outputs": [
    {
     "name": "stdout",
     "output_type": "stream",
     "text": [
      "[0, 99, 51, 45, 41, 64, 0, 0, 0]\n",
      "1609058859115\n"
     ]
    }
   ],
   "source": [
    "fish=[0,0,0,0,0,0,0,0,0]\n",
    "for i in puzzle:\n",
    "    fish[i]+=1\n",
    "print(fish)\n",
    "for i in range(256):\n",
    "    fish=ne(fish)\n",
    "print(sum(fish))"
   ]
  },
  {
   "cell_type": "code",
   "execution_count": null,
   "metadata": {},
   "outputs": [],
   "source": []
  }
 ],
 "metadata": {
  "kernelspec": {
   "display_name": "Python 3",
   "language": "python",
   "name": "python3"
  },
  "language_info": {
   "codemirror_mode": {
    "name": "ipython",
    "version": 3
   },
   "file_extension": ".py",
   "mimetype": "text/x-python",
   "name": "python",
   "nbconvert_exporter": "python",
   "pygments_lexer": "ipython3",
   "version": "3.8.8"
  }
 },
 "nbformat": 4,
 "nbformat_minor": 4
}
