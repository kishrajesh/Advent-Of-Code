{
 "cells": [
  {
   "cell_type": "code",
   "execution_count": 1,
   "metadata": {},
   "outputs": [],
   "source": [
    "puzzle = (open(\"AoC2.txt\", \"r\").read().splitlines())"
   ]
  },
  {
   "cell_type": "code",
   "execution_count": 4,
   "metadata": {},
   "outputs": [
    {
     "name": "stdout",
     "output_type": "stream",
     "text": [
      "-2036120\n"
     ]
    }
   ],
   "source": [
    "a=0\n",
    "b=0\n",
    "for i in puzzle:\n",
    "    x=i.split(\" \")\n",
    "    if(x[0]==\"forward\"):\n",
    "        a+=int(x[1])\n",
    "    elif(x[0]==\"up\"):\n",
    "        b+=int(x[1])\n",
    "    else:\n",
    "        b=b-int(x[1])\n",
    "print(a*b)"
   ]
  },
  {
   "cell_type": "code",
   "execution_count": 5,
   "metadata": {},
   "outputs": [
    {
     "name": "stdout",
     "output_type": "stream",
     "text": [
      "-2015547716\n"
     ]
    }
   ],
   "source": [
    "a=0\n",
    "b=0\n",
    "aim=0\n",
    "for i in puzzle:\n",
    "    x=i.split(\" \")\n",
    "    if(x[0]==\"forward\"):\n",
    "        a+=int(x[1])\n",
    "        b+=aim*int(x[1])\n",
    "    elif(x[0]==\"up\"):\n",
    "        aim+=int(x[1])\n",
    "    else:\n",
    "        aim=aim-int(x[1])\n",
    "print(a*b)"
   ]
  },
  {
   "cell_type": "code",
   "execution_count": null,
   "metadata": {},
   "outputs": [],
   "source": []
  }
 ],
 "metadata": {
  "kernelspec": {
   "display_name": "Python 3",
   "language": "python",
   "name": "python3"
  },
  "language_info": {
   "codemirror_mode": {
    "name": "ipython",
    "version": 3
   },
   "file_extension": ".py",
   "mimetype": "text/x-python",
   "name": "python",
   "nbconvert_exporter": "python",
   "pygments_lexer": "ipython3",
   "version": "3.8.8"
  }
 },
 "nbformat": 4,
 "nbformat_minor": 4
}
