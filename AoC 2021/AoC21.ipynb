{
 "cells": [
  {
   "cell_type": "code",
   "execution_count": 107,
   "metadata": {},
   "outputs": [
    {
     "name": "stdout",
     "output_type": "stream",
     "text": [
      "2 1\n"
     ]
    }
   ],
   "source": [
    "puzzle = (open(\"AoC21.txt\", \"r\").read().splitlines())\n",
    "p1=int(puzzle[0][-1])\n",
    "p2=int(puzzle[1][-1])\n",
    "print(p1,p2)"
   ]
  },
  {
   "cell_type": "code",
   "execution_count": 108,
   "metadata": {},
   "outputs": [
    {
     "name": "stdout",
     "output_type": "stream",
     "text": [
      "([730, 1005], 1092, 797160)\n"
     ]
    }
   ],
   "source": [
    "#part 1\n",
    "def nex(d):\n",
    "    return [(d+1)%100, (d+2)%100, (d+3)%100]\n",
    "def sim(p1,p2):\n",
    "    a=p1\n",
    "    b=p2\n",
    "    tots=[0,0]\n",
    "    ctr=0\n",
    "    num=0\n",
    "    while(tots[0]<1000 and tots[1]<1000):\n",
    "        se=nex(ctr)\n",
    "        num+=3\n",
    "        a=(a+sum(se)-1)%10+1\n",
    "        tots[0]+=a\n",
    "        if(tots[0]>=1000):\n",
    "            return(\"FINISHED\",tots, num, num*min(tots))\n",
    "        ctr+=3\n",
    "        se=nex(ctr)\n",
    "        num+=3\n",
    "        b=(b+sum(se)-1)%10+1\n",
    "        tots[1]+=b\n",
    "        ctr+=3\n",
    "    return(tots, num, num*min(tots))\n",
    "print(sim(p1,p2))\n"
   ]
  },
  {
   "cell_type": "code",
   "execution_count": 118,
   "metadata": {},
   "outputs": [
    {
     "name": "stdout",
     "output_type": "stream",
     "text": [
      "(27464148626406, 22909380722959)\n"
     ]
    }
   ],
   "source": [
    "def nex(d):\n",
    "    return [(d+1)%100, (d+2)%100, (d+3)%100]\n",
    "def s(tuple1, tuple2):\n",
    "    zipped = zip(tuple1, tuple2)\n",
    "    mapped = map(sum, zipped)\n",
    "    return(tuple(mapped))\n",
    "def p(tuple1, s):\n",
    "    return tuple([s*x for x in tuple1])\n",
    "\n",
    "from functools import lru_cache\n",
    "\n",
    "@functools.lru_cache(maxsize=None)\n",
    "def sim2(p1,p2,n1,n2,t):\n",
    "    a=p1\n",
    "    b=p2\n",
    "    if(n1>=21):\n",
    "        return (1,0)\n",
    "    if(n2>=21):\n",
    "        return (0,1)\n",
    "    d=(0,0)\n",
    "    if(t==1):\n",
    "        d=s(d,sim2((a+3-1)%10+1,b,n1+(a+3-1)%10+1,n2,2))\n",
    "        d=s(d,p(sim2((a+4-1)%10+1,b,n1+(a+4-1)%10+1,n2,2),3))\n",
    "        d=s(d,p(sim2((a+5-1)%10+1,b,n1+(a+5-1)%10+1,n2,2),6))\n",
    "        d=s(d,p(sim2((a+6-1)%10+1,b,n1+(a+6-1)%10+1,n2,2),7))\n",
    "        d=s(d,p(sim2((a+7-1)%10+1,b,n1+(a+7-1)%10+1,n2,2),6))\n",
    "        d=s(d,p(sim2((a+8-1)%10+1,b,n1+(a+8-1)%10+1,n2,2),3))\n",
    "        d=s(d,sim2((a+9-1)%10+1,b,n1+(a+9-1)%10+1,n2,2))\n",
    "        return d\n",
    "    if(t==2):\n",
    "        d=s(d,sim2(a,(b+3-1)%10+1,n1,n2+(b+3-1)%10+1,1))\n",
    "        d=s(d,p(sim2(a,(b+4-1)%10+1,n1,n2+(b+4-1)%10+1,1),3))\n",
    "        d=s(d,p(sim2(a,(b+5-1)%10+1,n1,n2+(b+5-1)%10+1,1),6))\n",
    "        d=s(d,p(sim2(a,(b+6-1)%10+1,n1,n2+(b+6-1)%10+1,1),7))\n",
    "        d=s(d,p(sim2(a,(b+7-1)%10+1,n1,n2+(b+7-1)%10+1,1),6))\n",
    "        d=s(d,p(sim2(a,(b+8-1)%10+1,n1,n2+(b+8-1)%10+1,1),3))\n",
    "        d=s(d,sim2(a,(b+9-1)%10+1,n1,n2+(b+9-1)%10+1,1))\n",
    "        return d\n",
    "    return (0,0)\n",
    "#1,2,3 3 times\n",
    "#3 - 1\n",
    "#4 - 3\n",
    "#5 - 6\n",
    "#6 - 7\n",
    "#7 - 6\n",
    "#8 - 3\n",
    "#9 - 1\n",
    "x=(sim2(p1,p2,0,0,1))\n",
    "print(x)"
   ]
  },
  {
   "cell_type": "code",
   "execution_count": 119,
   "metadata": {},
   "outputs": [
    {
     "name": "stdout",
     "output_type": "stream",
     "text": [
      "27464148626406\n"
     ]
    }
   ],
   "source": [
    "print(max(x))"
   ]
  },
  {
   "cell_type": "code",
   "execution_count": null,
   "metadata": {},
   "outputs": [],
   "source": []
  }
 ],
 "metadata": {
  "kernelspec": {
   "display_name": "Python 3",
   "language": "python",
   "name": "python3"
  },
  "language_info": {
   "codemirror_mode": {
    "name": "ipython",
    "version": 3
   },
   "file_extension": ".py",
   "mimetype": "text/x-python",
   "name": "python",
   "nbconvert_exporter": "python",
   "pygments_lexer": "ipython3",
   "version": "3.8.8"
  }
 },
 "nbformat": 4,
 "nbformat_minor": 4
}
