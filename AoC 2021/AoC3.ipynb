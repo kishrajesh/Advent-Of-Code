{
 "cells": [
  {
   "cell_type": "code",
   "execution_count": 38,
   "metadata": {},
   "outputs": [],
   "source": [
    "puzzle = (open(\"AoC3.txt\", \"r\").read().splitlines())"
   ]
  },
  {
   "cell_type": "code",
   "execution_count": 39,
   "metadata": {},
   "outputs": [
    {
     "name": "stdout",
     "output_type": "stream",
     "text": [
      "2261546\n"
     ]
    }
   ],
   "source": [
    "gamma=0\n",
    "epsilon=0\n",
    "for i in range(len(puzzle[0])):\n",
    "    lst=[j[i] for j in puzzle]\n",
    "    g=int(max(set(lst), key=lst.count))\n",
    "    e=1-g\n",
    "    gamma+=2**(len(puzzle[0])-i-1)*g\n",
    "    epsilon+=2**(len(puzzle[0])-i-1)*e\n",
    "print(gamma*epsilon)"
   ]
  },
  {
   "cell_type": "code",
   "execution_count": 40,
   "metadata": {},
   "outputs": [
    {
     "name": "stdout",
     "output_type": "stream",
     "text": [
      "111110011011 3995\n",
      "011010100000 1696\n",
      "6775520\n"
     ]
    }
   ],
   "source": [
    "O=[i for i in puzzle]\n",
    "CO=[i for i in puzzle]\n",
    "for i in range(len(puzzle[0])):\n",
    "    if(len(O)>1):\n",
    "        lst=[j[i] for j in O]\n",
    "        g=int(max(set(lst), key=lst.count))\n",
    "        if(lst.count(str(g))==lst.count(str(1-g))):\n",
    "            g=1\n",
    "        n=[j for j in O]\n",
    "        for j in range(len(O)):\n",
    "            if(O[j][i]!=str(g)):\n",
    "                n.remove(O[j])\n",
    "        O=n\n",
    "    else:\n",
    "        break\n",
    "        \n",
    "for i in range(len(puzzle[0])):\n",
    "    if(len(CO)>1):\n",
    "        lst=[j[i] for j in CO]\n",
    "        g=int(min(set(lst), key=lst.count))\n",
    "        if(lst.count(str(g))==lst.count(str(1-g))):\n",
    "            g=0\n",
    "        n=[j for j in CO]\n",
    "        for j in range(len(CO)):\n",
    "            if(CO[j][i]!=str(g)):\n",
    "                n.remove(CO[j])\n",
    "        CO=n\n",
    "    else:\n",
    "        break\n",
    "O=O[0]\n",
    "CO=CO[0]\n",
    "o=0\n",
    "c=0\n",
    "for i in range(len(O)):\n",
    "    o+=int(O[i])*(2**(len(O)-i-1))\n",
    "    c+=int(CO[i])*(2**(len(CO)-i-1))\n",
    "print(O,o)\n",
    "print(CO,c)\n",
    "print(o*c)"
   ]
  },
  {
   "cell_type": "code",
   "execution_count": null,
   "metadata": {},
   "outputs": [],
   "source": []
  }
 ],
 "metadata": {
  "kernelspec": {
   "display_name": "Python 3",
   "language": "python",
   "name": "python3"
  },
  "language_info": {
   "codemirror_mode": {
    "name": "ipython",
    "version": 3
   },
   "file_extension": ".py",
   "mimetype": "text/x-python",
   "name": "python",
   "nbconvert_exporter": "python",
   "pygments_lexer": "ipython3",
   "version": "3.8.8"
  }
 },
 "nbformat": 4,
 "nbformat_minor": 4
}
