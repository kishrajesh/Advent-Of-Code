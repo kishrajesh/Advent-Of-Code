{
 "cells": [
  {
   "cell_type": "code",
   "execution_count": 53,
   "metadata": {},
   "outputs": [
    {
     "name": "stdout",
     "output_type": "stream",
     "text": [
      "[['HH', 'P'], ['CH', 'P'], ['HK', 'N'], ['OS', 'N'], ['HV', 'S'], ['VC', 'C'], ['VO', 'K'], ['OC', 'C'], ['FB', 'S'], ['NP', 'S'], ['OK', 'H'], ['OO', 'N'], ['PP', 'B'], ['VK', 'B'], ['BV', 'N'], ['PN', 'K'], ['HC', 'C'], ['NS', 'K'], ['BO', 'C'], ['BN', 'O'], ['SP', 'H'], ['FK', 'K'], ['KF', 'N'], ['VP', 'H'], ['NO', 'N'], ['OH', 'N'], ['CC', 'O'], ['PK', 'P'], ['BF', 'K'], ['CP', 'N'], ['SH', 'V'], ['VS', 'P'], ['BH', 'B'], ['KS', 'H'], ['HB', 'K'], ['BK', 'S'], ['KV', 'C'], ['SF', 'B'], ['BB', 'O'], ['PC', 'S'], ['HN', 'S'], ['FP', 'S'], ['PH', 'C'], ['OB', 'O'], ['FH', 'K'], ['CS', 'P'], ['OF', 'N'], ['FF', 'V'], ['PV', 'B'], ['PF', 'C'], ['FC', 'S'], ['KC', 'O'], ['PS', 'V'], ['CO', 'F'], ['CK', 'O'], ['KH', 'H'], ['OP', 'O'], ['SK', 'S'], ['VB', 'P'], ['FN', 'H'], ['FS', 'P'], ['FV', 'N'], ['HP', 'O'], ['SB', 'N'], ['VN', 'V'], ['KK', 'P'], ['KO', 'V'], ['BC', 'B'], ['FO', 'H'], ['OV', 'H'], ['CF', 'H'], ['HF', 'K'], ['SS', 'V'], ['SC', 'N'], ['CB', 'B'], ['SV', 'C'], ['SN', 'P'], ['PB', 'B'], ['KP', 'S'], ['PO', 'B'], ['CN', 'F'], ['ON', 'B'], ['CV', 'S'], ['HO', 'O'], ['NF', 'F'], ['VH', 'P'], ['NN', 'S'], ['HS', 'S'], ['NV', 'V'], ['NH', 'C'], ['NB', 'B'], ['SO', 'K'], ['NC', 'C'], ['VF', 'B'], ['BS', 'V'], ['VV', 'N'], ['BP', 'P'], ['KN', 'C'], ['NK', 'O'], ['KB', 'F']]\n"
     ]
    }
   ],
   "source": [
    "puzzle = (open(\"AoC14.txt\", \"r\").read().splitlines())\n",
    "seq=puzzle[0]\n",
    "inser=[]\n",
    "for i in range(2, len(puzzle)):\n",
    "    inser.append(puzzle[i].split(\" -> \"))\n",
    "print(inser)"
   ]
  },
  {
   "cell_type": "code",
   "execution_count": 54,
   "metadata": {},
   "outputs": [],
   "source": [
    "def pars(inser):\n",
    "    dic={}\n",
    "    for i in inser:\n",
    "        dic[i[0]]=i[1]\n",
    "    return dic\n",
    "def newp(pair, let):\n",
    "    #pair is string with 2 letters, let is new letter\n",
    "    a1=pair[0]+let\n",
    "    a2=let+pair[1]\n",
    "    return a1,a2\n",
    "def st2D(st, keys):\n",
    "    d={}\n",
    "    for j in keys:\n",
    "        d[j]=0\n",
    "    for i in range(len(st)-1):\n",
    "        x=st[i:i+2]\n",
    "        d[x]+=1\n",
    "    return d\n",
    "def count(c, pairs):\n",
    "    #c is dictionary mapping pairs to amount of those pairs\n",
    "    #pairs is dictionary mapping insertions\n",
    "    #function returns new dictionary mapping pairs to amount\n",
    "    n=c.copy()\n",
    "    for i in c.keys():\n",
    "        n[i]=0\n",
    "    for i in c.keys():\n",
    "        a1,a2=newp(i, pairs[i])\n",
    "        n[a1]+=c[i]\n",
    "        n[a2]+=c[i]\n",
    "    return n\n",
    "def diff(d, f, l, lets):\n",
    "    #d is dictionary mapping pairs to amount of those pairs\n",
    "    #f is first letter\n",
    "    #l is last letter\n",
    "    #lets is list of letters\n",
    "    c={}\n",
    "    for i in lets:\n",
    "        c[i]=0\n",
    "    for i in d.keys():\n",
    "        a1,a2=i[0],i[1]\n",
    "        c[a1]+=d[i]\n",
    "        c[a2]+=d[i]\n",
    "    c[f]=int((c[f]+1))\n",
    "    c[l]=int((c[l]+1))\n",
    "    for i in c.keys():\n",
    "        c[i]=int(c[i]/2)\n",
    "    #c is dictionary mapping letters to amount of those letters\n",
    "    nu=[]\n",
    "    for i in c.keys():\n",
    "        nu.append(c[i])\n",
    "    return max(nu)-min(nu)"
   ]
  },
  {
   "cell_type": "code",
   "execution_count": 55,
   "metadata": {},
   "outputs": [
    {
     "name": "stdout",
     "output_type": "stream",
     "text": [
      "2967\n"
     ]
    }
   ],
   "source": [
    "x=pars(inser)\n",
    "c=st2D(seq, x.keys())\n",
    "for i in range(10):\n",
    "    c=count(c, x)\n",
    "print(diff(c, seq[0], seq[-1], list(x.values())))"
   ]
  },
  {
   "cell_type": "code",
   "execution_count": 56,
   "metadata": {},
   "outputs": [
    {
     "name": "stdout",
     "output_type": "stream",
     "text": [
      "3692219987038\n"
     ]
    }
   ],
   "source": [
    "x=pars(inser)\n",
    "c=st2D(seq, x.keys())\n",
    "for i in range(40):\n",
    "    c=count(c, x)\n",
    "print(diff(c, seq[0], seq[-1], list(x.values())))"
   ]
  }
 ],
 "metadata": {
  "kernelspec": {
   "display_name": "Python 3",
   "language": "python",
   "name": "python3"
  },
  "language_info": {
   "codemirror_mode": {
    "name": "ipython",
    "version": 3
   },
   "file_extension": ".py",
   "mimetype": "text/x-python",
   "name": "python",
   "nbconvert_exporter": "python",
   "pygments_lexer": "ipython3",
   "version": "3.8.8"
  }
 },
 "nbformat": 4,
 "nbformat_minor": 4
}
