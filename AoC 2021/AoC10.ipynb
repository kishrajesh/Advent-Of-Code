{
 "cells": [
  {
   "cell_type": "code",
   "execution_count": 77,
   "metadata": {},
   "outputs": [],
   "source": [
    "puzzle = (open(\"AoC10.txt\", \"r\").read().splitlines())"
   ]
  },
  {
   "cell_type": "code",
   "execution_count": 78,
   "metadata": {},
   "outputs": [],
   "source": [
    "def corrupt(s):\n",
    "    l=list(s)\n",
    "    nums=[0,0,0,0]\n",
    "    \n",
    "    brac=[\"(\",\"[\",\"{\",\"<\"]\n",
    "    kets=[\")\",\"]\",\"}\",\">\"]\n",
    "    num=[3,57,1197,25137]\n",
    "    latest=[]\n",
    "    for i in l:\n",
    "        #print(nums)\n",
    "        if(i in brac):\n",
    "            a=brac.index(i)\n",
    "            nums[a]+=1\n",
    "            latest.insert(0,kets[a])\n",
    "        elif(i in kets):\n",
    "            a=kets.index(i)\n",
    "            nums[a]-=1\n",
    "            if(nums[a]<0 or i!=latest[0]):\n",
    "                return True, num[a]\n",
    "            latest.pop(0)\n",
    "    return False, latest"
   ]
  },
  {
   "cell_type": "code",
   "execution_count": 79,
   "metadata": {},
   "outputs": [
    {
     "name": "stdout",
     "output_type": "stream",
     "text": [
      "323691\n"
     ]
    }
   ],
   "source": [
    "ans=0\n",
    "for i in puzzle:\n",
    "    x=corrupt(i)\n",
    "    if(x[0]!=False):\n",
    "        #print(i,x)\n",
    "        ans+=x[1]\n",
    "print(ans)"
   ]
  },
  {
   "cell_type": "code",
   "execution_count": 80,
   "metadata": {},
   "outputs": [
    {
     "name": "stdout",
     "output_type": "stream",
     "text": [
      "2858785164\n"
     ]
    }
   ],
   "source": [
    "def score(s):\n",
    "    ans=0\n",
    "    kets=[\")\",\"]\",\"}\",\">\"]\n",
    "    for i in s:\n",
    "        ans*=5\n",
    "        ans+=kets.index(i)+1\n",
    "    return ans\n",
    "scores=[]\n",
    "for i in puzzle:\n",
    "    x=corrupt(i)\n",
    "    if(x[0]==False):\n",
    "        s=''.join(i for i in (x[1]))\n",
    "        scores.append(score(s))\n",
    "import statistics as stat\n",
    "print(stat.median(scores))\n"
   ]
  },
  {
   "cell_type": "code",
   "execution_count": null,
   "metadata": {},
   "outputs": [],
   "source": []
  }
 ],
 "metadata": {
  "kernelspec": {
   "display_name": "Python 3",
   "language": "python",
   "name": "python3"
  },
  "language_info": {
   "codemirror_mode": {
    "name": "ipython",
    "version": 3
   },
   "file_extension": ".py",
   "mimetype": "text/x-python",
   "name": "python",
   "nbconvert_exporter": "python",
   "pygments_lexer": "ipython3",
   "version": "3.8.8"
  }
 },
 "nbformat": 4,
 "nbformat_minor": 4
}
