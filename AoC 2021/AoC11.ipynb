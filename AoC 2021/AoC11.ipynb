{
 "cells": [
  {
   "cell_type": "code",
   "execution_count": 35,
   "metadata": {},
   "outputs": [],
   "source": [
    "puzzle = (open(\"AoC11.txt\", \"r\").read().splitlines())\n",
    "puzzle = [list(i) for i in puzzle]\n",
    "puzzle = [[int(j) for j in i] for i in puzzle]"
   ]
  },
  {
   "cell_type": "code",
   "execution_count": 36,
   "metadata": {},
   "outputs": [],
   "source": [
    "def flashNum(nums, flashed, pastFlashed):\n",
    "    n=nums\n",
    "    for i in range(len(n)):\n",
    "        for j in range(len(n[0])):\n",
    "            if([i,j] not in flashed):\n",
    "                for k in [-1,0,1]:\n",
    "                    for l in [-1,0,1]:\n",
    "                        ni=i+k\n",
    "                        nj=j+l\n",
    "                        if((k,1)!=(0,0) and 0<=ni<len(n) and 0<=nj<len(n[0])):\n",
    "                            if([ni,nj] in pastFlashed):\n",
    "                                n[i][j]+=1\n",
    "    pastFlashed=[]\n",
    "    ctr=0\n",
    "    for i in range(len(n)):\n",
    "        for j in range(len(n[0])):\n",
    "            if(n[i][j]>9):\n",
    "                pastFlashed.append([i,j])\n",
    "                flashed.append([i,j])\n",
    "                n[i][j]=0\n",
    "    return n, flashed, pastFlashed\n",
    "                            \n",
    "                \n",
    "def step(nums):\n",
    "    n=nums\n",
    "    flashed=[]\n",
    "    pastFlashed=[]\n",
    "    for i in range(len(n)):\n",
    "        for j in range(len(n[0])):\n",
    "            n[i][j]=nums[i][j]+1\n",
    "            if(n[i][j]>9):\n",
    "                flashed.append([i,j])\n",
    "                pastFlashed.append([i,j])\n",
    "                n[i][j]=0\n",
    "    while(len(pastFlashed)>0):\n",
    "        n, flashed, pastFlashed = flashNum(n, flashed, pastFlashed)\n",
    "    return n, len(flashed)"
   ]
  },
  {
   "cell_type": "code",
   "execution_count": 37,
   "metadata": {},
   "outputs": [
    {
     "name": "stdout",
     "output_type": "stream",
     "text": [
      "1741\n"
     ]
    }
   ],
   "source": [
    "ans=0\n",
    "n=puzzle\n",
    "for i in range(100):\n",
    "    n, a = step(n)\n",
    "    ans+=a\n",
    "print(ans)"
   ]
  },
  {
   "cell_type": "code",
   "execution_count": 38,
   "metadata": {},
   "outputs": [
    {
     "name": "stdout",
     "output_type": "stream",
     "text": [
      "440\n"
     ]
    }
   ],
   "source": [
    "sync=False\n",
    "n=puzzle\n",
    "ctr=0\n",
    "while(sync==False):\n",
    "    ctr+=1\n",
    "    n, a = step(n)\n",
    "    if(a==len(n)*len(n[0])):\n",
    "        sync=True\n",
    "print(ctr+100)"
   ]
  },
  {
   "cell_type": "code",
   "execution_count": null,
   "metadata": {},
   "outputs": [],
   "source": []
  }
 ],
 "metadata": {
  "kernelspec": {
   "display_name": "Python 3",
   "language": "python",
   "name": "python3"
  },
  "language_info": {
   "codemirror_mode": {
    "name": "ipython",
    "version": 3
   },
   "file_extension": ".py",
   "mimetype": "text/x-python",
   "name": "python",
   "nbconvert_exporter": "python",
   "pygments_lexer": "ipython3",
   "version": "3.8.8"
  }
 },
 "nbformat": 4,
 "nbformat_minor": 4
}
