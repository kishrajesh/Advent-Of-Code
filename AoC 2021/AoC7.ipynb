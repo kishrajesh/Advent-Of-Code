{
 "cells": [
  {
   "cell_type": "code",
   "execution_count": 17,
   "metadata": {},
   "outputs": [],
   "source": [
    "puzzle = (open(\"AoC7.txt\", \"r\").read().splitlines())\n",
    "puzzle=[int(i) for i in puzzle[0].split(\",\")]\n"
   ]
  },
  {
   "cell_type": "code",
   "execution_count": 18,
   "metadata": {},
   "outputs": [
    {
     "name": "stdout",
     "output_type": "stream",
     "text": [
      "349812\n"
     ]
    }
   ],
   "source": [
    "a=[sum([abs(i- num) for num in puzzle]) for i in range(min(puzzle), max(puzzle))]\n",
    "print(min(a))"
   ]
  },
  {
   "cell_type": "code",
   "execution_count": 19,
   "metadata": {},
   "outputs": [],
   "source": [
    "def le(mi, num):\n",
    "    n=abs(mi-num)\n",
    "    return(int(n*(n+1)/2))"
   ]
  },
  {
   "cell_type": "code",
   "execution_count": 20,
   "metadata": {},
   "outputs": [
    {
     "name": "stdout",
     "output_type": "stream",
     "text": [
      "99763899\n"
     ]
    }
   ],
   "source": [
    "a=[sum([le(i, num) for num in puzzle]) for i in range(min(puzzle), max(puzzle))]\n",
    "print(min(a))"
   ]
  },
  {
   "cell_type": "code",
   "execution_count": null,
   "metadata": {},
   "outputs": [],
   "source": []
  }
 ],
 "metadata": {
  "kernelspec": {
   "display_name": "Python 3",
   "language": "python",
   "name": "python3"
  },
  "language_info": {
   "codemirror_mode": {
    "name": "ipython",
    "version": 3
   },
   "file_extension": ".py",
   "mimetype": "text/x-python",
   "name": "python",
   "nbconvert_exporter": "python",
   "pygments_lexer": "ipython3",
   "version": "3.8.8"
  }
 },
 "nbformat": 4,
 "nbformat_minor": 4
}
