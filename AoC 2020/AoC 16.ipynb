{
 "cells": [
  {
   "cell_type": "code",
   "execution_count": 1,
   "metadata": {},
   "outputs": [],
   "source": [
    "import numpy as np\n",
    "import re"
   ]
  },
  {
   "cell_type": "code",
   "execution_count": 2,
   "metadata": {},
   "outputs": [],
   "source": [
    "puzzle = open(\"AoC16.txt\", \"r\").read().splitlines()\n",
    "for i in range(20):\n",
    "    puzzle[i]=puzzle[i].split(\": \")\n",
    "    puzzle[i][1]=puzzle[i][1].split(\" or \")"
   ]
  },
  {
   "cell_type": "code",
   "execution_count": 3,
   "metadata": {},
   "outputs": [
    {
     "name": "stdout",
     "output_type": "stream",
     "text": [
      "20975\n"
     ]
    }
   ],
   "source": [
    "ctr=0\n",
    "se=[]#needed for pt 2\n",
    "for i in range(25,len(puzzle)):\n",
    "    x=puzzle[i].split(\",\")\n",
    "    for j in x:\n",
    "        boo=False\n",
    "        for k in range(20):\n",
    "            a=puzzle[k][1][0].split(\"-\")\n",
    "            b=puzzle[k][1][1].split(\"-\")\n",
    "            y=(int)(j)\n",
    "            if(int(a[0])<y<(int)(a[1]) or (int)(b[0])<y<(int)(b[1])):\n",
    "                boo=True\n",
    "        if(not boo):        \n",
    "            ctr+=(int)(j)\n",
    "            if(i not in se):\n",
    "                se.append((int)(i))\n",
    "print(ctr)  "
   ]
  },
  {
   "cell_type": "code",
   "execution_count": 4,
   "metadata": {},
   "outputs": [
    {
     "name": "stdout",
     "output_type": "stream",
     "text": [
      "910339449193\n"
     ]
    }
   ],
   "source": [
    "new=[[i for i in range(20)] for j in range(20)] \n",
    "#each row represents a possible combination\n",
    "#for example, new[i] represents the possible names that the ith value in the ticket could be\n",
    "#new[i].remove(k) if k cannot be possible\n",
    "ctr=0\n",
    "for i in range(25,len(puzzle)):\n",
    "    if(i not in se):\n",
    "        x=puzzle[i].split(\",\")\n",
    "        for k in range(20):\n",
    "            a=puzzle[k][1][0].split(\"-\")\n",
    "            b=puzzle[k][1][1].split(\"-\")\n",
    "            for ct in range(20):\n",
    "                j=x[ct]\n",
    "                y=(int)(j)\n",
    "                if(y<(int)(a[0]) or (int)(a[1])<y<(int)(b[0]) or y>(int)(b[1])):\n",
    "                    new[k][ct]=-1\n",
    "for i in range(len(new)):\n",
    "    #print(\"possibilities for\", i+1, \"th part\", new[i])\n",
    "    if(-1 in new[i]):\n",
    "        new[i]=[x for x in new[i] if x != -1]\n",
    "final=[-1]*20\n",
    "used=[]\n",
    "ctr==False\n",
    "while(len(used)<20):\n",
    "    curr=0\n",
    "    for i in range(len(new)):\n",
    "        if(i not in used and len(new[i])==1):\n",
    "            final[i]=new[i][0]\n",
    "            used.append(i)\n",
    "            curr=i\n",
    "            break\n",
    "    for j in range(len(new)):\n",
    "        if(j not in used and new[curr][0] in new[j]):\n",
    "            new[j].remove(new[curr][0])\n",
    "y=puzzle[22].split(\",\")\n",
    "ans=1\n",
    "for i in range(6):\n",
    "    ans*=(int)(y[final[i]])\n",
    "print(ans)"
   ]
  }
 ],
 "metadata": {
  "kernelspec": {
   "display_name": "Python 3.8.16 64-bit ('3.8.16')",
   "language": "python",
   "name": "python3"
  },
  "language_info": {
   "codemirror_mode": {
    "name": "ipython",
    "version": 3
   },
   "file_extension": ".py",
   "mimetype": "text/x-python",
   "name": "python",
   "nbconvert_exporter": "python",
   "pygments_lexer": "ipython3",
   "version": "3.8.16"
  },
  "vscode": {
   "interpreter": {
    "hash": "83d716789636f2c43bd4464069cb5695a0d9efbaa75c4707909d1f0a350467f7"
   }
  }
 },
 "nbformat": 4,
 "nbformat_minor": 4
}
