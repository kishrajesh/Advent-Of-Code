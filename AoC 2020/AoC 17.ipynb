{
 "cells": [
  {
   "cell_type": "code",
   "execution_count": 1,
   "metadata": {},
   "outputs": [],
   "source": [
    "import numpy as np\n",
    "import re\n",
    "import collections\n",
    "import itertools"
   ]
  },
  {
   "cell_type": "code",
   "execution_count": 2,
   "metadata": {},
   "outputs": [],
   "source": [
    "puzzle = open('AoC17.txt','r').readlines()"
   ]
  },
  {
   "cell_type": "code",
   "execution_count": 3,
   "metadata": {},
   "outputs": [
    {
     "name": "stdout",
     "output_type": "stream",
     "text": [
      "313\n",
      "2640\n"
     ]
    }
   ],
   "source": [
    "def make(raw_data, ndim):\n",
    "    on = set()\n",
    "    for i, row in enumerate(raw_data):\n",
    "        for j, val in enumerate(row):\n",
    "            if val == '#':\n",
    "                on.add(tuple([i,j] + [0] * (ndim-2)))\n",
    "    return on\n",
    "\n",
    "def iter(on, ndim):\n",
    "    c = collections.Counter()\n",
    "    for loc in on:\n",
    "        for delta in itertools.product([-1, 0, 1], repeat=ndim):\n",
    "            new = tuple([a+b for a, b in zip(loc, delta)])\n",
    "            if new != loc:\n",
    "                c[new] += 1\n",
    "    keep_on = set([loc for loc in on if c[loc] in [2,3]])\n",
    "    turn_on = set([loc for loc, v in c.items() if loc not in on and v==3])\n",
    "    return keep_on  | turn_on\n",
    "\n",
    "#part 1\n",
    "dim = 3\n",
    "on = make(puzzle, dim)\n",
    "for _ in range(6):\n",
    "    on = iter(on, dim)\n",
    "print(len(on))\n",
    "\n",
    "#part 2\n",
    "dim = 4\n",
    "on = make(puzzle, dim)\n",
    "for _ in range(6):\n",
    "    on = iter(on, dim)\n",
    "print(len(on))"
   ]
  }
 ],
 "metadata": {
  "kernelspec": {
   "display_name": "Python 3.8.16 64-bit ('3.8.16')",
   "language": "python",
   "name": "python3"
  },
  "language_info": {
   "codemirror_mode": {
    "name": "ipython",
    "version": 3
   },
   "file_extension": ".py",
   "mimetype": "text/x-python",
   "name": "python",
   "nbconvert_exporter": "python",
   "pygments_lexer": "ipython3",
   "version": "3.8.16"
  },
  "vscode": {
   "interpreter": {
    "hash": "83d716789636f2c43bd4464069cb5695a0d9efbaa75c4707909d1f0a350467f7"
   }
  }
 },
 "nbformat": 4,
 "nbformat_minor": 4
}
