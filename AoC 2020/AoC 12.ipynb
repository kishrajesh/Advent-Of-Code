{
 "cells": [
  {
   "cell_type": "code",
   "execution_count": 1,
   "metadata": {},
   "outputs": [],
   "source": [
    "import numpy as np"
   ]
  },
  {
   "cell_type": "code",
   "execution_count": 2,
   "metadata": {},
   "outputs": [],
   "source": [
    "puzzle = open(\"AoC12.txt\", \"r\").read().splitlines()"
   ]
  },
  {
   "cell_type": "code",
   "execution_count": 3,
   "metadata": {},
   "outputs": [
    {
     "name": "stdout",
     "output_type": "stream",
     "text": [
      "879\n"
     ]
    }
   ],
   "source": [
    "directions=['E','S','W','N']\n",
    "vector=[[1,0],[0,-1],[-1,0],[0,1]]\n",
    "loca=[0,0]\n",
    "face='E'\n",
    "for i in range(len(puzzle)):\n",
    "    dire=puzzle[i][0:1]\n",
    "    num=(int)(puzzle[i][1:])\n",
    "    if(dire in directions):\n",
    "        loca[0]+=vector[directions.index(dire)][0]*num\n",
    "        loca[1]+=vector[directions.index(dire)][1]*num\n",
    "    if(dire=='L'):\n",
    "        face=directions[(directions.index(face)-((int)(num/90)))%4]\n",
    "    if(dire=='R'):\n",
    "        face=directions[(directions.index(face)+((int)(num/90)))%4]\n",
    "    if(dire=='F'):\n",
    "        loca[0]+=vector[directions.index(face)][0]*num\n",
    "        loca[1]+=vector[directions.index(face)][1]*num\n",
    "    #print(loca, face)\n",
    "print(abs(loca[0])+abs(loca[1]))"
   ]
  },
  {
   "cell_type": "code",
   "execution_count": 4,
   "metadata": {},
   "outputs": [
    {
     "name": "stdout",
     "output_type": "stream",
     "text": [
      "18107\n"
     ]
    }
   ],
   "source": [
    "directions=['E','S','W','N']\n",
    "vector=[[1,0],[0,-1],[-1,0],[0,1]]\n",
    "loca=[0,0]\n",
    "waypoint=[10,1] #relative to the ship\n",
    "for i in range(len(puzzle)):\n",
    "    dire=puzzle[i][0:1]\n",
    "    num=(int)(puzzle[i][1:])\n",
    "    if(dire in directions):\n",
    "        waypoint[0]+=vector[directions.index(dire)][0]*num\n",
    "        waypoint[1]+=vector[directions.index(dire)][1]*num\n",
    "    if(dire=='L'):\n",
    "        for j in range(((int)(num/90))%4):\n",
    "            a=waypoint[0]\n",
    "            waypoint[0]=-waypoint[1]\n",
    "            waypoint[1]=a\n",
    "    if(dire=='R'):\n",
    "        for j in range(((int)(num/90))%4):\n",
    "            a=waypoint[0]\n",
    "            waypoint[0]=waypoint[1]\n",
    "            waypoint[1]=-a\n",
    "    if(dire=='F'):\n",
    "        loca[0]+=(waypoint[0])*num\n",
    "        loca[1]+=(waypoint[1])*num\n",
    "    #print(loca, waypoint)\n",
    "print(abs(loca[0])+abs(loca[1]))"
   ]
  }
 ],
 "metadata": {
  "kernelspec": {
   "display_name": "Python 3",
   "language": "python",
   "name": "python3"
  },
  "language_info": {
   "codemirror_mode": {
    "name": "ipython",
    "version": 3
   },
   "file_extension": ".py",
   "mimetype": "text/x-python",
   "name": "python",
   "nbconvert_exporter": "python",
   "pygments_lexer": "ipython3",
   "version": "3.8.5"
  }
 },
 "nbformat": 4,
 "nbformat_minor": 4
}
