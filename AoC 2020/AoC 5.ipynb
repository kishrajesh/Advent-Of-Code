{
 "cells": [
  {
   "cell_type": "code",
   "execution_count": 1,
   "metadata": {},
   "outputs": [],
   "source": [
    "import numpy as np"
   ]
  },
  {
   "cell_type": "code",
   "execution_count": 2,
   "metadata": {},
   "outputs": [],
   "source": [
    "puzzle = open(\"AoC5.txt\", \"r\").read().splitlines()"
   ]
  },
  {
   "cell_type": "code",
   "execution_count": 3,
   "metadata": {},
   "outputs": [
    {
     "name": "stdout",
     "output_type": "stream",
     "text": [
      "848\n"
     ]
    }
   ],
   "source": [
    "ctr=0\n",
    "for i in puzzle:\n",
    "    ans=0\n",
    "    for j in range(10):\n",
    "        if i[j:j+1]==\"B\" or i[j:j+1]==\"R\":\n",
    "            ans+=2**(9-j)\n",
    "    if(ans>ctr):\n",
    "        ctr=ans\n",
    "print(ctr)"
   ]
  },
  {
   "cell_type": "code",
   "execution_count": 4,
   "metadata": {},
   "outputs": [
    {
     "name": "stdout",
     "output_type": "stream",
     "text": [
      "682\n"
     ]
    }
   ],
   "source": [
    "set=[]\n",
    "for i in puzzle:\n",
    "    ans=0\n",
    "    for j in range(10):\n",
    "        if i[j:j+1]==\"B\" or i[j:j+1]==\"R\":\n",
    "            ans+=2**(9-j)\n",
    "    set.append(ans)\n",
    "for i in range(859):\n",
    "    if (i not in set and i+1 in set and i-1 in set):\n",
    "        print(i)"
   ]
  }
 ],
 "metadata": {
  "kernelspec": {
   "display_name": "Python 3",
   "language": "python",
   "name": "python3"
  },
  "language_info": {
   "codemirror_mode": {
    "name": "ipython",
    "version": 3
   },
   "file_extension": ".py",
   "mimetype": "text/x-python",
   "name": "python",
   "nbconvert_exporter": "python",
   "pygments_lexer": "ipython3",
   "version": "3.8.5"
  }
 },
 "nbformat": 4,
 "nbformat_minor": 4
}
