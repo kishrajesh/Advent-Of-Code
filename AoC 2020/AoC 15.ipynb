{
 "cells": [
  {
   "cell_type": "code",
   "execution_count": 1,
   "metadata": {},
   "outputs": [],
   "source": [
    "import numpy as np\n",
    "import re"
   ]
  },
  {
   "cell_type": "code",
   "execution_count": 2,
   "metadata": {},
   "outputs": [
    {
     "name": "stdout",
     "output_type": "stream",
     "text": [
      "870\n"
     ]
    }
   ],
   "source": [
    "puzzle = open(\"AoC15.txt\", \"r\").read().splitlines()[0].split(\",\")\n",
    "for i in range(len(puzzle)):\n",
    "    puzzle[i]=(int)(puzzle[i])\n",
    "N=len(puzzle)\n",
    "dec = np.zeros((2020))\n",
    "last=puzzle[N-1]\n",
    "for i in range(1,N+1):\n",
    "    dec[puzzle[i-1]]=i\n",
    "for i in range(N+1,2021):\n",
    "    a=last\n",
    "    if(dec[last]>0):\n",
    "        last=(int)(i-1-dec[last])\n",
    "    else:\n",
    "        last=0\n",
    "    dec[a]=i-1\n",
    "    last=(int)(last)\n",
    "print(last)"
   ]
  },
  {
   "cell_type": "code",
   "execution_count": 3,
   "metadata": {},
   "outputs": [
    {
     "name": "stdout",
     "output_type": "stream",
     "text": [
      "9136\n"
     ]
    }
   ],
   "source": [
    "puzzle = open(\"AoC15.txt\", \"r\").read().splitlines()[0].split(\",\")\n",
    "for i in range(len(puzzle)):\n",
    "    puzzle[i]=(int)(puzzle[i])\n",
    "N=len(puzzle)\n",
    "dec = np.zeros((30000000))\n",
    "last=puzzle[N-1]\n",
    "for i in range(1,N+1):\n",
    "    dec[puzzle[i-1]]=i\n",
    "for i in range(N+1,30000001):\n",
    "    a=last\n",
    "    if(dec[last]>0):\n",
    "        last=(int)(i-1-dec[last])\n",
    "    else:\n",
    "        last=0\n",
    "    dec[a]=i-1\n",
    "    last=(int)(last)\n",
    "    #print(last)\n",
    "print(last)"
   ]
  }
 ],
 "metadata": {
  "kernelspec": {
   "display_name": "Python 3",
   "language": "python",
   "name": "python3"
  },
  "language_info": {
   "codemirror_mode": {
    "name": "ipython",
    "version": 3
   },
   "file_extension": ".py",
   "mimetype": "text/x-python",
   "name": "python",
   "nbconvert_exporter": "python",
   "pygments_lexer": "ipython3",
   "version": "3.8.5"
  }
 },
 "nbformat": 4,
 "nbformat_minor": 4
}
