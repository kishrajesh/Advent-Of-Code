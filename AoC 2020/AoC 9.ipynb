{
 "cells": [
  {
   "cell_type": "code",
   "execution_count": 30,
   "metadata": {},
   "outputs": [],
   "source": [
    "import numpy as np"
   ]
  },
  {
   "cell_type": "code",
   "execution_count": 31,
   "metadata": {},
   "outputs": [],
   "source": [
    "puzzle=np.loadtxt('AoC9.txt',unpack=True)"
   ]
  },
  {
   "cell_type": "code",
   "execution_count": 32,
   "metadata": {},
   "outputs": [
    {
     "name": "stdout",
     "output_type": "stream",
     "text": [
      "FIRST 514 23278925.0\n"
     ]
    }
   ],
   "source": [
    "for i in range(25, len(puzzle)):\n",
    "    ctr=True\n",
    "    for j in range(i-25,i):\n",
    "        for k in range(j,i):\n",
    "            if(puzzle[i]==puzzle[j]+puzzle[k]):\n",
    "                ctr=False\n",
    "    if(ctr):\n",
    "        print(\"FIRST\", i, puzzle[i])"
   ]
  },
  {
   "cell_type": "code",
   "execution_count": 38,
   "metadata": {},
   "outputs": [
    {
     "name": "stdout",
     "output_type": "stream",
     "text": [
      "FIRST 865846.0 3145218.0 4011064.0\n",
      "FIRST 23278925.0 23278925.0 46557850.0\n"
     ]
    }
   ],
   "source": [
    "sum=23278925\n",
    "for i in range(0, len(puzzle)):\n",
    "    ctr=0\n",
    "    min=puzzle[i]\n",
    "    max=puzzle[i]\n",
    "    for j in range(i, len(puzzle)):\n",
    "        if(puzzle[j]>max):\n",
    "            max=puzzle[j]\n",
    "        if(puzzle[j]<min):\n",
    "            min=puzzle[j]\n",
    "        ctr=ctr+puzzle[j]\n",
    "        if(ctr==sum):\n",
    "            print(\"FIRST\",min,max, min+max)\n",
    "        if(ctr>sum):\n",
    "            break"
   ]
  },
  {
   "cell_type": "code",
   "execution_count": 48,
   "metadata": {},
   "outputs": [
    {
     "name": "stdout",
     "output_type": "stream",
     "text": [
      "4011064.0\n"
     ]
    }
   ],
   "source": [
    "#alternate sol for part 2\n",
    "sum=23278925\n",
    "s=[]\n",
    "index=0\n",
    "ctr=0\n",
    "while(True):\n",
    "    s.append(puzzle[index])\n",
    "    ctr+=puzzle[index]\n",
    "    if(ctr==sum):\n",
    "        break\n",
    "    if(ctr>sum):\n",
    "        while(ctr>sum):\n",
    "            ctr=ctr-s[0]\n",
    "            s.pop(0)\n",
    "    index+=1\n",
    "min=s[0]\n",
    "max=s[0]\n",
    "for i in s:\n",
    "    if(i>max):\n",
    "        max=i\n",
    "    if(i<min):\n",
    "        min=i\n",
    "print(min+max)"
   ]
  }
 ],
 "metadata": {
  "kernelspec": {
   "display_name": "Python 3",
   "language": "python",
   "name": "python3"
  },
  "language_info": {
   "codemirror_mode": {
    "name": "ipython",
    "version": 3
   },
   "file_extension": ".py",
   "mimetype": "text/x-python",
   "name": "python",
   "nbconvert_exporter": "python",
   "pygments_lexer": "ipython3",
   "version": "3.8.5"
  }
 },
 "nbformat": 4,
 "nbformat_minor": 4
}
