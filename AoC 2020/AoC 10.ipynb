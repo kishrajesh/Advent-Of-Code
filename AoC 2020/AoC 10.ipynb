{
 "cells": [
  {
   "cell_type": "code",
   "execution_count": 1,
   "metadata": {},
   "outputs": [],
   "source": [
    "import numpy as np"
   ]
  },
  {
   "cell_type": "code",
   "execution_count": 2,
   "metadata": {},
   "outputs": [],
   "source": [
    "puzzle=np.loadtxt('AoC10.txt',unpack=True)"
   ]
  },
  {
   "cell_type": "code",
   "execution_count": 3,
   "metadata": {},
   "outputs": [],
   "source": [
    "puzzle=np.sort(puzzle)"
   ]
  },
  {
   "cell_type": "code",
   "execution_count": 4,
   "metadata": {},
   "outputs": [
    {
     "name": "stdout",
     "output_type": "stream",
     "text": [
      "2240\n"
     ]
    }
   ],
   "source": [
    "s=[1,0,1]\n",
    "for i in range(1,len(puzzle)):\n",
    "    s[int(puzzle[i]-puzzle[i-1]-1)]+=1\n",
    "print(s[0]*s[2])"
   ]
  },
  {
   "cell_type": "code",
   "execution_count": 5,
   "metadata": {},
   "outputs": [
    {
     "name": "stdout",
     "output_type": "stream",
     "text": [
      "[  1.   2.   3.   4.   7.   8.   9.  10.  11.  14.  15.  16.  17.  20.\n",
      "  21.  22.  23.  24.  27.  28.  29.  30.  31.  34.  35.  36.  37.  38.\n",
      "  41.  44.  47.  48.  49.  52.  53.  54.  55.  56.  59.  60.  61.  62.\n",
      "  63.  66.  67.  68.  69.  72.  73.  74.  75.  76.  79.  80.  81.  82.\n",
      "  85.  88.  89.  90.  91.  92.  95.  98.  99. 100. 101. 102. 105. 108.\n",
      " 111. 112. 115. 118. 119. 120. 121. 122. 125. 128. 129. 130. 133. 134.\n",
      " 135. 136. 137. 140. 141. 142. 143. 144. 147. 150. 153. 154. 155. 158.\n",
      " 161. 162. 163.]\n",
      "99214346656768\n"
     ]
    }
   ],
   "source": [
    "print(puzzle)\n",
    "se=[]\n",
    "se.append(1)\n",
    "for index in range(1,len(puzzle)):\n",
    "    x=puzzle[index]\n",
    "    ctr=0\n",
    "    if(x<4):\n",
    "        ctr+=1\n",
    "    if(index>0 and x-puzzle[index-1]<4):\n",
    "        ctr+=se[index-1]\n",
    "    if(index>1 and x-puzzle[index-2]<4):\n",
    "        ctr+=se[index-2]\n",
    "    if(index>2 and x-puzzle[index-3]<4):\n",
    "        ctr+=se[index-3]\n",
    "    se.append(ctr)\n",
    "print(se[len(puzzle)-1])"
   ]
  }
 ],
 "metadata": {
  "kernelspec": {
   "display_name": "Python 3",
   "language": "python",
   "name": "python3"
  },
  "language_info": {
   "codemirror_mode": {
    "name": "ipython",
    "version": 3
   },
   "file_extension": ".py",
   "mimetype": "text/x-python",
   "name": "python",
   "nbconvert_exporter": "python",
   "pygments_lexer": "ipython3",
   "version": "3.8.5"
  }
 },
 "nbformat": 4,
 "nbformat_minor": 4
}
