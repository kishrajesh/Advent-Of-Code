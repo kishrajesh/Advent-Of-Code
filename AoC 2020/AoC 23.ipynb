{
 "cells": [
  {
   "cell_type": "code",
   "execution_count": 1,
   "metadata": {},
   "outputs": [],
   "source": [
    "import numpy as np\n",
    "import re\n",
    "import collections\n",
    "import itertools"
   ]
  },
  {
   "cell_type": "code",
   "execution_count": 2,
   "metadata": {},
   "outputs": [
    {
     "name": "stdout",
     "output_type": "stream",
     "text": [
      "[4, 1, 8, 9, 7, 6, 2, 3, 5]\n"
     ]
    }
   ],
   "source": [
    "puzzle = list(open('AoC23.txt','r').read().splitlines()[0])\n",
    "for i in range(len(puzzle)):\n",
    "    puzzle[i]=(int)(puzzle[i])\n",
    "print(puzzle)"
   ]
  },
  {
   "cell_type": "code",
   "execution_count": 3,
   "metadata": {},
   "outputs": [
    {
     "name": "stdout",
     "output_type": "stream",
     "text": [
      "([4, 7, 6, 2, 3, 1, 8, 9, 5], 7)\n"
     ]
    }
   ],
   "source": [
    "def move(arr, cup):\n",
    "    N=len(arr)\n",
    "    M=max(arr)\n",
    "    cups=arr.copy()\n",
    "    inde=arr.index(cup)\n",
    "    c=[0,0,0]\n",
    "    c[0]=(inde+1)%N\n",
    "    c[1]=(inde+2)%N\n",
    "    c[2]=(inde+3)%N\n",
    "    cu=[0,0,0]\n",
    "    for i in range(3):\n",
    "        cu[i]=cups[c[i]]\n",
    "    for i in range(3):\n",
    "        cups.remove(cu[i])\n",
    "    de=cup-1\n",
    "    for i in range(len(cups)):\n",
    "        if(de in cups):\n",
    "            #print(cups, de)\n",
    "            break\n",
    "        else:\n",
    "            de=(de-1)%(M+1)\n",
    "    x=cups.index(de)\n",
    "    for i in range(3):\n",
    "        cups.insert(x+i+1,cu[i])\n",
    "    nex=cups[(cups.index(cup)+1)%N]\n",
    "    return cups,nex\n",
    "print(move(puzzle,puzzle[0]))"
   ]
  },
  {
   "cell_type": "code",
   "execution_count": 4,
   "metadata": {},
   "outputs": [
    {
     "name": "stdout",
     "output_type": "stream",
     "text": [
      "[9, 6, 3, 4, 2, 8, 7, 5, 1] 5\n",
      "96342875\n"
     ]
    }
   ],
   "source": [
    "puzz=puzzle.copy()\n",
    "ini=puzz[0]\n",
    "for i in range(100):\n",
    "    puzz,ini=move(puzz,ini)\n",
    "    #print(puzz,ini)\n",
    "print(puzz,ini)\n",
    "p1=puzz.index(1)\n",
    "ans=''\n",
    "for i in range(1,max(puzz)):\n",
    "    ans+=(str)(puzz[(p1+i)%len(puzz)])\n",
    "print(ans)"
   ]
  },
  {
   "cell_type": "code",
   "execution_count": 5,
   "metadata": {},
   "outputs": [
    {
     "ename": "KeyboardInterrupt",
     "evalue": "",
     "output_type": "error",
     "traceback": [
      "\u001b[0;31m---------------------------------------------------------------------------\u001b[0m",
      "\u001b[0;31mKeyboardInterrupt\u001b[0m                         Traceback (most recent call last)",
      "\u001b[0;32m<ipython-input-5-248c33db351d>\u001b[0m in \u001b[0;36m<module>\u001b[0;34m\u001b[0m\n\u001b[1;32m      5\u001b[0m     \u001b[0mpuzz\u001b[0m\u001b[0;34m.\u001b[0m\u001b[0mappend\u001b[0m\u001b[0;34m(\u001b[0m\u001b[0mi\u001b[0m\u001b[0;34m)\u001b[0m\u001b[0;34m\u001b[0m\u001b[0;34m\u001b[0m\u001b[0m\n\u001b[1;32m      6\u001b[0m \u001b[0;32mfor\u001b[0m \u001b[0mi\u001b[0m \u001b[0;32min\u001b[0m \u001b[0mrange\u001b[0m\u001b[0;34m(\u001b[0m\u001b[0;36m10000000\u001b[0m\u001b[0;34m)\u001b[0m\u001b[0;34m:\u001b[0m\u001b[0;34m\u001b[0m\u001b[0;34m\u001b[0m\u001b[0m\n\u001b[0;32m----> 7\u001b[0;31m     \u001b[0mpuzz\u001b[0m\u001b[0;34m,\u001b[0m\u001b[0mini\u001b[0m\u001b[0;34m=\u001b[0m\u001b[0mmove\u001b[0m\u001b[0;34m(\u001b[0m\u001b[0mpuzz\u001b[0m\u001b[0;34m,\u001b[0m\u001b[0mini\u001b[0m\u001b[0;34m)\u001b[0m\u001b[0;34m\u001b[0m\u001b[0;34m\u001b[0m\u001b[0m\n\u001b[0m\u001b[1;32m      8\u001b[0m     \u001b[0;31m#print(puzz,ini)\u001b[0m\u001b[0;34m\u001b[0m\u001b[0;34m\u001b[0m\u001b[0;34m\u001b[0m\u001b[0m\n\u001b[1;32m      9\u001b[0m \u001b[0;31m#print(puzz,ini)\u001b[0m\u001b[0;34m\u001b[0m\u001b[0;34m\u001b[0m\u001b[0;34m\u001b[0m\u001b[0m\n",
      "\u001b[0;32m<ipython-input-3-b2f181b11035>\u001b[0m in \u001b[0;36mmove\u001b[0;34m(arr, cup)\u001b[0m\n\u001b[1;32m     20\u001b[0m         \u001b[0;32melse\u001b[0m\u001b[0;34m:\u001b[0m\u001b[0;34m\u001b[0m\u001b[0;34m\u001b[0m\u001b[0m\n\u001b[1;32m     21\u001b[0m             \u001b[0mde\u001b[0m\u001b[0;34m=\u001b[0m\u001b[0;34m(\u001b[0m\u001b[0mde\u001b[0m\u001b[0;34m-\u001b[0m\u001b[0;36m1\u001b[0m\u001b[0;34m)\u001b[0m\u001b[0;34m%\u001b[0m\u001b[0;34m(\u001b[0m\u001b[0mM\u001b[0m\u001b[0;34m+\u001b[0m\u001b[0;36m1\u001b[0m\u001b[0;34m)\u001b[0m\u001b[0;34m\u001b[0m\u001b[0;34m\u001b[0m\u001b[0m\n\u001b[0;32m---> 22\u001b[0;31m     \u001b[0mx\u001b[0m\u001b[0;34m=\u001b[0m\u001b[0mcups\u001b[0m\u001b[0;34m.\u001b[0m\u001b[0mindex\u001b[0m\u001b[0;34m(\u001b[0m\u001b[0mde\u001b[0m\u001b[0;34m)\u001b[0m\u001b[0;34m\u001b[0m\u001b[0;34m\u001b[0m\u001b[0m\n\u001b[0m\u001b[1;32m     23\u001b[0m     \u001b[0;32mfor\u001b[0m \u001b[0mi\u001b[0m \u001b[0;32min\u001b[0m \u001b[0mrange\u001b[0m\u001b[0;34m(\u001b[0m\u001b[0;36m3\u001b[0m\u001b[0;34m)\u001b[0m\u001b[0;34m:\u001b[0m\u001b[0;34m\u001b[0m\u001b[0;34m\u001b[0m\u001b[0m\n\u001b[1;32m     24\u001b[0m         \u001b[0mcups\u001b[0m\u001b[0;34m.\u001b[0m\u001b[0minsert\u001b[0m\u001b[0;34m(\u001b[0m\u001b[0mx\u001b[0m\u001b[0;34m+\u001b[0m\u001b[0mi\u001b[0m\u001b[0;34m+\u001b[0m\u001b[0;36m1\u001b[0m\u001b[0;34m,\u001b[0m\u001b[0mcu\u001b[0m\u001b[0;34m[\u001b[0m\u001b[0mi\u001b[0m\u001b[0;34m]\u001b[0m\u001b[0;34m)\u001b[0m\u001b[0;34m\u001b[0m\u001b[0;34m\u001b[0m\u001b[0m\n",
      "\u001b[0;31mKeyboardInterrupt\u001b[0m: "
     ]
    }
   ],
   "source": [
    "puzz=puzzle.copy()\n",
    "ini=puzz[0]\n",
    "M=max(puzz)\n",
    "for i in range(M+1,1000001):\n",
    "    puzz.append(i)\n",
    "for i in range(10000000):\n",
    "    puzz,ini=move(puzz,ini)\n",
    "    #print(puzz,ini)\n",
    "#print(puzz,ini)\n",
    "p1=puzz.index(1)\n",
    "print(len(puzz))\n",
    "ans=1\n",
    "for i in range(2):\n",
    "    ans*=puzz[(p1+i+1)%1000000]\n",
    "print(ans)"
   ]
  },
  {
   "cell_type": "code",
   "execution_count": null,
   "metadata": {},
   "outputs": [],
   "source": [
    "#not my code\n",
    "#https://github.com/kresimir-lukin/AdventOfCode2020/blob/main/day23.py\n",
    "import sys\n",
    "\n",
    "class LinkedListNode:\n",
    "    def __init__(self, value):\n",
    "        self.next = self.prev = None\n",
    "        self.value = value\n",
    "\n",
    "class CircularHashLinkedList:\n",
    "    def __init__(self, values):\n",
    "        self.lookup = {}\n",
    "        head = prev = None\n",
    "        for value in values:\n",
    "            node = LinkedListNode(value)\n",
    "            if not head:\n",
    "                head = node\n",
    "            if prev:\n",
    "                prev.next = node\n",
    "                node.prev = prev\n",
    "            self.lookup[value] = prev = node\n",
    "        head.prev = prev\n",
    "        prev.next = head\n",
    "    \n",
    "    def get(self, key):\n",
    "        return self.lookup[key]\n",
    "\n",
    "    def move(self, key, destination):\n",
    "        item, destination = self.lookup[key], self.lookup[destination]\n",
    "        prev_next = destination.next\n",
    "        item.prev.next = item.next\n",
    "        item.next.prev = item.prev\n",
    "        destination.next.prev = item\n",
    "        destination.next = item\n",
    "        item.prev = destination\n",
    "        item.next = prev_next\n",
    "    \n",
    "def simulate(cups, iterations):\n",
    "    chll = CircularHashLinkedList(cups)\n",
    "    item = chll.get(cups[0])\n",
    "    for _ in range(iterations):\n",
    "        pickup = [item.next.value, item.next.next.value, item.next.next.next.value]\n",
    "        destination = len(cups) if item.value == 1 else item.value - 1\n",
    "        while destination in pickup:\n",
    "            destination = len(cups) if destination == 1 else destination - 1\n",
    "        while pickup:\n",
    "            chll.move(pickup.pop(), destination)\n",
    "        item = item.next\n",
    "    return chll.get(1)\n",
    "\n",
    "def part1(cups):\n",
    "    one = simulate(cups, 100)\n",
    "    result, item = '', one.next\n",
    "    while item != one:\n",
    "        result += str(item.value)\n",
    "        item = item.next\n",
    "    return result\n",
    "\n",
    "def part2(cups):\n",
    "    one = simulate(cups + list(range(10, 10**6 + 1)), 10**7)\n",
    "    return one.next.value * one.next.next.value\n",
    "\n",
    "cups = puzzle\n",
    "\n",
    "print(f'Part 1: {part1(cups)}, Part 2: {part2(cups)}')"
   ]
  }
 ],
 "metadata": {
  "kernelspec": {
   "display_name": "Python 3",
   "language": "python",
   "name": "python3"
  },
  "language_info": {
   "codemirror_mode": {
    "name": "ipython",
    "version": 3
   },
   "file_extension": ".py",
   "mimetype": "text/x-python",
   "name": "python",
   "nbconvert_exporter": "python",
   "pygments_lexer": "ipython3",
   "version": "3.8.5"
  }
 },
 "nbformat": 4,
 "nbformat_minor": 4
}
