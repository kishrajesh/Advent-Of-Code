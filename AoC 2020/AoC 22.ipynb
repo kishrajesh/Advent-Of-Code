{
 "cells": [
  {
   "cell_type": "code",
   "execution_count": 1,
   "metadata": {},
   "outputs": [],
   "source": [
    "import numpy as np\n",
    "import re\n",
    "import collections\n",
    "import itertools"
   ]
  },
  {
   "cell_type": "code",
   "execution_count": 2,
   "metadata": {},
   "outputs": [],
   "source": [
    "puzzle = open('AoC22.txt','r').read().splitlines()\n",
    "#print(puzzle)\n",
    "y1=[]\n",
    "y2=[]\n",
    "fir=puzzle.index(\"Player 1:\")\n",
    "sec=puzzle.index(\"Player 2:\")\n",
    "for i in range(fir+1, sec-1):\n",
    "    y1.append(int(puzzle[i]))\n",
    "for i in range(sec+1, len(puzzle)):\n",
    "    y2.append(int(puzzle[i]))\n",
    "#print(y2)"
   ]
  },
  {
   "cell_type": "code",
   "execution_count": 3,
   "metadata": {},
   "outputs": [],
   "source": [
    "def move(d1, d2):\n",
    "    x1=d1\n",
    "    x2=d2\n",
    "    a=x1[0]\n",
    "    b=x2[0]\n",
    "    x1.pop(0)\n",
    "    x2.pop(0)\n",
    "    if(a>b):\n",
    "        x1.append(a)\n",
    "        x1.append(b)\n",
    "    if(b>a):\n",
    "        x2.append(b)\n",
    "        x2.append(a)\n",
    "    return(x1,x2)"
   ]
  },
  {
   "cell_type": "code",
   "execution_count": 4,
   "metadata": {},
   "outputs": [
    {
     "name": "stdout",
     "output_type": "stream",
     "text": [
      "32677\n"
     ]
    }
   ],
   "source": [
    "p1=y1\n",
    "p2=y2\n",
    "ctr=0\n",
    "while(len(p1)!=0 and len(p2)!=0):\n",
    "    ctr+=1\n",
    "    p1,p2=move(p1,p2)\n",
    "#print(p1,p2)\n",
    "ans=[]\n",
    "if(len(p1)==0):\n",
    "    ans=p2\n",
    "else:\n",
    "    ans=p1\n",
    "#print(ans)\n",
    "le=len(ans)\n",
    "fin=0\n",
    "for i in range(len(ans)):\n",
    "    fin+=(le-i)*ans[i]\n",
    "print(fin)"
   ]
  },
  {
   "cell_type": "code",
   "execution_count": 5,
   "metadata": {},
   "outputs": [],
   "source": [
    "def gamewin(d1,d2):\n",
    "    ctr=False\n",
    "    plays=[]\n",
    "    while(not ctr):\n",
    "        x1=d1.copy()\n",
    "        x2=d2.copy()\n",
    "        \n",
    "        if([d1,d2] in plays):\n",
    "         #   print(plays)\n",
    "            return d1,d2\n",
    "        else:\n",
    "            plays.append([d1,d2])\n",
    "        #print(\"plays:\", plays)\n",
    "        \n",
    "        a=x1[0]\n",
    "        b=x2[0]\n",
    "        x1.pop(0)\n",
    "        x2.pop(0)\n",
    "        if(not(a<=len(x1) and b<=len(x2))):\n",
    "            #print(a>len(x1) and b>len(x2))\n",
    "            if(a>b):\n",
    "                x1.append(a)\n",
    "                x1.append(b)\n",
    "            if(b>a):\n",
    "                x2.append(b)\n",
    "                x2.append(a)\n",
    "\n",
    "            if(len(x1)==0 or len(x2)==0):\n",
    "                return x1,x2\n",
    "                \n",
    "        else:\n",
    "            #print(\" \")\n",
    "            z1,z2=gamewin(x1[0:a],x2[0:b])\n",
    "            #print(\" \")\n",
    "            #print(\"z1,z2\",z1,z2)\n",
    "            if(len(z2)==0):\n",
    "                x1.append(a)\n",
    "                x1.append(b)\n",
    "            if(len(z1)==0):\n",
    "                x2.append(b)\n",
    "                x2.append(a)\n",
    "            if(len(z1)!=0 and len(z2)!=0):\n",
    "                x1.append(a)\n",
    "                x1.append(b)\n",
    "            #if([x1,x2] in plays):\n",
    "             #   print(\"ha\",x1,x2,plays)\n",
    "              #  return (x1,x2)\n",
    "            #plays.append([x1,x2])\n",
    "        d1=x1.copy()\n",
    "        d2=x2.copy()"
   ]
  },
  {
   "cell_type": "code",
   "execution_count": 6,
   "metadata": {},
   "outputs": [],
   "source": [
    "puzzle = open('AoC22.txt','r').read().splitlines()\n",
    "y1=[]\n",
    "y2=[]\n",
    "fir=puzzle.index(\"Player 1:\")\n",
    "sec=puzzle.index(\"Player 2:\")\n",
    "for i in range(fir+1, sec-1):\n",
    "    y1.append(int(puzzle[i]))\n",
    "for i in range(sec+1, len(puzzle)):\n",
    "    y2.append(int(puzzle[i]))\n",
    "#print(y1,y2)\n",
    "part2=gamewin(y1,y2)"
   ]
  },
  {
   "cell_type": "code",
   "execution_count": 7,
   "metadata": {},
   "outputs": [
    {
     "name": "stdout",
     "output_type": "stream",
     "text": [
      "33661\n"
     ]
    }
   ],
   "source": [
    "ans=[]\n",
    "#print(part2[0])\n",
    "if(len(part2[0])==0):\n",
    "    ans=part2[1]\n",
    "else:\n",
    "    ans=part2[0]\n",
    "#print(ans)\n",
    "le=len(ans)\n",
    "fin=0\n",
    "for i in range(len(ans)):\n",
    "    fin+=(le-i)*ans[i]\n",
    "print(fin)"
   ]
  }
 ],
 "metadata": {
  "kernelspec": {
   "display_name": "Python 3",
   "language": "python",
   "name": "python3"
  },
  "language_info": {
   "codemirror_mode": {
    "name": "ipython",
    "version": 3
   },
   "file_extension": ".py",
   "mimetype": "text/x-python",
   "name": "python",
   "nbconvert_exporter": "python",
   "pygments_lexer": "ipython3",
   "version": "3.8.5"
  }
 },
 "nbformat": 4,
 "nbformat_minor": 4
}
