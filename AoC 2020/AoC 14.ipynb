{
 "cells": [
  {
   "cell_type": "code",
   "execution_count": 1,
   "metadata": {},
   "outputs": [],
   "source": [
    "import numpy as np\n",
    "import re"
   ]
  },
  {
   "cell_type": "code",
   "execution_count": 2,
   "metadata": {},
   "outputs": [],
   "source": [
    "puzzle = open(\"AoC14.txt\", \"r\").read().splitlines()\n",
    "for i in range(len(puzzle)):\n",
    "    puzzle[i]=re.split(\"[ ,=,[,\\] , ]\", puzzle[i])"
   ]
  },
  {
   "cell_type": "code",
   "execution_count": 3,
   "metadata": {},
   "outputs": [],
   "source": [
    "def mas(mak, val):\n",
    "    res=0\n",
    "    for i in range(len(mak)):\n",
    "        c=mak[len(mak)-i-1]\n",
    "        if(c=='X'):\n",
    "            res+=val%2*2**i\n",
    "        else:\n",
    "            res+=(int)(c)*2**i\n",
    "        val=val//2\n",
    "    return res"
   ]
  },
  {
   "cell_type": "code",
   "execution_count": 4,
   "metadata": {},
   "outputs": [
    {
     "name": "stdout",
     "output_type": "stream",
     "text": [
      "14925946402938\n"
     ]
    }
   ],
   "source": [
    "values=[]\n",
    "indices=[]\n",
    "mask=''\n",
    "for i in range(len(puzzle)):\n",
    "    if (puzzle[i][0]==\"mask\"):\n",
    "        mask=puzzle[i][3]\n",
    "    else:\n",
    "        if (int)(puzzle[i][1]) not in indices:\n",
    "            indices.append((int)(puzzle[i][1]))\n",
    "            values.append(mas(mask,(int)(puzzle[i][5])))\n",
    "        else:\n",
    "            inde=indices.index((int)(puzzle[i][1]))\n",
    "            values[inde]=mas(mask,(int)(puzzle[i][5]))\n",
    "print(sum(values))"
   ]
  },
  {
   "cell_type": "code",
   "execution_count": 5,
   "metadata": {},
   "outputs": [],
   "source": [
    "def mass(mak, val):\n",
    "    res=[0]\n",
    "    for i in range(len(mak)):\n",
    "        c=mak[len(mak)-i-1]\n",
    "        if(c=='X'):\n",
    "            res+=[b+2**i for b in res]\n",
    "        else:\n",
    "            if(int(c)==0):\n",
    "                res=[b+val%2*2**i for b in res]\n",
    "            else:\n",
    "                res=[b+2**i for b in res]\n",
    "        val=val//2\n",
    "    return res"
   ]
  },
  {
   "cell_type": "code",
   "execution_count": 6,
   "metadata": {},
   "outputs": [
    {
     "name": "stdout",
     "output_type": "stream",
     "text": [
      "3706820676200\n"
     ]
    }
   ],
   "source": [
    "values=[]\n",
    "indices=[]\n",
    "mask=''\n",
    "for i in range(len(puzzle)):\n",
    "    if (puzzle[i][0]==\"mask\"):\n",
    "        mask=puzzle[i][3]\n",
    "    else:\n",
    "        for j in range(len(mass(mask, (int)(puzzle[i][1])))):\n",
    "            k=mass(mask, (int)(puzzle[i][1]))[j]\n",
    "            if k not in indices:\n",
    "                indices.append(k)\n",
    "                values.append((int)(puzzle[i][5]))\n",
    "            else:\n",
    "                inde=indices.index(k)\n",
    "                values[inde]=(int)(puzzle[i][5])\n",
    "print(sum(values))"
   ]
  }
 ],
 "metadata": {
  "kernelspec": {
   "display_name": "Python 3",
   "language": "python",
   "name": "python3"
  },
  "language_info": {
   "codemirror_mode": {
    "name": "ipython",
    "version": 3
   },
   "file_extension": ".py",
   "mimetype": "text/x-python",
   "name": "python",
   "nbconvert_exporter": "python",
   "pygments_lexer": "ipython3",
   "version": "3.8.5"
  }
 },
 "nbformat": 4,
 "nbformat_minor": 4
}
