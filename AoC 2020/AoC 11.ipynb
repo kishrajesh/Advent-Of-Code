{
 "cells": [
  {
   "cell_type": "code",
   "execution_count": 1,
   "metadata": {},
   "outputs": [],
   "source": [
    "import numpy as np"
   ]
  },
  {
   "cell_type": "code",
   "execution_count": 2,
   "metadata": {},
   "outputs": [],
   "source": [
    "puzzle = open(\"AoC11.txt\", \"r\").read().splitlines()"
   ]
  },
  {
   "cell_type": "code",
   "execution_count": 3,
   "metadata": {},
   "outputs": [],
   "source": [
    "N=len(puzzle)\n",
    "for i in range(N):\n",
    "    puzzle[i]=list(puzzle[i])\n",
    "M=len(puzzle[0])"
   ]
  },
  {
   "cell_type": "code",
   "execution_count": 4,
   "metadata": {},
   "outputs": [],
   "source": [
    "def adj_occ(row, col,p):\n",
    "    ctr=0\n",
    "    for dx in [-1,0,1]:\n",
    "        for dy in [-1,0,1]:\n",
    "            if(not (dx==0 and dy==0)):\n",
    "                r1=row+dx\n",
    "                c1=col+dy\n",
    "                if 0<=r1<N and 0<=c1<M and p[r1][c1]=='#':\n",
    "                    ctr += 1\n",
    "    return ctr"
   ]
  },
  {
   "cell_type": "code",
   "execution_count": 5,
   "metadata": {},
   "outputs": [],
   "source": [
    "def change(puzz):\n",
    "    new=[[0 for i in range(M)] for j in range(N)] \n",
    "    for i in range(N):\n",
    "        for j in range(M):\n",
    "            new[i][j]=puzz[i][j]\n",
    "            if(puzz[i][j]=='L' and adj_occ(i,j,puzz)==0):\n",
    "                new[i][j]='#'\n",
    "            if(puzz[i][j]=='#' and adj_occ(i,j,puzz)>=4):\n",
    "                new[i][j]='L'\n",
    "    return new"
   ]
  },
  {
   "cell_type": "code",
   "execution_count": 6,
   "metadata": {},
   "outputs": [
    {
     "name": "stdout",
     "output_type": "stream",
     "text": [
      "2354\n"
     ]
    }
   ],
   "source": [
    "prev=change(puzzle)\n",
    "while(change(prev)!=prev):\n",
    "    prev=change(prev)\n",
    "def occup(puzz):\n",
    "    ans=0\n",
    "    for i in range(N):\n",
    "        for j in range(M):\n",
    "            if(puzz[i][j]=='#'):\n",
    "                ans+=1\n",
    "    return ans\n",
    "print(occup(prev))"
   ]
  },
  {
   "cell_type": "code",
   "execution_count": 7,
   "metadata": {},
   "outputs": [],
   "source": [
    "def adj_occ1(row, col,p):\n",
    "    ctr=0\n",
    "    for dx in [-1,0,1]:\n",
    "        for dy in [-1,0,1]:\n",
    "            if(not (dx==0 and dy==0)):\n",
    "                r1=row+dx\n",
    "                c1=col+dy\n",
    "                while 0<=r1<N and 0<=c1<M and p[r1][c1]=='.':\n",
    "                    r1 = r1+dx\n",
    "                    c1 = c1+dy\n",
    "                if 0<=r1<N and 0<=c1<M and p[r1][c1]=='#':\n",
    "                    ctr += 1\n",
    "    return ctr"
   ]
  },
  {
   "cell_type": "code",
   "execution_count": 8,
   "metadata": {},
   "outputs": [
    {
     "name": "stdout",
     "output_type": "stream",
     "text": [
      "2072\n"
     ]
    }
   ],
   "source": [
    "def occup1(puzz):\n",
    "    ans=0\n",
    "    for i in range(N):\n",
    "        for j in range(M):\n",
    "            if(puzz[i][j]=='#'):\n",
    "                ans+=1\n",
    "    return ans\n",
    "def change1(puzz):\n",
    "    new=[[0 for i in range(M)] for j in range(N)] \n",
    "    for i in range(N):\n",
    "        for j in range(M):\n",
    "            new[i][j]=puzz[i][j]\n",
    "            if(puzz[i][j]=='L' and adj_occ1(i,j,puzz)==0):\n",
    "                new[i][j]='#'\n",
    "            if(puzz[i][j]=='#' and adj_occ1(i,j,puzz)>=5):\n",
    "                new[i][j]='L'\n",
    "    return new\n",
    "prev=change1(puzzle)\n",
    "while((change1(prev))!=(prev)):\n",
    "    #print(occup1(prev))\n",
    "    prev=change1(prev)\n",
    "print(occup1(prev))"
   ]
  }
 ],
 "metadata": {
  "kernelspec": {
   "display_name": "Python 3",
   "language": "python",
   "name": "python3"
  },
  "language_info": {
   "codemirror_mode": {
    "name": "ipython",
    "version": 3
   },
   "file_extension": ".py",
   "mimetype": "text/x-python",
   "name": "python",
   "nbconvert_exporter": "python",
   "pygments_lexer": "ipython3",
   "version": "3.8.5"
  }
 },
 "nbformat": 4,
 "nbformat_minor": 4
}
