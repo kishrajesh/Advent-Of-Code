{
 "cells": [
  {
   "cell_type": "code",
   "execution_count": 1,
   "metadata": {},
   "outputs": [],
   "source": [
    "import numpy as np"
   ]
  },
  {
   "cell_type": "code",
   "execution_count": 2,
   "metadata": {},
   "outputs": [],
   "source": [
    "puzzle = open(\"AoC8.txt\", \"r\").read().splitlines()"
   ]
  },
  {
   "cell_type": "code",
   "execution_count": 3,
   "metadata": {},
   "outputs": [],
   "source": [
    "for i in range(len(puzzle)):\n",
    "    puzzle[i]=puzzle[i].split(\" \")"
   ]
  },
  {
   "cell_type": "code",
   "execution_count": 4,
   "metadata": {},
   "outputs": [
    {
     "name": "stdout",
     "output_type": "stream",
     "text": [
      "1394\n"
     ]
    }
   ],
   "source": [
    "def part1():\n",
    "    tot=0\n",
    "    s=[]\n",
    "    index=0\n",
    "    ctr=True\n",
    "    while(ctr):\n",
    "        if(puzzle[index][0]==\"acc\"):\n",
    "            if(index in s):\n",
    "                return(tot)\n",
    "            tot+=(int)(puzzle[index][1])\n",
    "            s.append(index)\n",
    "            index=index+1\n",
    "        if(puzzle[index][0]==\"jmp\"):\n",
    "            if(index in s):\n",
    "                return(tot)\n",
    "            s.append(index)\n",
    "            index=index+(int)(puzzle[index][1])\n",
    "        if(puzzle[index][0]==\"nop\"):\n",
    "            if(index in s):\n",
    "                return tot\n",
    "            s.append(index)\n",
    "            index=index+1\n",
    "    return 0\n",
    "print(part1())"
   ]
  },
  {
   "cell_type": "code",
   "execution_count": 5,
   "metadata": {},
   "outputs": [],
   "source": [
    "def part2(change,p):\n",
    "    tot=0\n",
    "    s=[]\n",
    "    index=0\n",
    "    ctr=True\n",
    "    fault=p[change][0]\n",
    "    while(ctr):\n",
    "        if(index<0 or index>len(p)-1):\n",
    "            return True,tot,p\n",
    "        x=p[index][0]\n",
    "        if(x==\"acc\"):\n",
    "            if(index in s):\n",
    "                return(False, 0)\n",
    "            tot+=(int)(p[index][1])\n",
    "            s.append(index)\n",
    "            index=index+1\n",
    "        if((index==change and fault==\"nop\") or x==\"jmp\"):\n",
    "            if(index in s):\n",
    "                return(False, 0)\n",
    "            s.append(index)\n",
    "            index=index+(int)(p[index][1])\n",
    "        if((index==change and fault==\"jmp\") or x==\"nop\"):\n",
    "            if(index in s):\n",
    "                return(False, 0)\n",
    "            s.append(index)\n",
    "            index=index+1\n",
    "    return False, tot"
   ]
  },
  {
   "cell_type": "code",
   "execution_count": 6,
   "metadata": {},
   "outputs": [
    {
     "name": "stdout",
     "output_type": "stream",
     "text": [
      "1626\n"
     ]
    }
   ],
   "source": [
    "for i in range(len(puzzle)):\n",
    "    if(puzzle[i][0]==\"nop\" or puzzle[i][0]==\"jmp\"):\n",
    "        if(part2(i,puzzle)[0]):\n",
    "            print(part2(i,puzzle)[1])"
   ]
  }
 ],
 "metadata": {
  "kernelspec": {
   "display_name": "Python 3",
   "language": "python",
   "name": "python3"
  },
  "language_info": {
   "codemirror_mode": {
    "name": "ipython",
    "version": 3
   },
   "file_extension": ".py",
   "mimetype": "text/x-python",
   "name": "python",
   "nbconvert_exporter": "python",
   "pygments_lexer": "ipython3",
   "version": "3.8.5"
  }
 },
 "nbformat": 4,
 "nbformat_minor": 4
}
