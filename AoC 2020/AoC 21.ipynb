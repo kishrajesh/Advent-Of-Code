{
 "cells": [
  {
   "cell_type": "code",
   "execution_count": 1,
   "metadata": {},
   "outputs": [],
   "source": [
    "import numpy as np\n",
    "import re\n",
    "import collections\n",
    "import itertools"
   ]
  },
  {
   "cell_type": "code",
   "execution_count": 2,
   "metadata": {},
   "outputs": [
    {
     "name": "stdout",
     "output_type": "stream",
     "text": [
      "['lfqhssm', 'pcxzx', 'jrs', 'rxhv', 'mhtc', 'dvc', 'jvd', 'ttvtr', 'srvzpc', 'thzbt', 'jfkhrp', 'zxstb', 'tkpqpb', 'lcplblp', 'jflxtnp', 'jnqgtrq', 'zdfl', 'kdxht', 'dfxfqs', 'qdths', 'cnzz', 'drcj', 'stjr', 'jtrrnz', 'rlh', 'ljfsmv', 'ptrj', 'rdnsghf', 'kllgt', 'dgtxv', 'zpxvch', 'rfnzl', 'xszpg', 'qmbn', 'nfff', 'cxzrtx', 'fvmzmrd', 'szsdbv', 'mcmrzs', 'hfdxb', 'slgnk', 'szsmh', 'zngdbgf', 'hgndp', 'pxxjmds', 'pdbcdp', 'zczv', 'hvkvz', 'mhzbkt', 'qjhmth', 'gmstmh', 'tvmpdqp', 'ztbgdkd', 'xdfjsm', 'hbfnkq', 'fxzgqn', 'ljclf', 'mpzq', 'mxsbp', 'cjdcn', 'jgjx', 'gnbxs', 'sqrk', 'tlqtz', 'mdghb', 'npvv', 'nkrpv', 'thvbm', 'dfdr', 'srgh', 'xkvgj', 'fmj', 'smxk', 'khqvlxn', 'nkvdvs', 'tnd', 'fqgl', 'dhlmfn', 'rzvj', 'ljvx'] ['dairy', 'sesame', 'nuts'] ['dairy', 'sesame', 'nuts', 'eggs', 'soy', 'wheat', 'fish', 'peanuts']\n"
     ]
    }
   ],
   "source": [
    "puzzle = open('AoC21.txt','r').read().splitlines()\n",
    "allergens=[]\n",
    "for i in range(len(puzzle)):\n",
    "    index=puzzle[i].index(\"(\")\n",
    "    in2=puzzle[i].index(\"contains \")\n",
    "    allergens.append(puzzle[i][in2+9:-1].split(\", \"))\n",
    "    puzzle[i]=(puzzle[i][0:index-1].split(\" \"))\n",
    "alle=[]\n",
    "for i in allergens:\n",
    "    for j in i:\n",
    "        if(j not in alle):\n",
    "            alle.append(j)\n",
    "print(puzzle[0],allergens[0], alle)"
   ]
  },
  {
   "cell_type": "code",
   "execution_count": 3,
   "metadata": {},
   "outputs": [
    {
     "name": "stdout",
     "output_type": "stream",
     "text": [
      "1815\n"
     ]
    }
   ],
   "source": [
    "ingr=[\"\" for i in range(len(alle))]\n",
    "#ingr=[]\n",
    "part1=[]\n",
    "for j in range(len(alle)):\n",
    "    fi=False\n",
    "    for i in range(len(puzzle)):\n",
    "        if(alle[j] in allergens[i]):\n",
    "            if(not fi):\n",
    "                ingr[j]=(puzzle[i])\n",
    "                fi=True\n",
    "            else:\n",
    "                ingr[j]=list((set)(ingr[j]).intersection((set)(puzzle[i])))\n",
    "#print(ingr)\n",
    "masterl=[]\n",
    "for i in ingr:\n",
    "    for j in i:\n",
    "        if(j not in masterl):\n",
    "            masterl.append(j)\n",
    "p1ans=0\n",
    "for i in puzzle:\n",
    "    for j in i:\n",
    "        if(j not in masterl):\n",
    "            if(j not in part1):\n",
    "                part1.append(j)\n",
    "            p1ans+=1\n",
    "print(p1ans)\n",
    "#ingr is the set of ingredients that could possibly be allergens"
   ]
  },
  {
   "cell_type": "code",
   "execution_count": 4,
   "metadata": {},
   "outputs": [
    {
     "name": "stdout",
     "output_type": "stream",
     "text": [
      "kllgt,jrnqx,ljvx,zxstb,gnbxs,mhtc,hfdxb,hbfnkq\n"
     ]
    }
   ],
   "source": [
    "replica=ingr\n",
    "ctr=False\n",
    "while(not ctr):\n",
    "    for i in range(len(ingr)):\n",
    "        if(len(replica[i])==1):\n",
    "            x=replica[i][0]\n",
    "            for j in range(len(replica)):\n",
    "                if(i!=j and x in replica[j]):\n",
    "                    replica[j].remove(x)\n",
    "    ctr=True\n",
    "    for i in range(len(replica)):\n",
    "        if(len(replica[i])!=1):\n",
    "            ctr=False\n",
    "p2={}\n",
    "for i in range(len(replica)):\n",
    "    p2[alle[i]]=replica[i][0]\n",
    "#print(p2)\n",
    "alle.sort()\n",
    "#print(alle)\n",
    "stri=\"\"\n",
    "for i in alle:\n",
    "    stri+=p2[i]\n",
    "    stri+=\",\"\n",
    "print(stri[:-1])"
   ]
  }
 ],
 "metadata": {
  "kernelspec": {
   "display_name": "Python 3",
   "language": "python",
   "name": "python3"
  },
  "language_info": {
   "codemirror_mode": {
    "name": "ipython",
    "version": 3
   },
   "file_extension": ".py",
   "mimetype": "text/x-python",
   "name": "python",
   "nbconvert_exporter": "python",
   "pygments_lexer": "ipython3",
   "version": "3.8.5"
  }
 },
 "nbformat": 4,
 "nbformat_minor": 4
}
