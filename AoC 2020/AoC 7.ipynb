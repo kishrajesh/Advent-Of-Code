{
 "cells": [
  {
   "cell_type": "code",
   "execution_count": 1,
   "metadata": {},
   "outputs": [],
   "source": [
    "import numpy as np"
   ]
  },
  {
   "cell_type": "code",
   "execution_count": 2,
   "metadata": {},
   "outputs": [],
   "source": [
    "puzzle = open(\"AoC7.txt\", \"r\").read().splitlines()"
   ]
  },
  {
   "cell_type": "code",
   "execution_count": 3,
   "metadata": {},
   "outputs": [],
   "source": [
    "data=[]\n",
    "for i in puzzle:\n",
    "    bags=i.split(\" contain \")\n",
    "    bags[0]=bags[0].strip()[0:len(bags[0])-1]\n",
    "    bags[1]=bags[1].strip(\".\").split(\",\")\n",
    "    for j in range(len(bags[1])):\n",
    "        bag=bags[1][j]\n",
    "        bags[1][j]=bag.replace('bags','bag')\n",
    "        if(j>0):\n",
    "            bags[1][j]=bags[1][j][1:]\n",
    "    data.append(bags)\n",
    "#print(data)"
   ]
  },
  {
   "cell_type": "code",
   "execution_count": 4,
   "metadata": {},
   "outputs": [],
   "source": [
    "def into(lis, ba):\n",
    "    for i in lis:\n",
    "        if(ba in i):\n",
    "            return True\n",
    "    return False"
   ]
  },
  {
   "cell_type": "code",
   "execution_count": 5,
   "metadata": {},
   "outputs": [
    {
     "name": "stdout",
     "output_type": "stream",
     "text": [
      "254\n"
     ]
    }
   ],
   "source": [
    "bags=['shiny gold bag']\n",
    "new=1\n",
    "while(new>0):\n",
    "    new=0\n",
    "    for i in data:\n",
    "        for j in range(len(bags)):\n",
    "            bag=bags[j]\n",
    "            if(into(i[1], bag) and i[0] not in bags):\n",
    "                bags.append(i[0])\n",
    "                #print(bags[-1])\n",
    "                new=new+1\n",
    "print(len(bags)-1)"
   ]
  },
  {
   "cell_type": "code",
   "execution_count": 6,
   "metadata": {},
   "outputs": [],
   "source": [
    "def getin(bag):\n",
    "    for b in data:\n",
    "        if (b[0]==bag):\n",
    "            return(b[1])\n",
    "    return(0)"
   ]
  },
  {
   "cell_type": "code",
   "execution_count": 7,
   "metadata": {},
   "outputs": [
    {
     "name": "stdout",
     "output_type": "stream",
     "text": [
      "6006\n"
     ]
    }
   ],
   "source": [
    "def numin(bag):\n",
    "    ctr=0\n",
    "    for b in getin(bag):\n",
    "        #print(\"bag\", bag, \"b\", b)\n",
    "        if (b==\"no other bag\"):\n",
    "            return 0\n",
    "        num=(int)(b[0:1])\n",
    "        ctr+=num\n",
    "        ctr+=num*(numin(b[2:len(b)]))\n",
    "    return ctr \n",
    "print(numin('shiny gold bag'))"
   ]
  }
 ],
 "metadata": {
  "kernelspec": {
   "display_name": "Python 3",
   "language": "python",
   "name": "python3"
  },
  "language_info": {
   "codemirror_mode": {
    "name": "ipython",
    "version": 3
   },
   "file_extension": ".py",
   "mimetype": "text/x-python",
   "name": "python",
   "nbconvert_exporter": "python",
   "pygments_lexer": "ipython3",
   "version": "3.8.5"
  }
 },
 "nbformat": 4,
 "nbformat_minor": 4
}
