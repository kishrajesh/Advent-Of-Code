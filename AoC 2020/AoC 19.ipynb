{
 "cells": [
  {
   "cell_type": "code",
   "execution_count": 1,
   "metadata": {},
   "outputs": [],
   "source": [
    "import numpy as np\n",
    "import re\n",
    "import collections\n",
    "import itertools"
   ]
  },
  {
   "cell_type": "code",
   "execution_count": 2,
   "metadata": {},
   "outputs": [],
   "source": [
    "puzzle = open('AoC19.txt','r').read().splitlines()\n",
    "for i in range(len(puzzle)):\n",
    "    puzzle[i]=puzzle[i].split(\" \")\n",
    "split=(puzzle.index([\"\"]))"
   ]
  },
  {
   "cell_type": "code",
   "execution_count": 3,
   "metadata": {},
   "outputs": [
    {
     "name": "stdout",
     "output_type": "stream",
     "text": [
      "329\n"
     ]
    }
   ],
   "source": [
    "#Not My Code\n",
    "#https://topaz.github.io/paste/#XQAAAQCUAwAAAAAAAAA5nQhHDZyhpyR3khiVM8jSxAmfZpqkDMslqyntTHhVAHhpSMSzAUx7WR3ypd1nrUjN1Gz/6K/GPLGskd6ynjRmHMMPx6wev7G9C9DM6bkDEvLl+YQUpIzeaT0NUoNTuYpCcWcVj2sL3I3dd8BBrt6YjO/ctHCXMJI5VP7nLZ5mcFLkQ+qptAk7cWsF5J4016J+5XTs/iYwCx393TO2/eGKUhTJbWm/0Ilj98LuwqHKX7AnmLUorUKs9JZ+jtM+oq+gEgfQmkUSsrBgOW+O8dTvzh+5aQu2GkpS4PRccBHZEoBn1I8eO9bmWm9QxG2JiicXqa/dcI0uBKIXCTRdAXMvs5AS9SdjbrxsWXsftardHVKJg4Dp9p7fdjtZ/t4uoAri7k+TS5CA32uEiI2kveb2xctnWBkp+CdCDFgOM6Xfmg24E1fxL3hQPEKPHgsxn7FBLdtBHalfU5Dzb5RE1yE7m5Na9Vq5FnoDRemUOEhzKf25ciNvIKdDvqpQ/X8PARIAGjR4UkfkVKoWFnkMcYzuvt8Mmn0kBNvgfEsVKKLFJ1vV4v/3sE0Q\n",
    "state = 0\n",
    "rules = {}\n",
    "messages = []\n",
    "f = map(lambda s: s.strip(), open('AoC19.txt', 'r'))\n",
    "for line in f:\n",
    "    if not line:\n",
    "        break\n",
    "    r = line.split()\n",
    "    rules[r[0][:-1]] = ' '.join(r[1:])\n",
    "messages = list(f)\n",
    "part_2 = True\n",
    "if part_2:\n",
    "    rules['8'] = '42 | 42 8'\n",
    "    rules['11'] = '42 31 | 42 11 31'\n",
    "\n",
    "def parse(rule_name, message):\n",
    "    rule = rules[rule_name]\n",
    "    if len(rule) == 3:\n",
    "        if not message:\n",
    "            return []\n",
    "        if message[0] == rule[1]:\n",
    "            return [message[1:]]\n",
    "        return []\n",
    "    suffixes = []\n",
    "    for alt in rule.split('|'):\n",
    "        alt_suffixes = [message]\n",
    "        for part in alt.split():\n",
    "            alt_suffixes = [new_suffix for suffix in alt_suffixes for new_suffix in parse(part, suffix)]\n",
    "            if not alt_suffixes:\n",
    "                break\n",
    "        suffixes += alt_suffixes\n",
    "    return suffixes\n",
    "\n",
    "print(sum(1 for message in messages if '' in parse('0', message)))"
   ]
  }
 ],
 "metadata": {
  "kernelspec": {
   "display_name": "Python 3",
   "language": "python",
   "name": "python3"
  },
  "language_info": {
   "codemirror_mode": {
    "name": "ipython",
    "version": 3
   },
   "file_extension": ".py",
   "mimetype": "text/x-python",
   "name": "python",
   "nbconvert_exporter": "python",
   "pygments_lexer": "ipython3",
   "version": "3.8.5"
  }
 },
 "nbformat": 4,
 "nbformat_minor": 4
}
