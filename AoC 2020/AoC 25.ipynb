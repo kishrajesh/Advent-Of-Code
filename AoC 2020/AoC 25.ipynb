{
 "cells": [
  {
   "cell_type": "code",
   "execution_count": 1,
   "metadata": {},
   "outputs": [],
   "source": [
    "import numpy as np\n",
    "import re\n",
    "import collections\n",
    "import itertools\n",
    "import math"
   ]
  },
  {
   "cell_type": "code",
   "execution_count": 2,
   "metadata": {},
   "outputs": [],
   "source": [
    "a=11562782\n",
    "b=18108497"
   ]
  },
  {
   "cell_type": "code",
   "execution_count": 3,
   "metadata": {},
   "outputs": [],
   "source": [
    "puzzle = open('AoC25.txt','r').read().splitlines()\n",
    "a=(int)(puzzle[0])\n",
    "b=(int)(puzzle[1])"
   ]
  },
  {
   "cell_type": "code",
   "execution_count": 4,
   "metadata": {},
   "outputs": [],
   "source": [
    "def baby_steps_giant_steps(a,b,p,N = None):\n",
    "    if not N: N = 1 + int(math.sqrt(p))\n",
    "\n",
    "    #initialize baby_steps table\n",
    "    baby_steps = {}\n",
    "    baby_step = 1\n",
    "    for r in range(N+1):\n",
    "        baby_steps[baby_step] = r\n",
    "        baby_step = baby_step * a % p\n",
    "\n",
    "    #now take the giant steps\n",
    "    giant_stride = pow(a,(p-2)*N,p)\n",
    "    giant_step = b\n",
    "    for q in range(N+1):\n",
    "        if giant_step in baby_steps:\n",
    "            return q*N + baby_steps[giant_step]\n",
    "        else:\n",
    "            giant_step = giant_step * giant_stride % p\n",
    "    return \"No Match\""
   ]
  },
  {
   "cell_type": "code",
   "execution_count": 5,
   "metadata": {},
   "outputs": [
    {
     "name": "stdout",
     "output_type": "stream",
     "text": [
      "2947148\n"
     ]
    }
   ],
   "source": [
    "x=baby_steps_giant_steps(7,a,20201227)\n",
    "y=baby_steps_giant_steps(7,b,20201227)\n",
    "print(pow(7,x*y,20201227))"
   ]
  }
 ],
 "metadata": {
  "kernelspec": {
   "display_name": "Python 3",
   "language": "python",
   "name": "python3"
  },
  "language_info": {
   "codemirror_mode": {
    "name": "ipython",
    "version": 3
   },
   "file_extension": ".py",
   "mimetype": "text/x-python",
   "name": "python",
   "nbconvert_exporter": "python",
   "pygments_lexer": "ipython3",
   "version": "3.8.5"
  }
 },
 "nbformat": 4,
 "nbformat_minor": 4
}
