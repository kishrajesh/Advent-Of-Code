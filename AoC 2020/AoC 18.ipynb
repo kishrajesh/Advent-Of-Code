{
 "cells": [
  {
   "cell_type": "code",
   "execution_count": 1,
   "metadata": {},
   "outputs": [],
   "source": [
    "import numpy as np\n",
    "import re\n",
    "import collections\n",
    "import itertools"
   ]
  },
  {
   "cell_type": "code",
   "execution_count": 2,
   "metadata": {},
   "outputs": [],
   "source": [
    "puzzle = open('AoC18.txt','r').read().splitlines()"
   ]
  },
  {
   "cell_type": "code",
   "execution_count": 3,
   "metadata": {},
   "outputs": [
    {
     "name": "stdout",
     "output_type": "stream",
     "text": [
      "30753705453324\n"
     ]
    }
   ],
   "source": [
    "def solve(st):\n",
    "    if('(' not in st):\n",
    "        x=st.split(\" \")\n",
    "        ctr=(int)(x[0])\n",
    "        for i in range(1,len(x)-1):\n",
    "            if(x[i]=='+'):\n",
    "                ctr+=(int)(x[i+1])\n",
    "            if(x[i]=='*'):\n",
    "                ctr*=(int)(x[i+1])\n",
    "        return ctr\n",
    "    x=st.split(\" \")\n",
    "    beg=0\n",
    "    end=0\n",
    "    for i in range(len(x)):\n",
    "        if (len(x[i])>1):\n",
    "            if(x[i][0]==\"(\"):\n",
    "                beg=i\n",
    "            if(x[i][-1]==\")\"):\n",
    "                end=i\n",
    "                break\n",
    "    fin=x[beg][x[beg].rfind('(')+1:len(x[beg])]\n",
    "    for i in range(beg+1,end):\n",
    "        fin+=\" \"+x[i]\n",
    "    fin=fin+\" \"+x[end][0:x[end].find(')')]\n",
    "    #print(x)\n",
    "    return ((solve(st.replace('('+fin+')', (str)(solve(fin))))))\n",
    "ans=0\n",
    "for i,row in enumerate(puzzle):\n",
    "    ans+=solve(row)\n",
    "print(ans)"
   ]
  },
  {
   "cell_type": "code",
   "execution_count": 4,
   "metadata": {},
   "outputs": [
    {
     "name": "stdout",
     "output_type": "stream",
     "text": [
      "244817530095503\n"
     ]
    }
   ],
   "source": [
    "def solve1(st):\n",
    "    if('(' not in st and ')' not in st):\n",
    "        if('+' not in st):\n",
    "            x=st.split(\" \")\n",
    "            ctr=(int)(x[0])\n",
    "            for i in range(1, len(x)-1):\n",
    "                if(x[i]=='*'):\n",
    "                    ctr*=(int)(x[i+1])\n",
    "            return ctr\n",
    "        #Addition Second\n",
    "        x=st.split(\" \")\n",
    "        ctr=(int)(x[0])\n",
    "        add=x.index('+')\n",
    "        fir=x[add-1]\n",
    "        sec=x[add+1]\n",
    "        su=(str)((int)(fir)+(int)(sec))\n",
    "        ad=fir+\" + \"+sec\n",
    "        return ((solve1(st.replace(ad, su,1))))\n",
    "    #Parenthesis First Below:\n",
    "    x=st.split(\" \")\n",
    "    beg=0\n",
    "    end=0\n",
    "    for i in range(len(x)):\n",
    "        if (len(x[i])>1):\n",
    "            if(x[i][0]==\"(\"):\n",
    "                beg=i\n",
    "            if(x[i][-1]==\")\"):\n",
    "                end=i\n",
    "                break\n",
    "    fin=x[beg][x[beg].rfind('(')+1:len(x[beg])]\n",
    "    for i in range(beg+1,end):\n",
    "        fin+=\" \"+x[i]\n",
    "    fin=fin+\" \"+x[end][0:x[end].find(')')]\n",
    "    return ((solve1(st.replace('('+fin+')', (str)(solve1(fin))))))\n",
    "ans=0\n",
    "for i,row in enumerate(puzzle):\n",
    "    ans+=solve1(row)\n",
    "print(ans)\n"
   ]
  }
 ],
 "metadata": {
  "kernelspec": {
   "display_name": "Python 3",
   "language": "python",
   "name": "python3"
  },
  "language_info": {
   "codemirror_mode": {
    "name": "ipython",
    "version": 3
   },
   "file_extension": ".py",
   "mimetype": "text/x-python",
   "name": "python",
   "nbconvert_exporter": "python",
   "pygments_lexer": "ipython3",
   "version": "3.8.5"
  }
 },
 "nbformat": 4,
 "nbformat_minor": 4
}
