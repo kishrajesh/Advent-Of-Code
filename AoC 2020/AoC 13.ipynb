{
 "cells": [
  {
   "cell_type": "code",
   "execution_count": 1,
   "metadata": {},
   "outputs": [],
   "source": [
    "import numpy as np"
   ]
  },
  {
   "cell_type": "code",
   "execution_count": 2,
   "metadata": {},
   "outputs": [],
   "source": [
    "puzzle = open(\"AoC13.txt\", \"r\").read().splitlines()"
   ]
  },
  {
   "cell_type": "code",
   "execution_count": 3,
   "metadata": {},
   "outputs": [],
   "source": [
    "puzzle[1]=puzzle[1].split(\",\")"
   ]
  },
  {
   "cell_type": "code",
   "execution_count": 4,
   "metadata": {},
   "outputs": [
    {
     "name": "stdout",
     "output_type": "stream",
     "text": [
      "4207\n"
     ]
    }
   ],
   "source": [
    "a=(int)(puzzle[0])\n",
    "se=[]\n",
    "for i in puzzle[1]:\n",
    "    if(i!='x'):\n",
    "        se.append((int)(i))\n",
    "ctr=True\n",
    "d=0\n",
    "while(ctr):\n",
    "    for i in se:\n",
    "        if(a%i==0):\n",
    "            d=i\n",
    "            ctr=False\n",
    "    a+=1\n",
    "print((a-1-(int(puzzle[0])))*d)"
   ]
  },
  {
   "cell_type": "code",
   "execution_count": 5,
   "metadata": {},
   "outputs": [
    {
     "name": "stdout",
     "output_type": "stream",
     "text": [
      "725850285300475\n"
     ]
    }
   ],
   "source": [
    "b=(int)(puzzle[0])\n",
    "se=[]\n",
    "s=[]\n",
    "for j in range(len(puzzle[1])):\n",
    "    i=puzzle[1][j]\n",
    "    if(i!='x'):\n",
    "        se.append((int)(i))\n",
    "    else:\n",
    "        se.append(1)\n",
    "    s.append(-1*j+se[len(se)-1])\n",
    "from functools import reduce\n",
    "def chinese_remainder(n, a):\n",
    "    sum = 0\n",
    "    prod = reduce(lambda a, b: a*b, n)\n",
    "    for n_i, a_i in zip(n, a):\n",
    "        p = prod // n_i\n",
    "        sum += a_i * mul_inv(p, n_i) * p\n",
    "    return sum % prod\n",
    "def mul_inv(a, b):\n",
    "    b0 = b\n",
    "    x0, x1 = 0, 1\n",
    "    if b == 1: return 1\n",
    "    while a > 1:\n",
    "        q = a // b\n",
    "        a, b = b, a%b\n",
    "        x0, x1 = x1 - q * x0, x0\n",
    "    if x1 < 0: x1 += b0\n",
    "    return x1\n",
    "n = se #a mod n\n",
    "a = s\n",
    "print(chinese_remainder(n, a))"
   ]
  }
 ],
 "metadata": {
  "kernelspec": {
   "display_name": "Python 3",
   "language": "python",
   "name": "python3"
  },
  "language_info": {
   "codemirror_mode": {
    "name": "ipython",
    "version": 3
   },
   "file_extension": ".py",
   "mimetype": "text/x-python",
   "name": "python",
   "nbconvert_exporter": "python",
   "pygments_lexer": "ipython3",
   "version": "3.8.5"
  }
 },
 "nbformat": 4,
 "nbformat_minor": 4
}
