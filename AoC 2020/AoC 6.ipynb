{
 "cells": [
  {
   "cell_type": "code",
   "execution_count": 1,
   "metadata": {},
   "outputs": [],
   "source": [
    "import numpy as np"
   ]
  },
  {
   "cell_type": "code",
   "execution_count": 2,
   "metadata": {},
   "outputs": [],
   "source": [
    "puzzle = open(\"AoC6.txt\", \"r\").read().splitlines()"
   ]
  },
  {
   "cell_type": "code",
   "execution_count": 3,
   "metadata": {},
   "outputs": [
    {
     "name": "stdout",
     "output_type": "stream",
     "text": [
      "6351\n"
     ]
    }
   ],
   "source": [
    "ans=0\n",
    "s=[]\n",
    "for k in range(len(puzzle)):\n",
    "    i=puzzle[k]\n",
    "    if(puzzle[k]!=\"\"):\n",
    "        for j in list(i):\n",
    "            if(j not in s):\n",
    "                s.append(j)\n",
    "    if(k+1==len(puzzle) or puzzle[k+1]==\"\"):\n",
    "        ans+=len(s)\n",
    "        s=[]\n",
    "print(ans)"
   ]
  },
  {
   "cell_type": "code",
   "execution_count": 4,
   "metadata": {},
   "outputs": [
    {
     "name": "stdout",
     "output_type": "stream",
     "text": [
      "3143\n"
     ]
    }
   ],
   "source": [
    "ans=0\n",
    "s=[]\n",
    "r=[]\n",
    "first=True\n",
    "for k in range(len(puzzle)):\n",
    "    i=puzzle[k]\n",
    "    if(puzzle[k]!=\"\"):\n",
    "        if(first):\n",
    "            for j in list(i):\n",
    "                s.append(j)\n",
    "        first=False\n",
    "        if(not first):\n",
    "            for j in s:\n",
    "                if(j not in list(i)):\n",
    "                    r.append(j)\n",
    "            for j in r:\n",
    "                s.remove(j)\n",
    "        r=[]\n",
    "        #first=False\n",
    "    if(k+1==len(puzzle) or puzzle[k+1]==\"\"):\n",
    "        ans+=len(s)\n",
    "        s=[]\n",
    "        first=True\n",
    "print(ans)"
   ]
  }
 ],
 "metadata": {
  "kernelspec": {
   "display_name": "Python 3",
   "language": "python",
   "name": "python3"
  },
  "language_info": {
   "codemirror_mode": {
    "name": "ipython",
    "version": 3
   },
   "file_extension": ".py",
   "mimetype": "text/x-python",
   "name": "python",
   "nbconvert_exporter": "python",
   "pygments_lexer": "ipython3",
   "version": "3.8.5"
  }
 },
 "nbformat": 4,
 "nbformat_minor": 4
}
