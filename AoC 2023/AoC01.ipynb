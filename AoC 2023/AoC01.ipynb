{
 "cells": [
  {
   "cell_type": "code",
   "execution_count": 5,
   "metadata": {},
   "outputs": [],
   "source": [
    "puzzle = open(\"AoC01.txt\").read().splitlines()"
   ]
  },
  {
   "cell_type": "code",
   "execution_count": 8,
   "metadata": {},
   "outputs": [
    {
     "name": "stdout",
     "output_type": "stream",
     "text": [
      "55386\n"
     ]
    }
   ],
   "source": [
    "def getNum(s):\n",
    "    ans = 0\n",
    "    nums = []\n",
    "    for c in s:\n",
    "        if c.isnumeric():\n",
    "            nums.append(int(c))\n",
    "    return 10*nums[0]+nums[-1]\n",
    "ans1 = 0\n",
    "for p in puzzle:\n",
    "    ans1+=getNum(p)\n",
    "print(ans1)\n",
    "    \n"
   ]
  },
  {
   "cell_type": "code",
   "execution_count": 10,
   "metadata": {},
   "outputs": [
    {
     "name": "stdout",
     "output_type": "stream",
     "text": [
      "54824\n"
     ]
    }
   ],
   "source": [
    "def getNum2(s):\n",
    "    ans = 0\n",
    "    nums = []\n",
    "    numbers = [\"zero\", \"one\", \"two\", \"three\", \"four\", \"five\", \"six\", \"seven\", \"eight\", \"nine\"]\n",
    "    for i in range(len(s)):\n",
    "        if s[i].isnumeric():\n",
    "            nums.append(int(s[i]))\n",
    "        if s[i].isalpha():\n",
    "            if s[i:i+4] == \"zero\":\n",
    "                nums.append(0)\n",
    "                i+=3\n",
    "            elif s[i:i+3] == \"one\":\n",
    "                nums.append(1)\n",
    "                i+=2\n",
    "            elif s[i:i+3] == \"two\":\n",
    "                nums.append(2)\n",
    "                i+=2\n",
    "            elif s[i:i+5] == \"three\":\n",
    "                nums.append(3)\n",
    "                i+=4\n",
    "            elif s[i:i+4] == \"four\":\n",
    "                nums.append(4)\n",
    "                i+=3\n",
    "            elif s[i:i+4] == \"five\":\n",
    "                nums.append(5)\n",
    "                i+=3\n",
    "            elif s[i:i+3] == \"six\":\n",
    "                nums.append(6)\n",
    "                i+=2\n",
    "            elif s[i:i+5] == \"seven\":\n",
    "                nums.append(7)\n",
    "                i+=4\n",
    "            elif s[i:i+5] == \"eight\":\n",
    "                nums.append(8)\n",
    "                i+=4\n",
    "            elif s[i:i+4] == \"nine\":\n",
    "                nums.append(9)\n",
    "                i+=3\n",
    "    return 10*nums[0]+nums[-1]\n",
    "ans2 = 0\n",
    "for p in puzzle:\n",
    "    ans2+=getNum2(p)\n",
    "print(ans2)"
   ]
  },
  {
   "cell_type": "code",
   "execution_count": null,
   "metadata": {},
   "outputs": [],
   "source": []
  }
 ],
 "metadata": {
  "kernelspec": {
   "display_name": "Python 3",
   "language": "python",
   "name": "python3"
  },
  "language_info": {
   "codemirror_mode": {
    "name": "ipython",
    "version": 3
   },
   "file_extension": ".py",
   "mimetype": "text/x-python",
   "name": "python",
   "nbconvert_exporter": "python",
   "pygments_lexer": "ipython3",
   "version": "3.11.0"
  }
 },
 "nbformat": 4,
 "nbformat_minor": 2
}
