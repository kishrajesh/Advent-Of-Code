{
 "cells": [
  {
   "cell_type": "code",
   "execution_count": 5,
   "metadata": {},
   "outputs": [],
   "source": [
    "puzzle = open(\"AoC01.txt\").read().splitlines()"
   ]
  },
  {
   "cell_type": "code",
   "execution_count": 8,
   "metadata": {},
   "outputs": [
    {
     "name": "stdout",
     "output_type": "stream",
     "text": [
      "55386\n"
     ]
    }
   ],
   "source": [
    "def getNum(s):\n",
    "    ans = 0\n",
    "    nums = []\n",
    "    for c in s:\n",
    "        if c.isnumeric():\n",
    "            nums.append(int(c))\n",
    "    return 10*nums[0]+nums[-1]\n",
    "ans1 = 0\n",
    "for p in puzzle:\n",
    "    ans1+=getNum(p)\n",
    "print(ans1)"
   ]
  },
  {
   "cell_type": "code",
   "execution_count": 10,
   "metadata": {},
   "outputs": [
    {
     "name": "stdout",
     "output_type": "stream",
     "text": [
      "54824\n"
     ]
    }
   ],
   "source": [
    "def getNum2(s):\n",
    "    ans = 0\n",
    "    nums = []\n",
    "    numbers = [\"zero\", \"one\", \"two\", \"three\", \"four\", \"five\", \"six\", \"seven\", \"eight\", \"nine\"]\n",
    "    for i in range(len(s)):\n",
    "        if s[i].isnumeric():\n",
    "            nums.append(int(s[i]))\n",
    "        if s[i].isalpha():\n",
    "            for n in numbers:\n",
    "                if s[i:i+len(n)] == n:\n",
    "                    nums.append(numbers.index(n))\n",
    "                    i+=len(n)-1\n",
    "    return 10*nums[0]+nums[-1]\n",
    "ans2 = 0\n",
    "for p in puzzle:\n",
    "    ans2+=getNum2(p)\n",
    "print(ans2)"
   ]
  }
 ],
 "metadata": {
  "kernelspec": {
   "display_name": "Python 3",
   "language": "python",
   "name": "python3"
  },
  "language_info": {
   "codemirror_mode": {
    "name": "ipython",
    "version": 3
   },
   "file_extension": ".py",
   "mimetype": "text/x-python",
   "name": "python",
   "nbconvert_exporter": "python",
   "pygments_lexer": "ipython3",
   "version": "3.11.0"
  }
 },
 "nbformat": 4,
 "nbformat_minor": 2
}
