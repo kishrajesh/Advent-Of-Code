{
 "cells": [
  {
   "cell_type": "code",
   "execution_count": 28,
   "metadata": {},
   "outputs": [],
   "source": [
    "puzzle = open(\"AoC02.txt\").read().splitlines()"
   ]
  },
  {
   "cell_type": "code",
   "execution_count": 33,
   "metadata": {},
   "outputs": [],
   "source": [
    "colors = {}\n",
    "colors[\"red\"]=12\n",
    "colors[\"green\"]=13\n",
    "colors[\"blue\"]=14\n",
    "def work(draw):\n",
    "    d = draw.split(\", \")\n",
    "    works = True\n",
    "    for i in d:\n",
    "        dr = i.split(\" \")\n",
    "        if colors[dr[1]] < int(dr[0]):\n",
    "            works = False\n",
    "            break\n",
    "    return works"
   ]
  },
  {
   "cell_type": "code",
   "execution_count": 34,
   "metadata": {},
   "outputs": [
    {
     "name": "stdout",
     "output_type": "stream",
     "text": [
      "2105\n"
     ]
    }
   ],
   "source": [
    "ans1 = 0\n",
    "for p in puzzle:\n",
    "    game = p.split(\": \")\n",
    "    num = game[0].split(\" \")\n",
    "    id = int(num[1])\n",
    "    draws = game[1].split(\"; \")\n",
    "    works = True\n",
    "    for d in draws:\n",
    "        if(work(d)==False):\n",
    "            works = False\n",
    "            break\n",
    "    if works:\n",
    "        ans1 += id\n",
    "print(ans1)\n"
   ]
  },
  {
   "cell_type": "code",
   "execution_count": 37,
   "metadata": {},
   "outputs": [
    {
     "name": "stdout",
     "output_type": "stream",
     "text": [
      "72422\n"
     ]
    }
   ],
   "source": [
    "def power(game):\n",
    "    colors = {}\n",
    "    colors[\"red\"]=0\n",
    "    colors[\"green\"]=0\n",
    "    colors[\"blue\"]=0\n",
    "    g = game.split(\": \")\n",
    "    d = g[1].split(\"; \")\n",
    "    for i in d:\n",
    "        dr = i.split(\", \")\n",
    "        for c in dr:\n",
    "            col = c.split(\" \")\n",
    "            colors[col[1]] = max(colors[col[1]],int(col[0]))\n",
    "    return colors[\"red\"]*colors[\"green\"]*colors[\"blue\"]\n",
    "ans2 = 0\n",
    "for p in puzzle:\n",
    "    ans2 += power(p)\n",
    "print(ans2)"
   ]
  },
  {
   "cell_type": "code",
   "execution_count": null,
   "metadata": {},
   "outputs": [],
   "source": []
  }
 ],
 "metadata": {
  "kernelspec": {
   "display_name": "Python 3",
   "language": "python",
   "name": "python3"
  },
  "language_info": {
   "codemirror_mode": {
    "name": "ipython",
    "version": 3
   },
   "file_extension": ".py",
   "mimetype": "text/x-python",
   "name": "python",
   "nbconvert_exporter": "python",
   "pygments_lexer": "ipython3",
   "version": "3.11.0"
  }
 },
 "nbformat": 4,
 "nbformat_minor": 2
}
