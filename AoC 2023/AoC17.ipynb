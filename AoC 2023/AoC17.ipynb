{
 "cells": [
  {
   "cell_type": "code",
   "execution_count": 17,
   "metadata": {},
   "outputs": [],
   "source": [
    "puzzle = open(\"AoC17.txt\").read().splitlines()\n",
    "puzzle = [list(x) for x in puzzle]\n",
    "puzzle = [[int(x) for x in i] for i in puzzle]"
   ]
  },
  {
   "cell_type": "code",
   "execution_count": 18,
   "metadata": {},
   "outputs": [],
   "source": [
    "from heapq import heapify, heappop, heappush\n",
    "def dijkstra(nodes, startNode, endNode, neighbors):\n",
    "    startVals = {}\n",
    "    for node in nodes:\n",
    "        startVals[node] = float('inf')\n",
    "    startVals[startNode] = 0\n",
    "    unvisited = set()\n",
    "    for node in nodes:\n",
    "        unvisited.add(node)\n",
    "    pq = [(0,startNode)]\n",
    "    heapify(pq)\n",
    "    while len(unvisited) > 0 and len(pq) > 0:\n",
    "        #find the next node to visit\n",
    "        #one with the smallest value in startVals that is in unvisited\n",
    "        minVal, minNode = heappop(pq)\n",
    "        if minNode == None:\n",
    "            break\n",
    "        if minNode not in unvisited:\n",
    "            continue\n",
    "        neighs = neighbors[minNode]\n",
    "        for neigh in neighs:\n",
    "            if neigh in unvisited:\n",
    "                startVals[neigh] = min(startVals[neigh], startVals[minNode] + neigh[-1])\n",
    "                heappush(pq, (startVals[neigh], neigh))\n",
    "        unvisited.remove(minNode)\n",
    "    return startVals[endNode], startVals\n"
   ]
  },
  {
   "cell_type": "code",
   "execution_count": 19,
   "metadata": {},
   "outputs": [],
   "source": [
    "gridNodes = set()\n",
    "#a node is a tuple (i,j,dir,steps,val)\n",
    "neighbors = {}\n",
    "for i in range(len(puzzle)):\n",
    "    for j in range(len(puzzle[0])):\n",
    "        val = puzzle[i][j]\n",
    "        possDirs = [(0,1),(0,-1),(1,0),(-1,0)]\n",
    "        for dir in possDirs:\n",
    "            for k in range(1,4):\n",
    "                #check if the node is valid\n",
    "                if i-(k-1)*dir[0]>=0 and i-(k-1)*dir[0]<len(puzzle) and j-(k-1)*dir[1]>=0 and j-(k-1)*dir[1]<len(puzzle[0]):\n",
    "                    gridNodes.add((i,j,dir,k,val))\n",
    "for n in gridNodes:\n",
    "    i, j, dir, steps, val = n\n",
    "    neighs = []\n",
    "    if steps<3:\n",
    "        if i+dir[0]>=0 and i+dir[0]<len(puzzle) and j+dir[1]>=0 and j+dir[1]<len(puzzle[0]):\n",
    "            neighs.append((i+dir[0],j+dir[1],dir,steps+1,puzzle[i+dir[0]][j+dir[1]]))\n",
    "    possDirs = [(0,1),(0,-1),(1,0),(-1,0)]\n",
    "    for newDir in possDirs:\n",
    "        if newDir!=dir and newDir!=(-dir[0],-dir[1]):\n",
    "            if i+newDir[0]>=0 and i+newDir[0]<len(puzzle) and j+newDir[1]>=0 and j+newDir[1]<len(puzzle[0]):\n",
    "                neighs.append((i+newDir[0],j+newDir[1],newDir,1,puzzle[i+newDir[0]][j+newDir[1]]))\n",
    "    neighbors[n] = neighs\n",
    "startNode = (0,0,(0,0),0,puzzle[0][0])\n",
    "endNode = (len(puzzle)-1,len(puzzle[0])-1,(0,0),0,puzzle[len(puzzle)-1][len(puzzle[0])-1])\n",
    "startNeighs = []\n",
    "for dir in [(0,1), (1,0)]:\n",
    "    startNeigh = (0,0,dir,1,puzzle[0][0])\n",
    "    startNeighs.append(startNeigh)\n",
    "neighbors[startNode] = startNeighs\n",
    "endNeighs = []\n",
    "for dir in [(0,1), (1,0)]:\n",
    "    for k in range(1,4):\n",
    "        endNeigh = (len(puzzle)-1,len(puzzle[0])-1,dir,k,puzzle[len(puzzle)-1][len(puzzle[0])-1])\n",
    "        neighbors[endNeigh].append(endNode)\n",
    "neighbors[endNode] = []\n",
    "gridNodes.add(startNode)\n",
    "gridNodes.add(endNode)"
   ]
  },
  {
   "cell_type": "code",
   "execution_count": 20,
   "metadata": {},
   "outputs": [
    {
     "name": "stdout",
     "output_type": "stream",
     "text": [
      "916\n"
     ]
    }
   ],
   "source": [
    "ans1 = dijkstra(gridNodes, startNode, endNode, neighbors)[0]-puzzle[0][0]-puzzle[len(puzzle)-1][len(puzzle[0])-1]\n",
    "print(ans1)"
   ]
  },
  {
   "cell_type": "code",
   "execution_count": 21,
   "metadata": {},
   "outputs": [],
   "source": [
    "newGridNodes = set()\n",
    "#a node is a tuple (i,j,dir,steps,val)\n",
    "newNeighbors = {}\n",
    "for i in range(len(puzzle)):\n",
    "    for j in range(len(puzzle[0])):\n",
    "        val = puzzle[i][j]\n",
    "        possDirs = [(0,1),(0,-1),(1,0),(-1,0)]\n",
    "        for dir in possDirs:\n",
    "            for k in range(11):\n",
    "                #check if the node is valid\n",
    "                #if i-(k-1)*dir[0]>=0 and i-(k-1)*dir[0]<len(puzzle) and j-(k-1)*dir[1]>=0 and j-(k-1)*dir[1]<len(puzzle[0]):\n",
    "                newGridNodes.add((i,j,dir,k,val))\n",
    "for n in newGridNodes:\n",
    "    i, j, dir, steps, val = n\n",
    "    neighs = []\n",
    "    if steps<10:\n",
    "        if i+dir[0]>=0 and i+dir[0]<len(puzzle) and j+dir[1]>=0 and j+dir[1]<len(puzzle[0]):\n",
    "            neighs.append((i+dir[0],j+dir[1],dir,steps+1,puzzle[i+dir[0]][j+dir[1]]))\n",
    "    possDirs = [(0,1),(0,-1),(1,0),(-1,0)]\n",
    "    if steps>=4:\n",
    "        for newDir in possDirs:\n",
    "            if newDir!=dir and newDir!=(-dir[0],-dir[1]):\n",
    "                if i+newDir[0]>=0 and i+newDir[0]<len(puzzle) and j+newDir[1]>=0 and j+newDir[1]<len(puzzle[0]):\n",
    "                    neighs.append((i+newDir[0],j+newDir[1],newDir,1,puzzle[i+newDir[0]][j+newDir[1]]))\n",
    "    newNeighbors[n] = neighs\n",
    "startNode = (0,0,(0,0),0,puzzle[0][0])\n",
    "endNode = (len(puzzle)-1,len(puzzle[0])-1,(0,0),0,puzzle[len(puzzle)-1][len(puzzle[0])-1])\n",
    "startNeighs = []\n",
    "for dir in [(0,1), (1,0)]:\n",
    "    startNeigh = (0,0,dir,1,puzzle[0][0])\n",
    "    startNeighs.append(startNeigh)\n",
    "newNeighbors[startNode] = startNeighs\n",
    "endNeighs = []\n",
    "for dir in [(0,1), (1,0)]:\n",
    "    for k in range(4,11):\n",
    "        endNeigh = (len(puzzle)-1,len(puzzle[0])-1,dir,k,puzzle[len(puzzle)-1][len(puzzle[0])-1])\n",
    "        newNeighbors[endNeigh].append(endNode)\n",
    "newNeighbors[endNode] = []\n",
    "newGridNodes.add(startNode)\n",
    "newGridNodes.add(endNode)"
   ]
  },
  {
   "cell_type": "code",
   "execution_count": 22,
   "metadata": {},
   "outputs": [
    {
     "name": "stdout",
     "output_type": "stream",
     "text": [
      "1067\n"
     ]
    }
   ],
   "source": [
    "ans2 = dijkstra(newGridNodes, startNode, endNode, newNeighbors)[0]-puzzle[0][0]-puzzle[len(puzzle)-1][len(puzzle[0])-1]\n",
    "\n",
    "print(ans2)"
   ]
  },
  {
   "cell_type": "code",
   "execution_count": null,
   "metadata": {},
   "outputs": [],
   "source": []
  }
 ],
 "metadata": {
  "kernelspec": {
   "display_name": "Python 3",
   "language": "python",
   "name": "python3"
  },
  "language_info": {
   "codemirror_mode": {
    "name": "ipython",
    "version": 3
   },
   "file_extension": ".py",
   "mimetype": "text/x-python",
   "name": "python",
   "nbconvert_exporter": "python",
   "pygments_lexer": "ipython3",
   "version": "3.11.0"
  }
 },
 "nbformat": 4,
 "nbformat_minor": 2
}
