{
 "cells": [
  {
   "cell_type": "code",
   "execution_count": 20,
   "metadata": {},
   "outputs": [],
   "source": [
    "puzzle = open(\"AoC18.txt\").read().splitlines()\n",
    "puzzle = [p.split(\" \") for p in puzzle]\n",
    "puzzle = [[p[0], int(p[1]), p[2]] for p in puzzle]"
   ]
  },
  {
   "cell_type": "code",
   "execution_count": 21,
   "metadata": {},
   "outputs": [],
   "source": [
    "loop = set()\n",
    "start = (0,0)\n",
    "for p in puzzle:\n",
    "    dir = p[0]\n",
    "    steps = p[1]\n",
    "    for i in range(steps):\n",
    "        if dir == \"U\":\n",
    "            start = (start[0], start[1]+1)\n",
    "        elif dir == \"D\":\n",
    "            start = (start[0], start[1]-1)\n",
    "        elif dir == \"L\":\n",
    "            start = (start[0]-1, start[1])\n",
    "        elif dir == \"R\":\n",
    "            start = (start[0]+1, start[1])\n",
    "        loop.add(start)"
   ]
  },
  {
   "cell_type": "code",
   "execution_count": 22,
   "metadata": {},
   "outputs": [
    {
     "name": "stdout",
     "output_type": "stream",
     "text": [
      "58550\n"
     ]
    }
   ],
   "source": [
    "getOut = set()\n",
    "minX = min([p[0] for p in loop])\n",
    "maxX = max([p[0] for p in loop])\n",
    "minY = min([p[1] for p in loop])\n",
    "maxY = max([p[1] for p in loop])\n",
    "floodStart = (minX-1, minY-1)\n",
    "flood = [floodStart]\n",
    "visited = set()\n",
    "#floodfill starting with floodstart, not hitting loop, \n",
    "#[minX-1, maxX+1]x[minY-1, maxY+1]\n",
    "ctr = 0\n",
    "while flood:\n",
    "    #print(ctr)\n",
    "    current = flood.pop()\n",
    "    if current in loop:\n",
    "        continue\n",
    "    if current in visited:\n",
    "        continue\n",
    "    visited.add(current)\n",
    "\n",
    "    getOut.add(current)\n",
    "\n",
    "    if current[0] > minX-1:\n",
    "        flood.append((current[0]-1, current[1]))\n",
    "    if current[0] < maxX+1:\n",
    "        flood.append((current[0]+1, current[1]))\n",
    "    if current[1] > minY-1:\n",
    "        flood.append((current[0], current[1]-1))\n",
    "    if current[1] < maxY+1:\n",
    "        flood.append((current[0], current[1]+1))\n",
    "    ctr+=1\n",
    "#print(getOut)\n",
    "ans1 = (maxX-minX+3)*(maxY-minY+3)-len(getOut)\n",
    "print(ans1)\n",
    "\n"
   ]
  },
  {
   "cell_type": "code",
   "execution_count": 23,
   "metadata": {},
   "outputs": [],
   "source": [
    "def convert(hex):\n",
    "    hexNum = hex[2:-2]\n",
    "    intNum = int(hexNum, 16)\n",
    "    dir = int(hex[-2:-1])\n",
    "    return intNum, dir\n",
    "for p in puzzle:\n",
    "    convert(p[2])"
   ]
  },
  {
   "cell_type": "code",
   "execution_count": 24,
   "metadata": {},
   "outputs": [
    {
     "name": "stderr",
     "output_type": "stream",
     "text": [
      "100%|██████████| 670/670 [00:00<00:00, 1188238.34it/s]"
     ]
    },
    {
     "name": "stdout",
     "output_type": "stream",
     "text": [
      "671\n"
     ]
    },
    {
     "name": "stderr",
     "output_type": "stream",
     "text": [
      "\n"
     ]
    }
   ],
   "source": [
    "from tqdm import tqdm\n",
    "newPoints = []\n",
    "start = (0,0)\n",
    "newPoints.append(start)\n",
    "dirMap = {0:(0,1), 1:(1,0), 2:(0,-1), 3:(-1,0)}\n",
    "for p in tqdm(puzzle):\n",
    "    steps, dir = convert(p[2])\n",
    "    start = (start[0]+steps*dirMap[dir][0], start[1]+steps*dirMap[dir][1])\n",
    "    newPoints.append(start)\n",
    "print(len(newPoints))"
   ]
  },
  {
   "cell_type": "code",
   "execution_count": 25,
   "metadata": {},
   "outputs": [],
   "source": [
    "def shoeLace(points):\n",
    "    #finds area of polygon given points\n",
    "    n = len(points)\n",
    "    area = 0\n",
    "    for i in range(n-1):\n",
    "        area += points[i][0]*points[i+1][1] - points[i+1][0]*points[i][1]\n",
    "    area += points[-1][0]*points[0][1] - points[0][0]*points[-1][1]\n",
    "    return abs(area)/2\n",
    "def perim(points):\n",
    "    #finds perimeter of polygon given points\n",
    "    n = len(points)\n",
    "    perim = 0\n",
    "    for i in range(n-1):\n",
    "        perim += abs(points[i][0]-points[i+1][0]) + abs(points[i][1]-points[i+1][1])\n",
    "    perim += abs(points[-1][0]-points[0][0]) + abs(points[-1][1]-points[0][1])\n",
    "    return perim\n",
    "def picks(points):\n",
    "    #i = A-b/2+1\n",
    "    a = shoeLace(points)\n",
    "    p = perim(points)\n",
    "    i = a - p/2 + 1\n",
    "    return i"
   ]
  },
  {
   "cell_type": "code",
   "execution_count": 26,
   "metadata": {},
   "outputs": [
    {
     "name": "stdout",
     "output_type": "stream",
     "text": [
      "47452118468566\n"
     ]
    }
   ],
   "source": [
    "ans2 = int(picks(newPoints)+perim(newPoints))\n",
    "print(ans2)"
   ]
  }
 ],
 "metadata": {
  "kernelspec": {
   "display_name": "Python 3",
   "language": "python",
   "name": "python3"
  },
  "language_info": {
   "codemirror_mode": {
    "name": "ipython",
    "version": 3
   },
   "file_extension": ".py",
   "mimetype": "text/x-python",
   "name": "python",
   "nbconvert_exporter": "python",
   "pygments_lexer": "ipython3",
   "version": "3.11.0"
  }
 },
 "nbformat": 4,
 "nbformat_minor": 2
}
