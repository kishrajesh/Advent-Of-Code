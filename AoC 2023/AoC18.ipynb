{
 "cells": [
  {
   "cell_type": "code",
   "execution_count": 1,
   "metadata": {},
   "outputs": [],
   "source": [
    "puzzle = open(\"AoC18.txt\").read().splitlines()\n",
    "puzzle = [p.split(\" \") for p in puzzle]\n",
    "puzzle = [[p[0], int(p[1]), p[2]] for p in puzzle]"
   ]
  },
  {
   "cell_type": "code",
   "execution_count": 2,
   "metadata": {},
   "outputs": [],
   "source": [
    "loop = set()\n",
    "start = (0,0)\n",
    "for p in puzzle:\n",
    "    dir = p[0]\n",
    "    steps = p[1]\n",
    "    for i in range(steps):\n",
    "        if dir == \"U\":\n",
    "            start = (start[0], start[1]+1)\n",
    "        elif dir == \"D\":\n",
    "            start = (start[0], start[1]-1)\n",
    "        elif dir == \"L\":\n",
    "            start = (start[0]-1, start[1])\n",
    "        elif dir == \"R\":\n",
    "            start = (start[0]+1, start[1])\n",
    "        loop.add(start)"
   ]
  },
  {
   "cell_type": "code",
   "execution_count": 3,
   "metadata": {},
   "outputs": [
    {
     "name": "stdout",
     "output_type": "stream",
     "text": [
      "58550\n"
     ]
    }
   ],
   "source": [
    "getOut = set()\n",
    "minX = min([p[0] for p in loop])\n",
    "maxX = max([p[0] for p in loop])\n",
    "minY = min([p[1] for p in loop])\n",
    "maxY = max([p[1] for p in loop])\n",
    "floodStart = (minX-1, minY-1)\n",
    "flood = [floodStart]\n",
    "visited = set()\n",
    "#floodfill starting with floodstart, not hitting loop, \n",
    "#[minX-1, maxX+1]x[minY-1, maxY+1]\n",
    "ctr = 0\n",
    "while flood:\n",
    "    #print(ctr)\n",
    "    current = flood.pop()\n",
    "    if current in loop:\n",
    "        continue\n",
    "    if current in visited:\n",
    "        continue\n",
    "    visited.add(current)\n",
    "\n",
    "    getOut.add(current)\n",
    "\n",
    "    if current[0] > minX-1:\n",
    "        flood.append((current[0]-1, current[1]))\n",
    "    if current[0] < maxX+1:\n",
    "        flood.append((current[0]+1, current[1]))\n",
    "    if current[1] > minY-1:\n",
    "        flood.append((current[0], current[1]-1))\n",
    "    if current[1] < maxY+1:\n",
    "        flood.append((current[0], current[1]+1))\n",
    "    ctr+=1\n",
    "#print(getOut)\n",
    "ans1 = (maxX-minX+3)*(maxY-minY+3)-len(getOut)\n",
    "print(ans1)\n",
    "\n"
   ]
  },
  {
   "cell_type": "code",
   "execution_count": 4,
   "metadata": {},
   "outputs": [],
   "source": [
    "def convert(hex):\n",
    "    hexNum = hex[2:-2]\n",
    "    intNum = int(hexNum, 16)\n",
    "    dir = int(hex[-2:-1])\n",
    "    return intNum, dir\n",
    "for p in puzzle:\n",
    "    convert(p[2])"
   ]
  },
  {
   "cell_type": "code",
   "execution_count": 5,
   "metadata": {},
   "outputs": [
    {
     "name": "stderr",
     "output_type": "stream",
     "text": [
      "100%|██████████| 670/670 [01:15<00:00,  8.87it/s]"
     ]
    },
    {
     "name": "stdout",
     "output_type": "stream",
     "text": [
      "98527148\n"
     ]
    },
    {
     "name": "stderr",
     "output_type": "stream",
     "text": [
      "\n"
     ]
    }
   ],
   "source": [
    "from tqdm import tqdm\n",
    "newLoop = set()\n",
    "start = (0,0)\n",
    "for p in tqdm(puzzle):\n",
    "    steps, dir = convert(p[2])\n",
    "    for i in range(steps):\n",
    "        if dir == 0:\n",
    "            start = (start[0], start[1]+1)\n",
    "        elif dir == 1:\n",
    "            start = (start[0]+1, start[1])\n",
    "        elif dir == 2:\n",
    "            start = (start[0], start[1]-1)\n",
    "        elif dir == 3:\n",
    "            start = (start[0]-1, start[1])\n",
    "        newLoop.add(start)\n",
    "print(len(newLoop))"
   ]
  },
  {
   "cell_type": "code",
   "execution_count": null,
   "metadata": {},
   "outputs": [],
   "source": [
    "#get min/max x/y without making a new set\n",
    "newLoop = list(newLoop)\n",
    "newLoop.sort(lambda x: x[0])"
   ]
  },
  {
   "cell_type": "code",
   "execution_count": null,
   "metadata": {},
   "outputs": [
    {
     "ename": "KeyboardInterrupt",
     "evalue": "",
     "output_type": "error",
     "traceback": [
      "\u001b[0;31m---------------------------------------------------------------------------\u001b[0m",
      "\u001b[0;31mKeyboardInterrupt\u001b[0m                         Traceback (most recent call last)",
      "Cell \u001b[0;32mIn[6], line 4\u001b[0m\n\u001b[1;32m      2\u001b[0m minX2 \u001b[38;5;241m=\u001b[39m \u001b[38;5;28mmin\u001b[39m([p[\u001b[38;5;241m0\u001b[39m] \u001b[38;5;28;01mfor\u001b[39;00m p \u001b[38;5;129;01min\u001b[39;00m newLoop])\n\u001b[1;32m      3\u001b[0m maxX2 \u001b[38;5;241m=\u001b[39m \u001b[38;5;28mmax\u001b[39m([p[\u001b[38;5;241m0\u001b[39m] \u001b[38;5;28;01mfor\u001b[39;00m p \u001b[38;5;129;01min\u001b[39;00m newLoop])\n\u001b[0;32m----> 4\u001b[0m minY2 \u001b[38;5;241m=\u001b[39m \u001b[38;5;28mmin\u001b[39m(\u001b[43m[\u001b[49m\u001b[43mp\u001b[49m\u001b[43m[\u001b[49m\u001b[38;5;241;43m1\u001b[39;49m\u001b[43m]\u001b[49m\u001b[43m \u001b[49m\u001b[38;5;28;43;01mfor\u001b[39;49;00m\u001b[43m \u001b[49m\u001b[43mp\u001b[49m\u001b[43m \u001b[49m\u001b[38;5;129;43;01min\u001b[39;49;00m\u001b[43m \u001b[49m\u001b[43mnewLoop\u001b[49m\u001b[43m]\u001b[49m)\n\u001b[1;32m      5\u001b[0m maxY2 \u001b[38;5;241m=\u001b[39m \u001b[38;5;28mmax\u001b[39m([p[\u001b[38;5;241m1\u001b[39m] \u001b[38;5;28;01mfor\u001b[39;00m p \u001b[38;5;129;01min\u001b[39;00m newLoop])\n\u001b[1;32m      6\u001b[0m floodStart2 \u001b[38;5;241m=\u001b[39m (minX2\u001b[38;5;241m-\u001b[39m\u001b[38;5;241m1\u001b[39m, minY2\u001b[38;5;241m-\u001b[39m\u001b[38;5;241m1\u001b[39m)\n",
      "Cell \u001b[0;32mIn[6], line 4\u001b[0m, in \u001b[0;36m<listcomp>\u001b[0;34m(.0)\u001b[0m\n\u001b[1;32m      2\u001b[0m minX2 \u001b[38;5;241m=\u001b[39m \u001b[38;5;28mmin\u001b[39m([p[\u001b[38;5;241m0\u001b[39m] \u001b[38;5;28;01mfor\u001b[39;00m p \u001b[38;5;129;01min\u001b[39;00m newLoop])\n\u001b[1;32m      3\u001b[0m maxX2 \u001b[38;5;241m=\u001b[39m \u001b[38;5;28mmax\u001b[39m([p[\u001b[38;5;241m0\u001b[39m] \u001b[38;5;28;01mfor\u001b[39;00m p \u001b[38;5;129;01min\u001b[39;00m newLoop])\n\u001b[0;32m----> 4\u001b[0m minY2 \u001b[38;5;241m=\u001b[39m \u001b[38;5;28mmin\u001b[39m([p[\u001b[38;5;241m1\u001b[39m] \u001b[38;5;28;01mfor\u001b[39;00m p \u001b[38;5;129;01min\u001b[39;00m newLoop])\n\u001b[1;32m      5\u001b[0m maxY2 \u001b[38;5;241m=\u001b[39m \u001b[38;5;28mmax\u001b[39m([p[\u001b[38;5;241m1\u001b[39m] \u001b[38;5;28;01mfor\u001b[39;00m p \u001b[38;5;129;01min\u001b[39;00m newLoop])\n\u001b[1;32m      6\u001b[0m floodStart2 \u001b[38;5;241m=\u001b[39m (minX2\u001b[38;5;241m-\u001b[39m\u001b[38;5;241m1\u001b[39m, minY2\u001b[38;5;241m-\u001b[39m\u001b[38;5;241m1\u001b[39m)\n",
      "\u001b[0;31mKeyboardInterrupt\u001b[0m: "
     ]
    }
   ],
   "source": [
    "getOut2 = set()\n",
    "minX2 = min([p[0] for p in newLoop])\n",
    "maxX2 = max([p[0] for p in newLoop])\n",
    "minY2 = min([p[1] for p in newLoop])\n",
    "maxY2 = max([p[1] for p in newLoop])\n",
    "floodStart2 = (minX2-1, minY2-1)\n",
    "flood2 = [floodStart2]\n",
    "visited2 = set()\n",
    "#floodfill starting with floodstart, not hitting loop, \n",
    "#[minX-1, maxX+1]x[minY-1, maxY+1]\n",
    "ctr = 0\n",
    "while flood2:\n",
    "    print(ctr*100/(maxX2-minX2+3)/(maxY2-minY2+3))\n",
    "    current = flood2.pop()\n",
    "    if current in newLoop:\n",
    "        continue\n",
    "    if current in visited2:\n",
    "        continue\n",
    "    visited2.add(current)\n",
    "\n",
    "    getOut2.add(current)\n",
    "\n",
    "    if current[0] > minX2-1:\n",
    "        flood2.append((current[0]-1, current[1]))\n",
    "    if current[0] < maxX2+1:\n",
    "        flood2.append((current[0]+1, current[1]))\n",
    "    if current[1] > minY2-1:\n",
    "        flood2.append((current[0], current[1]-1))\n",
    "    if current[1] < maxY2+1:\n",
    "        flood2.append((current[0], current[1]+1))\n",
    "    ctr+=1\n",
    "\n",
    "#print(getOut)\n",
    "ans2 = (maxX2-minX2+3)*(maxY2-minY2+3)-len(getOut2)\n",
    "print(ans2)"
   ]
  },
  {
   "cell_type": "code",
   "execution_count": null,
   "metadata": {},
   "outputs": [],
   "source": []
  }
 ],
 "metadata": {
  "kernelspec": {
   "display_name": "Python 3",
   "language": "python",
   "name": "python3"
  },
  "language_info": {
   "codemirror_mode": {
    "name": "ipython",
    "version": 3
   },
   "file_extension": ".py",
   "mimetype": "text/x-python",
   "name": "python",
   "nbconvert_exporter": "python",
   "pygments_lexer": "ipython3",
   "version": "3.11.0"
  }
 },
 "nbformat": 4,
 "nbformat_minor": 2
}
