{
 "cells": [
  {
   "cell_type": "code",
   "execution_count": 3,
   "metadata": {},
   "outputs": [],
   "source": [
    "puzzle = open(\"AoC15.txt\").read().splitlines()\n",
    "puzzle = puzzle[0].split(\",\")"
   ]
  },
  {
   "cell_type": "code",
   "execution_count": 6,
   "metadata": {},
   "outputs": [],
   "source": [
    "def HASH(s):\n",
    "    curr = 0\n",
    "    for i in range(len(s)):\n",
    "        curr = (curr+ord(s[i]))*17%256\n",
    "    return curr"
   ]
  },
  {
   "cell_type": "code",
   "execution_count": 7,
   "metadata": {},
   "outputs": [
    {
     "name": "stdout",
     "output_type": "stream",
     "text": [
      "494980\n"
     ]
    }
   ],
   "source": [
    "ans1 = 0\n",
    "for p in puzzle:\n",
    "    ans1 += HASH(p)\n",
    "print(ans1)"
   ]
  },
  {
   "cell_type": "code",
   "execution_count": 9,
   "metadata": {},
   "outputs": [],
   "source": [
    "def update(hashMap, s):\n",
    "    if(\"-\" in s):\n",
    "        label = s[:-1]\n",
    "        box = HASH(label)\n",
    "        for i in range(len(hashMap[box])):\n",
    "            if(hashMap[box][i][0] == label):\n",
    "                hashMap[box].remove(hashMap[box][i])\n",
    "                break\n",
    "    else:\n",
    "        label, val = s.split(\"=\")\n",
    "        val = int(val)\n",
    "        box = HASH(label)\n",
    "        for i in range(len(hashMap[box])):\n",
    "            if(hashMap[box][i][0] == label):\n",
    "                hashMap[box][i][1] = val\n",
    "                break\n",
    "        else:\n",
    "            hashMap[box].append([label, val])\n",
    "def getFocusing(hashMap):\n",
    "    tot = 0\n",
    "    for i in range(256):\n",
    "        for j in range(len(hashMap[i])):\n",
    "            lens = hashMap[i][j][0]\n",
    "            val = hashMap[i][j][1]\n",
    "            tot+=(i+1)*(j+1)*val\n",
    "    return tot\n"
   ]
  },
  {
   "cell_type": "code",
   "execution_count": 10,
   "metadata": {},
   "outputs": [
    {
     "name": "stdout",
     "output_type": "stream",
     "text": [
      "247933\n"
     ]
    }
   ],
   "source": [
    "hashMap = [[] for i in range(256)]\n",
    "for p in puzzle:\n",
    "    update(hashMap, p)\n",
    "ans2 = getFocusing(hashMap)\n",
    "print(ans2)"
   ]
  },
  {
   "cell_type": "code",
   "execution_count": null,
   "metadata": {},
   "outputs": [],
   "source": []
  }
 ],
 "metadata": {
  "kernelspec": {
   "display_name": "Python 3",
   "language": "python",
   "name": "python3"
  },
  "language_info": {
   "codemirror_mode": {
    "name": "ipython",
    "version": 3
   },
   "file_extension": ".py",
   "mimetype": "text/x-python",
   "name": "python",
   "nbconvert_exporter": "python",
   "pygments_lexer": "ipython3",
   "version": "3.11.0"
  }
 },
 "nbformat": 4,
 "nbformat_minor": 2
}
