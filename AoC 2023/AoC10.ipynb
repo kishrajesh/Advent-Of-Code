{
 "cells": [
  {
   "cell_type": "code",
   "execution_count": 104,
   "metadata": {},
   "outputs": [],
   "source": [
    "puzzle = open(\"AoC10.txt\").read().splitlines()"
   ]
  },
  {
   "cell_type": "code",
   "execution_count": 105,
   "metadata": {},
   "outputs": [],
   "source": [
    "def checkSurr(grid, i, j):\n",
    "    #assumes grid[i][j]==\"S\"\n",
    "    up, down, left, right = grid[i-1][j], grid[i+1][j], grid[i][j-1], grid[i][j+1]\n",
    "    if(up in [\"|\", \"7\", \"F\"] and down in [\"|\", \"L\", \"J\"]):\n",
    "        return [(i-1,j), (i+1,j)]\n",
    "    elif(left in [\"-\", \"L\", \"F\"] and right in [\"-\", \"7\", \"J\"]):\n",
    "        return [(i,j-1), (i,j+1)]\n",
    "    elif(up in [\"|\", \"7\", \"F\"] and right in [\"-\", \"7\", \"J\"]):\n",
    "        return [(i-1,j), (i,j+1)]\n",
    "    elif(down in [\"|\", \"L\", \"J\"] and right in [\"-\", \"7\", \"J\"]):\n",
    "        return [(i+1,j), (i,j+1)]\n",
    "    elif(down in [\"|\", \"L\", \"J\"] and left in [\"-\", \"L\", \"F\"]):\n",
    "        return [(i+1,j), (i,j-1)]\n",
    "    elif(up in [\"|\", \"7\", \"F\"] and left in [\"-\", \"L\", \"F\"]):\n",
    "        return [(i-1,j), (i,j-1)]\n",
    "    return []"
   ]
  },
  {
   "cell_type": "code",
   "execution_count": 106,
   "metadata": {},
   "outputs": [],
   "source": [
    "def getNeighbors(grid, x, y):\n",
    "    nays = []\n",
    "    if(grid[x][y]==\"|\"):\n",
    "        #check up and down for corresponding\n",
    "        if(grid[x-1][y] in [\"|\", \"7\", \"F\", \"S\"]):\n",
    "            nays.append((x-1,y))\n",
    "        if(grid[x+1][y] in [\"|\", \"L\", \"J\", \"S\"]):\n",
    "            nays.append((x+1,y))\n",
    "    elif(grid[x][y]==\"-\"):\n",
    "        #check left and right for corresponding\n",
    "        if(grid[x][y-1] in [\"-\", \"L\", \"F\", \"S\"]):\n",
    "            nays.append((x,y-1))\n",
    "        if(grid[x][y+1] in [\"-\", \"7\", \"J\", \"S\"]):\n",
    "            nays.append((x,y+1))\n",
    "    elif(grid[x][y]==\"L\"):\n",
    "        #check up and right for corresponding\n",
    "        if(grid[x-1][y] in [\"|\", \"7\", \"F\", \"S\"]):\n",
    "            nays.append((x-1,y))\n",
    "        if(grid[x][y+1] in [\"-\", \"7\", \"J\", \"S\"]):\n",
    "            nays.append((x,y+1))\n",
    "    elif(grid[x][y]==\"F\"):\n",
    "        #check down and right for corresponding\n",
    "        if(grid[x+1][y] in [\"|\", \"L\", \"J\", \"S\"]):\n",
    "            nays.append((x+1,y))\n",
    "        if(grid[x][y+1] in [\"-\", \"7\", \"J\", \"S\"]):\n",
    "            nays.append((x,y+1))\n",
    "    elif(grid[x][y]==\"7\"):\n",
    "        #check down and left for corresponding\n",
    "        if(grid[x+1][y] in [\"|\", \"L\", \"J\", \"S\"]):\n",
    "            nays.append((x+1,y))\n",
    "        if(grid[x][y-1] in [\"-\", \"L\", \"F\", \"S\"]):\n",
    "            nays.append((x,y-1))\n",
    "    elif(grid[x][y]==\"J\"):\n",
    "        #check up and left for corresponding\n",
    "        if(grid[x-1][y] in [\"|\", \"7\", \"F\", \"S\"]):\n",
    "            nays.append((x-1,y))\n",
    "        if(grid[x][y-1] in [\"-\", \"L\", \"F\", \"S\"]):\n",
    "            nays.append((x,y-1))\n",
    "    elif(grid[x][y]==\"S\"):\n",
    "        return checkSurr(grid, x, y)\n",
    "    return nays"
   ]
  },
  {
   "cell_type": "code",
   "execution_count": 107,
   "metadata": {},
   "outputs": [
    {
     "name": "stdout",
     "output_type": "stream",
     "text": [
      "[76, 109]\n"
     ]
    }
   ],
   "source": [
    "start = [0,0]\n",
    "for i in range(len(puzzle)):\n",
    "    if(\"S\" in puzzle[i]):\n",
    "        start = [i, puzzle[i].index(\"S\")]\n",
    "        break\n",
    "print(start)"
   ]
  },
  {
   "cell_type": "code",
   "execution_count": 108,
   "metadata": {},
   "outputs": [
    {
     "name": "stdout",
     "output_type": "stream",
     "text": [
      "6697\n"
     ]
    }
   ],
   "source": [
    "visited = [start]\n",
    "queue = [(start, 0)]\n",
    "grid = [list(x) for x in puzzle]\n",
    "maxStep = 0\n",
    "while(len(queue)>0):\n",
    "    (currPos, step) = queue.pop(0)\n",
    "    for nay in getNeighbors(grid, currPos[0], currPos[1]):\n",
    "        if(nay not in visited):\n",
    "            visited.append(nay)\n",
    "            queue.append((nay, step+1))\n",
    "            maxStep = max(maxStep, step+1)\n",
    "ans1 = maxStep\n",
    "print(ans1)"
   ]
  },
  {
   "cell_type": "code",
   "execution_count": 111,
   "metadata": {},
   "outputs": [],
   "source": [
    "def rayCast(grid, x, y, loop):\n",
    "    inter = []\n",
    "    currY = y\n",
    "    right = False\n",
    "    if(\"S\" in grid[x]):\n",
    "        loc = grid[x].index(\"S\")\n",
    "        if(loc < y):\n",
    "            right = True  \n",
    "    if(right):\n",
    "        while(currY<len(grid[x])):\n",
    "            if((x, currY) in loop and grid[x][currY] in [\"|\", \"7\", \"J\", \"L\", \"F\"]):\n",
    "                inter.append(grid[x][currY])              \n",
    "            currY += 1\n",
    "    else:\n",
    "        while(currY>=0):\n",
    "            if((x, currY) in loop and grid[x][currY] in [\"|\", \"7\", \"J\", \"L\", \"F\"]):\n",
    "                inter.append(grid[x][currY])\n",
    "            currY -= 1\n",
    "    count = 0\n",
    "    if(right):\n",
    "        i = 0\n",
    "        while(i<len(inter)):\n",
    "            if((inter[i]==\"L\" and inter[i+1]==\"7\") or (inter[i]==\"F\" and inter[i+1]==\"J\")):\n",
    "                count += 1\n",
    "                i += 2\n",
    "            else:\n",
    "                count +=1\n",
    "                i += 1\n",
    "    else:\n",
    "        i = 0\n",
    "        while(i<len(inter)):\n",
    "            if((inter[i]==\"7\" and inter[i+1]==\"L\") or (inter[i]==\"J\" and inter[i+1]==\"F\")):\n",
    "                count += 1\n",
    "                i += 2\n",
    "            else:\n",
    "                count +=1\n",
    "                i += 1\n",
    "    return count"
   ]
  },
  {
   "cell_type": "code",
   "execution_count": 113,
   "metadata": {},
   "outputs": [
    {
     "name": "stderr",
     "output_type": "stream",
     "text": [
      "100%|██████████| 140/140 [01:06<00:00,  2.10it/s]"
     ]
    },
    {
     "name": "stdout",
     "output_type": "stream",
     "text": [
      "423\n"
     ]
    },
    {
     "name": "stderr",
     "output_type": "stream",
     "text": [
      "\n"
     ]
    }
   ],
   "source": [
    "from tqdm import tqdm\n",
    "ans2 = 0\n",
    "for i in tqdm(range(len(grid))):\n",
    "    for j in range(len(grid[i])):\n",
    "        if((i,j) not in visited):\n",
    "            intSec = rayCast(grid, i, j, visited)\n",
    "            if(intSec%2==1):\n",
    "                ans2 += 1\n",
    "print(ans2)"
   ]
  }
 ],
 "metadata": {
  "kernelspec": {
   "display_name": "Python 3",
   "language": "python",
   "name": "python3"
  },
  "language_info": {
   "codemirror_mode": {
    "name": "ipython",
    "version": 3
   },
   "file_extension": ".py",
   "mimetype": "text/x-python",
   "name": "python",
   "nbconvert_exporter": "python",
   "pygments_lexer": "ipython3",
   "version": "3.11.0"
  }
 },
 "nbformat": 4,
 "nbformat_minor": 2
}
