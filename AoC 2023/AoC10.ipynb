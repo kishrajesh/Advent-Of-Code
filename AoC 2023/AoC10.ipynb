{
 "cells": [
  {
   "cell_type": "code",
   "execution_count": 3,
   "metadata": {},
   "outputs": [],
   "source": [
    "puzzle = open(\"AoC10.txt\").read().splitlines()"
   ]
  },
  {
   "cell_type": "code",
   "execution_count": 4,
   "metadata": {},
   "outputs": [],
   "source": [
    "def checkSurr(grid, i, j):\n",
    "    #assumes grid[i][j]==\"S\"\n",
    "    up, down, left, right = grid[i-1][j], grid[i+1][j], grid[i][j-1], grid[i][j+1]\n",
    "    if(up in [\"|\", \"7\", \"F\"] and down in [\"|\", \"L\", \"J\"]):\n",
    "        return [(i-1,j), (i+1,j)]\n",
    "    elif(left in [\"-\", \"L\", \"F\"] and right in [\"-\", \"7\", \"J\"]):\n",
    "        return [(i,j-1), (i,j+1)]\n",
    "    elif(up in [\"|\", \"7\", \"F\"] and right in [\"-\", \"7\", \"J\"]):\n",
    "        return [(i-1,j), (i,j+1)]\n",
    "    elif(down in [\"|\", \"L\", \"J\"] and right in [\"-\", \"7\", \"J\"]):\n",
    "        return [(i+1,j), (i,j+1)]\n",
    "    elif(down in [\"|\", \"L\", \"J\"] and left in [\"-\", \"L\", \"F\"]):\n",
    "        return [(i+1,j), (i,j-1)]\n",
    "    elif(up in [\"|\", \"7\", \"F\"] and left in [\"-\", \"L\", \"F\"]):\n",
    "        return [(i-1,j), (i,j-1)]\n",
    "    return []"
   ]
  },
  {
   "cell_type": "code",
   "execution_count": 5,
   "metadata": {},
   "outputs": [],
   "source": [
    "def getNeighbors(grid, x, y):\n",
    "    nays = []\n",
    "    if(grid[x][y]==\"|\"):\n",
    "        #check up and down for corresponding\n",
    "        if(grid[x-1][y] in [\"|\", \"7\", \"F\", \"S\"]):\n",
    "            nays.append((x-1,y))\n",
    "        if(grid[x+1][y] in [\"|\", \"L\", \"J\", \"S\"]):\n",
    "            nays.append((x+1,y))\n",
    "    elif(grid[x][y]==\"-\"):\n",
    "        #check left and right for corresponding\n",
    "        if(grid[x][y-1] in [\"-\", \"L\", \"F\", \"S\"]):\n",
    "            nays.append((x,y-1))\n",
    "        if(grid[x][y+1] in [\"-\", \"7\", \"J\", \"S\"]):\n",
    "            nays.append((x,y+1))\n",
    "    elif(grid[x][y]==\"L\"):\n",
    "        #check up and right for corresponding\n",
    "        if(grid[x-1][y] in [\"|\", \"7\", \"F\", \"S\"]):\n",
    "            nays.append((x-1,y))\n",
    "        if(grid[x][y+1] in [\"-\", \"7\", \"J\", \"S\"]):\n",
    "            nays.append((x,y+1))\n",
    "    elif(grid[x][y]==\"F\"):\n",
    "        #check down and right for corresponding\n",
    "        if(grid[x+1][y] in [\"|\", \"L\", \"J\", \"S\"]):\n",
    "            nays.append((x+1,y))\n",
    "        if(grid[x][y+1] in [\"-\", \"7\", \"J\", \"S\"]):\n",
    "            nays.append((x,y+1))\n",
    "    elif(grid[x][y]==\"7\"):\n",
    "        #check down and left for corresponding\n",
    "        if(grid[x+1][y] in [\"|\", \"L\", \"J\", \"S\"]):\n",
    "            nays.append((x+1,y))\n",
    "        if(grid[x][y-1] in [\"-\", \"L\", \"F\", \"S\"]):\n",
    "            nays.append((x,y-1))\n",
    "    elif(grid[x][y]==\"J\"):\n",
    "        #check up and left for corresponding\n",
    "        if(grid[x-1][y] in [\"|\", \"7\", \"F\", \"S\"]):\n",
    "            nays.append((x-1,y))\n",
    "        if(grid[x][y-1] in [\"-\", \"L\", \"F\", \"S\"]):\n",
    "            nays.append((x,y-1))\n",
    "    elif(grid[x][y]==\"S\"):\n",
    "        return checkSurr(grid, x, y)\n",
    "    return nays"
   ]
  },
  {
   "cell_type": "code",
   "execution_count": 6,
   "metadata": {},
   "outputs": [
    {
     "name": "stdout",
     "output_type": "stream",
     "text": [
      "[76, 109]\n"
     ]
    }
   ],
   "source": [
    "start = [0,0]\n",
    "for i in range(len(puzzle)):\n",
    "    if(\"S\" in puzzle[i]):\n",
    "        start = [i, puzzle[i].index(\"S\")]\n",
    "        break\n",
    "print(start)"
   ]
  },
  {
   "cell_type": "code",
   "execution_count": 7,
   "metadata": {},
   "outputs": [
    {
     "name": "stdout",
     "output_type": "stream",
     "text": [
      "6697\n"
     ]
    }
   ],
   "source": [
    "visited = [start]\n",
    "queue = [(start, 0)]\n",
    "grid = [list(x) for x in puzzle]\n",
    "maxStep = 0\n",
    "while(len(queue)>0):\n",
    "    (currPos, step) = queue.pop(0)\n",
    "    for nay in getNeighbors(grid, currPos[0], currPos[1]):\n",
    "        if(nay not in visited):\n",
    "            visited.append(nay)\n",
    "            queue.append((nay, step+1))\n",
    "            maxStep = max(maxStep, step+1)\n",
    "ans1 = maxStep\n",
    "print(ans1)"
   ]
  },
  {
   "cell_type": "code",
   "execution_count": 8,
   "metadata": {},
   "outputs": [],
   "source": [
    "def floodfill(grid, x, y, borders):\n",
    "    tot = 1\n",
    "    dirs = [(0,1), (0,-1), (1,0), (-1,0)]\n",
    "    visited = [(x,y)]\n",
    "    queue = [(x,y)]\n",
    "    while(len(queue)>0):\n",
    "        (currX, currY) = queue.pop(0)\n",
    "        for (dx, dy) in dirs:\n",
    "            if((currX+dx, currY+dy) not in visited and grid[currX+dx][currY+dy] in borders):\n",
    "                visited.append((currX+dx, currY+dy))\n",
    "                queue.append((currX+dx, currY+dy))\n",
    "                tot += 1\n",
    "    return tot"
   ]
  },
  {
   "cell_type": "code",
   "execution_count": 11,
   "metadata": {},
   "outputs": [
    {
     "name": "stdout",
     "output_type": "stream",
     "text": [
      "13396\n"
     ]
    }
   ],
   "source": [
    "loop = [start]\n",
    "visit = [start]\n",
    "x,y = getNeighbors(grid, start[0], start[1])[0]\n",
    "while((x,y) not in loop):\n",
    "    loop.append((x,y))\n",
    "    visit.append((x,y))\n",
    "    a,b = getNeighbors(grid, x, y)\n",
    "    if(a in visit):\n",
    "        x,y = b\n",
    "    else:\n",
    "        x,y = a\n",
    "loop.append((x,y))\n",
    "visit.append((x,y))\n",
    "print(len(loop))"
   ]
  },
  {
   "cell_type": "code",
   "execution_count": null,
   "metadata": {},
   "outputs": [],
   "source": []
  }
 ],
 "metadata": {
  "kernelspec": {
   "display_name": "Python 3",
   "language": "python",
   "name": "python3"
  },
  "language_info": {
   "codemirror_mode": {
    "name": "ipython",
    "version": 3
   },
   "file_extension": ".py",
   "mimetype": "text/x-python",
   "name": "python",
   "nbconvert_exporter": "python",
   "pygments_lexer": "ipython3",
   "version": "3.11.0"
  }
 },
 "nbformat": 4,
 "nbformat_minor": 2
}
