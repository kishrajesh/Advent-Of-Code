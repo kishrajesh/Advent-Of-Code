{
 "cells": [
  {
   "cell_type": "code",
   "execution_count": 3,
   "metadata": {},
   "outputs": [],
   "source": [
    "puzzle = open(\"AoC12.txt\").read().splitlines()\n",
    "puzzle = [p.split(\" \") for p in puzzle]\n",
    "puzzle = [[p[0], p[1].split(\",\")] for p in puzzle]\n",
    "puzzle = [[p[0], [int(x) for x in p[1]]] for p in puzzle]"
   ]
  },
  {
   "cell_type": "code",
   "execution_count": 8,
   "metadata": {},
   "outputs": [],
   "source": [
    "from tqdm import tqdm\n",
    "def genPoss(rep):\n",
    "    #generate list of all possibilities when you replace ? with # or .\n",
    "    if \"?\" not in rep:\n",
    "        return [rep]\n",
    "    else:\n",
    "        return genPoss(rep.replace(\"?\", \"#\", 1)) + genPoss(rep.replace(\"?\", \".\", 1))\n",
    "def check(rep, order):\n",
    "    #split rep into list of groups of # by removing the .\n",
    "    groups = [g for g in rep.split(\".\") if g != \"\"]\n",
    "    groups = [len(g) for g in groups]\n",
    "    if(groups == order):\n",
    "        return True\n",
    "    return False\n",
    "def combo(rep, order):\n",
    "    poss = genPoss(rep)\n",
    "    tot = 0\n",
    "    for p in tqdm(poss):\n",
    "        if check(p, order):\n",
    "            tot+=1\n",
    "    return tot    "
   ]
  },
  {
   "cell_type": "code",
   "execution_count": 7,
   "metadata": {},
   "outputs": [
    {
     "name": "stderr",
     "output_type": "stream",
     "text": [
      "  0%|          | 0/1000 [00:00<?, ?it/s]"
     ]
    },
    {
     "name": "stderr",
     "output_type": "stream",
     "text": [
      "100%|██████████| 1000/1000 [00:10<00:00, 92.62it/s]"
     ]
    },
    {
     "name": "stdout",
     "output_type": "stream",
     "text": [
      "7939\n"
     ]
    },
    {
     "name": "stderr",
     "output_type": "stream",
     "text": [
      "\n"
     ]
    }
   ],
   "source": [
    "ans1 = 0\n",
    "from tqdm import tqdm\n",
    "for p in tqdm(puzzle):\n",
    "    #p = puzzle[i]\n",
    "    ans1 += combo(p[0], p[1])\n",
    "print(ans1)"
   ]
  },
  {
   "cell_type": "code",
   "execution_count": 9,
   "metadata": {},
   "outputs": [],
   "source": [
    "def unfold(rep):\n",
    "    return (rep+\"?\")*4+rep\n",
    "def unCon(con):\n",
    "    return con*5"
   ]
  },
  {
   "cell_type": "code",
   "execution_count": 10,
   "metadata": {},
   "outputs": [
    {
     "name": "stderr",
     "output_type": "stream",
     "text": [
      "  0%|          | 0/1000 [00:00<?, ?it/s]"
     ]
    }
   ],
   "source": [
    "ans2 = 0\n",
    "from tqdm import tqdm\n",
    "for p in tqdm(puzzle):\n",
    "    #p = puzzle[i]\n",
    "    newRep = unfold(p[0])\n",
    "    newOrder = unCon(p[1])\n",
    "    ans2 += combo(newRep, newOrder)\n",
    "print(ans2)"
   ]
  },
  {
   "cell_type": "code",
   "execution_count": null,
   "metadata": {},
   "outputs": [],
   "source": []
  }
 ],
 "metadata": {
  "kernelspec": {
   "display_name": "Python 3",
   "language": "python",
   "name": "python3"
  },
  "language_info": {
   "codemirror_mode": {
    "name": "ipython",
    "version": 3
   },
   "file_extension": ".py",
   "mimetype": "text/x-python",
   "name": "python",
   "nbconvert_exporter": "python",
   "pygments_lexer": "ipython3",
   "version": "3.11.0"
  }
 },
 "nbformat": 4,
 "nbformat_minor": 2
}
