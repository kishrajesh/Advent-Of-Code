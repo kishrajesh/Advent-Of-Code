{
 "cells": [
  {
   "cell_type": "code",
   "execution_count": 236,
   "metadata": {},
   "outputs": [],
   "source": [
    "puzzle = open(\"AoC12.txt\").read().splitlines()\n",
    "puzzle = [p.split(\" \") for p in puzzle]\n",
    "puzzle = [[p[0], p[1].split(\",\")] for p in puzzle]\n",
    "puzzle = [[p[0], [int(x) for x in p[1]]] for p in puzzle]"
   ]
  },
  {
   "cell_type": "code",
   "execution_count": 237,
   "metadata": {},
   "outputs": [],
   "source": [
    "def unfold(rep):\n",
    "    return (rep+\"?\")*4+rep\n",
    "def unCon(con):\n",
    "    return con*5"
   ]
  },
  {
   "cell_type": "code",
   "execution_count": 238,
   "metadata": {},
   "outputs": [],
   "source": [
    "from functools import lru_cache\n",
    "@lru_cache(maxsize=None)\n",
    "def checkNumPoss(cond, sizes):\n",
    "    #cond is a string of # and . and ?s\n",
    "    #sizes is a list of numbers denoting groups of #s\n",
    "    #? can be either a # or a .\n",
    "    #returns number of possible combinations\n",
    "    tot = 0\n",
    "    if len(sizes) == 0:\n",
    "        if cond == \"\":\n",
    "            return 1\n",
    "        else:\n",
    "            if \"#\" not in cond:\n",
    "                return 1\n",
    "            else:\n",
    "                return 0\n",
    "    if cond == \"\":\n",
    "        return 0\n",
    "    if len(cond) < sizes[0]:\n",
    "        return 0\n",
    "    if cond[0]==\"#\":\n",
    "        flag = True\n",
    "        for i in range(sizes[0]):\n",
    "            if cond[i] == \".\":\n",
    "                flag = False\n",
    "                break\n",
    "        if flag:\n",
    "            if(len(cond) == sizes[0]):\n",
    "                tot+=checkNumPoss(\"\", sizes[1:])\n",
    "            else:\n",
    "                if(cond[sizes[0]] != \"#\"):\n",
    "                    tot+=checkNumPoss(cond[sizes[0]+1:], sizes[1:])\n",
    "    if cond[0] == \".\":\n",
    "        tot+=checkNumPoss(cond[1:], sizes)\n",
    "    if cond[0] == \"?\":\n",
    "        tot+= checkNumPoss(cond[1:], sizes) + checkNumPoss(\"#\"+cond[1:], sizes)\n",
    "    return tot\n"
   ]
  },
  {
   "cell_type": "code",
   "execution_count": 239,
   "metadata": {},
   "outputs": [
    {
     "name": "stdout",
     "output_type": "stream",
     "text": [
      "7939\n"
     ]
    }
   ],
   "source": [
    "ans1 = 0\n",
    "for p in puzzle:\n",
    "    newRep = p[0]\n",
    "    newOrder = p[1]\n",
    "    ans1 += checkNumPoss(newRep, tuple(newOrder))\n",
    "print(ans1) "
   ]
  },
  {
   "cell_type": "code",
   "execution_count": 240,
   "metadata": {},
   "outputs": [
    {
     "name": "stdout",
     "output_type": "stream",
     "text": [
      "850504257483930\n"
     ]
    }
   ],
   "source": [
    "ans2 = 0\n",
    "for p in puzzle:\n",
    "    newRep = unfold(p[0])\n",
    "    newOrder = unCon(p[1])\n",
    "    ans2 += checkNumPoss(newRep, tuple(newOrder))\n",
    "print(ans2) "
   ]
  }
 ],
 "metadata": {
  "kernelspec": {
   "display_name": "Python 3",
   "language": "python",
   "name": "python3"
  },
  "language_info": {
   "codemirror_mode": {
    "name": "ipython",
    "version": 3
   },
   "file_extension": ".py",
   "mimetype": "text/x-python",
   "name": "python",
   "nbconvert_exporter": "python",
   "pygments_lexer": "ipython3",
   "version": "3.11.0"
  }
 },
 "nbformat": 4,
 "nbformat_minor": 2
}
