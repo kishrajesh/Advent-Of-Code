{
 "cells": [
  {
   "cell_type": "code",
   "execution_count": 125,
   "metadata": {},
   "outputs": [],
   "source": [
    "puzzle = open(\"AoC12.txt\").read().splitlines()\n",
    "puzzle = [p.split(\" \") for p in puzzle]\n",
    "puzzle = [[p[0], p[1].split(\",\")] for p in puzzle]\n",
    "puzzle = [[p[0], [int(x) for x in p[1]]] for p in puzzle]"
   ]
  },
  {
   "cell_type": "code",
   "execution_count": 126,
   "metadata": {},
   "outputs": [],
   "source": [
    "from tqdm import tqdm\n",
    "def genPoss(rep):\n",
    "    #generate list of all possibilities when you replace ? with # or .\n",
    "    if \"?\" not in rep:\n",
    "        return [rep]\n",
    "    else:\n",
    "        return genPoss(rep.replace(\"?\", \"#\", 1)) + genPoss(rep.replace(\"?\", \".\", 1))\n",
    "def check(rep, order):\n",
    "    #split rep into list of groups of # by removing the .\n",
    "    groups = [g for g in rep.split(\".\") if g != \"\"]\n",
    "    groups = [len(g) for g in groups]\n",
    "    if(groups == order):\n",
    "        return True\n",
    "    return False\n",
    "def combo(rep, order):\n",
    "    poss = genPoss(rep)\n",
    "    tot = 0\n",
    "    for p in tqdm(poss):\n",
    "        if check(p, order):\n",
    "            tot+=1\n",
    "    return tot    "
   ]
  },
  {
   "cell_type": "code",
   "execution_count": 127,
   "metadata": {},
   "outputs": [
    {
     "name": "stderr",
     "output_type": "stream",
     "text": [
      "100%|██████████| 16/16 [00:00<00:00, 296941.88it/s]\n",
      "100%|██████████| 1/1 [00:00<00:00, 712.83it/s]"
     ]
    },
    {
     "name": "stdout",
     "output_type": "stream",
     "text": [
      "0\n"
     ]
    },
    {
     "name": "stderr",
     "output_type": "stream",
     "text": [
      "\n"
     ]
    }
   ],
   "source": [
    "ans1 = 0\n",
    "from tqdm import tqdm\n",
    "for p in tqdm(puzzle):\n",
    "    #p = puzzle[i]\n",
    "    ans1 += combo(p[0], p[1])\n",
    "print(ans1)"
   ]
  },
  {
   "cell_type": "code",
   "execution_count": 128,
   "metadata": {},
   "outputs": [],
   "source": [
    "def unfold(rep):\n",
    "    return (rep+\"?\")*4+rep\n",
    "def unCon(con):\n",
    "    return con*5"
   ]
  },
  {
   "cell_type": "code",
   "execution_count": 133,
   "metadata": {},
   "outputs": [
    {
     "name": "stderr",
     "output_type": "stream",
     "text": [
      "100%|██████████| 1/1 [00:00<00:00, 23172.95it/s]"
     ]
    },
    {
     "name": "stdout",
     "output_type": "stream",
     "text": [
      "0\n"
     ]
    },
    {
     "name": "stderr",
     "output_type": "stream",
     "text": [
      "\n"
     ]
    }
   ],
   "source": [
    "from functools import lru_cache\n",
    "@lru_cache(maxsize=None)\n",
    "def checkNumPoss(cond, sizes):\n",
    "    #cond is a string of # and . and ?s\n",
    "    #sizes is a list of numbers denoting groups of #s\n",
    "    #? can be either a # or a .\n",
    "    #returns number of possible combinations\n",
    "    tot = 0\n",
    "    if len(sizes) == 0:\n",
    "        if cond == \"\":\n",
    "            return 1\n",
    "        else:\n",
    "            return 0\n",
    "    if cond == \"\":\n",
    "        return 0\n",
    "    if len(cond) < sizes[0]:\n",
    "        return 0\n",
    "    #print(cond, sizes)\n",
    "    if cond[0]==\"#\":\n",
    "        flag = True\n",
    "        for i in range(sizes[0]):\n",
    "            if cond[i] == \".\":\n",
    "                flag = False\n",
    "                break\n",
    "        if flag:\n",
    "            if(len(cond) == sizes[0]):\n",
    "                tot+=checkNumPoss(\"\", sizes[1:])\n",
    "            else:\n",
    "                if(cond[sizes[0]] != \"#\"):\n",
    "                    tot+=checkNumPoss(cond[sizes[0]+1:], sizes[1:])\n",
    "    if cond[0] == \".\":\n",
    "        tot+=checkNumPoss(cond[1:], sizes)\n",
    "    if cond[0] == \"?\":\n",
    "        tot+= checkNumPoss(cond[1:], sizes) + checkNumPoss(\"#\"+cond[1:], sizes)\n",
    "    if(tot>0):\n",
    "        print(cond, sizes, tot)\n",
    "    return tot\n",
    "ans2 = 0\n",
    "from tqdm import tqdm\n",
    "for p in tqdm(puzzle):\n",
    "    newRep = p[0]\n",
    "    newOrder = p[1]\n",
    "    ans2 += checkNumPoss(newRep, tuple(newOrder))\n",
    "print(ans2) "
   ]
  },
  {
   "cell_type": "code",
   "execution_count": 130,
   "metadata": {},
   "outputs": [
    {
     "name": "stderr",
     "output_type": "stream",
     "text": [
      "100%|██████████| 1/1 [00:00<00:00, 4911.36it/s]"
     ]
    },
    {
     "name": "stdout",
     "output_type": "stream",
     "text": [
      "#?#?#??##?#?#?#? (6, 1, 6) 2\n",
      "?##?#?#?#? (1, 6) 2\n",
      "##?#?#??##?#?#?#? (6, 1, 6) 2\n",
      "?#?#?#??##?#?#?#? (6, 1, 6) 4\n",
      "##?#?#?#??##?#?#?#? (1, 6, 1, 6) 4\n",
      "#?#?#??##?#?#?#??##?#?#?#? (6, 1, 6, 1, 6) 4\n",
      "??##?#?#?#? (1, 6) 2\n",
      "#?#?#?#??##?#?#?#? (6, 1, 6) 2\n",
      "###?#?#?#??##?#?#?#? (1, 6, 1, 6) 2\n",
      "?##?#?#?#??##?#?#?#? (1, 6, 1, 6) 6\n",
      "##?#?#??##?#?#?#??##?#?#?#? (6, 1, 6, 1, 6) 6\n",
      "?#?#?#??##?#?#?#??##?#?#?#? (6, 1, 6, 1, 6) 10\n",
      "##?#?#?#??##?#?#?#??##?#?#?#? (1, 6, 1, 6, 1, 6) 10\n",
      "#?#?#??##?#?#?#??##?#?#?#??##?#?#?#? (6, 1, 6, 1, 6, 1, 6) 10\n",
      "??##?#?#?#??##?#?#?#? (1, 6, 1, 6) 6\n",
      "#?#?#?#??##?#?#?#??##?#?#?#? (6, 1, 6, 1, 6) 6\n",
      "###?#?#?#??##?#?#?#??##?#?#?#? (1, 6, 1, 6, 1, 6) 6\n",
      "?##?#?#?#??##?#?#?#??##?#?#?#? (1, 6, 1, 6, 1, 6) 16\n",
      "##?#?#??##?#?#?#??##?#?#?#??##?#?#?#? (6, 1, 6, 1, 6, 1, 6) 16\n",
      "?#?#?#??##?#?#?#??##?#?#?#??##?#?#?#? (6, 1, 6, 1, 6, 1, 6) 26\n",
      "##?#?#?#??##?#?#?#??##?#?#?#??##?#?#?#? (1, 6, 1, 6, 1, 6, 1, 6) 26\n",
      "#?#?#??##?#?#?#??##?#?#?#??##?#?#?#??##?#?#?#? (6, 1, 6, 1, 6, 1, 6, 1, 6) 26\n",
      "??##?#?#?#??##?#?#?#??##?#?#?#? (1, 6, 1, 6, 1, 6) 16\n",
      "#?#?#?#??##?#?#?#??##?#?#?#??##?#?#?#? (6, 1, 6, 1, 6, 1, 6) 16\n",
      "###?#?#?#??##?#?#?#??##?#?#?#??##?#?#?#? (1, 6, 1, 6, 1, 6, 1, 6) 16\n",
      "?##?#?#?#??##?#?#?#??##?#?#?#??##?#?#?#? (1, 6, 1, 6, 1, 6, 1, 6) 42\n",
      "##?#?#??##?#?#?#??##?#?#?#??##?#?#?#??##?#?#?#? (6, 1, 6, 1, 6, 1, 6, 1, 6) 42\n",
      "?#?#?#??##?#?#?#??##?#?#?#??##?#?#?#??##?#?#?#? (6, 1, 6, 1, 6, 1, 6, 1, 6) 68\n",
      "##?#?#?#??##?#?#?#??##?#?#?#??##?#?#?#??##?#?#?#? (1, 6, 1, 6, 1, 6, 1, 6, 1, 6) 68\n",
      "68\n"
     ]
    },
    {
     "name": "stderr",
     "output_type": "stream",
     "text": [
      "\n"
     ]
    }
   ],
   "source": [
    "ans2 = 0\n",
    "from tqdm import tqdm\n",
    "for p in tqdm(puzzle):\n",
    "    newRep = unfold(p[0])\n",
    "    newOrder = unCon(p[1])\n",
    "    ans2 += checkNumPoss(newRep, tuple(newOrder))\n",
    "print(ans2) "
   ]
  }
 ],
 "metadata": {
  "kernelspec": {
   "display_name": "Python 3",
   "language": "python",
   "name": "python3"
  },
  "language_info": {
   "codemirror_mode": {
    "name": "ipython",
    "version": 3
   },
   "file_extension": ".py",
   "mimetype": "text/x-python",
   "name": "python",
   "nbconvert_exporter": "python",
   "pygments_lexer": "ipython3",
   "version": "3.11.0"
  }
 },
 "nbformat": 4,
 "nbformat_minor": 2
}
