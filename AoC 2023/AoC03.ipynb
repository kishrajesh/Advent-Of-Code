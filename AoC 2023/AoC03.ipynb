{
 "cells": [
  {
   "cell_type": "code",
   "execution_count": 57,
   "metadata": {},
   "outputs": [],
   "source": [
    "puzzle = open(\"AoC03.txt\").read().splitlines()"
   ]
  },
  {
   "cell_type": "code",
   "execution_count": 62,
   "metadata": {},
   "outputs": [
    {
     "name": "stdout",
     "output_type": "stream",
     "text": [
      "539637\n"
     ]
    }
   ],
   "source": [
    "ans1 = 0\n",
    "testn = []\n",
    "for i in range(len(puzzle)):\n",
    "    p = puzzle[i]\n",
    "    nums = []\n",
    "    isNum = False\n",
    "    currNum = \"\"\n",
    "    nextToSymbol = False\n",
    "    for j in range(len(p)):\n",
    "        if p[j].isdigit():\n",
    "            if not isNum:\n",
    "                currNum += p[j]\n",
    "                isNum = True\n",
    "            else:\n",
    "                currNum += p[j]\n",
    "            dirs = [(0,1),(0,-1),(1,0),(-1,0),(1,1),(-1,-1),(1,-1),(-1,1)]\n",
    "            for d in dirs:\n",
    "                if j+d[0] >= 0 and j+d[0] < len(p) and i+d[1] >= 0 and i+d[1] < len(puzzle):\n",
    "                    c = puzzle[i+d[1]][j+d[0]]\n",
    "                    if c not in \"0123456789.\":\n",
    "                        nextToSymbol = True\n",
    "        else:\n",
    "            if isNum:\n",
    "                if nextToSymbol:\n",
    "                    nums.append(int(currNum))\n",
    "                    ans1+=int(currNum)\n",
    "                    testn.append(int(currNum))\n",
    "                    #print(currNum)\n",
    "                nextToSymbol = False\n",
    "                currNum = \"\"\n",
    "                isNum = False\n",
    "            isNum = False\n",
    "    if nextToSymbol:\n",
    "        nums.append(int(currNum))\n",
    "        ans1+=int(currNum)\n",
    "        testn.append(int(currNum))\n",
    "        #print(currNum)\n",
    "print(ans1)"
   ]
  },
  {
   "cell_type": "code",
   "execution_count": 59,
   "metadata": {},
   "outputs": [
    {
     "name": "stdout",
     "output_type": "stream",
     "text": [
      "82818007\n"
     ]
    }
   ],
   "source": [
    "ans2 = 0\n",
    "gears = {}\n",
    "for i in range(len(puzzle)):\n",
    "    p = puzzle[i]\n",
    "    nums = []\n",
    "    isNum = False\n",
    "    currNum = \"\"\n",
    "    nextToSymbol = False\n",
    "    nextToGear = []\n",
    "    for j in range(len(p)):\n",
    "        if p[j].isdigit():\n",
    "            if not isNum:\n",
    "                currNum += p[j]\n",
    "                isNum = True\n",
    "            else:\n",
    "                currNum += p[j]\n",
    "            dirs = [(0,1),(0,-1),(1,0),(-1,0),(1,1),(-1,-1),(1,-1),(-1,1)]\n",
    "            for d in dirs:\n",
    "                if j+d[0] >= 0 and j+d[0] < len(p) and i+d[1] >= 0 and i+d[1] < len(puzzle):\n",
    "                    c = puzzle[i+d[1]][j+d[0]]\n",
    "                    if c not in \"0123456789.\":\n",
    "                        nextToSymbol = True\n",
    "                        if c == \"*\":\n",
    "                            nextToGear.append((j+d[0],i+d[1]))         \n",
    "        else:\n",
    "            if isNum:\n",
    "                if nextToSymbol:\n",
    "                    nums.append(int(currNum))\n",
    "                    for g in nextToGear:\n",
    "                        if(g in gears):\n",
    "                            gears[g].add(int(currNum))\n",
    "                        else:\n",
    "                            gears[g] = set([int(currNum)])             \n",
    "                    #print(currNum)\n",
    "                nextToGear = []\n",
    "                nextToSymbol = False\n",
    "                currNum = \"\"\n",
    "                isNum = False\n",
    "            isNum = False\n",
    "    if nextToSymbol:\n",
    "        nums.append(int(currNum))\n",
    "        for g in nextToGear:\n",
    "            if(g in gears):\n",
    "                gears[g].add(int(currNum))\n",
    "            else:\n",
    "                gears[g] = set([int(currNum)])             \n",
    "for g in gears:\n",
    "    g_list = list(gears[g])\n",
    "    if len(gears[g]) == 2:\n",
    "        ans2 += g_list[0]*g_list[1]\n",
    "print(ans2)"
   ]
  },
  {
   "cell_type": "code",
   "execution_count": null,
   "metadata": {},
   "outputs": [],
   "source": []
  }
 ],
 "metadata": {
  "kernelspec": {
   "display_name": "Python 3",
   "language": "python",
   "name": "python3"
  },
  "language_info": {
   "codemirror_mode": {
    "name": "ipython",
    "version": 3
   },
   "file_extension": ".py",
   "mimetype": "text/x-python",
   "name": "python",
   "nbconvert_exporter": "python",
   "pygments_lexer": "ipython3",
   "version": "3.11.0"
  }
 },
 "nbformat": 4,
 "nbformat_minor": 2
}
