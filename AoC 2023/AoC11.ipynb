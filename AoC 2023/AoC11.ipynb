{
 "cells": [
  {
   "cell_type": "code",
   "execution_count": 155,
   "metadata": {},
   "outputs": [],
   "source": [
    "puzzle = open(\"AoC11.txt\").read().splitlines()"
   ]
  },
  {
   "cell_type": "code",
   "execution_count": 156,
   "metadata": {},
   "outputs": [],
   "source": [
    "def checkCol(grid, i):\n",
    "    for row in grid:\n",
    "        if row[i] == \"#\":\n",
    "            return False\n",
    "    return True\n",
    "def dist(star1, star2):\n",
    "    x1,y1 = star1\n",
    "    x2,y2 = star2\n",
    "    return abs(x1-x2) + abs(y1-y2)"
   ]
  },
  {
   "cell_type": "code",
   "execution_count": 157,
   "metadata": {},
   "outputs": [],
   "source": [
    "newGal = []\n",
    "for line in puzzle:\n",
    "    if(\"#\" not in line):\n",
    "        newGal.append(line)\n",
    "    newGal.append(line)\n",
    "newGal2 = [\"\" for i in newGal]\n",
    "col = 0\n",
    "while(col < len(newGal[0])):\n",
    "    if(checkCol(newGal, col)):\n",
    "        for i in range(len(newGal)):\n",
    "            newGal2[i]+=(newGal[i][col])\n",
    "    for i in range(len(newGal)):\n",
    "        newGal2[i]+=(newGal[i][col])\n",
    "    col += 1\n",
    "newGal = newGal2"
   ]
  },
  {
   "cell_type": "code",
   "execution_count": 158,
   "metadata": {},
   "outputs": [
    {
     "name": "stdout",
     "output_type": "stream",
     "text": [
      "10289334\n"
     ]
    }
   ],
   "source": [
    "stars = []\n",
    "for i in range(len(newGal)):\n",
    "    for j in range(len(newGal[0])):\n",
    "        if newGal[i][j] == \"#\":\n",
    "            stars.append((i,j))\n",
    "ans1 = 0\n",
    "for i in range(len(stars)):\n",
    "    for j in range(i+1, len(stars)):\n",
    "        ans1 += dist(stars[i], stars[j])\n",
    "print(ans1)"
   ]
  },
  {
   "cell_type": "code",
   "execution_count": 159,
   "metadata": {},
   "outputs": [],
   "source": [
    "def getEmptyRows(grid):\n",
    "    emptyRows = []\n",
    "    for i in range(len(grid)):\n",
    "        if \"#\" not in grid[i]:\n",
    "            emptyRows.append(i)\n",
    "    return emptyRows\n",
    "def getEmptyCols(grid):\n",
    "    emptyCols = []\n",
    "    for i in range(len(grid[0])):\n",
    "        if checkCol(grid, i):\n",
    "            emptyCols.append(i)\n",
    "    return emptyCols"
   ]
  },
  {
   "cell_type": "code",
   "execution_count": 160,
   "metadata": {},
   "outputs": [],
   "source": [
    "def newDist(star1, star2, emptRows, emptCols, mult):\n",
    "    x1, y1 = star1\n",
    "    x2, y2 = star2\n",
    "    minX = min(x1,x2)\n",
    "    maxX = max(x1,x2)\n",
    "    minY = min(y1,y2)\n",
    "    maxY = max(y1,y2)\n",
    "    numRows = len([i for i in emptRows if i <= maxX and i >= minX])\n",
    "    numCols = len([i for i in emptCols if i <= maxY and i >= minY])\n",
    "    return abs(x1-x2) + abs(y1-y2) + (mult-1)*(numRows + numCols)"
   ]
  },
  {
   "cell_type": "code",
   "execution_count": 161,
   "metadata": {},
   "outputs": [],
   "source": [
    "emptRows = getEmptyRows(puzzle)\n",
    "emptCols = getEmptyCols(puzzle)"
   ]
  },
  {
   "cell_type": "code",
   "execution_count": 164,
   "metadata": {},
   "outputs": [
    {
     "name": "stdout",
     "output_type": "stream",
     "text": [
      "649862989626\n"
     ]
    }
   ],
   "source": [
    "stars2 = []\n",
    "for i in range(len(puzzle)):\n",
    "    for j in range(len(puzzle[0])):\n",
    "        if puzzle[i][j] == \"#\":\n",
    "            stars2.append((i,j))\n",
    "ans2 = 0\n",
    "for i in range(len(stars2)):\n",
    "    for j in range(i+1, len(stars2)):\n",
    "        d = newDist(stars2[i], stars2[j], emptRows, emptCols, 1000000)\n",
    "        ans2 += d\n",
    "print(ans2)"
   ]
  },
  {
   "cell_type": "code",
   "execution_count": null,
   "metadata": {},
   "outputs": [],
   "source": []
  }
 ],
 "metadata": {
  "kernelspec": {
   "display_name": "Python 3",
   "language": "python",
   "name": "python3"
  },
  "language_info": {
   "codemirror_mode": {
    "name": "ipython",
    "version": 3
   },
   "file_extension": ".py",
   "mimetype": "text/x-python",
   "name": "python",
   "nbconvert_exporter": "python",
   "pygments_lexer": "ipython3",
   "version": "3.11.0"
  }
 },
 "nbformat": 4,
 "nbformat_minor": 2
}
