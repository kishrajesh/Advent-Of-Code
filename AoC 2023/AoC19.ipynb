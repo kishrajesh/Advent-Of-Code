{
 "cells": [
  {
   "cell_type": "code",
   "execution_count": 26,
   "metadata": {},
   "outputs": [],
   "source": [
    "puzzle = open(\"AoC19.txt\").read().splitlines()"
   ]
  },
  {
   "cell_type": "code",
   "execution_count": 34,
   "metadata": {},
   "outputs": [],
   "source": [
    "workflows = {}\n",
    "parts = []\n",
    "i = 0\n",
    "while puzzle[i]!=\"\":\n",
    "    split = puzzle[i].index(\"{\")\n",
    "    name = puzzle[i][:split]\n",
    "    flows = puzzle[i][split+1:-1].split(\",\")\n",
    "    workflows[name] = flows\n",
    "    i+=1\n",
    "i+=1\n",
    "while i<len(puzzle):\n",
    "    part = puzzle[i][1:-1].split(\",\")\n",
    "    xmas = []\n",
    "    for p in part:\n",
    "        xmas.append(int(p[2:]))\n",
    "    parts.append(xmas)\n",
    "    i+=1"
   ]
  },
  {
   "cell_type": "code",
   "execution_count": 35,
   "metadata": {},
   "outputs": [],
   "source": [
    "def getResult(workflows, part, start):\n",
    "    values = {}\n",
    "    s = \"xmas\"\n",
    "    for i in range(4):\n",
    "        values[s[i]] = part[i]\n",
    "    startWorkflow = workflows[start]\n",
    "    for i in range(len(startWorkflow)):\n",
    "        rule = startWorkflow[i]\n",
    "        if \":\" not in rule:\n",
    "            if rule in \"RA\":\n",
    "                return rule\n",
    "            else:\n",
    "                return getResult(workflows, part, rule)\n",
    "        else:\n",
    "            cond, out = rule.split(\":\")\n",
    "            if \">\" in cond:\n",
    "                var, val = cond.split(\">\")\n",
    "                if values[var] > int(val):\n",
    "                    if out in \"RA\":\n",
    "                        return out\n",
    "                    else:\n",
    "                        return getResult(workflows, part, out)\n",
    "            elif \"<\" in cond:\n",
    "                var, val = cond.split(\"<\")\n",
    "                if values[var] < int(val):\n",
    "                    if out in \"RA\":\n",
    "                        return out\n",
    "                    else:\n",
    "                        return getResult(workflows, part, out)\n",
    "    return \"R\"\n",
    "            \n"
   ]
  },
  {
   "cell_type": "code",
   "execution_count": 36,
   "metadata": {},
   "outputs": [
    {
     "name": "stdout",
     "output_type": "stream",
     "text": [
      "432427\n"
     ]
    }
   ],
   "source": [
    "ans1 = 0\n",
    "for part in parts:\n",
    "    if getResult(workflows, part, \"in\") == \"A\":\n",
    "        #print(part)\n",
    "        ans1+=sum(part)\n",
    "print(ans1)"
   ]
  },
  {
   "cell_type": "code",
   "execution_count": 44,
   "metadata": {},
   "outputs": [],
   "source": [
    "def getRegions(currflow, startRegion, workflows):\n",
    "    #returns a list of regions that are accept \n",
    "    letterToNum = {}\n",
    "    for i in range(4):\n",
    "        letterToNum[\"xmas\"[i]] = i\n",
    "    accepts = []\n",
    "    rejects = []\n",
    "    rules = workflows[currflow]\n",
    "    for rule in rules:\n",
    "        if \":\" not in rule:\n",
    "            if rule == \"A\":\n",
    "                accepts = startRegions\n",
    "            elif rule == \"R\":\n",
    "                rejects = startRegions\n",
    "            else:\n",
    "                accepts = getRegions(rule, startRegions, workflows)\n",
    "        else:\n",
    "            cond, out = rule.split(\":\")\n",
    "            if \">\" in cond:\n",
    "                var, val = cond.split(\">\")\n",
    "                #split startRegions based on condition\n",
    "                newRegionYes = ()\n",
    "                newRegionNo = ()\n",
    "                num = letterToNum[var]\n",
    "                accepts.append(getRegions(out, newRegionYes, workflows)) #fix this\n",
    "            if \"<\" in cond:\n",
    "                var, val = cond.split(\"<\")\n",
    "                #split startRegions based on condition\n",
    "                newRegionYes = ()\n",
    "                newRegionNo = ()\n",
    "                num = letterToNum[var]\n",
    "                accepts.append(getRegions(out, newRegionYes, workflows)) #fix this\n",
    "    return accepts"
   ]
  },
  {
   "cell_type": "code",
   "execution_count": 45,
   "metadata": {},
   "outputs": [
    {
     "ename": "KeyError",
     "evalue": "'A'",
     "output_type": "error",
     "traceback": [
      "\u001b[0;31m---------------------------------------------------------------------------\u001b[0m",
      "\u001b[0;31mKeyError\u001b[0m                                  Traceback (most recent call last)",
      "Cell \u001b[0;32mIn[45], line 4\u001b[0m\n\u001b[1;32m      2\u001b[0m \u001b[38;5;28;01mfor\u001b[39;00m i \u001b[38;5;129;01min\u001b[39;00m \u001b[38;5;28mrange\u001b[39m(\u001b[38;5;241m4\u001b[39m):\n\u001b[1;32m      3\u001b[0m     starts[\u001b[38;5;124m\"\u001b[39m\u001b[38;5;124mxmas\u001b[39m\u001b[38;5;124m\"\u001b[39m[i]] \u001b[38;5;241m=\u001b[39m (\u001b[38;5;241m1\u001b[39m,\u001b[38;5;241m4000\u001b[39m)\n\u001b[0;32m----> 4\u001b[0m \u001b[38;5;28mprint\u001b[39m(\u001b[43mgetRegions\u001b[49m\u001b[43m(\u001b[49m\u001b[38;5;124;43m\"\u001b[39;49m\u001b[38;5;124;43min\u001b[39;49m\u001b[38;5;124;43m\"\u001b[39;49m\u001b[43m,\u001b[49m\u001b[43m \u001b[49m\u001b[43mstarts\u001b[49m\u001b[43m,\u001b[49m\u001b[43m \u001b[49m\u001b[43mworkflows\u001b[49m\u001b[43m)\u001b[49m)\n",
      "Cell \u001b[0;32mIn[44], line 25\u001b[0m, in \u001b[0;36mgetRegions\u001b[0;34m(currflow, startRegion, workflows)\u001b[0m\n\u001b[1;32m     23\u001b[0m     newRegionNo \u001b[38;5;241m=\u001b[39m ()\n\u001b[1;32m     24\u001b[0m     num \u001b[38;5;241m=\u001b[39m letterToNum[var]\n\u001b[0;32m---> 25\u001b[0m     accepts\u001b[38;5;241m.\u001b[39mappend(\u001b[43mgetRegions\u001b[49m\u001b[43m(\u001b[49m\u001b[43mout\u001b[49m\u001b[43m,\u001b[49m\u001b[43m \u001b[49m\u001b[43mnewRegionYes\u001b[49m\u001b[43m,\u001b[49m\u001b[43m \u001b[49m\u001b[43mworkflows\u001b[49m\u001b[43m)\u001b[49m) \u001b[38;5;66;03m#fix this\u001b[39;00m\n\u001b[1;32m     26\u001b[0m \u001b[38;5;28;01mif\u001b[39;00m \u001b[38;5;124m\"\u001b[39m\u001b[38;5;124m<\u001b[39m\u001b[38;5;124m\"\u001b[39m \u001b[38;5;129;01min\u001b[39;00m cond:\n\u001b[1;32m     27\u001b[0m     var, val \u001b[38;5;241m=\u001b[39m cond\u001b[38;5;241m.\u001b[39msplit(\u001b[38;5;124m\"\u001b[39m\u001b[38;5;124m<\u001b[39m\u001b[38;5;124m\"\u001b[39m)\n",
      "Cell \u001b[0;32mIn[44], line 32\u001b[0m, in \u001b[0;36mgetRegions\u001b[0;34m(currflow, startRegion, workflows)\u001b[0m\n\u001b[1;32m     30\u001b[0m             newRegionNo \u001b[38;5;241m=\u001b[39m ()\n\u001b[1;32m     31\u001b[0m             num \u001b[38;5;241m=\u001b[39m letterToNum[var]\n\u001b[0;32m---> 32\u001b[0m             accepts\u001b[38;5;241m.\u001b[39mappend(\u001b[43mgetRegions\u001b[49m\u001b[43m(\u001b[49m\u001b[43mout\u001b[49m\u001b[43m,\u001b[49m\u001b[43m \u001b[49m\u001b[43mnewRegionYes\u001b[49m\u001b[43m,\u001b[49m\u001b[43m \u001b[49m\u001b[43mworkflows\u001b[49m\u001b[43m)\u001b[49m) \u001b[38;5;66;03m#fix this\u001b[39;00m\n\u001b[1;32m     33\u001b[0m \u001b[38;5;28;01mreturn\u001b[39;00m accepts\n",
      "Cell \u001b[0;32mIn[44], line 25\u001b[0m, in \u001b[0;36mgetRegions\u001b[0;34m(currflow, startRegion, workflows)\u001b[0m\n\u001b[1;32m     23\u001b[0m     newRegionNo \u001b[38;5;241m=\u001b[39m ()\n\u001b[1;32m     24\u001b[0m     num \u001b[38;5;241m=\u001b[39m letterToNum[var]\n\u001b[0;32m---> 25\u001b[0m     accepts\u001b[38;5;241m.\u001b[39mappend(\u001b[43mgetRegions\u001b[49m\u001b[43m(\u001b[49m\u001b[43mout\u001b[49m\u001b[43m,\u001b[49m\u001b[43m \u001b[49m\u001b[43mnewRegionYes\u001b[49m\u001b[43m,\u001b[49m\u001b[43m \u001b[49m\u001b[43mworkflows\u001b[49m\u001b[43m)\u001b[49m) \u001b[38;5;66;03m#fix this\u001b[39;00m\n\u001b[1;32m     26\u001b[0m \u001b[38;5;28;01mif\u001b[39;00m \u001b[38;5;124m\"\u001b[39m\u001b[38;5;124m<\u001b[39m\u001b[38;5;124m\"\u001b[39m \u001b[38;5;129;01min\u001b[39;00m cond:\n\u001b[1;32m     27\u001b[0m     var, val \u001b[38;5;241m=\u001b[39m cond\u001b[38;5;241m.\u001b[39msplit(\u001b[38;5;124m\"\u001b[39m\u001b[38;5;124m<\u001b[39m\u001b[38;5;124m\"\u001b[39m)\n",
      "Cell \u001b[0;32mIn[44], line 25\u001b[0m, in \u001b[0;36mgetRegions\u001b[0;34m(currflow, startRegion, workflows)\u001b[0m\n\u001b[1;32m     23\u001b[0m     newRegionNo \u001b[38;5;241m=\u001b[39m ()\n\u001b[1;32m     24\u001b[0m     num \u001b[38;5;241m=\u001b[39m letterToNum[var]\n\u001b[0;32m---> 25\u001b[0m     accepts\u001b[38;5;241m.\u001b[39mappend(\u001b[43mgetRegions\u001b[49m\u001b[43m(\u001b[49m\u001b[43mout\u001b[49m\u001b[43m,\u001b[49m\u001b[43m \u001b[49m\u001b[43mnewRegionYes\u001b[49m\u001b[43m,\u001b[49m\u001b[43m \u001b[49m\u001b[43mworkflows\u001b[49m\u001b[43m)\u001b[49m) \u001b[38;5;66;03m#fix this\u001b[39;00m\n\u001b[1;32m     26\u001b[0m \u001b[38;5;28;01mif\u001b[39;00m \u001b[38;5;124m\"\u001b[39m\u001b[38;5;124m<\u001b[39m\u001b[38;5;124m\"\u001b[39m \u001b[38;5;129;01min\u001b[39;00m cond:\n\u001b[1;32m     27\u001b[0m     var, val \u001b[38;5;241m=\u001b[39m cond\u001b[38;5;241m.\u001b[39msplit(\u001b[38;5;124m\"\u001b[39m\u001b[38;5;124m<\u001b[39m\u001b[38;5;124m\"\u001b[39m)\n",
      "Cell \u001b[0;32mIn[44], line 32\u001b[0m, in \u001b[0;36mgetRegions\u001b[0;34m(currflow, startRegion, workflows)\u001b[0m\n\u001b[1;32m     30\u001b[0m             newRegionNo \u001b[38;5;241m=\u001b[39m ()\n\u001b[1;32m     31\u001b[0m             num \u001b[38;5;241m=\u001b[39m letterToNum[var]\n\u001b[0;32m---> 32\u001b[0m             accepts\u001b[38;5;241m.\u001b[39mappend(\u001b[43mgetRegions\u001b[49m\u001b[43m(\u001b[49m\u001b[43mout\u001b[49m\u001b[43m,\u001b[49m\u001b[43m \u001b[49m\u001b[43mnewRegionYes\u001b[49m\u001b[43m,\u001b[49m\u001b[43m \u001b[49m\u001b[43mworkflows\u001b[49m\u001b[43m)\u001b[49m) \u001b[38;5;66;03m#fix this\u001b[39;00m\n\u001b[1;32m     33\u001b[0m \u001b[38;5;28;01mreturn\u001b[39;00m accepts\n",
      "Cell \u001b[0;32mIn[44], line 25\u001b[0m, in \u001b[0;36mgetRegions\u001b[0;34m(currflow, startRegion, workflows)\u001b[0m\n\u001b[1;32m     23\u001b[0m     newRegionNo \u001b[38;5;241m=\u001b[39m ()\n\u001b[1;32m     24\u001b[0m     num \u001b[38;5;241m=\u001b[39m letterToNum[var]\n\u001b[0;32m---> 25\u001b[0m     accepts\u001b[38;5;241m.\u001b[39mappend(\u001b[43mgetRegions\u001b[49m\u001b[43m(\u001b[49m\u001b[43mout\u001b[49m\u001b[43m,\u001b[49m\u001b[43m \u001b[49m\u001b[43mnewRegionYes\u001b[49m\u001b[43m,\u001b[49m\u001b[43m \u001b[49m\u001b[43mworkflows\u001b[49m\u001b[43m)\u001b[49m) \u001b[38;5;66;03m#fix this\u001b[39;00m\n\u001b[1;32m     26\u001b[0m \u001b[38;5;28;01mif\u001b[39;00m \u001b[38;5;124m\"\u001b[39m\u001b[38;5;124m<\u001b[39m\u001b[38;5;124m\"\u001b[39m \u001b[38;5;129;01min\u001b[39;00m cond:\n\u001b[1;32m     27\u001b[0m     var, val \u001b[38;5;241m=\u001b[39m cond\u001b[38;5;241m.\u001b[39msplit(\u001b[38;5;124m\"\u001b[39m\u001b[38;5;124m<\u001b[39m\u001b[38;5;124m\"\u001b[39m)\n",
      "Cell \u001b[0;32mIn[44], line 25\u001b[0m, in \u001b[0;36mgetRegions\u001b[0;34m(currflow, startRegion, workflows)\u001b[0m\n\u001b[1;32m     23\u001b[0m     newRegionNo \u001b[38;5;241m=\u001b[39m ()\n\u001b[1;32m     24\u001b[0m     num \u001b[38;5;241m=\u001b[39m letterToNum[var]\n\u001b[0;32m---> 25\u001b[0m     accepts\u001b[38;5;241m.\u001b[39mappend(\u001b[43mgetRegions\u001b[49m\u001b[43m(\u001b[49m\u001b[43mout\u001b[49m\u001b[43m,\u001b[49m\u001b[43m \u001b[49m\u001b[43mnewRegionYes\u001b[49m\u001b[43m,\u001b[49m\u001b[43m \u001b[49m\u001b[43mworkflows\u001b[49m\u001b[43m)\u001b[49m) \u001b[38;5;66;03m#fix this\u001b[39;00m\n\u001b[1;32m     26\u001b[0m \u001b[38;5;28;01mif\u001b[39;00m \u001b[38;5;124m\"\u001b[39m\u001b[38;5;124m<\u001b[39m\u001b[38;5;124m\"\u001b[39m \u001b[38;5;129;01min\u001b[39;00m cond:\n\u001b[1;32m     27\u001b[0m     var, val \u001b[38;5;241m=\u001b[39m cond\u001b[38;5;241m.\u001b[39msplit(\u001b[38;5;124m\"\u001b[39m\u001b[38;5;124m<\u001b[39m\u001b[38;5;124m\"\u001b[39m)\n",
      "Cell \u001b[0;32mIn[44], line 8\u001b[0m, in \u001b[0;36mgetRegions\u001b[0;34m(currflow, startRegion, workflows)\u001b[0m\n\u001b[1;32m      6\u001b[0m accepts \u001b[38;5;241m=\u001b[39m []\n\u001b[1;32m      7\u001b[0m rejects \u001b[38;5;241m=\u001b[39m []\n\u001b[0;32m----> 8\u001b[0m rules \u001b[38;5;241m=\u001b[39m \u001b[43mworkflows\u001b[49m\u001b[43m[\u001b[49m\u001b[43mcurrflow\u001b[49m\u001b[43m]\u001b[49m\n\u001b[1;32m      9\u001b[0m \u001b[38;5;28;01mfor\u001b[39;00m rule \u001b[38;5;129;01min\u001b[39;00m rules:\n\u001b[1;32m     10\u001b[0m     \u001b[38;5;28;01mif\u001b[39;00m \u001b[38;5;124m\"\u001b[39m\u001b[38;5;124m:\u001b[39m\u001b[38;5;124m\"\u001b[39m \u001b[38;5;129;01mnot\u001b[39;00m \u001b[38;5;129;01min\u001b[39;00m rule:\n",
      "\u001b[0;31mKeyError\u001b[0m: 'A'"
     ]
    }
   ],
   "source": [
    "starts = {}\n",
    "for i in range(4):\n",
    "    starts[\"xmas\"[i]] = (1,4000)\n",
    "print(getRegions(\"in\", starts, workflows))"
   ]
  },
  {
   "cell_type": "code",
   "execution_count": null,
   "metadata": {},
   "outputs": [],
   "source": []
  }
 ],
 "metadata": {
  "kernelspec": {
   "display_name": "Python 3",
   "language": "python",
   "name": "python3"
  },
  "language_info": {
   "codemirror_mode": {
    "name": "ipython",
    "version": 3
   },
   "file_extension": ".py",
   "mimetype": "text/x-python",
   "name": "python",
   "nbconvert_exporter": "python",
   "pygments_lexer": "ipython3",
   "version": "3.11.0"
  }
 },
 "nbformat": 4,
 "nbformat_minor": 2
}
