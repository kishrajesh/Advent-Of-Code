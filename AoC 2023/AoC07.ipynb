{
 "cells": [
  {
   "cell_type": "code",
   "execution_count": 17,
   "metadata": {},
   "outputs": [],
   "source": [
    "puzzle = open(\"AoC07.txt\").read().splitlines()\n",
    "puzzle = [p.split(\" \") for p in puzzle]\n",
    "puzzle = [[p[0], int(p[1])] for p in puzzle]"
   ]
  },
  {
   "cell_type": "code",
   "execution_count": 18,
   "metadata": {},
   "outputs": [],
   "source": [
    "def isFive(c):\n",
    "    if(len(set(list(c)))==1):\n",
    "        return True\n",
    "    return False\n",
    "def isFour(c):\n",
    "    if(len(set(list(c)))!=2):\n",
    "        return False\n",
    "    for i in range(5):\n",
    "        if(not(c.count(c[i])==4 or c.count(c[i])==1)):\n",
    "            return False\n",
    "    return True\n",
    "def isFull(c):\n",
    "    if(len(set(list(c)))!=2):\n",
    "        return False\n",
    "    for i in range(5):\n",
    "        if(not(c.count(c[i])==3 or c.count(c[i])==2)):\n",
    "            return False\n",
    "    return True\n",
    "def isThree(c):\n",
    "    if(len(set(list(c)))!=3):\n",
    "        return False\n",
    "    for i in range(5):\n",
    "        if(not(c.count(c[i])==3 or c.count(c[i])==1)):\n",
    "            return False\n",
    "    return True\n",
    "def isTwoPair(c):\n",
    "    if(len(set(list(c)))!=3):\n",
    "        return False\n",
    "    for i in range(5):\n",
    "        if(not(c.count(c[i])==2 or c.count(c[i])==1)):\n",
    "            return False\n",
    "    return True\n",
    "def isOnePair(c):\n",
    "    if(len(set(list(c)))!=4):\n",
    "        return False\n",
    "    for i in range(5):\n",
    "        if(not(c.count(c[i])==2 or c.count(c[i])==1)):\n",
    "            return False\n",
    "    return True\n",
    "def isHigh(c):\n",
    "    if(len(set(list(c)))==5):\n",
    "        return True\n",
    "    return False\n",
    "def rank(c):\n",
    "    if(isFive(c)):\n",
    "        return 9\n",
    "    if(isFour(c)):\n",
    "        return 8\n",
    "    if(isFull(c)):\n",
    "        return 7\n",
    "    if(isThree(c)):\n",
    "        return 6\n",
    "    if(isTwoPair(c)):\n",
    "        return 5\n",
    "    if(isOnePair(c)):\n",
    "        return 4\n",
    "    if(isHigh(c)):\n",
    "        return 3\n",
    "    return 0\n",
    "ranks = [\"A\", \"K\", \"Q\", \"J\", \"T\", \"9\", \"8\", \"7\", \"6\", \"5\", \"4\", \"3\", \"2\"]\n",
    "def compLetters(a,b):\n",
    "    for i in range(5):\n",
    "        if(ranks.index(a[i])>ranks.index(b[i])):\n",
    "            return False\n",
    "        if(ranks.index(a[i])<ranks.index(b[i])):\n",
    "            return True\n",
    "    return True"
   ]
  },
  {
   "cell_type": "code",
   "execution_count": 19,
   "metadata": {},
   "outputs": [],
   "source": [
    "def compare(x, y):\n",
    "    a = x[0]\n",
    "    b = y[0]\n",
    "    if(rank(a)>rank(b)):\n",
    "        return 1\n",
    "    if(rank(a)<rank(b)):\n",
    "        return -1\n",
    "    if(rank(a)==rank(b)):\n",
    "        if(compLetters(a,b)):\n",
    "            return 1\n",
    "        if(compLetters(b,a)):\n",
    "            return -1\n",
    "    return 0\n"
   ]
  },
  {
   "cell_type": "code",
   "execution_count": 20,
   "metadata": {},
   "outputs": [
    {
     "name": "stdout",
     "output_type": "stream",
     "text": [
      "249483956\n"
     ]
    }
   ],
   "source": [
    "import functools\n",
    "puzzNew = [i for i in puzzle]\n",
    "puzzNew.sort(key=functools.cmp_to_key(compare))\n",
    "ans1 = 0\n",
    "for i in range(len(puzzNew)):\n",
    "    rankV = i+1\n",
    "    val = puzzNew[i][1]\n",
    "    ans1 += rankV*val\n",
    "print(ans1)"
   ]
  },
  {
   "cell_type": "code",
   "execution_count": 22,
   "metadata": {},
   "outputs": [],
   "source": [
    "def newRank(c):\n",
    "    poss = [c.replace(\"J\", x) for x in ranks]\n",
    "    return max([rank(x) for x in poss])\n",
    "\n",
    "newranks = [\"A\", \"K\", \"Q\", \"T\", \"9\", \"8\", \"7\", \"6\", \"5\", \"4\", \"3\", \"2\", \"J\"]\n",
    "def newCompLetters(a,b):\n",
    "    for i in range(5):\n",
    "        if(newranks.index(a[i])>newranks.index(b[i])):\n",
    "            return False\n",
    "        if(newranks.index(a[i])<newranks.index(b[i])):\n",
    "            return True\n",
    "    return True\n",
    "\n",
    "def newcompare(x, y):\n",
    "    a = x[0]\n",
    "    b = y[0]\n",
    "    if(newRank(a)>newRank(b)):\n",
    "        return 1\n",
    "    if(newRank(a)<newRank(b)):\n",
    "        return -1\n",
    "    if(newRank(a)==newRank(b)):\n",
    "        if(newCompLetters(a,b)):\n",
    "            return 1\n",
    "        if(newCompLetters(b,a)):\n",
    "            return -1\n",
    "    return 0"
   ]
  },
  {
   "cell_type": "code",
   "execution_count": 23,
   "metadata": {},
   "outputs": [
    {
     "name": "stdout",
     "output_type": "stream",
     "text": [
      "252137472\n"
     ]
    }
   ],
   "source": [
    "puzzNew2 = [i for i in puzzle]\n",
    "puzzNew2.sort(key=functools.cmp_to_key(newcompare))\n",
    "ans2 = 0\n",
    "for i in range(len(puzzNew2)):\n",
    "    rankV = i+1\n",
    "    val = puzzNew2[i][1]\n",
    "    ans2 += rankV*val\n",
    "print(ans2)"
   ]
  },
  {
   "cell_type": "code",
   "execution_count": null,
   "metadata": {},
   "outputs": [],
   "source": []
  }
 ],
 "metadata": {
  "kernelspec": {
   "display_name": "Python 3",
   "language": "python",
   "name": "python3"
  },
  "language_info": {
   "codemirror_mode": {
    "name": "ipython",
    "version": 3
   },
   "file_extension": ".py",
   "mimetype": "text/x-python",
   "name": "python",
   "nbconvert_exporter": "python",
   "pygments_lexer": "ipython3",
   "version": "3.11.0"
  }
 },
 "nbformat": 4,
 "nbformat_minor": 2
}
