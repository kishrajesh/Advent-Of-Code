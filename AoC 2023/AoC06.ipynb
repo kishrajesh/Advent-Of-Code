{
 "cells": [
  {
   "cell_type": "code",
   "execution_count": 13,
   "metadata": {},
   "outputs": [],
   "source": [
    "puzzle = open(\"AoC06.txt\").read().splitlines()"
   ]
  },
  {
   "cell_type": "code",
   "execution_count": 14,
   "metadata": {},
   "outputs": [],
   "source": [
    "times = puzzle[0].split(\" \")[1:]\n",
    "times = [int(x) for x in times if x!=\"\"]\n",
    "dists = puzzle[1].split(\" \")[1:]\n",
    "dists = [int(x) for x in dists if x!=\"\"]"
   ]
  },
  {
   "cell_type": "code",
   "execution_count": 15,
   "metadata": {},
   "outputs": [
    {
     "name": "stdout",
     "output_type": "stream",
     "text": [
      "170000\n"
     ]
    }
   ],
   "source": [
    "def getMax(time, dist):\n",
    "    ans=0\n",
    "    for i in range(time):\n",
    "        tot_dist = i*(time-i)\n",
    "        if tot_dist > dist:\n",
    "            ans+=1\n",
    "    return ans\n",
    "ans1 = 1\n",
    "for i in range(len(times)):\n",
    "    ans1 *= getMax(times[i], dists[i])\n",
    "print(ans1)\n"
   ]
  },
  {
   "cell_type": "code",
   "execution_count": 16,
   "metadata": {},
   "outputs": [
    {
     "name": "stdout",
     "output_type": "stream",
     "text": [
      "20537782\n"
     ]
    }
   ],
   "source": [
    "newTime = \"\"\n",
    "for i in range(len(times)):\n",
    "    newTime += str(times[i])\n",
    "newTime = int(newTime)\n",
    "newDist = \"\"\n",
    "for i in range(len(dists)):\n",
    "    newDist += str(dists[i])\n",
    "newDist = int(newDist)\n",
    "ans2 = getMax(newTime, newDist)\n",
    "print(ans2)"
   ]
  }
 ],
 "metadata": {
  "kernelspec": {
   "display_name": "Python 3",
   "language": "python",
   "name": "python3"
  },
  "language_info": {
   "codemirror_mode": {
    "name": "ipython",
    "version": 3
   },
   "file_extension": ".py",
   "mimetype": "text/x-python",
   "name": "python",
   "nbconvert_exporter": "python",
   "pygments_lexer": "ipython3",
   "version": "3.11.0"
  }
 },
 "nbformat": 4,
 "nbformat_minor": 2
}
