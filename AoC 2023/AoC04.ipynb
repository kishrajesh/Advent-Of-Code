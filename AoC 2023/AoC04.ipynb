{
 "cells": [
  {
   "cell_type": "code",
   "execution_count": 21,
   "metadata": {},
   "outputs": [],
   "source": [
    "puzzle = open(\"AoC04.txt\").read().splitlines()\n",
    "puzzle = [p.split(\":\") for p in puzzle]"
   ]
  },
  {
   "cell_type": "code",
   "execution_count": 22,
   "metadata": {},
   "outputs": [
    {
     "name": "stdout",
     "output_type": "stream",
     "text": [
      "23750\n"
     ]
    }
   ],
   "source": [
    "import re\n",
    "def points(card):\n",
    "    id = int(re.split(\" |  |   \", card[0])[-1])\n",
    "    numbers = card[1].split(\" | \")\n",
    "    winning = re.split(\" |  \", numbers[0])\n",
    "    actual = re.split(\" |  \", numbers[1])\n",
    "    winning = [int(w) for w in winning if w != \"\"]\n",
    "    actual = [int(a) for a in actual if a != \"\"]\n",
    "    tot = 0\n",
    "    for a in actual:\n",
    "        if a in winning:\n",
    "            tot += 1\n",
    "    if tot == 0:\n",
    "        return 0, id\n",
    "    return 2**(tot-1), id\n",
    "ans1 = 0\n",
    "for p in puzzle:\n",
    "    ans1 += points(p)[0]\n",
    "print(ans1)"
   ]
  },
  {
   "cell_type": "code",
   "execution_count": 23,
   "metadata": {},
   "outputs": [],
   "source": [
    "def getRest(card):\n",
    "    id = int(re.split(\" |  |   \", card[0])[-1])\n",
    "    numbers = card[1].split(\" | \")\n",
    "    winning = re.split(\" |  \", numbers[0])\n",
    "    actual = re.split(\" |  \", numbers[1])\n",
    "    winning = [int(w) for w in winning if w != \"\"]\n",
    "    actual = [int(a) for a in actual if a != \"\"]\n",
    "    tot = 0\n",
    "    for a in actual:\n",
    "        if a in winning:\n",
    "            tot += 1\n",
    "    rest = []\n",
    "    for i in range(tot):\n",
    "        rest.append(id+i+1)\n",
    "    return rest"
   ]
  },
  {
   "cell_type": "code",
   "execution_count": 26,
   "metadata": {},
   "outputs": [
    {
     "name": "stdout",
     "output_type": "stream",
     "text": [
      "13261850\n"
     ]
    }
   ],
   "source": [
    "spawn = {}\n",
    "def findSpawn(id):\n",
    "    if id in spawn:\n",
    "        return spawn[id]\n",
    "    ans = 1\n",
    "    for c in getRest(puzzle[id-1]):\n",
    "        ans += findSpawn(c)\n",
    "    spawn[id] = ans\n",
    "    return ans\n",
    "ans2 = 0\n",
    "for p in puzzle:\n",
    "    ans2+=findSpawn(points(p)[1])\n",
    "print(ans2)"
   ]
  }
 ],
 "metadata": {
  "kernelspec": {
   "display_name": "Python 3",
   "language": "python",
   "name": "python3"
  },
  "language_info": {
   "codemirror_mode": {
    "name": "ipython",
    "version": 3
   },
   "file_extension": ".py",
   "mimetype": "text/x-python",
   "name": "python",
   "nbconvert_exporter": "python",
   "pygments_lexer": "ipython3",
   "version": "3.11.0"
  }
 },
 "nbformat": 4,
 "nbformat_minor": 2
}
