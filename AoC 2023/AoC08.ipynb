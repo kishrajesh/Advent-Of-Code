{
 "cells": [
  {
   "cell_type": "code",
   "execution_count": 29,
   "metadata": {},
   "outputs": [],
   "source": [
    "puzzle = open(\"AoC08.txt\").read().splitlines()"
   ]
  },
  {
   "cell_type": "code",
   "execution_count": 30,
   "metadata": {},
   "outputs": [],
   "source": [
    "dirs = puzzle[0]\n",
    "lefts = {}\n",
    "rights = {}\n",
    "i=2\n",
    "while i < len(puzzle):\n",
    "    p = puzzle[i].split(\" = \")\n",
    "    start = p[0]\n",
    "    lr = p[1].split(\", \")\n",
    "    left = lr[0][1:]\n",
    "    right = lr[1][:-1]\n",
    "    lefts[start] = left\n",
    "    rights[start] = right\n",
    "    i += 1"
   ]
  },
  {
   "cell_type": "code",
   "execution_count": 31,
   "metadata": {},
   "outputs": [
    {
     "name": "stdout",
     "output_type": "stream",
     "text": [
      "19631\n"
     ]
    }
   ],
   "source": [
    "ans1 = 0\n",
    "curr = \"AAA\"\n",
    "while curr != \"ZZZ\":\n",
    "    if dirs[ans1%len(dirs)] == \"R\":\n",
    "        curr = rights[curr]\n",
    "    else:\n",
    "        curr = lefts[curr]\n",
    "    ans1 += 1\n",
    "print(ans1)"
   ]
  },
  {
   "cell_type": "code",
   "execution_count": 32,
   "metadata": {},
   "outputs": [
    {
     "name": "stdout",
     "output_type": "stream",
     "text": [
      "21003205388413\n"
     ]
    }
   ],
   "source": [
    "starting = []\n",
    "for k in lefts.keys():\n",
    "    if k[-1]==\"A\":\n",
    "        starting.append(k)\n",
    "ctr = 0\n",
    "lens = []\n",
    "for i in range(len(starting)):\n",
    "    cyc = 0\n",
    "    curr = starting[i]\n",
    "    while curr[-1] != \"Z\":\n",
    "        if dirs[cyc%len(dirs)] == \"R\":\n",
    "            curr = rights[curr]\n",
    "        else:\n",
    "            curr = lefts[curr]\n",
    "        cyc += 1\n",
    "    lens.append(cyc)\n",
    "import math\n",
    "ans2 = math.lcm(lens[0], lens[1], lens[2], lens[3], lens[4], lens[5])\n",
    "print(ans2)"
   ]
  }
 ],
 "metadata": {
  "kernelspec": {
   "display_name": "Python 3",
   "language": "python",
   "name": "python3"
  },
  "language_info": {
   "codemirror_mode": {
    "name": "ipython",
    "version": 3
   },
   "file_extension": ".py",
   "mimetype": "text/x-python",
   "name": "python",
   "nbconvert_exporter": "python",
   "pygments_lexer": "ipython3",
   "version": "3.11.0"
  }
 },
 "nbformat": 4,
 "nbformat_minor": 2
}
