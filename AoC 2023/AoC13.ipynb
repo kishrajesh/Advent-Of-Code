{
 "cells": [
  {
   "cell_type": "code",
   "execution_count": 108,
   "metadata": {},
   "outputs": [],
   "source": [
    "puzzle = open(\"AoC13.txt\").read().splitlines()\n",
    "patterns = []\n",
    "curr = []\n",
    "for i in range(len(puzzle)):\n",
    "    p = puzzle[i]\n",
    "    if(len(p)==0):\n",
    "        patterns.append(curr)\n",
    "        curr = []\n",
    "    else:\n",
    "        curr.append(p)\n",
    "patterns.append(curr)"
   ]
  },
  {
   "cell_type": "code",
   "execution_count": 109,
   "metadata": {},
   "outputs": [],
   "source": [
    "def checkVert(pattern, i):\n",
    "    if(i==0 or i==len(pattern[0])):\n",
    "        return False\n",
    "    else:\n",
    "        for r in range(len(pattern)):\n",
    "            for c in range(i):\n",
    "                if(2*i-1-c < len(pattern[r])):\n",
    "                    if(pattern[r][c] != pattern[r][2*i-1-c]):\n",
    "                        return False\n",
    "        return True\n",
    "def checkHor(pattern, i):\n",
    "    if(i==0 or i==len(pattern)):\n",
    "        return False\n",
    "    else:\n",
    "        for r in range(i):\n",
    "            for c in range(len(pattern[r])):\n",
    "                if(2*i-1-r < len(pattern)):\n",
    "                    if(pattern[r][c] != pattern[2*i-1-r][c]):\n",
    "                        return False\n",
    "        return True"
   ]
  },
  {
   "cell_type": "code",
   "execution_count": 110,
   "metadata": {},
   "outputs": [],
   "source": [
    "def findReflect(pattern):\n",
    "    tot = []\n",
    "    for i in range(len(pattern[0])):\n",
    "        if(checkVert(pattern, i)):\n",
    "            print(\"Vert\", i)\n",
    "            tot.append(i)\n",
    "    for i in range(len(pattern)):\n",
    "        if(checkHor(pattern, i)):\n",
    "            print(\"Hor\", 100*i)\n",
    "            tot.append(100*i)\n",
    "    return sum(tot)"
   ]
  },
  {
   "cell_type": "code",
   "execution_count": 111,
   "metadata": {},
   "outputs": [
    {
     "name": "stdout",
     "output_type": "stream",
     "text": [
      "Vert 5\n",
      "Hor 400\n",
      "405\n"
     ]
    }
   ],
   "source": [
    "ans1 = 0\n",
    "finds = []\n",
    "for i in range(len(patterns)):\n",
    "    pattern = patterns[i]\n",
    "    f = findReflect(pattern)\n",
    "    finds.append(f)\n",
    "    ans1 += sum(f)\n",
    "print(ans1)"
   ]
  },
  {
   "cell_type": "code",
   "execution_count": 112,
   "metadata": {},
   "outputs": [],
   "source": [
    "def changeAndCheck(pattern):\n",
    "    for r in range(len(pattern)):\n",
    "        for c in range(len(pattern[r])):\n",
    "            newPatt = [[i for i in p] for p in pattern]\n",
    "            if(pattern[r][c] == \"#\"):\n",
    "                newPatt[r][c] = \".\"\n",
    "            else:\n",
    "                newPatt[r][c] = \"#\"\n",
    "            f = findReflect(newPatt)\n",
    "            print(\"f\", f)\n",
    "            if(f !=0 ):\n",
    "                return f\n",
    "    return 0"
   ]
  },
  {
   "cell_type": "code",
   "execution_count": 114,
   "metadata": {},
   "outputs": [
    {
     "name": "stdout",
     "output_type": "stream",
     "text": [
      "0\n",
      "Vert 5\n",
      "Hor 300\n",
      "f [5, 300]\n",
      "Vert 5\n"
     ]
    },
    {
     "ename": "TypeError",
     "evalue": "unsupported operand type(s) for +=: 'int' and 'list'",
     "output_type": "error",
     "traceback": [
      "\u001b[0;31m---------------------------------------------------------------------------\u001b[0m",
      "\u001b[0;31mTypeError\u001b[0m                                 Traceback (most recent call last)",
      "Cell \u001b[0;32mIn[114], line 7\u001b[0m\n\u001b[1;32m      5\u001b[0m     c \u001b[38;5;241m=\u001b[39m changeAndCheck(pattern)\n\u001b[1;32m      6\u001b[0m     \u001b[38;5;28;01mif\u001b[39;00m(\u001b[38;5;28msum\u001b[39m(findReflect(pattern)) \u001b[38;5;241m!=\u001b[39m c):\n\u001b[0;32m----> 7\u001b[0m         \u001b[43mans2\u001b[49m\u001b[43m \u001b[49m\u001b[38;5;241;43m+\u001b[39;49m\u001b[38;5;241;43m=\u001b[39;49m\u001b[43mc\u001b[49m\n\u001b[1;32m      9\u001b[0m \u001b[38;5;28mprint\u001b[39m(ans2)\n",
      "\u001b[0;31mTypeError\u001b[0m: unsupported operand type(s) for +=: 'int' and 'list'"
     ]
    }
   ],
   "source": [
    "ans2 = 0\n",
    "for i in range(len(patterns)):\n",
    "    pattern = patterns[i]\n",
    "    print(i)\n",
    "    c = changeAndCheck(pattern)\n",
    "    if(sum(findReflect(pattern)) != c):\n",
    "        ans2 +=c\n",
    "        \n",
    "print(ans2)"
   ]
  },
  {
   "cell_type": "code",
   "execution_count": null,
   "metadata": {},
   "outputs": [],
   "source": []
  }
 ],
 "metadata": {
  "kernelspec": {
   "display_name": "Python 3",
   "language": "python",
   "name": "python3"
  },
  "language_info": {
   "codemirror_mode": {
    "name": "ipython",
    "version": 3
   },
   "file_extension": ".py",
   "mimetype": "text/x-python",
   "name": "python",
   "nbconvert_exporter": "python",
   "pygments_lexer": "ipython3",
   "version": "3.11.0"
  },
  "orig_nbformat": 4
 },
 "nbformat": 4,
 "nbformat_minor": 2
}
