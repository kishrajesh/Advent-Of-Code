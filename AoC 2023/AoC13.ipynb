{
 "cells": [
  {
   "cell_type": "code",
   "execution_count": 164,
   "metadata": {},
   "outputs": [],
   "source": [
    "puzzle = open(\"AoC13.txt\").read().splitlines()\n",
    "patterns = []\n",
    "curr = []\n",
    "for i in range(len(puzzle)):\n",
    "    p = puzzle[i]\n",
    "    if(len(p)==0):\n",
    "        patterns.append(curr)\n",
    "        curr = []\n",
    "    else:\n",
    "        curr.append(p)\n",
    "patterns.append(curr)"
   ]
  },
  {
   "cell_type": "code",
   "execution_count": 165,
   "metadata": {},
   "outputs": [],
   "source": [
    "def checkVert(pattern, i):\n",
    "    if(i==0 or i==len(pattern[0])):\n",
    "        return False\n",
    "    else:\n",
    "        for r in range(len(pattern)):\n",
    "            for c in range(i):\n",
    "                if(2*i-1-c < len(pattern[r])):\n",
    "                    if(pattern[r][c] != pattern[r][2*i-1-c]):\n",
    "                        return False\n",
    "        return True\n",
    "def checkHor(pattern, i):\n",
    "    if(i==0 or i==len(pattern)):\n",
    "        return False\n",
    "    else:\n",
    "        for r in range(i):\n",
    "            for c in range(len(pattern[r])):\n",
    "                if(2*i-1-r < len(pattern)):\n",
    "                    if(pattern[r][c] != pattern[2*i-1-r][c]):\n",
    "                        return False\n",
    "        return True"
   ]
  },
  {
   "cell_type": "code",
   "execution_count": 166,
   "metadata": {},
   "outputs": [],
   "source": [
    "def findReflect(pattern):\n",
    "    tot = []\n",
    "    for i in range(len(pattern[0])):\n",
    "        if(checkVert(pattern, i)):\n",
    "            #print(\"Vert\", i)\n",
    "            tot.append(i)\n",
    "    for i in range(len(pattern)):\n",
    "        if(checkHor(pattern, i)):\n",
    "            #print(\"Hor\", 100*i)\n",
    "            tot.append(100*i)\n",
    "    return tot"
   ]
  },
  {
   "cell_type": "code",
   "execution_count": 167,
   "metadata": {},
   "outputs": [
    {
     "name": "stdout",
     "output_type": "stream",
     "text": [
      "27502\n"
     ]
    }
   ],
   "source": [
    "ans1 = 0\n",
    "finds = []\n",
    "for i in range(len(patterns)):\n",
    "    pattern = patterns[i]\n",
    "    f = findReflect(pattern)\n",
    "    finds.append(f)\n",
    "    ans1 += sum(f)\n",
    "print(ans1)"
   ]
  },
  {
   "cell_type": "code",
   "execution_count": 168,
   "metadata": {},
   "outputs": [],
   "source": [
    "def changeAndCheck(pattern):\n",
    "    tot = []\n",
    "    for r in range(len(pattern)):\n",
    "        for c in range(len(pattern[r])):\n",
    "            newPatt = [[i for i in p] for p in pattern]\n",
    "            if(pattern[r][c] == \"#\"):\n",
    "                newPatt[r][c] = \".\"\n",
    "            else:\n",
    "                newPatt[r][c] = \"#\"\n",
    "            f = findReflect(newPatt)\n",
    "            #print(\"f\", f)\n",
    "            #print(\"r, c\", r, c)\n",
    "            if(f !=[]):\n",
    "                for j in f:\n",
    "                    tot.append(j)\n",
    "    return list(set(tot))"
   ]
  },
  {
   "cell_type": "code",
   "execution_count": 169,
   "metadata": {},
   "outputs": [
    {
     "name": "stdout",
     "output_type": "stream",
     "text": [
      "31947\n"
     ]
    }
   ],
   "source": [
    "ans2 = 0\n",
    "for i in range(len(patterns)):\n",
    "    pattern = patterns[i]\n",
    "    f = findReflect(pattern)\n",
    "    c = changeAndCheck(pattern)\n",
    "    for j in c:\n",
    "        if(j not in f):\n",
    "            ans2 += j\n",
    "print(ans2)"
   ]
  },
  {
   "cell_type": "code",
   "execution_count": null,
   "metadata": {},
   "outputs": [],
   "source": []
  }
 ],
 "metadata": {
  "kernelspec": {
   "display_name": "Python 3",
   "language": "python",
   "name": "python3"
  },
  "language_info": {
   "codemirror_mode": {
    "name": "ipython",
    "version": 3
   },
   "file_extension": ".py",
   "mimetype": "text/x-python",
   "name": "python",
   "nbconvert_exporter": "python",
   "pygments_lexer": "ipython3",
   "version": "3.11.0"
  },
  "orig_nbformat": 4
 },
 "nbformat": 4,
 "nbformat_minor": 2
}
