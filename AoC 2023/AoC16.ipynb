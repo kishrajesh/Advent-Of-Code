{
 "cells": [
  {
   "cell_type": "code",
   "execution_count": 45,
   "metadata": {},
   "outputs": [],
   "source": [
    "puzzle = open(\"AoC16.txt\").read().splitlines()\n",
    "puzzle = [list(p) for p in puzzle]"
   ]
  },
  {
   "cell_type": "code",
   "execution_count": 54,
   "metadata": {},
   "outputs": [],
   "source": [
    "def getBeam(grid, x, y, dir):\n",
    "    #return a set of points the beam has reached, and a set of new beams\n",
    "    #dir = (0,1), (1,0), (0,-1), (-1,0)\n",
    "    points = set()\n",
    "    points.add((x,y))\n",
    "    beams = []\n",
    "    curr = (x,y)\n",
    "    print(grid[x][y])\n",
    "    curr = (curr[0]+dir[0], curr[1]+dir[1])\n",
    "    while curr[0] >= 0 and curr[0] < len(grid) and curr[1] >= 0 and curr[1] < len(grid[0]):\n",
    "        points.add(curr)\n",
    "        #print(curr)\n",
    "        if grid[curr[0]][curr[1]] == \".\":\n",
    "            curr = (curr[0]+dir[0], curr[1]+dir[1])\n",
    "            continue\n",
    "        if grid[curr[0]][curr[1]] == \"|\":\n",
    "            if(dir == (0,1) or dir == (0,-1)):\n",
    "                beams.append((curr, (1,0)))\n",
    "                beams.append((curr, (-1,0)))\n",
    "                break\n",
    "            curr = (curr[0]+dir[0], curr[1]+dir[1])\n",
    "            continue\n",
    "        if grid[curr[0]][curr[1]] == \"-\":\n",
    "            if(dir == (1,0) or dir == (-1,0)):\n",
    "                beams.append((curr, (0,1)))\n",
    "                beams.append((curr, (0,-1)))\n",
    "                break\n",
    "            curr = (curr[0]+dir[0], curr[1]+dir[1])\n",
    "            continue\n",
    "        if grid[curr[0]][curr[1]] == \"/\":\n",
    "            if(dir == (1,0)):\n",
    "                beams.append((curr, (0,-1)))\n",
    "            elif(dir == (0,1)):\n",
    "                beams.append((curr, (-1,0)))\n",
    "            elif(dir == (-1,0)):\n",
    "                beams.append((curr, (0,1)))\n",
    "            elif(dir == (0,-1)):\n",
    "                beams.append((curr, (1,0)))\n",
    "            break\n",
    "        if grid[curr[0]][curr[1]] == \"\\\\\":\n",
    "            if(dir == (1,0)):\n",
    "                beams.append((curr, (0,1)))\n",
    "            elif(dir == (0,1)):\n",
    "                beams.append((curr, (1,0)))\n",
    "            elif(dir == (-1,0)):\n",
    "                beams.append((curr, (0,-1)))\n",
    "            elif(dir == (0,-1)):\n",
    "                beams.append((curr, (-1,0)))\n",
    "            break\n",
    "        \n",
    "        \n",
    "    return points, beams\n"
   ]
  },
  {
   "cell_type": "code",
   "execution_count": 55,
   "metadata": {},
   "outputs": [
    {
     "name": "stdout",
     "output_type": "stream",
     "text": [
      "1 0\n",
      "[(0, -1), (0, 1)]\n",
      ".\n",
      "2 1\n",
      "((0, 1), (1, 0))\n",
      "|\n",
      "3 2\n",
      "((0, 1), (-1, 0))\n",
      "|\n",
      "2 3\n",
      "((7, 1), (0, 1))\n",
      "-\n",
      "2 4\n",
      "((7, 1), (0, -1))\n",
      "-\n",
      "1 5\n",
      "((7, 4), (-1, 0))\n",
      "/\n",
      "1 6\n",
      "((6, 4), (0, 1))\n",
      "/\n",
      "1 7\n",
      "((6, 6), (1, 0))\n",
      "\\\n",
      "2 8\n",
      "((8, 6), (0, 1))\n",
      "-\n",
      "3 9\n",
      "((8, 6), (0, -1))\n",
      "-\n",
      "4 10\n",
      "((8, 7), (1, 0))\n",
      "|\n",
      "3 11\n",
      "((8, 7), (-1, 0))\n",
      "|\n",
      "3 12\n",
      "((8, 1), (1, 0))\n",
      "|\n",
      "2 13\n",
      "((8, 1), (-1, 0))\n",
      "|\n",
      "1 14\n",
      "((6, 7), (0, -1))\n",
      "\\\n",
      "28\n"
     ]
    }
   ],
   "source": [
    "beamQueue = [[(0,-1),(0,1)]]\n",
    "visitedBeams = set()\n",
    "points = set()\n",
    "ctr = 0\n",
    "while beamQueue:\n",
    "    print(len(beamQueue), ctr)\n",
    "    print(beamQueue[0])\n",
    "    curr = beamQueue.pop(0)\n",
    "    visitedBeams.add(tuple(curr[0]))\n",
    "    p, b = getBeam(puzzle, curr[0][0], curr[0][1], curr[1])\n",
    "    for point in p:\n",
    "        points.add(point)\n",
    "    for beam in b:\n",
    "        if tuple(beam[0]) not in visitedBeams:\n",
    "            beamQueue.append(beam)\n",
    "    ctr+=1\n",
    "ans1 = len(points)\n",
    "print(ans1)"
   ]
  },
  {
   "cell_type": "code",
   "execution_count": 56,
   "metadata": {},
   "outputs": [
    {
     "name": "stdout",
     "output_type": "stream",
     "text": [
      "[(0, 0), (0, 1), (1, 1), (2, 1), (3, 1), (4, 1), (5, 1), (6, 1), (6, 4), (6, 5), (6, 6), (6, 7), (7, 0), (7, 1), (7, 2), (7, 3), (7, 4), (7, 6), (7, 7), (8, 1), (8, 2), (8, 3), (8, 4), (8, 5), (8, 6), (8, 7), (9, 1), (9, 7)]\n"
     ]
    }
   ],
   "source": [
    "p = list(points)\n",
    "p.sort(key = lambda x: (x[0], x[1]))\n",
    "print(p)"
   ]
  },
  {
   "cell_type": "code",
   "execution_count": null,
   "metadata": {},
   "outputs": [],
   "source": []
  }
 ],
 "metadata": {
  "kernelspec": {
   "display_name": "Python 3",
   "language": "python",
   "name": "python3"
  },
  "language_info": {
   "codemirror_mode": {
    "name": "ipython",
    "version": 3
   },
   "file_extension": ".py",
   "mimetype": "text/x-python",
   "name": "python",
   "nbconvert_exporter": "python",
   "pygments_lexer": "ipython3",
   "version": "3.11.0"
  }
 },
 "nbformat": 4,
 "nbformat_minor": 2
}
