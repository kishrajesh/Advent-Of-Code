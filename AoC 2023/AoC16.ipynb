{
 "cells": [
  {
   "cell_type": "code",
   "execution_count": 11,
   "metadata": {},
   "outputs": [],
   "source": [
    "puzzle = open(\"AoC16.txt\").read().splitlines()\n",
    "puzzle = [list(p) for p in puzzle]"
   ]
  },
  {
   "cell_type": "code",
   "execution_count": 12,
   "metadata": {},
   "outputs": [],
   "source": [
    "def getBeam(grid, x, y, dir):\n",
    "    #return a set of points the beam has reached, and a set of new beams\n",
    "    #dir = (0,1), (1,0), (0,-1), (-1,0)\n",
    "    points = set()\n",
    "    if 0 <= x < len(grid) and 0 <= y < len(grid[0]):\n",
    "        points.add((x,y))\n",
    "    beams = []\n",
    "    curr = (x,y)\n",
    "    #print(grid[x][y])\n",
    "    curr = (curr[0]+dir[0], curr[1]+dir[1])\n",
    "    while curr[0] >= 0 and curr[0] < len(grid) and curr[1] >= 0 and curr[1] < len(grid[0]):\n",
    "        points.add(curr)\n",
    "        #print(curr)\n",
    "        if grid[curr[0]][curr[1]] == \".\":\n",
    "            curr = (curr[0]+dir[0], curr[1]+dir[1])\n",
    "            continue\n",
    "        if grid[curr[0]][curr[1]] == \"|\":\n",
    "            if(dir == (0,1) or dir == (0,-1)):\n",
    "                beams.append((curr, (1,0)))\n",
    "                beams.append((curr, (-1,0)))\n",
    "                break\n",
    "            curr = (curr[0]+dir[0], curr[1]+dir[1])\n",
    "            continue\n",
    "        if grid[curr[0]][curr[1]] == \"-\":\n",
    "            if(dir == (1,0) or dir == (-1,0)):\n",
    "                beams.append((curr, (0,1)))\n",
    "                beams.append((curr, (0,-1)))\n",
    "                break\n",
    "            curr = (curr[0]+dir[0], curr[1]+dir[1])\n",
    "            continue\n",
    "        if grid[curr[0]][curr[1]] == \"/\":\n",
    "            if(dir == (1,0)):\n",
    "                beams.append((curr, (0,-1)))\n",
    "            elif(dir == (0,1)):\n",
    "                beams.append((curr, (-1,0)))\n",
    "            elif(dir == (-1,0)):\n",
    "                beams.append((curr, (0,1)))\n",
    "            elif(dir == (0,-1)):\n",
    "                beams.append((curr, (1,0)))\n",
    "            break\n",
    "        if grid[curr[0]][curr[1]] == \"\\\\\":\n",
    "            if(dir == (1,0)):\n",
    "                beams.append((curr, (0,1)))\n",
    "            elif(dir == (0,1)):\n",
    "                beams.append((curr, (1,0)))\n",
    "            elif(dir == (-1,0)):\n",
    "                beams.append((curr, (0,-1)))\n",
    "            elif(dir == (0,-1)):\n",
    "                beams.append((curr, (-1,0)))\n",
    "            break\n",
    "        \n",
    "        \n",
    "    return points, beams\n"
   ]
  },
  {
   "cell_type": "code",
   "execution_count": 16,
   "metadata": {},
   "outputs": [
    {
     "name": "stdout",
     "output_type": "stream",
     "text": [
      "7623\n"
     ]
    }
   ],
   "source": [
    "beamQueue = [[(0,-1),(0,1)]]\n",
    "visitedBeams = set()\n",
    "points = set()\n",
    "while beamQueue:\n",
    "    #print(len(beamQueue), ctr)\n",
    "    #print(beamQueue[0])\n",
    "    curr = beamQueue.pop(0)\n",
    "    visitedBeams.add(tuple(curr))\n",
    "    p, b = getBeam(puzzle, curr[0][0], curr[0][1], curr[1])\n",
    "    for point in p:\n",
    "        points.add(point)\n",
    "    for beam in b:\n",
    "        if tuple(beam) not in visitedBeams:\n",
    "            beamQueue.append(beam)\n",
    "ans1 = len(points)\n",
    "print(ans1)"
   ]
  },
  {
   "cell_type": "code",
   "execution_count": 17,
   "metadata": {},
   "outputs": [],
   "source": [
    "def numEnergized(grid, startPos, startDir):\n",
    "    newStart = (startPos[0]-startDir[0], startPos[1]-startDir[1])\n",
    "    beamQueue = [[newStart,startDir]]\n",
    "    visitedBeams = set()\n",
    "    points = set()\n",
    "    while beamQueue:\n",
    "        curr = beamQueue.pop(0)\n",
    "        visitedBeams.add(tuple(curr))\n",
    "        p, b = getBeam(puzzle, curr[0][0], curr[0][1], curr[1])\n",
    "        for point in p:\n",
    "            points.add(point)\n",
    "        for beam in b:\n",
    "            if tuple(beam) not in visitedBeams:\n",
    "                beamQueue.append(beam)\n",
    "    return(len(points))"
   ]
  },
  {
   "cell_type": "code",
   "execution_count": 19,
   "metadata": {},
   "outputs": [
    {
     "name": "stdout",
     "output_type": "stream",
     "text": [
      "8244\n"
     ]
    }
   ],
   "source": [
    "possStarts = []\n",
    "for i in range(len(puzzle[0])):\n",
    "    possStarts.append(((0,i), (1,0)))\n",
    "    possStarts.append(((len(puzzle)-1,i), (-1,0)))\n",
    "for i in range(len(puzzle)):\n",
    "    possStarts.append(((i,0), (0,1)))\n",
    "    possStarts.append(((i,len(puzzle[0])-1), (0,-1)))\n",
    "ans2 = 0\n",
    "for start in possStarts:\n",
    "    ans2 = max(ans2, numEnergized(puzzle, start[0], start[1]))\n",
    "print(ans2)"
   ]
  },
  {
   "cell_type": "code",
   "execution_count": null,
   "metadata": {},
   "outputs": [],
   "source": []
  }
 ],
 "metadata": {
  "kernelspec": {
   "display_name": "Python 3",
   "language": "python",
   "name": "python3"
  },
  "language_info": {
   "codemirror_mode": {
    "name": "ipython",
    "version": 3
   },
   "file_extension": ".py",
   "mimetype": "text/x-python",
   "name": "python",
   "nbconvert_exporter": "python",
   "pygments_lexer": "ipython3",
   "version": "3.11.0"
  }
 },
 "nbformat": 4,
 "nbformat_minor": 2
}
