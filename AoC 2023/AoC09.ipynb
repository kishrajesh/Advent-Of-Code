{
 "cells": [
  {
   "cell_type": "code",
   "execution_count": 2,
   "metadata": {},
   "outputs": [],
   "source": [
    "puzzle = open(\"AoC09.txt\").read().splitlines()\n",
    "puzzle = [p.split(\" \") for p in puzzle]\n",
    "puzzle = [[int(i) for i in p] for p in puzzle]"
   ]
  },
  {
   "cell_type": "code",
   "execution_count": 3,
   "metadata": {},
   "outputs": [],
   "source": [
    "def nextIt(l):\n",
    "    ans = []\n",
    "    for i in range(len(l)-1):\n",
    "        ans.append(l[i+1]-l[i])\n",
    "    return ans\n",
    "def nextVal(l):\n",
    "    lists = []\n",
    "    lists.append(l)\n",
    "    newL = l\n",
    "    while(not(max(newL)==0 and min(newL)==0)):\n",
    "        newL = nextIt(newL)\n",
    "        lists.append(newL)\n",
    "    totSum = sum([i[-1] for i in lists])\n",
    "    return totSum"
   ]
  },
  {
   "cell_type": "code",
   "execution_count": 4,
   "metadata": {},
   "outputs": [
    {
     "name": "stdout",
     "output_type": "stream",
     "text": [
      "2105961943\n"
     ]
    }
   ],
   "source": [
    "ans1 = 0\n",
    "for p in puzzle:\n",
    "    ans1 += nextVal(p)\n",
    "print(ans1)"
   ]
  },
  {
   "cell_type": "code",
   "execution_count": 5,
   "metadata": {},
   "outputs": [],
   "source": [
    "def prevVal(l):\n",
    "    lists = []\n",
    "    lists.append(l)\n",
    "    newL = l\n",
    "    while(not(max(newL)==0 and min(newL)==0)):\n",
    "        newL = nextIt(newL)\n",
    "        lists.append(newL)\n",
    "    prev = 0\n",
    "    for i in range(len(lists)-1,-1,-1):\n",
    "        prev = lists[i][0]-prev\n",
    "    return prev"
   ]
  },
  {
   "cell_type": "code",
   "execution_count": 6,
   "metadata": {},
   "outputs": [
    {
     "name": "stdout",
     "output_type": "stream",
     "text": [
      "1019\n"
     ]
    }
   ],
   "source": [
    "ans2 = 0\n",
    "for p in puzzle:\n",
    "    ans2 += prevVal(p)\n",
    "print(ans2)"
   ]
  }
 ],
 "metadata": {
  "kernelspec": {
   "display_name": "Python 3",
   "language": "python",
   "name": "python3"
  },
  "language_info": {
   "codemirror_mode": {
    "name": "ipython",
    "version": 3
   },
   "file_extension": ".py",
   "mimetype": "text/x-python",
   "name": "python",
   "nbconvert_exporter": "python",
   "pygments_lexer": "ipython3",
   "version": "3.11.0"
  }
 },
 "nbformat": 4,
 "nbformat_minor": 2
}
