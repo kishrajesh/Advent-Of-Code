{
 "cells": [
  {
   "cell_type": "code",
   "execution_count": 1,
   "metadata": {},
   "outputs": [],
   "source": [
    "puzzle = open(\"AoC05.txt\").read().splitlines()"
   ]
  },
  {
   "cell_type": "code",
   "execution_count": 2,
   "metadata": {},
   "outputs": [
    {
     "name": "stdout",
     "output_type": "stream",
     "text": [
      "[0, 198238182, 157249059]\n"
     ]
    }
   ],
   "source": [
    "s = puzzle[0].split(\"seeds: \")[1].split(\" \")\n",
    "seeds = [int(x) for x in s]\n",
    "maps = []\n",
    "currmap = []\n",
    "i = 2\n",
    "while i<len(puzzle):\n",
    "    if(puzzle[i]==\"\"):\n",
    "        maps.append(currmap)\n",
    "        i+=1\n",
    "        continue\n",
    "    if(\"map\" in puzzle[i]):\n",
    "        currmap = []\n",
    "        i+=1\n",
    "        continue\n",
    "    currmap.append(puzzle[i].split(\" \"))\n",
    "    currmap[-1]=[int(x) for x in currmap[-1]]\n",
    "    i+=1\n",
    "maps.append(currmap)\n",
    "print(maps[0][-1])\n"
   ]
  },
  {
   "cell_type": "code",
   "execution_count": 3,
   "metadata": {},
   "outputs": [],
   "source": [
    "def convert(mapi, num):\n",
    "    for i in mapi:\n",
    "        if(i[1]<=num<i[1]+i[2]):\n",
    "            return num+i[0]-i[1]\n",
    "    return num"
   ]
  },
  {
   "cell_type": "code",
   "execution_count": 4,
   "metadata": {},
   "outputs": [
    {
     "name": "stdout",
     "output_type": "stream",
     "text": [
      "196167384\n"
     ]
    }
   ],
   "source": [
    "locSeeds = seeds.copy()\n",
    "for mapi in maps:\n",
    "    for i in range(len(locSeeds)):\n",
    "        locSeeds[i] = convert(mapi, locSeeds[i])\n",
    "ans1 = min(locSeeds)\n",
    "print(ans1)"
   ]
  },
  {
   "cell_type": "code",
   "execution_count": 7,
   "metadata": {},
   "outputs": [
    {
     "name": "stderr",
     "output_type": "stream",
     "text": [
      "100%|██████████| 85181200/85181200 [06:17<00:00, 225705.22it/s]\n",
      "100%|██████████| 123777711/123777711 [11:47<00:00, 174974.07it/s]\n",
      "100%|██████████| 279111951/279111951 [1:31:46<00:00, 50689.88it/s] \n",
      "100%|██████████| 246466925/246466925 [23:05<00:00, 177948.79it/s]\n",
      "100%|██████████| 98210926/98210926 [08:39<00:00, 189108.79it/s]\n",
      "100%|██████████| 92804510/92804510 [11:14<00:00, 137627.22it/s]\n",
      "100%|██████████| 247735408/247735408 [27:58<00:00, 147588.21it/s]\n",
      "100%|██████████| 82572647/82572647 [16:12<00:00, 84884.57it/s] \n",
      "100%|██████████| 325159757/325159757 [32:26<00:00, 167070.15it/s]\n",
      "100%|██████████| 370114248/370114248 [28:47<00:00, 214303.65it/s]\n",
      "100%|██████████| 10/10 [4:18:14<00:00, 1549.45s/it]"
     ]
    },
    {
     "name": "stdout",
     "output_type": "stream",
     "text": [
      "125742456\n"
     ]
    },
    {
     "name": "stderr",
     "output_type": "stream",
     "text": [
      "\n"
     ]
    }
   ],
   "source": [
    "minSeed = 10**20\n",
    "from tqdm import tqdm\n",
    "for i in tqdm(range(0, len(seeds), 2)):\n",
    "    start = seeds[i]\n",
    "    length = seeds[i+1]\n",
    "    for j in tqdm(range(start, start+length)):\n",
    "        mid = j\n",
    "        for mapi in maps:\n",
    "             mid = convert(mapi, mid)\n",
    "        minSeed = min(minSeed, mid)\n",
    "print(minSeed)\n",
    "    "
   ]
  },
  {
   "cell_type": "code",
   "execution_count": null,
   "metadata": {},
   "outputs": [],
   "source": [
    "def interOver(interval, mapi):\n",
    "    newIntervals = []\n",
    "    usedIntervals = [interval]\n",
    "    for m in mapi:\n",
    "        for i in usedIntervals:\n",
    "            st, end = i\n",
    "            mapst, mapend = m[1], m[1]+m[2]\n",
    "            if(mapst<=st and end<=mapend):\n",
    "                newIntervals.append([st+m[0]-mapst, end+m[0]-mapst])\n",
    "                usedIntervals.remove(i)\n",
    "                continue\n",
    "            if(mapst>st and mapend<end):\n",
    "                continue\n",
    "            if(mapst<st and mapend<end):\n",
    "                continue\n",
    "            if(mapst>st and mapend>end):\n",
    "                continue\n",
    "            if(mapst<=end or mapend<=st):\n",
    "                continue\n",
    "\n",
    "\n",
    "    return newIntervals+usedIntervals\n",
    "    "
   ]
  }
 ],
 "metadata": {
  "kernelspec": {
   "display_name": "Python 3",
   "language": "python",
   "name": "python3"
  },
  "language_info": {
   "codemirror_mode": {
    "name": "ipython",
    "version": 3
   },
   "file_extension": ".py",
   "mimetype": "text/x-python",
   "name": "python",
   "nbconvert_exporter": "python",
   "pygments_lexer": "ipython3",
   "version": "3.11.0"
  }
 },
 "nbformat": 4,
 "nbformat_minor": 2
}
