{
 "cells": [
  {
   "cell_type": "code",
   "execution_count": 14,
   "metadata": {},
   "outputs": [],
   "source": [
    "puzzle = open(\"AoC14.txt\").read().splitlines()\n",
    "moveUp = []\n",
    "moveR = []\n",
    "stayR = set()\n",
    "for i in range(len(puzzle)):\n",
    "    for j in range(len(puzzle[0])):\n",
    "        if puzzle[i][j] == \"O\":\n",
    "            moveR.append((i,j))\n",
    "        elif puzzle[i][j] == \"#\":\n",
    "            stayR.add((i,j))\n",
    "stayR = frozenset(stayR)\n"
   ]
  },
  {
   "cell_type": "code",
   "execution_count": 15,
   "metadata": {},
   "outputs": [],
   "source": [
    "def moveUp(move, stay):\n",
    "    newMove = []\n",
    "    move = list(move)\n",
    "    move.sort(key=lambda x: x[0])\n",
    "    for rock in move:\n",
    "        #move rock up until it either hits a rock in stay or a rock in newMove\n",
    "        newRock = rock\n",
    "        while newRock[0]-1>=0 and (newRock[0]-1,newRock[1]) not in stay and (newRock[0]-1,newRock[1]) not in newMove:\n",
    "            newRock = (newRock[0]-1,newRock[1])\n",
    "        newMove.append(newRock)\n",
    "    return newMove\n",
    "def moveDown(move, stay):\n",
    "    newMove = []\n",
    "    move = list(move)\n",
    "    move.sort(key=lambda x: x[0], reverse=True)\n",
    "    for rock in move:\n",
    "        #move rock down until it either hits a rock in stay or a rock in newMove\n",
    "        newRock = rock\n",
    "        while newRock[0]+1<len(puzzle) and (newRock[0]+1,newRock[1]) not in stay and (newRock[0]+1,newRock[1]) not in newMove:\n",
    "            newRock = (newRock[0]+1,newRock[1])\n",
    "        newMove.append(newRock)\n",
    "    return newMove\n",
    "def moveLeft(move, stay):\n",
    "    newMove = []\n",
    "    move = list(move)\n",
    "    move.sort(key=lambda x: x[1], reverse=False)\n",
    "    for rock in move:\n",
    "        #move rock left until it either hits a rock in stay or a rock in newMove\n",
    "        newRock = rock\n",
    "        while newRock[1]-1>=0 and (newRock[0],newRock[1]-1) not in stay and (newRock[0],newRock[1]-1) not in newMove:\n",
    "            newRock = (newRock[0],newRock[1]-1)\n",
    "        newMove.append(newRock)\n",
    "    return newMove\n",
    "def moveRight(move, stay):\n",
    "    newMove = []\n",
    "    move = list(move)\n",
    "    move.sort(key=lambda x: x[1], reverse=True)\n",
    "    for rock in move:\n",
    "        #move rock right until it either hits a rock in stay or a rock in newMove\n",
    "        newRock = rock\n",
    "        while newRock[1]+1<len(puzzle[0]) and (newRock[0],newRock[1]+1) not in stay and (newRock[0],newRock[1]+1) not in newMove:\n",
    "            newRock = (newRock[0],newRock[1]+1)\n",
    "        newMove.append(newRock)\n",
    "    return newMove\n",
    "def getLoad(move, size):\n",
    "    load = 0\n",
    "    for rock in move:\n",
    "        load += size-rock[0]\n",
    "    return load"
   ]
  },
  {
   "cell_type": "code",
   "execution_count": 16,
   "metadata": {},
   "outputs": [
    {
     "name": "stdout",
     "output_type": "stream",
     "text": [
      "108826\n"
     ]
    }
   ],
   "source": [
    "newMove = moveUp(moveR, stayR)\n",
    "ans1 = getLoad(newMove, len(puzzle))\n",
    "print(ans1)"
   ]
  },
  {
   "cell_type": "code",
   "execution_count": 17,
   "metadata": {},
   "outputs": [],
   "source": [
    "def spinCycle(move, stay):\n",
    "    newMove = moveUp(move, stay)\n",
    "    newMove = moveLeft(newMove, stay)\n",
    "    newMove = moveDown(newMove, stay)\n",
    "    newMove = moveRight(newMove, stay)\n",
    "    return newMove\n",
    "from functools import lru_cache\n",
    "@lru_cache(maxsize=None)\n",
    "def nextCycle(moveRocks, stayRocks):\n",
    "    newCycle = spinCycle(moveRocks, stayRocks)\n",
    "    return frozenset(newCycle)"
   ]
  },
  {
   "cell_type": "code",
   "execution_count": 19,
   "metadata": {},
   "outputs": [
    {
     "name": "stderr",
     "output_type": "stream",
     "text": [
      "  0%|          | 190/1000000000 [01:33<136616:10:12,  2.03it/s]"
     ]
    },
    {
     "name": "stdout",
     "output_type": "stream",
     "text": [
      "99291\n"
     ]
    },
    {
     "name": "stderr",
     "output_type": "stream",
     "text": [
      "\n"
     ]
    }
   ],
   "source": [
    "newMoveR = moveR\n",
    "moves = [newMoveR]\n",
    "from tqdm import tqdm\n",
    "lastOccur = 0\n",
    "for i in tqdm(range(1000000000)):\n",
    "    newMoveR = nextCycle(frozenset(newMoveR), stayR)\n",
    "    if newMoveR in moves:\n",
    "        lastOccur = moves.index(newMoveR)\n",
    "        cycleLength = i-lastOccur+1\n",
    "        break\n",
    "    moves.append(newMoveR)\n",
    "ans2 = getLoad(moves[(1000000000-lastOccur)%cycleLength+lastOccur], len(puzzle))\n",
    "print(ans2)"
   ]
  },
  {
   "cell_type": "code",
   "execution_count": null,
   "metadata": {},
   "outputs": [],
   "source": []
  }
 ],
 "metadata": {
  "kernelspec": {
   "display_name": "Python 3",
   "language": "python",
   "name": "python3"
  },
  "language_info": {
   "codemirror_mode": {
    "name": "ipython",
    "version": 3
   },
   "file_extension": ".py",
   "mimetype": "text/x-python",
   "name": "python",
   "nbconvert_exporter": "python",
   "pygments_lexer": "ipython3",
   "version": "3.11.0"
  }
 },
 "nbformat": 4,
 "nbformat_minor": 2
}
