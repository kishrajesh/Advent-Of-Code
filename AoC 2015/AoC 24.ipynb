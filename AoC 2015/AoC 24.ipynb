{
 "cells": [
  {
   "cell_type": "code",
   "execution_count": 3,
   "metadata": {},
   "outputs": [],
   "source": [
    "import numpy as np\n",
    "import re\n",
    "puzzle = (open(\"AoC24.txt\", \"r\").read().splitlines())\n",
    "puzzle = [int(i) for i in puzzle]"
   ]
  },
  {
   "cell_type": "code",
   "execution_count": 4,
   "metadata": {},
   "outputs": [],
   "source": [
    "s = sum(puzzle)\n",
    "we = s//3"
   ]
  },
  {
   "cell_type": "code",
   "execution_count": 5,
   "metadata": {},
   "outputs": [
    {
     "name": "stdout",
     "output_type": "stream",
     "text": [
      "10723906903\n"
     ]
    }
   ],
   "source": [
    "import itertools\n",
    "def find_combos(weights, goal):\n",
    "    s = sum(weights)\n",
    "    if s % goal != 0:\n",
    "        return 0\n",
    "    n = len(weights)\n",
    "    for i in range(1, n):\n",
    "        for combo in itertools.combinations(weights, i):\n",
    "            if sum(combo) == goal:\n",
    "                return np.prod(combo)\n",
    "    return 0\n",
    "print(find_combos(puzzle, we))"
   ]
  },
  {
   "cell_type": "code",
   "execution_count": 8,
   "metadata": {},
   "outputs": [
    {
     "name": "stdout",
     "output_type": "stream",
     "text": [
      "74850409\n"
     ]
    }
   ],
   "source": [
    "we2 = s//4\n",
    "print(find_combos(puzzle, we2))"
   ]
  }
 ],
 "metadata": {
  "kernelspec": {
   "display_name": "Python 3.8.16 64-bit ('3.8.16')",
   "language": "python",
   "name": "python3"
  },
  "language_info": {
   "codemirror_mode": {
    "name": "ipython",
    "version": 3
   },
   "file_extension": ".py",
   "mimetype": "text/x-python",
   "name": "python",
   "nbconvert_exporter": "python",
   "pygments_lexer": "ipython3",
   "version": "3.8.16"
  },
  "orig_nbformat": 4,
  "vscode": {
   "interpreter": {
    "hash": "83d716789636f2c43bd4464069cb5695a0d9efbaa75c4707909d1f0a350467f7"
   }
  }
 },
 "nbformat": 4,
 "nbformat_minor": 2
}
