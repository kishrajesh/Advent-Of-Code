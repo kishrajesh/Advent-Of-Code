{
 "cells": [
  {
   "cell_type": "code",
   "execution_count": 1,
   "metadata": {},
   "outputs": [],
   "source": [
    "import numpy as np\n",
    "import re"
   ]
  },
  {
   "cell_type": "code",
   "execution_count": 2,
   "metadata": {},
   "outputs": [],
   "source": [
    "puzzle = (open(\"AoC6.txt\", \"r\").read().splitlines())"
   ]
  },
  {
   "cell_type": "code",
   "execution_count": 3,
   "metadata": {},
   "outputs": [],
   "source": [
    "for i in range(len(puzzle)):\n",
    "    puzzle[i]=puzzle[i].split(\" \")"
   ]
  },
  {
   "cell_type": "code",
   "execution_count": 4,
   "metadata": {},
   "outputs": [],
   "source": [
    "def lights(xy,x1,x2,y1,y2,di):\n",
    "    if(di==\"on\"):\n",
    "        for x in range(x1,x2+1):\n",
    "            for y in range(y1,y2+1):\n",
    "                xy[x][y]=True\n",
    "    elif(di=='off'):\n",
    "        for x in range(x1,x2+1):\n",
    "            for y in range(y1,y2+1):\n",
    "                xy[x][y]=False\n",
    "    elif(di==\"toggle\"):\n",
    "        for x in range(x1,x2+1):\n",
    "            for y in range(y1,y2+1):\n",
    "                xy[x][y]=not xy[x][y]\n",
    "    return xy"
   ]
  },
  {
   "cell_type": "code",
   "execution_count": 5,
   "metadata": {},
   "outputs": [],
   "source": [
    "ligh = np.zeros((1000,1000), dtype=bool)"
   ]
  },
  {
   "cell_type": "code",
   "execution_count": 6,
   "metadata": {},
   "outputs": [
    {
     "name": "stdout",
     "output_type": "stream",
     "text": [
      "400410\n"
     ]
    }
   ],
   "source": [
    "for i in puzzle:\n",
    "    d=i[-4]\n",
    "    x1,y1=map(int,i[-3].split(\",\"))\n",
    "    x2,y2=map(int,i[-1].split(\",\"))\n",
    "    ligh=lights(ligh,x1,x2,y1,y2,d)\n",
    "print(np.count_nonzero(ligh==True))"
   ]
  },
  {
   "cell_type": "code",
   "execution_count": 7,
   "metadata": {},
   "outputs": [],
   "source": [
    "def lights2(xy,x1,x2,y1,y2,di):\n",
    "    if(di==\"on\"):\n",
    "        for x in range(x1,x2+1):\n",
    "            for y in range(y1,y2+1):\n",
    "                xy[x][y]+=1\n",
    "    elif(di=='off'):\n",
    "        for x in range(x1,x2+1):\n",
    "            for y in range(y1,y2+1):\n",
    "                xy[x][y]+=-1\n",
    "                if(xy[x][y]<0):\n",
    "                    xy[x][y]=0\n",
    "    elif(di==\"toggle\"):\n",
    "        for x in range(x1,x2+1):\n",
    "            for y in range(y1,y2+1):\n",
    "                xy[x][y]+=2\n",
    "    return xy"
   ]
  },
  {
   "cell_type": "code",
   "execution_count": 8,
   "metadata": {},
   "outputs": [],
   "source": [
    "ligh2 = np.zeros((1000,1000))"
   ]
  },
  {
   "cell_type": "code",
   "execution_count": 9,
   "metadata": {},
   "outputs": [
    {
     "name": "stdout",
     "output_type": "stream",
     "text": [
      "15343601.0\n"
     ]
    }
   ],
   "source": [
    "for i in puzzle:\n",
    "    d=i[-4]\n",
    "    x1,y1=map(int,i[-3].split(\",\"))\n",
    "    x2,y2=map(int,i[-1].split(\",\"))\n",
    "    ligh2=lights2(ligh2,x1,x2,y1,y2,d)\n",
    "print(np.sum(ligh2))"
   ]
  }
 ],
 "metadata": {
  "kernelspec": {
   "display_name": "Python 3",
   "language": "python",
   "name": "python3"
  },
  "language_info": {
   "codemirror_mode": {
    "name": "ipython",
    "version": 3
   },
   "file_extension": ".py",
   "mimetype": "text/x-python",
   "name": "python",
   "nbconvert_exporter": "python",
   "pygments_lexer": "ipython3",
   "version": "3.8.5"
  }
 },
 "nbformat": 4,
 "nbformat_minor": 4
}
