{
 "cells": [
  {
   "cell_type": "code",
   "execution_count": 11,
   "metadata": {},
   "outputs": [],
   "source": [
    "import numpy as np\n",
    "import re\n",
    "puzzle = (open(\"AoC14.txt\", \"r\").read().splitlines())\n",
    "puzzle = [i.split(\" \") for i in puzzle]\n",
    "puzzle = [[i[0], int(i[3]), int(i[6]), int(i[13])] for i in puzzle]"
   ]
  },
  {
   "cell_type": "code",
   "execution_count": 12,
   "metadata": {},
   "outputs": [],
   "source": [
    "def dist(speed, fly_time, rest_time, time):\n",
    "    cycle = fly_time + rest_time\n",
    "    cycles = time // cycle\n",
    "    remainder = time % cycle\n",
    "    return speed * fly_time * cycles + speed * min(remainder, fly_time)"
   ]
  },
  {
   "cell_type": "code",
   "execution_count": 13,
   "metadata": {},
   "outputs": [
    {
     "name": "stdout",
     "output_type": "stream",
     "text": [
      "2696\n"
     ]
    }
   ],
   "source": [
    "distances = [dist(i[1], i[2], i[3], 2503) for i in puzzle]\n",
    "print(max(distances))"
   ]
  },
  {
   "cell_type": "code",
   "execution_count": 14,
   "metadata": {},
   "outputs": [
    {
     "name": "stdout",
     "output_type": "stream",
     "text": [
      "1084\n"
     ]
    }
   ],
   "source": [
    "scores = [0 for i in range(len(puzzle))]\n",
    "for i in range(1,2504):\n",
    "    dists = [dist(puzzle[j][1], puzzle[j][2], puzzle[j][3], i) for j in range(len(puzzle))]\n",
    "    for j in range(len(dists)):\n",
    "        if dists[j] == max(dists):\n",
    "            scores[j] += 1\n",
    "print(max(scores))"
   ]
  }
 ],
 "metadata": {
  "kernelspec": {
   "display_name": "Python 3.8.16 64-bit ('3.8.16')",
   "language": "python",
   "name": "python3"
  },
  "language_info": {
   "codemirror_mode": {
    "name": "ipython",
    "version": 3
   },
   "file_extension": ".py",
   "mimetype": "text/x-python",
   "name": "python",
   "nbconvert_exporter": "python",
   "pygments_lexer": "ipython3",
   "version": "3.8.16"
  },
  "orig_nbformat": 4,
  "vscode": {
   "interpreter": {
    "hash": "83d716789636f2c43bd4464069cb5695a0d9efbaa75c4707909d1f0a350467f7"
   }
  }
 },
 "nbformat": 4,
 "nbformat_minor": 2
}
