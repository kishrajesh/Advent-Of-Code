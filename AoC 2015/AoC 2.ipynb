{
 "cells": [
  {
   "cell_type": "code",
   "execution_count": 1,
   "metadata": {},
   "outputs": [],
   "source": [
    "import numpy as np\n",
    "import re"
   ]
  },
  {
   "cell_type": "code",
   "execution_count": 2,
   "metadata": {},
   "outputs": [],
   "source": [
    "puzzle = open(\"AoC2.txt\", \"r\").read().splitlines()\n",
    "for i in range(len(puzzle)):\n",
    "    puzzle[i]=puzzle[i].split(\"x\")"
   ]
  },
  {
   "cell_type": "code",
   "execution_count": 3,
   "metadata": {},
   "outputs": [
    {
     "name": "stdout",
     "output_type": "stream",
     "text": [
      "1588178\n"
     ]
    }
   ],
   "source": [
    "ctr=0\n",
    "for i in range(len(puzzle)):\n",
    "    a=(int)(puzzle[i][0])\n",
    "    b=(int)(puzzle[i][1])\n",
    "    c=(int)(puzzle[i][2])\n",
    "    ctr+=(min(a*b,b*c,a*c))\n",
    "    ctr+=2*(a*b+b*c+a*c)\n",
    "print(ctr)"
   ]
  },
  {
   "cell_type": "code",
   "execution_count": 4,
   "metadata": {},
   "outputs": [
    {
     "name": "stdout",
     "output_type": "stream",
     "text": [
      "3783758\n"
     ]
    }
   ],
   "source": [
    "ctr=0\n",
    "for i in range(len(puzzle)):\n",
    "    a=(int)(puzzle[i][0])\n",
    "    b=(int)(puzzle[i][1])\n",
    "    c=(int)(puzzle[i][2])\n",
    "    ctr+=2*(min(a+b,b+c,a+c))\n",
    "    ctr+=(a*b*c)\n",
    "print(ctr)"
   ]
  }
 ],
 "metadata": {
  "kernelspec": {
   "display_name": "Python 3",
   "language": "python",
   "name": "python3"
  },
  "language_info": {
   "codemirror_mode": {
    "name": "ipython",
    "version": 3
   },
   "file_extension": ".py",
   "mimetype": "text/x-python",
   "name": "python",
   "nbconvert_exporter": "python",
   "pygments_lexer": "ipython3",
   "version": "3.8.5"
  }
 },
 "nbformat": 4,
 "nbformat_minor": 4
}
