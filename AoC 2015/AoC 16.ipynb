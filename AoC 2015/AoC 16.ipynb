{
 "cells": [
  {
   "cell_type": "code",
   "execution_count": 11,
   "metadata": {},
   "outputs": [],
   "source": [
    "import numpy as np\n",
    "import re\n",
    "puzzle = (open(\"AoC16.txt\", \"r\").read().splitlines())\n",
    "puzzle = [i.split(\" \") for i in puzzle]\n",
    "aunts = []\n",
    "for i in puzzle:\n",
    "    aunt = {}\n",
    "    for j in range(2):\n",
    "        aunt[i[2*j+2][:-1]] = int(i[2*j+3][:-1])\n",
    "    aunt[i[6][:-1]]=int(i[7])\n",
    "    aunts.append(aunt)"
   ]
  },
  {
   "cell_type": "code",
   "execution_count": 12,
   "metadata": {},
   "outputs": [],
   "source": [
    "aa = {}\n",
    "aa[\"children\"]=3\n",
    "aa[\"cats\"]=7\n",
    "aa[\"samoyeds\"]=2\n",
    "aa[\"pomeranians\"]=3\n",
    "aa[\"akitas\"]=0\n",
    "aa[\"vizslas\"]=0\n",
    "aa[\"goldfish\"]=5\n",
    "aa[\"trees\"]=3\n",
    "aa[\"cars\"]=2\n",
    "aa[\"perfumes\"]=1"
   ]
  },
  {
   "cell_type": "code",
   "execution_count": 14,
   "metadata": {},
   "outputs": [
    {
     "name": "stdout",
     "output_type": "stream",
     "text": [
      "103\n"
     ]
    }
   ],
   "source": [
    "ans1 = 0\n",
    "for i in range(len(aunts)):\n",
    "    if all(aunts[i][j] == aa[j] for j in aunts[i].keys()):\n",
    "        ans1=(i+1)\n",
    "print(ans1)"
   ]
  },
  {
   "cell_type": "code",
   "execution_count": 15,
   "metadata": {},
   "outputs": [
    {
     "name": "stdout",
     "output_type": "stream",
     "text": [
      "405\n"
     ]
    }
   ],
   "source": [
    "ans1 = 0\n",
    "for i in range(len(aunts)):\n",
    "    wrong1 = [\"pomeranians\", \"goldfish\"]\n",
    "    wrong2 = [\"cats\", \"trees\"]\n",
    "    if all(aunts[i][j] == aa[j] for j in aunts[i].keys() if j not in wrong1 and j not in wrong2):\n",
    "        if all(aunts[i][j] < aa[j] for j in aunts[i].keys() if j in wrong1):\n",
    "            if all(aunts[i][j] > aa[j] for j in aunts[i].keys() if j in wrong2):\n",
    "                ans1=(i+1)\n",
    "print(ans1)"
   ]
  }
 ],
 "metadata": {
  "kernelspec": {
   "display_name": "Python 3.8.16 64-bit ('3.8.16')",
   "language": "python",
   "name": "python3"
  },
  "language_info": {
   "codemirror_mode": {
    "name": "ipython",
    "version": 3
   },
   "file_extension": ".py",
   "mimetype": "text/x-python",
   "name": "python",
   "nbconvert_exporter": "python",
   "pygments_lexer": "ipython3",
   "version": "3.8.16"
  },
  "orig_nbformat": 4,
  "vscode": {
   "interpreter": {
    "hash": "83d716789636f2c43bd4464069cb5695a0d9efbaa75c4707909d1f0a350467f7"
   }
  }
 },
 "nbformat": 4,
 "nbformat_minor": 2
}
