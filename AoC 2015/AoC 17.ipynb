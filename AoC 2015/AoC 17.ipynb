{
 "cells": [
  {
   "cell_type": "code",
   "execution_count": 26,
   "metadata": {},
   "outputs": [],
   "source": [
    "import numpy as np\n",
    "import re\n",
    "puzzle = (open(\"AoC17.txt\", \"r\").read().splitlines())\n",
    "puzzle = [int(i) for i in puzzle]"
   ]
  },
  {
   "cell_type": "code",
   "execution_count": 27,
   "metadata": {},
   "outputs": [],
   "source": [
    "def fit(values, volume):\n",
    "    #finds all combinations of values that add up to volume\n",
    "    #returns a list of lists\n",
    "    if(volume==0):\n",
    "        return [[]]\n",
    "    if len(values) == 1:\n",
    "        if values[0] == volume:\n",
    "            return [[volume]]\n",
    "        else:\n",
    "            return []\n",
    "    else:\n",
    "        new_values = values[1:]\n",
    "        lose_it = fit(new_values, volume)\n",
    "        use_it = [[values[0]] + i for i in fit(new_values, volume - values[0])]\n",
    "        return(use_it + lose_it)\n"
   ]
  },
  {
   "cell_type": "code",
   "execution_count": 30,
   "metadata": {},
   "outputs": [
    {
     "name": "stdout",
     "output_type": "stream",
     "text": [
      "1304\n"
     ]
    }
   ],
   "source": [
    "fills = fit(puzzle, 150)\n",
    "print(len(fills))"
   ]
  },
  {
   "cell_type": "code",
   "execution_count": 32,
   "metadata": {},
   "outputs": [
    {
     "name": "stdout",
     "output_type": "stream",
     "text": [
      "18\n"
     ]
    }
   ],
   "source": [
    "minSize = min([len(i) for i in fills])\n",
    "ans2 = 0\n",
    "for i in fills:\n",
    "    if(len(i)==minSize):\n",
    "        ans2+=1\n",
    "print(ans2)"
   ]
  }
 ],
 "metadata": {
  "kernelspec": {
   "display_name": "Python 3.8.16 64-bit ('3.8.16')",
   "language": "python",
   "name": "python3"
  },
  "language_info": {
   "codemirror_mode": {
    "name": "ipython",
    "version": 3
   },
   "file_extension": ".py",
   "mimetype": "text/x-python",
   "name": "python",
   "nbconvert_exporter": "python",
   "pygments_lexer": "ipython3",
   "version": "3.8.16"
  },
  "orig_nbformat": 4,
  "vscode": {
   "interpreter": {
    "hash": "83d716789636f2c43bd4464069cb5695a0d9efbaa75c4707909d1f0a350467f7"
   }
  }
 },
 "nbformat": 4,
 "nbformat_minor": 2
}
