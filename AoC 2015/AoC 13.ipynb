{
 "cells": [
  {
   "cell_type": "code",
   "execution_count": 12,
   "metadata": {},
   "outputs": [],
   "source": [
    "import numpy as np\n",
    "import re\n",
    "puzzle = (open(\"AoC13.txt\", \"r\").read().splitlines())\n",
    "puzzle = [i.split(\" \") for i in puzzle]\n",
    "puzzle = [[i[0],i[-1][:-1],i[2],int(i[3])] for i in puzzle]"
   ]
  },
  {
   "cell_type": "code",
   "execution_count": 15,
   "metadata": {},
   "outputs": [
    {
     "name": "stdout",
     "output_type": "stream",
     "text": [
      "664\n"
     ]
    }
   ],
   "source": [
    "people = list(set(i[0] for i in puzzle))\n",
    "happiness = {}\n",
    "for i in puzzle:\n",
    "    if(i[2]==\"lose\"):\n",
    "        happiness[(i[0],i[1])] = -i[3]\n",
    "    else:\n",
    "        happiness[(i[0],i[1])] = i[3]\n",
    "import itertools\n",
    "x = list(itertools.permutations(people))\n",
    "def getScore(perm):\n",
    "    score = 0\n",
    "    for i in range(len(perm)):\n",
    "        score += happiness[(perm[i],perm[(i-1)%len(perm)])]\n",
    "        score += happiness[(perm[i],perm[(i+1)%len(perm)])]\n",
    "    return score\n",
    "ans1 = max([getScore(i) for i in x])\n",
    "print(ans1)"
   ]
  },
  {
   "cell_type": "code",
   "execution_count": 17,
   "metadata": {},
   "outputs": [
    {
     "name": "stdout",
     "output_type": "stream",
     "text": [
      "640\n"
     ]
    }
   ],
   "source": [
    "people2 = list(set(i[0] for i in puzzle))+[\"me\"]\n",
    "happiness = {}\n",
    "for i in people2:\n",
    "    happiness[(i,\"me\")] = 0\n",
    "    happiness[(\"me\",i)] = 0\n",
    "for i in puzzle:\n",
    "    if(i[2]==\"lose\"):\n",
    "        happiness[(i[0],i[1])] = -i[3]\n",
    "    else:\n",
    "        happiness[(i[0],i[1])] = i[3]\n",
    "import itertools\n",
    "x = list(itertools.permutations(people2))\n",
    "def getScore(perm):\n",
    "    score = 0\n",
    "    for i in range(len(perm)):\n",
    "        score += happiness[(perm[i],perm[(i-1)%len(perm)])]\n",
    "        score += happiness[(perm[i],perm[(i+1)%len(perm)])]\n",
    "    return score\n",
    "ans2 = max([getScore(i) for i in x])\n",
    "print(ans2)"
   ]
  }
 ],
 "metadata": {
  "kernelspec": {
   "display_name": "Python 3.8.16 64-bit ('3.8.16')",
   "language": "python",
   "name": "python3"
  },
  "language_info": {
   "codemirror_mode": {
    "name": "ipython",
    "version": 3
   },
   "file_extension": ".py",
   "mimetype": "text/x-python",
   "name": "python",
   "nbconvert_exporter": "python",
   "pygments_lexer": "ipython3",
   "version": "3.8.16"
  },
  "orig_nbformat": 4,
  "vscode": {
   "interpreter": {
    "hash": "83d716789636f2c43bd4464069cb5695a0d9efbaa75c4707909d1f0a350467f7"
   }
  }
 },
 "nbformat": 4,
 "nbformat_minor": 2
}
