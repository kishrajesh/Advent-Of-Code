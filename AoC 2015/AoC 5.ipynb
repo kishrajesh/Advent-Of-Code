{
 "cells": [
  {
   "cell_type": "code",
   "execution_count": 1,
   "metadata": {},
   "outputs": [],
   "source": [
    "import numpy as np\n",
    "import re"
   ]
  },
  {
   "cell_type": "code",
   "execution_count": 2,
   "metadata": {},
   "outputs": [],
   "source": [
    "puzzle = (open(\"AoC5.txt\", \"r\").read().splitlines())"
   ]
  },
  {
   "cell_type": "code",
   "execution_count": 3,
   "metadata": {},
   "outputs": [],
   "source": [
    "def nice(st):\n",
    "    if('ab' in st or 'cd' in st or 'pq' in st or 'xy' in st):\n",
    "        return False\n",
    "    x=list(st)\n",
    "    boo=False\n",
    "    for i in range(1,len(x)):\n",
    "        if(x[i]==x[i-1]):\n",
    "            boo=True\n",
    "    if(not boo):\n",
    "        return False\n",
    "    ctr=0\n",
    "    for i in range(len(x)):\n",
    "        if(x[i] in ['a','e','i','o','u']):\n",
    "            ctr+=1\n",
    "    if(ctr<3):\n",
    "        return False\n",
    "    return True"
   ]
  },
  {
   "cell_type": "code",
   "execution_count": 4,
   "metadata": {},
   "outputs": [
    {
     "name": "stdout",
     "output_type": "stream",
     "text": [
      "236\n"
     ]
    }
   ],
   "source": [
    "ctr=0\n",
    "for i in puzzle:\n",
    "    if(nice(i)):\n",
    "        ctr+=1\n",
    "print(ctr)"
   ]
  },
  {
   "cell_type": "code",
   "execution_count": 5,
   "metadata": {},
   "outputs": [],
   "source": [
    "def nice1(st):\n",
    "    x=list(st)\n",
    "    boo=False\n",
    "    for i in range(2,len(x)):\n",
    "        if(x[i]==x[i-2]):\n",
    "            boo=True\n",
    "    if(not boo):\n",
    "        return False\n",
    "    boo=False\n",
    "    for i in range(0,len(x)-1):\n",
    "        for j in range(i+2,len(x)-1):\n",
    "            if(x[i]==x[j] and x[i+1]==x[j+1]):\n",
    "                boo=True\n",
    "    if(not boo):\n",
    "        return False\n",
    "    return True"
   ]
  },
  {
   "cell_type": "code",
   "execution_count": 6,
   "metadata": {},
   "outputs": [
    {
     "name": "stdout",
     "output_type": "stream",
     "text": [
      "51\n"
     ]
    }
   ],
   "source": [
    "ctr=0\n",
    "for i in puzzle:\n",
    "    if(nice1(i)):\n",
    "        ctr+=1\n",
    "print(ctr)"
   ]
  }
 ],
 "metadata": {
  "kernelspec": {
   "display_name": "Python 3",
   "language": "python",
   "name": "python3"
  },
  "language_info": {
   "codemirror_mode": {
    "name": "ipython",
    "version": 3
   },
   "file_extension": ".py",
   "mimetype": "text/x-python",
   "name": "python",
   "nbconvert_exporter": "python",
   "pygments_lexer": "ipython3",
   "version": "3.8.5"
  }
 },
 "nbformat": 4,
 "nbformat_minor": 4
}
