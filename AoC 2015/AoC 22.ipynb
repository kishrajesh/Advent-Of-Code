{
 "cells": [
  {
   "cell_type": "code",
   "execution_count": 15,
   "metadata": {},
   "outputs": [],
   "source": [
    "import numpy as np\n",
    "import re\n",
    "puzzle = (open(\"AoC22.txt\", \"r\").read().splitlines())\n",
    "bossHp = int(puzzle[0].split(\" \")[2])\n",
    "bossDmg = int(puzzle[1].split(\" \")[1])"
   ]
  },
  {
   "cell_type": "code",
   "execution_count": 16,
   "metadata": {},
   "outputs": [],
   "source": [
    "#spell - cost, dmg, heal, armor, mana, effect\n",
    "spells = [[53, 4, 0, 0, 0, 0],[73, 2, 2, 0, 0, 0],[113, 0, 0, 7, 0, 6],[173, 3, 0, 0, 0, 6],[229, 0, 0, 0, 101, 5]]"
   ]
  },
  {
   "cell_type": "code",
   "execution_count": 31,
   "metadata": {},
   "outputs": [],
   "source": [
    "meHp =  50\n",
    "meMana = 500\n",
    "meArmor = 0\n",
    "meManaSpent = 0\n",
    "from functools import lru_cache\n",
    "@lru_cache\n",
    "def simulatePlayer(mehp, memana, mearmor, memanaspent, bosshp, bossdmg, effects):\n",
    "    #simulates a player turn\n",
    "    #returns the minimum mana spent to win\n",
    "    #apply effects\n",
    "    if effects[0] > 0:\n",
    "        bosshp -= 4\n",
    "        effects[0] -= 1\n",
    "    if effects[1] > 0:\n",
    "        mearmor = 7\n",
    "        effects[1] -= 1\n",
    "    if effects[2] > 0:\n",
    "        mehp += 101\n",
    "        effects[2] -= 1\n",
    "    if effects[3] > 0:\n",
    "        effects[3] -= 1\n",
    "    if effects[4] > 0:\n",
    "        memana += 101\n",
    "        effects[4] -= 1\n",
    "    #check if boss is dead\n",
    "    if bosshp <= 0:\n",
    "        return (True, memanaspent)\n",
    "    #check if player is dead\n",
    "    if mehp <= 0:\n",
    "        return (False, memanaspent)\n",
    "    poss = []\n",
    "    #Simulate player turn for every possible spell\n",
    "    for i in range(len(spells)):\n",
    "        if spells[i][0] <= memana and effects[i] == 0:\n",
    "            #simulate spell\n",
    "            newHp = mehp\n",
    "            newMana = memana - spells[i][0]\n",
    "            newArmor = mearmor\n",
    "            newManaSpent = memanaspent + spells[i][0]\n",
    "            newEffects = effects\n",
    "            newEffects[i] = spells[i][5]\n",
    "            newBossHp = bosshp - spells[i][1]\n",
    "            newBossDmg = bossDmg - spells[i][3]\n",
    "            if simulateBoss(newHp, newMana, newArmor, newManaSpent, newBossHp, newBossDmg, newEffects):\n",
    "                poss.append(simulateBoss(newHp, newMana, newArmor, newManaSpent, newBossHp, newBossDmg, newEffects))\n",
    "    if len(poss) == 0:\n",
    "        return (False, memanaspent)\n",
    "    return min(poss,key=lambda x: x[1])\n",
    "\n",
    "from functools import lru_cache\n",
    "@lru_cache\n",
    "def simulateBoss(mehp, memana, mearmor, memanaspent, bosshp, bossdmg, effects):\n",
    "    #simulates a boss turn\n",
    "    #returns the minimum mana spent to win for player\n",
    "    #apply effects\n",
    "    if effects[0] > 0:\n",
    "        bosshp -= 4\n",
    "        effects[0] -= 1\n",
    "    if effects[1] > 0:\n",
    "        mearmor = 7\n",
    "        effects[1] -= 1\n",
    "    if effects[2] > 0:\n",
    "        mehp += 101\n",
    "        effects[2] -= 1\n",
    "    if effects[3] > 0:\n",
    "        effects[3] -= 1\n",
    "    if effects[4] > 0:\n",
    "        memana += 101\n",
    "        effects[4] -= 1\n",
    "    #check if boss is dead\n",
    "    if bosshp <= 0:\n",
    "        return (True, memanaspent)\n",
    "    #check if player is dead\n",
    "    if mehp <= 0:\n",
    "        return (False, memanaspent)\n",
    "    #simulate boss turn\n",
    "    newHp = mehp - max(1, bossdmg - mearmor)\n",
    "    newMana = memana\n",
    "    newArmor = mearmor\n",
    "    newManaSpent = memanaspent\n",
    "    newEffects = effects.copy()\n",
    "    return simulatePlayer(newHp, newMana, newArmor, newManaSpent, bosshp, bossdmg, newEffects)\n",
    "\n"
   ]
  },
  {
   "cell_type": "code",
   "execution_count": 32,
   "metadata": {},
   "outputs": [
    {
     "ename": "TypeError",
     "evalue": "'tuple' object does not support item assignment",
     "output_type": "error",
     "traceback": [
      "\u001b[0;31m---------------------------------------------------------------------------\u001b[0m",
      "\u001b[0;31mTypeError\u001b[0m                                 Traceback (most recent call last)",
      "Cell \u001b[0;32mIn[32], line 1\u001b[0m\n\u001b[0;32m----> 1\u001b[0m \u001b[39mprint\u001b[39m(simulatePlayer(meHp, meMana, meArmor, meManaSpent, bossHp, bossDmg, (\u001b[39m0\u001b[39;49m,\u001b[39m0\u001b[39;49m,\u001b[39m0\u001b[39;49m,\u001b[39m0\u001b[39;49m,\u001b[39m0\u001b[39;49m)))\n",
      "Cell \u001b[0;32mIn[31], line 41\u001b[0m, in \u001b[0;36msimulatePlayer\u001b[0;34m(mehp, memana, mearmor, memanaspent, bosshp, bossdmg, effects)\u001b[0m\n\u001b[1;32m     39\u001b[0m newManaSpent \u001b[39m=\u001b[39m memanaspent \u001b[39m+\u001b[39m spells[i][\u001b[39m0\u001b[39m]\n\u001b[1;32m     40\u001b[0m newEffects \u001b[39m=\u001b[39m effects\n\u001b[0;32m---> 41\u001b[0m newEffects[i] \u001b[39m=\u001b[39m spells[i][\u001b[39m5\u001b[39m]\n\u001b[1;32m     42\u001b[0m newBossHp \u001b[39m=\u001b[39m bosshp \u001b[39m-\u001b[39m spells[i][\u001b[39m1\u001b[39m]\n\u001b[1;32m     43\u001b[0m newBossDmg \u001b[39m=\u001b[39m bossDmg \u001b[39m-\u001b[39m spells[i][\u001b[39m3\u001b[39m]\n",
      "\u001b[0;31mTypeError\u001b[0m: 'tuple' object does not support item assignment"
     ]
    }
   ],
   "source": [
    "print(simulatePlayer(meHp, meMana, meArmor, meManaSpent, bossHp, bossDmg, (0,0,0,0,0)))"
   ]
  },
  {
   "cell_type": "code",
   "execution_count": null,
   "metadata": {},
   "outputs": [],
   "source": []
  }
 ],
 "metadata": {
  "kernelspec": {
   "display_name": "Python 3.8.16 64-bit ('3.8.16')",
   "language": "python",
   "name": "python3"
  },
  "language_info": {
   "codemirror_mode": {
    "name": "ipython",
    "version": 3
   },
   "file_extension": ".py",
   "mimetype": "text/x-python",
   "name": "python",
   "nbconvert_exporter": "python",
   "pygments_lexer": "ipython3",
   "version": "3.8.16"
  },
  "orig_nbformat": 4,
  "vscode": {
   "interpreter": {
    "hash": "83d716789636f2c43bd4464069cb5695a0d9efbaa75c4707909d1f0a350467f7"
   }
  }
 },
 "nbformat": 4,
 "nbformat_minor": 2
}
