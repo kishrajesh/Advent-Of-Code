{
 "cells": [
  {
   "cell_type": "code",
   "execution_count": 27,
   "metadata": {},
   "outputs": [],
   "source": [
    "import numpy as np\n",
    "import re\n",
    "puzzle = (open(\"AoC9.txt\", \"r\").read().splitlines())\n",
    "puzzle = [i.split(\" \") for i in puzzle]\n",
    "puzzle = [[i[0],i[2],int(i[4])] for i in puzzle]"
   ]
  },
  {
   "cell_type": "code",
   "execution_count": 28,
   "metadata": {},
   "outputs": [],
   "source": [
    "dists = {}\n",
    "for i in puzzle:\n",
    "    if i[0] not in dists:\n",
    "        dists[i[0]] = {}\n",
    "    dists[i[0]][i[1]] = i[2]\n",
    "    if i[1] not in dists:\n",
    "        dists[i[1]] = {}\n",
    "    dists[i[1]][i[0]] = i[2]\n",
    "cities = list(set(dists.keys()))"
   ]
  },
  {
   "cell_type": "code",
   "execution_count": 29,
   "metadata": {},
   "outputs": [
    {
     "name": "stdout",
     "output_type": "stream",
     "text": [
      "141\n",
      "736\n"
     ]
    }
   ],
   "source": [
    "import itertools\n",
    "x = list(itertools.permutations(cities))\n",
    "def distance(perm):\n",
    "    dist = 0\n",
    "    for i in range(len(perm)-1):\n",
    "        dist += dists[perm[i]][perm[i+1]]\n",
    "    return dist\n",
    "ans1 = min([distance(i) for i in x])\n",
    "print(ans1)\n",
    "ans2 = max([distance(i) for i in x])\n",
    "print(ans2)"
   ]
  },
  {
   "cell_type": "code",
   "execution_count": null,
   "metadata": {},
   "outputs": [],
   "source": []
  }
 ],
 "metadata": {
  "kernelspec": {
   "display_name": "Python 3.8.16 64-bit ('3.8.16')",
   "language": "python",
   "name": "python3"
  },
  "language_info": {
   "codemirror_mode": {
    "name": "ipython",
    "version": 3
   },
   "file_extension": ".py",
   "mimetype": "text/x-python",
   "name": "python",
   "nbconvert_exporter": "python",
   "pygments_lexer": "ipython3",
   "version": "3.8.16"
  },
  "orig_nbformat": 4,
  "vscode": {
   "interpreter": {
    "hash": "83d716789636f2c43bd4464069cb5695a0d9efbaa75c4707909d1f0a350467f7"
   }
  }
 },
 "nbformat": 4,
 "nbformat_minor": 2
}
