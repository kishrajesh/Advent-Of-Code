{
 "cells": [
  {
   "cell_type": "code",
   "execution_count": 63,
   "metadata": {},
   "outputs": [],
   "source": [
    "import numpy as np\n",
    "import re\n",
    "puzzle = (open(\"AoC19.txt\", \"r\").read().splitlines())\n",
    "repl = []\n",
    "for line in puzzle:\n",
    "    if(line==\"\"):\n",
    "        break\n",
    "    repl.append(line.split(\" => \"))\n",
    "med = puzzle[-1]"
   ]
  },
  {
   "cell_type": "code",
   "execution_count": 64,
   "metadata": {},
   "outputs": [],
   "source": [
    "def conv(s):\n",
    "    ans = []\n",
    "    for i in range(len(s)):\n",
    "        if(not s[i].isupper()):\n",
    "            ans.pop()\n",
    "            ans.append(s[i-1:i+1])\n",
    "        else:\n",
    "            ans.append(s[i])\n",
    "    return ans\n",
    "mole = conv(med)"
   ]
  },
  {
   "cell_type": "code",
   "execution_count": 65,
   "metadata": {},
   "outputs": [
    {
     "name": "stdout",
     "output_type": "stream",
     "text": [
      "509\n"
     ]
    }
   ],
   "source": [
    "def replace(mole, repl):\n",
    "    ans = []\n",
    "    for i in range(len(mole)):\n",
    "        for j in range(len(repl)):\n",
    "            if(mole[i]==repl[j][0]):\n",
    "                tmp = mole.copy()\n",
    "                tmp[i] = repl[j][1]\n",
    "                ans.append(tmp)\n",
    "    return ans\n",
    "rep = replace(mole, repl)\n",
    "rep = [\"\".join(i) for i in rep]\n",
    "print(len(set(rep)))"
   ]
  },
  {
   "cell_type": "code",
   "execution_count": 66,
   "metadata": {},
   "outputs": [],
   "source": [
    "def replace2(mole, repl):\n",
    "    #input is a string representing a molecule\n",
    "    #repl is a list of pairs [element, replacement]\n",
    "    #output all possible strings formed by replacing one instance of element with replacement\n",
    "    ans = []\n",
    "    for i in range(len(mole)):\n",
    "        for j in range(len(repl)):\n",
    "            if(mole[i:i+len(repl[j][0])]==repl[j][0]):\n",
    "                tmp = mole[:i] + repl[j][1] + mole[i+len(repl[j][0]):]\n",
    "                ans.append(tmp)\n",
    "    return ans"
   ]
  },
  {
   "cell_type": "code",
   "execution_count": 67,
   "metadata": {},
   "outputs": [],
   "source": [
    "def reduce(molecule, repl):\n",
    "   #molecule is a string consisting of elements\n",
    "   #repl is a list of tuples of the form (element, replacement)\n",
    "   #returns a list of all possible molecules that can be made by replacing one replacement with its element\n",
    "    ans = []\n",
    "    for i in range(len(repl)):\n",
    "        for m in re.finditer(repl[i][1], molecule):\n",
    "            ans.append(molecule[:m.start()]+repl[i][0]+molecule[m.end():])\n",
    "    return ans"
   ]
  },
  {
   "cell_type": "code",
   "execution_count": 69,
   "metadata": {},
   "outputs": [
    {
     "name": "stdout",
     "output_type": "stream",
     "text": [
      "195\n"
     ]
    }
   ],
   "source": [
    "from random import shuffle\n",
    "tar = med\n",
    "ans2 = 0\n",
    "\n",
    "while tar!=\"e\":\n",
    "    x = tar\n",
    "    for i,j in repl:\n",
    "        if j in tar:\n",
    "            tar = tar.replace(j,i,1)\n",
    "            ans2+=1\n",
    "            break\n",
    "    if x==tar:\n",
    "        tar = med\n",
    "        ans2 = 0\n",
    "        shuffle(repl)\n",
    "print(ans2)"
   ]
  }
 ],
 "metadata": {
  "kernelspec": {
   "display_name": "Python 3.8.16 64-bit ('3.8.16')",
   "language": "python",
   "name": "python3"
  },
  "language_info": {
   "codemirror_mode": {
    "name": "ipython",
    "version": 3
   },
   "file_extension": ".py",
   "mimetype": "text/x-python",
   "name": "python",
   "nbconvert_exporter": "python",
   "pygments_lexer": "ipython3",
   "version": "3.8.16"
  },
  "orig_nbformat": 4,
  "vscode": {
   "interpreter": {
    "hash": "83d716789636f2c43bd4464069cb5695a0d9efbaa75c4707909d1f0a350467f7"
   }
  }
 },
 "nbformat": 4,
 "nbformat_minor": 2
}
