{
 "cells": [
  {
   "cell_type": "code",
   "execution_count": 34,
   "metadata": {},
   "outputs": [],
   "source": [
    "import numpy as np\n",
    "import re\n",
    "puzzle = (open(\"AoC25.txt\", \"r\").read().splitlines())\n",
    "puzzle = puzzle[0].split(\" \")\n",
    "row, col = int(puzzle[-3][:-1]), int(puzzle[-1][:-1])"
   ]
  },
  {
   "cell_type": "code",
   "execution_count": 35,
   "metadata": {},
   "outputs": [
    {
     "name": "stdout",
     "output_type": "stream",
     "text": [
      "2650453\n"
     ]
    }
   ],
   "source": [
    "dp = []\n",
    "for r in range(row+col):\n",
    "    dp.append([0 for i in range(row+col)])\n",
    "dp[0][0]=20151125\n",
    "for t in range(1, row+col):\n",
    "    for c in range(0,t+1):\n",
    "        r = t-c\n",
    "        if(c == 0):\n",
    "            dp[r][c] = (dp[0][t-1]*252533)%33554393\n",
    "        else:\n",
    "            dp[r][c] = (dp[r+1][c-1]*252533)%33554393\n",
    "print(dp[row-1][col-1])\n"
   ]
  }
 ],
 "metadata": {
  "kernelspec": {
   "display_name": "Python 3.8.16 64-bit ('3.8.16')",
   "language": "python",
   "name": "python3"
  },
  "language_info": {
   "codemirror_mode": {
    "name": "ipython",
    "version": 3
   },
   "file_extension": ".py",
   "mimetype": "text/x-python",
   "name": "python",
   "nbconvert_exporter": "python",
   "pygments_lexer": "ipython3",
   "version": "3.8.16"
  },
  "orig_nbformat": 4,
  "vscode": {
   "interpreter": {
    "hash": "83d716789636f2c43bd4464069cb5695a0d9efbaa75c4707909d1f0a350467f7"
   }
  }
 },
 "nbformat": 4,
 "nbformat_minor": 2
}
