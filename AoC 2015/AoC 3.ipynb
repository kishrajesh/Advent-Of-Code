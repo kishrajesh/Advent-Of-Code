{
 "cells": [
  {
   "cell_type": "code",
   "execution_count": 1,
   "metadata": {},
   "outputs": [],
   "source": [
    "import numpy as np\n",
    "import re"
   ]
  },
  {
   "cell_type": "code",
   "execution_count": 2,
   "metadata": {},
   "outputs": [],
   "source": [
    "puzzle = (open(\"AoC3.txt\", \"r\").read().splitlines())"
   ]
  },
  {
   "cell_type": "code",
   "execution_count": 3,
   "metadata": {},
   "outputs": [],
   "source": [
    "puzzle[0]=list(puzzle[0])"
   ]
  },
  {
   "cell_type": "code",
   "execution_count": 4,
   "metadata": {},
   "outputs": [
    {
     "name": "stdout",
     "output_type": "stream",
     "text": [
      "2592\n"
     ]
    }
   ],
   "source": [
    "def inx(x,y,a,b):\n",
    "    for i in range(len(x)):\n",
    "        if(x[i]==a and y[i]==b):\n",
    "            return i\n",
    "    return -1\n",
    "x=[0]\n",
    "y=[0]\n",
    "dire=['^','v','>','<']\n",
    "x_dr=[0,0,1,-1]\n",
    "y_dr=[1,-1,0,0]\n",
    "ctr=1\n",
    "lastx=0\n",
    "lasty=0\n",
    "for i in puzzle[0]:\n",
    "    inde=dire.index(i)\n",
    "    new_x=lastx+x_dr[inde]\n",
    "    new_y=lasty+y_dr[inde]\n",
    "    if(inx(x,y,new_x,new_y)==-1):\n",
    "        ctr+=1\n",
    "        x.append(new_x)\n",
    "        y.append(new_y)\n",
    "    lastx=new_x\n",
    "    lasty=new_y\n",
    "print(ctr)"
   ]
  },
  {
   "cell_type": "code",
   "execution_count": 5,
   "metadata": {},
   "outputs": [
    {
     "name": "stdout",
     "output_type": "stream",
     "text": [
      "2360\n"
     ]
    }
   ],
   "source": [
    "x=[0]\n",
    "y=[0]\n",
    "dire=['^','v','>','<']\n",
    "x_dr=[0,0,1,-1]\n",
    "y_dr=[1,-1,0,0]\n",
    "ctr1=1\n",
    "ctr2=0\n",
    "lastx1=0\n",
    "lasty1=0\n",
    "lastx2=0\n",
    "lasty2=0\n",
    "for j in range(len(puzzle[0])):\n",
    "    i=puzzle[0][j]\n",
    "    inde=dire.index(i)\n",
    "    if(j%2==1):\n",
    "        new_x=lastx2+x_dr[inde]\n",
    "        new_y=lasty2+y_dr[inde]\n",
    "        if(inx(x,y,new_x,new_y)==-1):\n",
    "            ctr2+=1\n",
    "            x.append(new_x)\n",
    "            y.append(new_y)\n",
    "        lastx2=new_x\n",
    "        lasty2=new_y\n",
    "    else:\n",
    "        new_x=lastx1+x_dr[inde]\n",
    "        new_y=lasty1+y_dr[inde]\n",
    "        if(inx(x,y,new_x,new_y)==-1):\n",
    "            ctr1+=1\n",
    "            x.append(new_x)\n",
    "            y.append(new_y)\n",
    "        lastx1=new_x\n",
    "        lasty1=new_y\n",
    "print(ctr1+ctr2)"
   ]
  }
 ],
 "metadata": {
  "kernelspec": {
   "display_name": "Python 3",
   "language": "python",
   "name": "python3"
  },
  "language_info": {
   "codemirror_mode": {
    "name": "ipython",
    "version": 3
   },
   "file_extension": ".py",
   "mimetype": "text/x-python",
   "name": "python",
   "nbconvert_exporter": "python",
   "pygments_lexer": "ipython3",
   "version": "3.8.5"
  }
 },
 "nbformat": 4,
 "nbformat_minor": 4
}
