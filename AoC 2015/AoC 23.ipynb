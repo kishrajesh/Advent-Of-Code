{
 "cells": [
  {
   "cell_type": "code",
   "execution_count": 1,
   "metadata": {},
   "outputs": [],
   "source": [
    "import numpy as np\n",
    "import re\n",
    "puzzle = (open(\"AoC23.txt\", \"r\").read().splitlines())\n",
    "puzzle = [i.split(\" \") for i in puzzle]"
   ]
  },
  {
   "cell_type": "code",
   "execution_count": 2,
   "metadata": {},
   "outputs": [
    {
     "name": "stdout",
     "output_type": "stream",
     "text": [
      "255\n"
     ]
    }
   ],
   "source": [
    "a = 0\n",
    "b = 0\n",
    "i = 0\n",
    "while(i<len(puzzle)):\n",
    "    if(puzzle[i][0] == \"hlf\"):\n",
    "        if(puzzle[i][1] == \"a\"):\n",
    "            a = a/2\n",
    "        else:\n",
    "            b = b/2\n",
    "        i+=1\n",
    "    elif(puzzle[i][0] == \"tpl\"):\n",
    "        if(puzzle[i][1] == \"a\"):\n",
    "            a = a*3\n",
    "        else:\n",
    "            b = b*3\n",
    "        i+=1\n",
    "    elif(puzzle[i][0] == \"inc\"):\n",
    "        if(puzzle[i][1] == \"a\"):\n",
    "            a += 1\n",
    "        else:\n",
    "            b += 1\n",
    "        i+=1\n",
    "    elif(puzzle[i][0] == \"jmp\"):\n",
    "        i += int(puzzle[i][1])\n",
    "    elif(puzzle[i][0] == \"jie\"):\n",
    "        if(puzzle[i][1][0] == \"a\"):\n",
    "            if(a%2 == 0):\n",
    "                i += int(puzzle[i][2])\n",
    "            else:\n",
    "                i+=1\n",
    "        else:\n",
    "            if(b%2 == 0):\n",
    "                i += int(puzzle[i][2])\n",
    "            else:\n",
    "                i+=1\n",
    "    elif(puzzle[i][0] == \"jio\"):\n",
    "        if(puzzle[i][1][0] == \"a\"):\n",
    "            if(a == 1):\n",
    "                i += int(puzzle[i][2])\n",
    "            else:\n",
    "                i+=1\n",
    "        else:\n",
    "            if(b == 1):\n",
    "                i += int(puzzle[i][2])\n",
    "            else:\n",
    "                i+=1\n",
    "print(b)"
   ]
  },
  {
   "cell_type": "code",
   "execution_count": 3,
   "metadata": {},
   "outputs": [
    {
     "name": "stdout",
     "output_type": "stream",
     "text": [
      "334\n"
     ]
    }
   ],
   "source": [
    "a = 1\n",
    "b = 0\n",
    "i = 0\n",
    "while(i<len(puzzle)):\n",
    "    if(puzzle[i][0] == \"hlf\"):\n",
    "        if(puzzle[i][1] == \"a\"):\n",
    "            a = a/2\n",
    "        else:\n",
    "            b = b/2\n",
    "        i+=1\n",
    "    elif(puzzle[i][0] == \"tpl\"):\n",
    "        if(puzzle[i][1] == \"a\"):\n",
    "            a = a*3\n",
    "        else:\n",
    "            b = b*3\n",
    "        i+=1\n",
    "    elif(puzzle[i][0] == \"inc\"):\n",
    "        if(puzzle[i][1] == \"a\"):\n",
    "            a += 1\n",
    "        else:\n",
    "            b += 1\n",
    "        i+=1\n",
    "    elif(puzzle[i][0] == \"jmp\"):\n",
    "        i += int(puzzle[i][1])\n",
    "    elif(puzzle[i][0] == \"jie\"):\n",
    "        if(puzzle[i][1][0] == \"a\"):\n",
    "            if(a%2 == 0):\n",
    "                i += int(puzzle[i][2])\n",
    "            else:\n",
    "                i+=1\n",
    "        else:\n",
    "            if(b%2 == 0):\n",
    "                i += int(puzzle[i][2])\n",
    "            else:\n",
    "                i+=1\n",
    "    elif(puzzle[i][0] == \"jio\"):\n",
    "        if(puzzle[i][1][0] == \"a\"):\n",
    "            if(a == 1):\n",
    "                i += int(puzzle[i][2])\n",
    "            else:\n",
    "                i+=1\n",
    "        else:\n",
    "            if(b == 1):\n",
    "                i += int(puzzle[i][2])\n",
    "            else:\n",
    "                i+=1\n",
    "print(b)"
   ]
  },
  {
   "cell_type": "code",
   "execution_count": null,
   "metadata": {},
   "outputs": [],
   "source": []
  }
 ],
 "metadata": {
  "kernelspec": {
   "display_name": "Python 3.8.16 64-bit ('3.8.16')",
   "language": "python",
   "name": "python3"
  },
  "language_info": {
   "codemirror_mode": {
    "name": "ipython",
    "version": 3
   },
   "file_extension": ".py",
   "mimetype": "text/x-python",
   "name": "python",
   "nbconvert_exporter": "python",
   "pygments_lexer": "ipython3",
   "version": "3.8.16"
  },
  "orig_nbformat": 4,
  "vscode": {
   "interpreter": {
    "hash": "83d716789636f2c43bd4464069cb5695a0d9efbaa75c4707909d1f0a350467f7"
   }
  }
 },
 "nbformat": 4,
 "nbformat_minor": 2
}
