{
 "cells": [
  {
   "cell_type": "code",
   "execution_count": 8,
   "metadata": {},
   "outputs": [],
   "source": [
    "import numpy as np\n",
    "import re\n",
    "puzzle = (open(\"AoC20.txt\", \"r\").read().splitlines())\n",
    "puzzle = int(puzzle[0])"
   ]
  },
  {
   "cell_type": "code",
   "execution_count": 18,
   "metadata": {},
   "outputs": [
    {
     "name": "stdout",
     "output_type": "stream",
     "text": [
      "786240\n"
     ]
    }
   ],
   "source": [
    "def sumDiv(n):\n",
    "    ans = 0\n",
    "    for i in range(int(n**(0.5))):\n",
    "        if n % (i+1) == 0:\n",
    "            ans += i+1\n",
    "            ans += int(n/(i+1))\n",
    "    return ans\n",
    "ans1 = 0\n",
    "while(sumDiv(ans1)*10 < puzzle):\n",
    "    ans1 += 1\n",
    "print(ans1)"
   ]
  },
  {
   "cell_type": "code",
   "execution_count": 20,
   "metadata": {},
   "outputs": [
    {
     "name": "stdout",
     "output_type": "stream",
     "text": [
      "831600\n"
     ]
    }
   ],
   "source": [
    "def sumDiv2(n):\n",
    "    ans = 0\n",
    "    for i in range(int(n**(0.5))):\n",
    "        if n % (i+1) == 0:\n",
    "            if(n/(i+1)<=50):\n",
    "                ans += i+1\n",
    "            if(i+1<=50):\n",
    "                ans += int(n/(i+1))\n",
    "    return ans\n",
    "ans2 = 0\n",
    "while(sumDiv2(ans2)*11 < puzzle):\n",
    "    ans2 += 1\n",
    "print(ans2)"
   ]
  },
  {
   "cell_type": "code",
   "execution_count": null,
   "metadata": {},
   "outputs": [],
   "source": []
  }
 ],
 "metadata": {
  "kernelspec": {
   "display_name": "Python 3.8.16 64-bit ('3.8.16')",
   "language": "python",
   "name": "python3"
  },
  "language_info": {
   "codemirror_mode": {
    "name": "ipython",
    "version": 3
   },
   "file_extension": ".py",
   "mimetype": "text/x-python",
   "name": "python",
   "nbconvert_exporter": "python",
   "pygments_lexer": "ipython3",
   "version": "3.8.16"
  },
  "orig_nbformat": 4,
  "vscode": {
   "interpreter": {
    "hash": "83d716789636f2c43bd4464069cb5695a0d9efbaa75c4707909d1f0a350467f7"
   }
  }
 },
 "nbformat": 4,
 "nbformat_minor": 2
}
