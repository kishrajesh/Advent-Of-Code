{
 "cells": [
  {
   "cell_type": "code",
   "execution_count": 23,
   "metadata": {},
   "outputs": [],
   "source": [
    "import numpy as np\n",
    "import re\n",
    "puzzle = (open(\"AoC11.txt\", \"r\").read().splitlines())\n",
    "puzzle = puzzle[0]"
   ]
  },
  {
   "cell_type": "code",
   "execution_count": 24,
   "metadata": {},
   "outputs": [],
   "source": [
    "def increment(password):\n",
    "    password = list(password)\n",
    "    for i in range(len(password)-1, -1, -1):\n",
    "        if password[i] == 'z':\n",
    "            password[i] = 'a'\n",
    "        else:\n",
    "            password[i] = chr(ord(password[i])+1)\n",
    "            break\n",
    "    return ''.join(password)"
   ]
  },
  {
   "cell_type": "code",
   "execution_count": 30,
   "metadata": {},
   "outputs": [],
   "source": [
    "def check1(password):\n",
    "    for i in range(24):\n",
    "        if chr(ord('a')+i) + chr(ord('a')+i+1) + chr(ord('a')+i+2) in password:\n",
    "            return True\n",
    "    return False\n",
    "def check2(password):\n",
    "    if 'i' in password or 'o' in password or 'l' in password:\n",
    "        return False\n",
    "    return True\n",
    "def check3(password):\n",
    "    tot = 0\n",
    "    for i in range(26):\n",
    "        if(chr(ord('a')+i)*2 in password):\n",
    "            tot += 1\n",
    "    if tot >= 2:\n",
    "        return True\n",
    "    return False\n",
    "def check(password):\n",
    "    return (check1(password) and check2(password) and check3(password))"
   ]
  },
  {
   "cell_type": "code",
   "execution_count": 33,
   "metadata": {},
   "outputs": [
    {
     "name": "stdout",
     "output_type": "stream",
     "text": [
      "hxbxxyzz\n"
     ]
    }
   ],
   "source": [
    "ans1 = puzzle\n",
    "while(check(ans1)==False):\n",
    "    ans1 = increment(ans1)\n",
    "print(ans1)"
   ]
  },
  {
   "cell_type": "code",
   "execution_count": 35,
   "metadata": {},
   "outputs": [
    {
     "name": "stdout",
     "output_type": "stream",
     "text": [
      "hxcaabcc\n"
     ]
    }
   ],
   "source": [
    "ans2 = increment(ans1)\n",
    "while(check(ans2)==False):\n",
    "    ans2 = increment(ans2)\n",
    "print(ans2)"
   ]
  }
 ],
 "metadata": {
  "kernelspec": {
   "display_name": "Python 3.8.16 64-bit ('3.8.16')",
   "language": "python",
   "name": "python3"
  },
  "language_info": {
   "codemirror_mode": {
    "name": "ipython",
    "version": 3
   },
   "file_extension": ".py",
   "mimetype": "text/x-python",
   "name": "python",
   "nbconvert_exporter": "python",
   "pygments_lexer": "ipython3",
   "version": "3.8.16"
  },
  "orig_nbformat": 4,
  "vscode": {
   "interpreter": {
    "hash": "83d716789636f2c43bd4464069cb5695a0d9efbaa75c4707909d1f0a350467f7"
   }
  }
 },
 "nbformat": 4,
 "nbformat_minor": 2
}
