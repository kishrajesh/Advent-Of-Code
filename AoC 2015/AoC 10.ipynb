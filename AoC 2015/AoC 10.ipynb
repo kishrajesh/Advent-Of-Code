{
 "cells": [
  {
   "cell_type": "code",
   "execution_count": 14,
   "metadata": {},
   "outputs": [],
   "source": [
    "import numpy as np\n",
    "import re\n",
    "puzzle = (open(\"AoC10.txt\", \"r\").read().splitlines())\n",
    "puzzle = puzzle[0]"
   ]
  },
  {
   "cell_type": "code",
   "execution_count": 15,
   "metadata": {},
   "outputs": [],
   "source": [
    "def look_and_say(s):\n",
    "    ans = \"\"\n",
    "    start = s[0]\n",
    "    ctr = 1\n",
    "    for i in range(1,len(s)):\n",
    "        x = s[i]\n",
    "        if x == start:\n",
    "            ctr += 1\n",
    "        else:\n",
    "            ans += str(ctr) + start\n",
    "            start = x\n",
    "            ctr = 1\n",
    "    ans += str(ctr) + start\n",
    "    return ans"
   ]
  },
  {
   "cell_type": "code",
   "execution_count": 16,
   "metadata": {},
   "outputs": [
    {
     "name": "stdout",
     "output_type": "stream",
     "text": [
      "329356\n"
     ]
    }
   ],
   "source": [
    "fin = puzzle\n",
    "for i in range(40):\n",
    "    fin = look_and_say(fin)\n",
    "ans1 = len(fin)\n",
    "print(ans1)"
   ]
  },
  {
   "cell_type": "code",
   "execution_count": 17,
   "metadata": {},
   "outputs": [
    {
     "name": "stdout",
     "output_type": "stream",
     "text": [
      "4666278\n"
     ]
    }
   ],
   "source": [
    "fin = puzzle\n",
    "for i in range(50):\n",
    "    fin = look_and_say(fin)\n",
    "ans2 = len(fin)\n",
    "print(ans2)"
   ]
  }
 ],
 "metadata": {
  "kernelspec": {
   "display_name": "Python 3.8.16 64-bit ('3.8.16')",
   "language": "python",
   "name": "python3"
  },
  "language_info": {
   "codemirror_mode": {
    "name": "ipython",
    "version": 3
   },
   "file_extension": ".py",
   "mimetype": "text/x-python",
   "name": "python",
   "nbconvert_exporter": "python",
   "pygments_lexer": "ipython3",
   "version": "3.8.16"
  },
  "orig_nbformat": 4,
  "vscode": {
   "interpreter": {
    "hash": "83d716789636f2c43bd4464069cb5695a0d9efbaa75c4707909d1f0a350467f7"
   }
  }
 },
 "nbformat": 4,
 "nbformat_minor": 2
}
