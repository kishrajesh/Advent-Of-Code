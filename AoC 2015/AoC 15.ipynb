{
 "cells": [
  {
   "cell_type": "code",
   "execution_count": 12,
   "metadata": {},
   "outputs": [],
   "source": [
    "import numpy as np\n",
    "import re\n",
    "puzzle = (open(\"AoC15.txt\", \"r\").read().splitlines())\n",
    "puzzle = [i.split(\" \") for i in puzzle]\n",
    "puzzle = [[i[0], int(i[2][:-1]), int(i[4][:-1]), int(i[6][:-1]), int(i[8][:-1]), int(i[10])] for i in puzzle]"
   ]
  },
  {
   "cell_type": "code",
   "execution_count": 15,
   "metadata": {},
   "outputs": [],
   "source": [
    "def getPoss(n, total):\n",
    "    #finds all possible n-tuples of nonzero integers that sum to total\n",
    "    if n == 1:\n",
    "        return [[total]]\n",
    "    else:\n",
    "        return [[i] + j for i in range(1, total) for j in getPoss(n-1, total-i)]\n",
    "def score(ingredients, amounts):\n",
    "    score = 1\n",
    "    for i in range(4):\n",
    "        score *= max(0, sum([a * ingredients[j][i+1] for j, a in enumerate(amounts)]))\n",
    "    return score"
   ]
  },
  {
   "cell_type": "code",
   "execution_count": 16,
   "metadata": {},
   "outputs": [
    {
     "name": "stdout",
     "output_type": "stream",
     "text": [
      "18965440\n"
     ]
    }
   ],
   "source": [
    "ans1 = max([score(puzzle, i) for i in getPoss(len(puzzle), 100)])\n",
    "print(ans1)"
   ]
  },
  {
   "cell_type": "code",
   "execution_count": 17,
   "metadata": {},
   "outputs": [
    {
     "name": "stdout",
     "output_type": "stream",
     "text": [
      "15862900\n"
     ]
    }
   ],
   "source": [
    "def calCheck(ingredients, amounts):\n",
    "    return sum([a * ingredients[i][5] for i, a in enumerate(amounts)]) == 500\n",
    "ans2 = max([score(puzzle, i) for i in getPoss(len(puzzle), 100) if calCheck(puzzle, i)])\n",
    "print(ans2)"
   ]
  }
 ],
 "metadata": {
  "kernelspec": {
   "display_name": "Python 3.8.16 64-bit ('3.8.16')",
   "language": "python",
   "name": "python3"
  },
  "language_info": {
   "codemirror_mode": {
    "name": "ipython",
    "version": 3
   },
   "file_extension": ".py",
   "mimetype": "text/x-python",
   "name": "python",
   "nbconvert_exporter": "python",
   "pygments_lexer": "ipython3",
   "version": "3.8.16"
  },
  "orig_nbformat": 4,
  "vscode": {
   "interpreter": {
    "hash": "83d716789636f2c43bd4464069cb5695a0d9efbaa75c4707909d1f0a350467f7"
   }
  }
 },
 "nbformat": 4,
 "nbformat_minor": 2
}
