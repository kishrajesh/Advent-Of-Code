{
 "cells": [
  {
   "cell_type": "code",
   "execution_count": 3,
   "metadata": {},
   "outputs": [],
   "source": [
    "import numpy as np\n",
    "import re\n",
    "puzzle = (open(\"AoC12.txt\", \"r\").read().splitlines())\n",
    "puzzle = puzzle[0]"
   ]
  },
  {
   "cell_type": "code",
   "execution_count": 12,
   "metadata": {},
   "outputs": [
    {
     "name": "stdout",
     "output_type": "stream",
     "text": [
      "119433\n"
     ]
    }
   ],
   "source": [
    "x = eval(puzzle)\n",
    "def getVals(s):\n",
    "    vals = 0\n",
    "    if(type(s) == int):\n",
    "        vals += s\n",
    "    elif(type(s) == list):\n",
    "        for i in s:\n",
    "            vals += getVals(i)\n",
    "    elif(type(s) == dict):\n",
    "        for i in s.values():\n",
    "            vals += getVals(i)\n",
    "    return vals\n",
    "print(getVals(x))"
   ]
  },
  {
   "cell_type": "code",
   "execution_count": 14,
   "metadata": {},
   "outputs": [
    {
     "name": "stdout",
     "output_type": "stream",
     "text": [
      "68466\n"
     ]
    }
   ],
   "source": [
    "x = eval(puzzle)\n",
    "def getVals2(s):\n",
    "    vals = 0\n",
    "    if(type(s) == int):\n",
    "        vals += s\n",
    "    elif(type(s) == list):\n",
    "        for i in s:\n",
    "            vals += getVals2(i)\n",
    "    elif(type(s) == dict):\n",
    "        if(\"red\" in s.values()):\n",
    "            return 0\n",
    "        for i in s.values():\n",
    "            vals += getVals2(i)\n",
    "    return vals\n",
    "print(getVals2(x))"
   ]
  }
 ],
 "metadata": {
  "kernelspec": {
   "display_name": "Python 3.8.16 64-bit ('3.8.16')",
   "language": "python",
   "name": "python3"
  },
  "language_info": {
   "codemirror_mode": {
    "name": "ipython",
    "version": 3
   },
   "file_extension": ".py",
   "mimetype": "text/x-python",
   "name": "python",
   "nbconvert_exporter": "python",
   "pygments_lexer": "ipython3",
   "version": "3.8.16"
  },
  "orig_nbformat": 4,
  "vscode": {
   "interpreter": {
    "hash": "83d716789636f2c43bd4464069cb5695a0d9efbaa75c4707909d1f0a350467f7"
   }
  }
 },
 "nbformat": 4,
 "nbformat_minor": 2
}
