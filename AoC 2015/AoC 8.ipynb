{
 "cells": [
  {
   "cell_type": "code",
   "execution_count": 28,
   "metadata": {},
   "outputs": [],
   "source": [
    "import numpy as np\n",
    "import re\n",
    "puzzle = (open(\"AoC8.txt\", \"r\").read().splitlines())"
   ]
  },
  {
   "cell_type": "code",
   "execution_count": 29,
   "metadata": {},
   "outputs": [],
   "source": [
    "def leng(a):\n",
    "    c=list(a)\n",
    "    ctr=0\n",
    "    i=1\n",
    "    while(i<len(c)-1):\n",
    "        j=i\n",
    "        if(c[j]==\"\\\\\"):\n",
    "            if(j+1<len(c)):\n",
    "                if(c[j+1]==\"\\\\\"):\n",
    "                    i=i+1\n",
    "                elif(c[j+1]=='\\\"'):\n",
    "                    i=i+1\n",
    "                elif(j+3<len(c) and c[j+1]==\"x\"):\n",
    "                    i=i+3\n",
    "        ctr=ctr+1\n",
    "        i=i+1\n",
    "    return(ctr)"
   ]
  },
  {
   "cell_type": "code",
   "execution_count": 30,
   "metadata": {},
   "outputs": [
    {
     "name": "stdout",
     "output_type": "stream",
     "text": [
      "1350\n"
     ]
    }
   ],
   "source": [
    "ans=0\n",
    "for i in puzzle:\n",
    "    ans+=len(i)-leng(i)\n",
    "print(ans)"
   ]
  },
  {
   "cell_type": "code",
   "execution_count": 31,
   "metadata": {},
   "outputs": [],
   "source": [
    "def lenh(a):\n",
    "    c=list(a)\n",
    "    ctr=2\n",
    "    i=0\n",
    "    for i in c:\n",
    "        if(i==\"\\\\\"):\n",
    "            ctr+=2\n",
    "        elif(i==\"\\\"\"):\n",
    "            ctr+=2\n",
    "        else:\n",
    "            ctr+=1\n",
    "    return(ctr)"
   ]
  },
  {
   "cell_type": "code",
   "execution_count": 34,
   "metadata": {},
   "outputs": [
    {
     "name": "stdout",
     "output_type": "stream",
     "text": [
      "2085\n"
     ]
    }
   ],
   "source": [
    "ans=0\n",
    "for i in puzzle:\n",
    "    ans+=lenh(i)-len(i)\n",
    "print(ans)"
   ]
  }
 ],
 "metadata": {
  "kernelspec": {
   "display_name": "Python 3.8.16 64-bit ('3.8.16')",
   "language": "python",
   "name": "python3"
  },
  "language_info": {
   "codemirror_mode": {
    "name": "ipython",
    "version": 3
   },
   "file_extension": ".py",
   "mimetype": "text/x-python",
   "name": "python",
   "nbconvert_exporter": "python",
   "pygments_lexer": "ipython3",
   "version": "3.8.16"
  },
  "vscode": {
   "interpreter": {
    "hash": "83d716789636f2c43bd4464069cb5695a0d9efbaa75c4707909d1f0a350467f7"
   }
  }
 },
 "nbformat": 4,
 "nbformat_minor": 4
}
