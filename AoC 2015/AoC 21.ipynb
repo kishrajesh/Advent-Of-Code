{
 "cells": [
  {
   "cell_type": "code",
   "execution_count": 2,
   "metadata": {},
   "outputs": [],
   "source": [
    "import numpy as np\n",
    "import re\n",
    "puzzle = (open(\"AoC21.txt\", \"r\").read().splitlines())\n",
    "bossHp = puzzle[0].split(\" \")[2]\n",
    "bossDmg = puzzle[1].split(\" \")[1]\n",
    "bossArm = puzzle[2].split(\" \")[1]"
   ]
  },
  {
   "cell_type": "code",
   "execution_count": 3,
   "metadata": {},
   "outputs": [],
   "source": [
    "meHp = 100\n",
    "meArm = 0\n",
    "meDmg = 0\n",
    "weapons = [[8,4,0],[10,5,0],[25,6,0],[40,7,0],[74,8,0]]\n",
    "armors = [[0,0,0],[13,0,1],[31,0,2],[53,0,3],[75,0,4],[102,0,5]]\n",
    "rings = [[0,0,0],[0,0,0],[25,1,0],[50,2,0],[100,3,0],[20,0,1],[40,0,2],[80,0,3]]"
   ]
  },
  {
   "cell_type": "code",
   "execution_count": 5,
   "metadata": {},
   "outputs": [
    {
     "name": "stdout",
     "output_type": "stream",
     "text": [
      "111\n"
     ]
    }
   ],
   "source": [
    "def simulate(meHp, meDmg, meArm, bossHp, bossDmg, bossArm):\n",
    "    while True:\n",
    "        bossHp = bossHp - max(1, meDmg - bossArm)\n",
    "        if bossHp <= 0:\n",
    "            return True\n",
    "        meHp = meHp - max(1, bossDmg - meArm)\n",
    "        if meHp <= 0:\n",
    "            return False\n",
    "options = []\n",
    "for weapon in weapons:\n",
    "    for armor in armors:\n",
    "        for ring1 in rings:\n",
    "            for ring2 in rings:\n",
    "                if ring1 == ring2:\n",
    "                    continue\n",
    "                meDmg = weapon[1] + ring1[1] + ring2[1]\n",
    "                meArm = weapon[2] + armor[2] + ring1[2] + ring2[2]\n",
    "                if simulate(meHp, meDmg, meArm, int(bossHp), int(bossDmg), int(bossArm)):\n",
    "                    options.append(weapon[0] + armor[0] + ring1[0] + ring2[0])\n",
    "print(min(options))"
   ]
  },
  {
   "cell_type": "code",
   "execution_count": 6,
   "metadata": {},
   "outputs": [
    {
     "name": "stdout",
     "output_type": "stream",
     "text": [
      "188\n"
     ]
    }
   ],
   "source": [
    "options = []\n",
    "for weapon in weapons:\n",
    "    for armor in armors:\n",
    "        for ring1 in rings:\n",
    "            for ring2 in rings:\n",
    "                if ring1 == ring2:\n",
    "                    continue\n",
    "                meDmg = weapon[1] + ring1[1] + ring2[1]\n",
    "                meArm = weapon[2] + armor[2] + ring1[2] + ring2[2]\n",
    "                if not simulate(meHp, meDmg, meArm, int(bossHp), int(bossDmg), int(bossArm)):\n",
    "                    options.append(weapon[0] + armor[0] + ring1[0] + ring2[0])\n",
    "print(max(options))"
   ]
  },
  {
   "cell_type": "code",
   "execution_count": null,
   "metadata": {},
   "outputs": [],
   "source": []
  }
 ],
 "metadata": {
  "kernelspec": {
   "display_name": "Python 3.8.16 64-bit ('3.8.16')",
   "language": "python",
   "name": "python3"
  },
  "language_info": {
   "codemirror_mode": {
    "name": "ipython",
    "version": 3
   },
   "file_extension": ".py",
   "mimetype": "text/x-python",
   "name": "python",
   "nbconvert_exporter": "python",
   "pygments_lexer": "ipython3",
   "version": "3.8.16"
  },
  "orig_nbformat": 4,
  "vscode": {
   "interpreter": {
    "hash": "83d716789636f2c43bd4464069cb5695a0d9efbaa75c4707909d1f0a350467f7"
   }
  }
 },
 "nbformat": 4,
 "nbformat_minor": 2
}
