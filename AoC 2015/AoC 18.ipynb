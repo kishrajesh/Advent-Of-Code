{
 "cells": [
  {
   "cell_type": "code",
   "execution_count": 133,
   "metadata": {},
   "outputs": [],
   "source": [
    "import numpy as np\n",
    "import re\n",
    "puzzle = (open(\"AoC18.txt\", \"r\").read().splitlines())\n",
    "g = [list(x) for x in puzzle]"
   ]
  },
  {
   "cell_type": "code",
   "execution_count": 134,
   "metadata": {},
   "outputs": [],
   "source": [
    "import copy\n",
    "def nextStep1(grid):\n",
    "    newGrid = copy.deepcopy(grid)\n",
    "    for row in range(len(grid)):\n",
    "        for column in range(len(grid[0])):\n",
    "            dirs = [-1,0,1]\n",
    "            neighbors = [grid[row+i][column+j] for i in dirs for j in dirs if (i,j) != (0,0) and 0 <= row+i < len(grid) and 0 <= column+j < len(grid[0])]\n",
    "            if grid[row][column] == \".\" and neighbors.count(\"#\") == 3:\n",
    "                newGrid[row][column] = \"#\"\n",
    "            elif grid[row][column] == \"#\" and neighbors.count(\"#\") in [2,3]:\n",
    "                newGrid[row][column] = \"#\"\n",
    "            else:\n",
    "                newGrid[row][column] = \".\"\n",
    "    return newGrid"
   ]
  },
  {
   "cell_type": "code",
   "execution_count": 135,
   "metadata": {},
   "outputs": [
    {
     "name": "stdout",
     "output_type": "stream",
     "text": [
      "814\n"
     ]
    }
   ],
   "source": [
    "g1 = copy.deepcopy(g)\n",
    "for i in range(100):\n",
    "    g1 = nextStep1(g1)\n",
    "print(sum([x.count(\"#\") for x in g1]))"
   ]
  },
  {
   "cell_type": "code",
   "execution_count": 136,
   "metadata": {},
   "outputs": [],
   "source": [
    "import copy\n",
    "def nextStep2(grid):\n",
    "    newGrid = copy.deepcopy(grid)\n",
    "    for row in range(len(grid)):\n",
    "        for column in range(len(grid[0])):\n",
    "            dirs = [-1,0,1]\n",
    "            neighbors = [grid[row+i][column+j] for i in dirs for j in dirs if (i,j) != (0,0) and 0 <= row+i < len(grid) and 0 <= column+j < len(grid[0])]\n",
    "            if grid[row][column] == \".\" and neighbors.count(\"#\") == 3:\n",
    "                newGrid[row][column] = \"#\"\n",
    "            elif grid[row][column] == \"#\" and neighbors.count(\"#\") in [2,3]:\n",
    "                newGrid[row][column] = \"#\"\n",
    "            else:\n",
    "                newGrid[row][column] = \".\"\n",
    "    newGrid[0][0] = \"#\"\n",
    "    newGrid[0][-1] = \"#\"\n",
    "    newGrid[-1][0] = \"#\"\n",
    "    newGrid[-1][-1] = \"#\"\n",
    "    return newGrid"
   ]
  },
  {
   "cell_type": "code",
   "execution_count": 137,
   "metadata": {},
   "outputs": [
    {
     "name": "stdout",
     "output_type": "stream",
     "text": [
      "924\n"
     ]
    }
   ],
   "source": [
    "g2 = copy.deepcopy(g)\n",
    "g2[0][0] = \"#\"\n",
    "g2[0][-1] = \"#\"\n",
    "g2[-1][0] = \"#\"\n",
    "g2[-1][-1] = \"#\"\n",
    "for i in range(100):\n",
    "    g2 = nextStep2(g2)\n",
    "print(sum([x.count(\"#\") for x in g2]))"
   ]
  },
  {
   "cell_type": "code",
   "execution_count": null,
   "metadata": {},
   "outputs": [],
   "source": []
  }
 ],
 "metadata": {
  "kernelspec": {
   "display_name": "Python 3.8.16 64-bit ('3.8.16')",
   "language": "python",
   "name": "python3"
  },
  "language_info": {
   "codemirror_mode": {
    "name": "ipython",
    "version": 3
   },
   "file_extension": ".py",
   "mimetype": "text/x-python",
   "name": "python",
   "nbconvert_exporter": "python",
   "pygments_lexer": "ipython3",
   "version": "3.8.16"
  },
  "orig_nbformat": 4,
  "vscode": {
   "interpreter": {
    "hash": "83d716789636f2c43bd4464069cb5695a0d9efbaa75c4707909d1f0a350467f7"
   }
  }
 },
 "nbformat": 4,
 "nbformat_minor": 2
}
