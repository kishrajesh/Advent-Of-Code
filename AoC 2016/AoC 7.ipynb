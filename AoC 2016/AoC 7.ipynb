{
 "cells": [
  {
   "cell_type": "code",
   "execution_count": 1,
   "metadata": {},
   "outputs": [],
   "source": [
    "puzzle = (open(\"AoC7.txt\", \"r\").read().splitlines())\n"
   ]
  },
  {
   "cell_type": "code",
   "execution_count": 13,
   "metadata": {},
   "outputs": [
    {
     "name": "stdout",
     "output_type": "stream",
     "text": [
      "True\n",
      "105\n"
     ]
    }
   ],
   "source": [
    "def isTsl(s):\n",
    "    hasABBA=False\n",
    "    inBr=False\n",
    "    for i in range(len(s)-3):\n",
    "        if(s[i]==\"[\"):\n",
    "            inBr=True\n",
    "        if(inBr):\n",
    "            if(s[i]==\"]\"):\n",
    "                inBr=False\n",
    "            if(s[i+3]==s[i] and s[i+1]==s[i+2] and s[i]!=s[i+1]):\n",
    "                return False\n",
    "        if(not inBr):\n",
    "            if(s[i+3]==s[i] and s[i+1]==s[i+2] and s[i]!=s[i+1]):\n",
    "                hasABBA=True\n",
    "    return hasABBA\n",
    "ctr=0\n",
    "print(isTsl('ioxxoj[asdfgh]zxcvbn'))\n",
    "for i in puzzle:\n",
    "    if(isTsl(i)):\n",
    "        ctr+=1\n",
    "print(ctr)\n"
   ]
  },
  {
   "cell_type": "code",
   "execution_count": 23,
   "metadata": {},
   "outputs": [
    {
     "name": "stdout",
     "output_type": "stream",
     "text": [
      "258\n"
     ]
    }
   ],
   "source": [
    "def isSsl(s):\n",
    "    ABA=[]\n",
    "    BAB=[]\n",
    "    inBr=False\n",
    "    for i in range(len(s)-2):\n",
    "        if(s[i]==\"[\"):\n",
    "            inBr=True\n",
    "        if(inBr):\n",
    "            if(s[i]==\"]\"):\n",
    "                inBr=False\n",
    "            if(s[i+2]==s[i] and s[i]!=s[i+1]):\n",
    "                BAB.append(s[i]+s[i+1]+s[i+2])\n",
    "        if(not inBr):\n",
    "            if(s[i+2]==s[i] and s[i]!=s[i+1]):\n",
    "                ABA.append(s[i]+s[i+1]+s[i+2])\n",
    "    for i in ABA:\n",
    "        for j in BAB:\n",
    "            if(i[0]==j[1] and i[1]==j[0]):\n",
    "                return True\n",
    "    return False\n",
    "\n",
    "ctr=0\n",
    "for i in puzzle:\n",
    "    if(isSsl(i)):\n",
    "        ctr+=1\n",
    "print(ctr)\n"
   ]
  },
  {
   "cell_type": "code",
   "execution_count": null,
   "metadata": {},
   "outputs": [],
   "source": []
  }
 ],
 "metadata": {
  "kernelspec": {
   "display_name": "Python 3",
   "language": "python",
   "name": "python3"
  },
  "language_info": {
   "codemirror_mode": {
    "name": "ipython",
    "version": 3
   },
   "file_extension": ".py",
   "mimetype": "text/x-python",
   "name": "python",
   "nbconvert_exporter": "python",
   "pygments_lexer": "ipython3",
   "version": "3.8.8"
  }
 },
 "nbformat": 4,
 "nbformat_minor": 4
}
