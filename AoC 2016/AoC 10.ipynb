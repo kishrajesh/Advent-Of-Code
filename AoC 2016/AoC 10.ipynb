{
 "cells": [
  {
   "cell_type": "code",
   "execution_count": 45,
   "metadata": {},
   "outputs": [],
   "source": [
    "puzzle = (open(\"AoC10.txt\", \"r\").read().splitlines())\n",
    "puzzle = [i.split(\" \") for i in puzzle]\n",
    "bots = {}\n",
    "outputs = {}\n",
    "for i in puzzle:\n",
    "    if i[0] == \"value\":\n",
    "        if int(i[5]) in bots.keys():\n",
    "            bots[int(i[5])].append(int(i[1]))\n",
    "        else:\n",
    "            bots[int(i[5])] = [int(i[1])]\n",
    "    else:\n",
    "        l, h = int(i[6]), int(i[11])\n",
    "        if(i[5]==\"bot\"):\n",
    "            l = (\"bot\", l)\n",
    "        else:\n",
    "            l = (\"output\", l)\n",
    "        if(i[10]==\"bot\"):\n",
    "            h = (\"bot\", h)\n",
    "        else:\n",
    "            h = (\"output\", h)\n",
    "        outputs[int(i[1])] = [l,h]\n",
    "for i in outputs.keys():\n",
    "    if i not in bots.keys():\n",
    "        bots[i] = []\n"
   ]
  },
  {
   "cell_type": "code",
   "execution_count": 46,
   "metadata": {},
   "outputs": [
    {
     "name": "stdout",
     "output_type": "stream",
     "text": [
      "98\n"
     ]
    }
   ],
   "source": [
    "oputs = {}\n",
    "while([len(bots[j])==2 for j in bots.keys()]!=[False] * len(bots.keys())):\n",
    "    for i in bots.keys():\n",
    "        if(len(bots[i])==2):\n",
    "            if(61 in bots[i] and 17 in bots[i]):\n",
    "                print(i)\n",
    "            mi, ma = min(bots[i]), max(bots[i])\n",
    "            if(outputs[i][0][0]==\"bot\"):\n",
    "                bots[outputs[i][0][1]].append(mi)\n",
    "            else:\n",
    "                oputs[outputs[i][0][1]] = mi\n",
    "            if(outputs[i][1][0]==\"bot\"):\n",
    "                bots[outputs[i][1][1]].append(ma)\n",
    "            else:\n",
    "                oputs[outputs[i][1][1]] = ma\n",
    "            bots[i] = []\n",
    "            #print(\"teehee\", bots, oputs)\n",
    "            break\n",
    "#print(bots)\n",
    "#print(oputs)\n"
   ]
  },
  {
   "cell_type": "code",
   "execution_count": 47,
   "metadata": {},
   "outputs": [
    {
     "name": "stdout",
     "output_type": "stream",
     "text": [
      "4042\n"
     ]
    }
   ],
   "source": [
    "a,b,c = oputs[0], oputs[1], oputs[2]\n",
    "print(a*b*c)"
   ]
  },
  {
   "cell_type": "code",
   "execution_count": null,
   "metadata": {},
   "outputs": [],
   "source": []
  }
 ],
 "metadata": {
  "kernelspec": {
   "display_name": "Python 3.8.16 64-bit ('3.8.16')",
   "language": "python",
   "name": "python3"
  },
  "language_info": {
   "codemirror_mode": {
    "name": "ipython",
    "version": 3
   },
   "file_extension": ".py",
   "mimetype": "text/x-python",
   "name": "python",
   "nbconvert_exporter": "python",
   "pygments_lexer": "ipython3",
   "version": "3.8.16"
  },
  "orig_nbformat": 4,
  "vscode": {
   "interpreter": {
    "hash": "83d716789636f2c43bd4464069cb5695a0d9efbaa75c4707909d1f0a350467f7"
   }
  }
 },
 "nbformat": 4,
 "nbformat_minor": 2
}
