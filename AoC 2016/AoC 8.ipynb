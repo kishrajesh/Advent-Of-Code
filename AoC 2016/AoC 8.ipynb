{
 "cells": [
  {
   "cell_type": "code",
   "execution_count": 12,
   "metadata": {},
   "outputs": [],
   "source": [
    "puzzle = (open(\"AoC8.txt\", \"r\").read().splitlines())\n",
    "grid=[[\".\" for i in range(50)] for j in range(6)]"
   ]
  },
  {
   "cell_type": "code",
   "execution_count": 13,
   "metadata": {},
   "outputs": [],
   "source": [
    "def rect(a,b,grid):\n",
    "    g=[x[:] for x in grid]\n",
    "    for i in range(b):\n",
    "        for j in range(a):\n",
    "            g[i][j]=\"#\"\n",
    "    return g\n",
    "def row(r,n,grid):\n",
    "    g=[x[:] for x in grid]\n",
    "    for i in range(len(grid[0])):\n",
    "        g[r][i]=grid[r][(i-n)%(len(grid[0]))]\n",
    "    return g\n",
    "def col(c,n,grid):\n",
    "    g=[x[:] for x in grid]\n",
    "    for i in range(len(grid)):\n",
    "        g[i][c]=grid[(i-n)%(len(grid))][c]\n",
    "    return g"
   ]
  },
  {
   "cell_type": "code",
   "execution_count": 14,
   "metadata": {},
   "outputs": [
    {
     "name": "stdout",
     "output_type": "stream",
     "text": [
      "123\n"
     ]
    }
   ],
   "source": [
    "grid=[[\".\" for i in range(50)] for j in range(6)]\n",
    "for i in puzzle:\n",
    "    if(\"rect\" in i):\n",
    "        n=i.split(\" \")\n",
    "        m=n[1].split(\"x\")\n",
    "        grid=rect(int(m[0]),int(m[1]),grid)\n",
    "    elif('row' in i):\n",
    "        n=i.split(\" \")\n",
    "        grid=row(int(n[2][2:]), int(n[4]), grid)\n",
    "    elif('column' in i):\n",
    "        n=i.split(\" \")\n",
    "        grid=col(int(n[2][2:]), int(n[4]), grid)\n",
    "print(sum([g.count(\"#\") for g in grid]))"
   ]
  },
  {
   "cell_type": "code",
   "execution_count": 15,
   "metadata": {},
   "outputs": [
    {
     "name": "stdout",
     "output_type": "stream",
     "text": [
      " ██  ████ ███  █  █ ███  ████ ███    ██ ███   ███ \n",
      "█  █ █    █  █ █  █ █  █    █ █  █    █ █  █ █    \n",
      "█  █ ███  ███  █  █ █  █   █  ███     █ █  █ █    \n",
      "████ █    █  █ █  █ ███   █   █  █    █ ███   ██  \n",
      "█  █ █    █  █ █  █ █    █    █  █ █  █ █       █ \n",
      "█  █ █    ███   ██  █    ████ ███   ██  █    ███  \n"
     ]
    }
   ],
   "source": [
    "g_new = grid.copy()\n",
    "for i in range(len(grid)):\n",
    "    for j in range(len(grid[0])):\n",
    "        if grid[i][j] == \".\":\n",
    "            g_new[i][j] = \" \"\n",
    "        else:\n",
    "            g_new[i][j] = \"█\"\n",
    "rows = [\"\".join(g) for g in g_new]\n",
    "for i in rows:\n",
    "    print(i)"
   ]
  },
  {
   "cell_type": "code",
   "execution_count": null,
   "metadata": {},
   "outputs": [],
   "source": []
  }
 ],
 "metadata": {
  "kernelspec": {
   "display_name": "Python 3.8.16 64-bit ('3.8.16')",
   "language": "python",
   "name": "python3"
  },
  "language_info": {
   "codemirror_mode": {
    "name": "ipython",
    "version": 3
   },
   "file_extension": ".py",
   "mimetype": "text/x-python",
   "name": "python",
   "nbconvert_exporter": "python",
   "pygments_lexer": "ipython3",
   "version": "3.8.16"
  },
  "vscode": {
   "interpreter": {
    "hash": "83d716789636f2c43bd4464069cb5695a0d9efbaa75c4707909d1f0a350467f7"
   }
  }
 },
 "nbformat": 4,
 "nbformat_minor": 4
}
