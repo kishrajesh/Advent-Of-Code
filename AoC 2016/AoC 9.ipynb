{
 "cells": [
  {
   "cell_type": "code",
   "execution_count": 1,
   "metadata": {},
   "outputs": [],
   "source": [
    "puzzle = (open(\"AoC9.txt\", \"r\").read().splitlines())\n",
    "puzzle = puzzle[0]"
   ]
  },
  {
   "cell_type": "code",
   "execution_count": 2,
   "metadata": {},
   "outputs": [
    {
     "name": "stdout",
     "output_type": "stream",
     "text": [
      "107035\n"
     ]
    }
   ],
   "source": [
    "def decompress(s):\n",
    "    i = 0\n",
    "    ans = \"\"\n",
    "    while i < len(s):\n",
    "        if s[i] == \"(\":\n",
    "            en = i\n",
    "            while s[en] != \")\":\n",
    "                en += 1\n",
    "            length, repeat = map(int, s[i+1:en].split(\"x\"))\n",
    "            ans += s[en+1:en+1+length] * repeat\n",
    "            i = en + length + 1\n",
    "        else:\n",
    "            ans += s[i]\n",
    "            i += 1\n",
    "    return ans\n",
    "print(len(decompress(puzzle)))"
   ]
  },
  {
   "cell_type": "code",
   "execution_count": 3,
   "metadata": {},
   "outputs": [
    {
     "name": "stdout",
     "output_type": "stream",
     "text": [
      "11451628995\n"
     ]
    }
   ],
   "source": [
    "def decompLen(s):\n",
    "    i = 0\n",
    "    ans = 0\n",
    "    while i < len(s):\n",
    "        if s[i] == \"(\":\n",
    "            en = i\n",
    "            while s[en] != \")\":\n",
    "                en += 1\n",
    "            length, repeat = map(int, s[i+1:en].split(\"x\"))\n",
    "            ans += decompLen(s[en+1:en+1+length]) * repeat\n",
    "            i = en + length + 1\n",
    "        else:\n",
    "            ans += 1\n",
    "            i += 1\n",
    "    return ans\n",
    "print(decompLen(puzzle))"
   ]
  }
 ],
 "metadata": {
  "kernelspec": {
   "display_name": "Python 3.8.16 64-bit ('3.8.16')",
   "language": "python",
   "name": "python3"
  },
  "language_info": {
   "codemirror_mode": {
    "name": "ipython",
    "version": 3
   },
   "file_extension": ".py",
   "mimetype": "text/x-python",
   "name": "python",
   "nbconvert_exporter": "python",
   "pygments_lexer": "ipython3",
   "version": "3.8.16"
  },
  "orig_nbformat": 4,
  "vscode": {
   "interpreter": {
    "hash": "83d716789636f2c43bd4464069cb5695a0d9efbaa75c4707909d1f0a350467f7"
   }
  }
 },
 "nbformat": 4,
 "nbformat_minor": 2
}
