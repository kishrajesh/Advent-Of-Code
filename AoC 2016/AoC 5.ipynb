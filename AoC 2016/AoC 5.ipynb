{
 "cells": [
  {
   "cell_type": "code",
   "execution_count": 42,
   "metadata": {},
   "outputs": [
    {
     "name": "stdout",
     "output_type": "stream",
     "text": [
      "ffykfhsq\n"
     ]
    }
   ],
   "source": [
    "puzzle = (open(\"AoC5.txt\", \"r\").read().splitlines())\n",
    "x=puzzle[0]\n",
    "print(x)"
   ]
  },
  {
   "cell_type": "code",
   "execution_count": 43,
   "metadata": {},
   "outputs": [
    {
     "name": "stdout",
     "output_type": "stream",
     "text": [
      "c6697b55\n"
     ]
    }
   ],
   "source": [
    "import hashlib\n",
    "def enc(s):    \n",
    "    return(hashlib.md5(s.encode('utf-8')).hexdigest())\n",
    "          \n",
    "def ans(s, st):\n",
    "    i=st\n",
    "    while(enc(s+str(i))[:5]!= \"00000\"):\n",
    "        #print(enc(s+str(i))[:6])\n",
    "        i=i+1\n",
    "    return(i)\n",
    "\n",
    "an=''\n",
    "start=0\n",
    "for i in range(8):\n",
    "    start=ans(x, start)\n",
    "    an+=str(enc(x+str(start))[5])\n",
    "    start+=1\n",
    "print(an)\n"
   ]
  },
  {
   "cell_type": "code",
   "execution_count": 44,
   "metadata": {},
   "outputs": [
    {
     "name": "stdout",
     "output_type": "stream",
     "text": [
      "8c35d1ab\n"
     ]
    }
   ],
   "source": [
    "ann=[-1 for i in range(8)]\n",
    "ctr=0\n",
    "start=0\n",
    "while ctr<8:\n",
    "    start=ans(x, start)\n",
    "    a=enc(x+str(start))[5]\n",
    "    if(a.isdigit() and int(a)<8 and ann[int(a)]==-1):\n",
    "        ann[int(a)]=enc(x+str(start))[6]\n",
    "        ctr+=1\n",
    "    start+=1\n",
    "print(''.join(ann))"
   ]
  },
  {
   "cell_type": "code",
   "execution_count": null,
   "metadata": {},
   "outputs": [],
   "source": []
  }
 ],
 "metadata": {
  "kernelspec": {
   "display_name": "Python 3",
   "language": "python",
   "name": "python3"
  },
  "language_info": {
   "codemirror_mode": {
    "name": "ipython",
    "version": 3
   },
   "file_extension": ".py",
   "mimetype": "text/x-python",
   "name": "python",
   "nbconvert_exporter": "python",
   "pygments_lexer": "ipython3",
   "version": "3.8.8"
  }
 },
 "nbformat": 4,
 "nbformat_minor": 4
}
