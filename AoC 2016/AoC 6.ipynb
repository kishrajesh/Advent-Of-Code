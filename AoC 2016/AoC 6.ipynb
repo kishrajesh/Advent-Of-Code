{
 "cells": [
  {
   "cell_type": "code",
   "execution_count": 26,
   "metadata": {},
   "outputs": [],
   "source": [
    "puzzle = (open(\"AoC6.txt\", \"r\").read().splitlines())\n",
    "letters = [[i[j] for i in puzzle] for j in range(len(puzzle[0]))]\n"
   ]
  },
  {
   "cell_type": "code",
   "execution_count": 27,
   "metadata": {},
   "outputs": [
    {
     "name": "stdout",
     "output_type": "stream",
     "text": [
      "zcreqgiv\n"
     ]
    }
   ],
   "source": [
    "a1=''\n",
    "for i in range(len(puzzle[0])):\n",
    "    a1+=(max(set(letters[i]), key=letters[i].count))\n",
    "print(a1)"
   ]
  },
  {
   "cell_type": "code",
   "execution_count": 28,
   "metadata": {},
   "outputs": [
    {
     "name": "stdout",
     "output_type": "stream",
     "text": [
      "pljvorrk\n"
     ]
    }
   ],
   "source": [
    "a1=''\n",
    "for i in range(len(puzzle[0])):\n",
    "    a1+=(min(set(letters[i]), key=letters[i].count))\n",
    "print(a1)"
   ]
  },
  {
   "cell_type": "code",
   "execution_count": null,
   "metadata": {},
   "outputs": [],
   "source": []
  }
 ],
 "metadata": {
  "kernelspec": {
   "display_name": "Python 3",
   "language": "python",
   "name": "python3"
  },
  "language_info": {
   "codemirror_mode": {
    "name": "ipython",
    "version": 3
   },
   "file_extension": ".py",
   "mimetype": "text/x-python",
   "name": "python",
   "nbconvert_exporter": "python",
   "pygments_lexer": "ipython3",
   "version": "3.8.8"
  }
 },
 "nbformat": 4,
 "nbformat_minor": 4
}
