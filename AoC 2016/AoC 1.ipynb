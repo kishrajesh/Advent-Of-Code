{
 "cells": [
  {
   "cell_type": "code",
   "execution_count": 13,
   "metadata": {},
   "outputs": [],
   "source": [
    "puzzle = (open(\"AoC1.txt\", \"r\").read().splitlines())"
   ]
  },
  {
   "cell_type": "code",
   "execution_count": 14,
   "metadata": {},
   "outputs": [
    {
     "name": "stdout",
     "output_type": "stream",
     "text": [
      "['L3', 'R2', 'L5', 'R1', 'L1', 'L2', 'L2', 'R1', 'R5', 'R1', 'L1', 'L2', 'R2', 'R4', 'L4', 'L3', 'L3', 'R5', 'L1', 'R3', 'L5', 'L2', 'R4', 'L5', 'R4', 'R2', 'L2', 'L1', 'R1', 'L3', 'L3', 'R2', 'R1', 'L4', 'L1', 'L1', 'R4', 'R5', 'R1', 'L2', 'L1', 'R188', 'R4', 'L3', 'R54', 'L4', 'R4', 'R74', 'R2', 'L4', 'R185', 'R1', 'R3', 'R5', 'L2', 'L3', 'R1', 'L1', 'L3', 'R3', 'R2', 'L3', 'L4', 'R1', 'L3', 'L5', 'L2', 'R2', 'L1', 'R2', 'R1', 'L4', 'R5', 'R4', 'L5', 'L5', 'L4', 'R5', 'R4', 'L5', 'L3', 'R4', 'R1', 'L5', 'L4', 'L3', 'R5', 'L5', 'L2', 'L4', 'R4', 'R4', 'R2', 'L1', 'L3', 'L2', 'R5', 'R4', 'L5', 'R1', 'R2', 'R5', 'L2', 'R4', 'R5', 'L2', 'L3', 'R3', 'L4', 'R3', 'L2', 'R1', 'R4', 'L5', 'R1', 'L5', 'L3', 'R4', 'L2', 'L2', 'L5', 'L5', 'R5', 'R2', 'L5', 'R1', 'L3', 'L2', 'L2', 'R3', 'L3', 'L4', 'R2', 'R3', 'L1', 'R2', 'L5', 'L3', 'R4', 'L4', 'R4', 'R3', 'L3', 'R1', 'L3', 'R5', 'L5', 'R1', 'R5', 'R3', 'L1']\n"
     ]
    }
   ],
   "source": [
    "print(puzzle[0].split(\", \"))"
   ]
  },
  {
   "cell_type": "code",
   "execution_count": 15,
   "metadata": {},
   "outputs": [
    {
     "name": "stdout",
     "output_type": "stream",
     "text": [
      "209\n"
     ]
    }
   ],
   "source": [
    "NESW=[0,0,0,0]\n",
    "i=0\n",
    "locs=[]\n",
    "for j in puzzle[0].split(\", \"):\n",
    "    if(j[0]==\"L\"):\n",
    "        i=(i-1)%4\n",
    "    else:\n",
    "        i=(i+1)%4\n",
    "    NESW[i]+=int(j[1:])\n",
    "print(abs(NESW[0]-NESW[2])+abs(NESW[1]-NESW[3]))"
   ]
  },
  {
   "cell_type": "code",
   "execution_count": 19,
   "metadata": {},
   "outputs": [
    {
     "name": "stdout",
     "output_type": "stream",
     "text": [
      "136\n"
     ]
    }
   ],
   "source": [
    "NESW=[0,0,0,0]\n",
    "i=0\n",
    "locs=[]\n",
    "ans=[]\n",
    "for j in puzzle[0].split(\", \"):\n",
    "    if(j[0]==\"L\"):\n",
    "        i=(i-1)%4\n",
    "    else:\n",
    "        i=(i+1)%4\n",
    "    for k in range(int(j[1:])):\n",
    "        NESW[i]+=1\n",
    "        if((NESW[0]-NESW[2], NESW[1]-NESW[3])) not in locs:\n",
    "            locs.append((NESW[0]-NESW[2], NESW[1]-NESW[3]))\n",
    "        else:\n",
    "            ans.append(abs(NESW[0]-NESW[2])+abs(NESW[1]-NESW[3]))\n",
    "            break\n",
    "print(ans[0])"
   ]
  },
  {
   "cell_type": "code",
   "execution_count": null,
   "metadata": {},
   "outputs": [],
   "source": []
  }
 ],
 "metadata": {
  "kernelspec": {
   "display_name": "Python 3",
   "language": "python",
   "name": "python3"
  },
  "language_info": {
   "codemirror_mode": {
    "name": "ipython",
    "version": 3
   },
   "file_extension": ".py",
   "mimetype": "text/x-python",
   "name": "python",
   "nbconvert_exporter": "python",
   "pygments_lexer": "ipython3",
   "version": "3.8.8"
  }
 },
 "nbformat": 4,
 "nbformat_minor": 4
}
