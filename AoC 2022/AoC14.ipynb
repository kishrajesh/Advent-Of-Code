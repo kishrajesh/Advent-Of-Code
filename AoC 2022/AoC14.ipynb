{
 "cells": [
  {
   "cell_type": "code",
   "execution_count": 93,
   "metadata": {},
   "outputs": [],
   "source": [
    "puzzle = open(\"AoC14.txt\").read().splitlines()\n",
    "puzzle = [i.split(\" -> \") for i in puzzle]\n",
    "puzzle = [[(int(i.split(\",\")[0]), int(i.split(\",\")[1])) for i in j] for j in puzzle]"
   ]
  },
  {
   "cell_type": "code",
   "execution_count": 94,
   "metadata": {},
   "outputs": [
    {
     "name": "stdout",
     "output_type": "stream",
     "text": [
      "168\n"
     ]
    }
   ],
   "source": [
    "Xs = []\n",
    "Ys = []\n",
    "for i in puzzle:\n",
    "    for j in i:\n",
    "        Xs.append(j[0])\n",
    "        Ys.append(j[1])\n",
    "maxX, minX = max(Xs), min(Xs)\n",
    "maxY, minY = max(Ys), min(Ys)\n",
    "print(maxY)"
   ]
  },
  {
   "cell_type": "code",
   "execution_count": 95,
   "metadata": {},
   "outputs": [],
   "source": [
    "def generate(puzz):\n",
    "    rocks = {}\n",
    "    for i in puzz:\n",
    "        st = i[0]\n",
    "        for j in range(1,len(i)):\n",
    "            if i[j][0]==st[0]:\n",
    "                a = i[j][1]\n",
    "                for k in range(min(st[1],a), max(st[1],a)+1):\n",
    "                    rocks[(st[0], k)] = \"#\"\n",
    "            elif i[j][1]==st[1]:\n",
    "                a = i[j][0]\n",
    "                for k in range(min(st[0],a), max(st[0],a)+1):\n",
    "                    rocks[(k, st[1])] = \"#\"\n",
    "            st = i[j]\n",
    "    return rocks"
   ]
  },
  {
   "cell_type": "code",
   "execution_count": 96,
   "metadata": {},
   "outputs": [
    {
     "name": "stdout",
     "output_type": "stream",
     "text": [
      "644\n"
     ]
    }
   ],
   "source": [
    "dire = [(0,1),(-1,1),(1,1)]\n",
    "def add(pos, dir):\n",
    "    return (pos[0]+dir[0], pos[1]+dir[1])\n",
    "bottom = False\n",
    "rocks = generate(puzzle)\n",
    "ctr = 0\n",
    "while not bottom:\n",
    "    sand = (500,0)\n",
    "    roc = rocks.keys()\n",
    "    \n",
    "    while (True):\n",
    "        newsand = sand\n",
    "        if(add(sand, dire[0]) not in roc):\n",
    "            newsand = add(sand, dire[0])\n",
    "        elif(add(sand, dire[1]) not in roc):\n",
    "            newsand = add(sand, dire[1])\n",
    "        elif(add(sand, dire[2]) not in roc):\n",
    "            newsand = add(sand, dire[2])\n",
    "        else:\n",
    "            break\n",
    "        if(sand[1]>maxY):\n",
    "            bottom=True\n",
    "            break\n",
    "        sand = newsand\n",
    "\n",
    "    rocks[sand]=\"#\"\n",
    "    ctr+=1\n",
    "print(ctr-1)\n",
    "    "
   ]
  },
  {
   "cell_type": "code",
   "execution_count": 97,
   "metadata": {},
   "outputs": [
    {
     "name": "stdout",
     "output_type": "stream",
     "text": [
      "27324\n"
     ]
    }
   ],
   "source": [
    "dire = [(0,1),(-1,1),(1,1)]\n",
    "def add(pos, dir):\n",
    "    return (pos[0]+dir[0], pos[1]+dir[1])\n",
    "bottom = False\n",
    "rocks = generate(puzzle)\n",
    "ctr = 0\n",
    "while (sand != (500,0)):\n",
    "    sand = (500,0)\n",
    "    roc = rocks.keys()\n",
    "    \n",
    "    while (True):\n",
    "        newsand = sand\n",
    "        if(sand[1]==maxY+1):\n",
    "            break\n",
    "        elif(add(sand, dire[0]) not in roc):\n",
    "            newsand = add(sand, dire[0])\n",
    "        elif(add(sand, dire[1]) not in roc):\n",
    "            newsand = add(sand, dire[1])\n",
    "        elif(add(sand, dire[2]) not in roc):\n",
    "            newsand = add(sand, dire[2])\n",
    "        else:\n",
    "            break\n",
    "        sand = newsand\n",
    "\n",
    "    rocks[sand]=\"#\"\n",
    "    ctr+=1\n",
    "print(ctr)"
   ]
  },
  {
   "cell_type": "code",
   "execution_count": null,
   "metadata": {},
   "outputs": [],
   "source": []
  }
 ],
 "metadata": {
  "kernelspec": {
   "display_name": "Python 3.8.16 64-bit ('3.8.16')",
   "language": "python",
   "name": "python3"
  },
  "language_info": {
   "codemirror_mode": {
    "name": "ipython",
    "version": 3
   },
   "file_extension": ".py",
   "mimetype": "text/x-python",
   "name": "python",
   "nbconvert_exporter": "python",
   "pygments_lexer": "ipython3",
   "version": "3.8.16"
  },
  "orig_nbformat": 4,
  "vscode": {
   "interpreter": {
    "hash": "83d716789636f2c43bd4464069cb5695a0d9efbaa75c4707909d1f0a350467f7"
   }
  }
 },
 "nbformat": 4,
 "nbformat_minor": 2
}
