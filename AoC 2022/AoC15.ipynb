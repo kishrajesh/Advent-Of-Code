{
 "cells": [
  {
   "cell_type": "code",
   "execution_count": 119,
   "metadata": {},
   "outputs": [],
   "source": [
    "puzzle = open(\"AoC15.txt\").read().splitlines()\n",
    "puzzle = [x.split(\" \") for x in puzzle]\n",
    "puzzle = [[int(x[2][2:-1]), int(x[3][2:-1]), int(x[8][2:-1]), int(x[9][2:])] for x in puzzle]"
   ]
  },
  {
   "cell_type": "code",
   "execution_count": 120,
   "metadata": {},
   "outputs": [],
   "source": [
    "def maxDistance(sensor, beacon):\n",
    "    return abs(sensor[0]-beacon[0])+ abs(sensor[1]-beacon[1])\n",
    "beacons = set([(x[2],x[3]) for x in puzzle])\n",
    "maxD = [maxDistance([x[0],x[1]], [x[2],x[3]]) for x in puzzle]\n",
    "dots = {}\n",
    "for i in range(len(puzzle)):\n",
    "    num = puzzle[i]\n",
    "    mD = maxD[i]\n",
    "    for j in range(num[1]-mD, num[1]):\n",
    "        size = mD-(num[1]-j)\n",
    "        rang = (num[0]-size, num[0]+size)\n",
    "        if j in dots:\n",
    "            dots[j].append(rang)\n",
    "        else:\n",
    "            dots[j]=[rang]\n",
    "    for j in range(num[1], num[1]+mD+1):\n",
    "        size = mD-(j-num[1])\n",
    "        rang = (num[0]-size, num[0]+size)\n",
    "        if j in dots:\n",
    "            dots[j].append(rang)\n",
    "        else:\n",
    "            dots[j]=[rang]\n",
    "def mergeRanges(ranges):\n",
    "    #merges a list of integer ranges\n",
    "    ranges.sort()\n",
    "    merged = []\n",
    "    for i in ranges:\n",
    "        if not merged:\n",
    "            merged.append(i)\n",
    "        else:\n",
    "            if i[0] <= merged[-1][1]+1:\n",
    "                merged[-1] = (merged[-1][0], max(merged[-1][1], i[1]))\n",
    "            else:\n",
    "                merged.append(i)\n",
    "    return merged\n",
    "def lenRanges(ranges):\n",
    "    #finds the length of a list of ranges\n",
    "    length = 0\n",
    "    for i in ranges:\n",
    "        length += i[1]-i[0]+1\n",
    "    return length\n",
    "beacs = {}\n",
    "for i in beacons:\n",
    "    if(i[1] not in beacs):\n",
    "        beacs[i[1]]=1\n",
    "    else:\n",
    "        beacs[i[1]]+=1\n"
   ]
  },
  {
   "cell_type": "code",
   "execution_count": 121,
   "metadata": {},
   "outputs": [
    {
     "name": "stdout",
     "output_type": "stream",
     "text": [
      "4873353\n"
     ]
    }
   ],
   "source": [
    "#for i in dots.keys():\n",
    " #   dots[i] = mergeRanges(dots[i])\n",
    "dots[2000000]=mergeRanges(dots[2000000])\n",
    "print(lenRanges(dots[2000000])-beacs[2000000])"
   ]
  },
  {
   "cell_type": "code",
   "execution_count": 122,
   "metadata": {},
   "outputs": [],
   "source": [
    "def tuningFreq(x,y):\n",
    "    return(4000000*x+y)"
   ]
  },
  {
   "cell_type": "code",
   "execution_count": 123,
   "metadata": {},
   "outputs": [],
   "source": [
    "for i in range(0, 4000001):\n",
    "    dots[i] = mergeRanges(dots[i])\n"
   ]
  },
  {
   "cell_type": "code",
   "execution_count": 124,
   "metadata": {},
   "outputs": [
    {
     "name": "stdout",
     "output_type": "stream",
     "text": [
      "11600823139120\n"
     ]
    }
   ],
   "source": [
    "def checkInRange(x, ranges):\n",
    "    for i in ranges:\n",
    "        if(x>=i[0] and x<=i[1]):\n",
    "            return True\n",
    "    return False\n",
    "def middle(ranges):\n",
    "    return ranges[0][-1]+1\n",
    "def final(dots, amount):\n",
    "    for i in range(0, amount+1):\n",
    "        if(len(dots[i])!=1):\n",
    "            print(tuningFreq(middle(dots[i]), i))\n",
    "        \n",
    "final(dots, 4000000)\n",
    "                "
   ]
  }
 ],
 "metadata": {
  "kernelspec": {
   "display_name": "Python 3.8.16 64-bit ('3.8.16')",
   "language": "python",
   "name": "python3"
  },
  "language_info": {
   "codemirror_mode": {
    "name": "ipython",
    "version": 3
   },
   "file_extension": ".py",
   "mimetype": "text/x-python",
   "name": "python",
   "nbconvert_exporter": "python",
   "pygments_lexer": "ipython3",
   "version": "3.8.16"
  },
  "orig_nbformat": 4,
  "vscode": {
   "interpreter": {
    "hash": "83d716789636f2c43bd4464069cb5695a0d9efbaa75c4707909d1f0a350467f7"
   }
  }
 },
 "nbformat": 4,
 "nbformat_minor": 2
}
