{
 "cells": [
  {
   "cell_type": "code",
   "execution_count": 33,
   "id": "5d8e7420",
   "metadata": {},
   "outputs": [
    {
     "name": "stdout",
     "output_type": "stream",
     "text": [
      "JDTMRWCQJ\n"
     ]
    }
   ],
   "source": [
    "#[P]     [C]         [M]            \n",
    "#[D]     [P] [B]     [V] [S]        \n",
    "#[Q] [V] [R] [V]     [G] [B]        \n",
    "#[R] [W] [G] [J]     [T] [M]     [V]\n",
    "#[V] [Q] [Q] [F] [C] [N] [V]     [W]\n",
    "#[B] [Z] [Z] [H] [L] [P] [L] [J] [N]\n",
    "#[H] [D] [L] [D] [W] [R] [R] [P] [C]\n",
    "#[F] [L] [H] [R] [Z] [J] [J] [D] [D]\n",
    "# 1   2   3   4   5   6   7   8   9 \n",
    "\n",
    "puzzle = open(\"AoC05.txt\").read().splitlines()\n",
    "boxes = []\n",
    "boxes.append([\"F\",\"H\",\"B\",\"V\",\"R\",\"Q\",\"D\",\"P\"])\n",
    "boxes.append([\"L\",\"D\",\"Z\",\"Q\",\"W\",\"V\"])\n",
    "boxes.append([\"H\",\"L\",\"Z\",\"Q\",\"G\",\"R\",\"P\",\"C\"])\n",
    "boxes.append([\"R\",\"D\",\"H\",\"F\",\"J\",\"V\",'B'])\n",
    "boxes.append([\"Z\",\"W\",\"L\",\"C\"])\n",
    "boxes.append([\"J\",\"R\",\"P\",\"N\",\"T\",\"G\",\"V\",\"M\"])\n",
    "boxes.append([\"J\",\"R\",\"L\",\"V\",\"M\",\"B\",\"S\"])\n",
    "boxes.append([\"D\",\"P\",\"J\"])\n",
    "boxes.append([\"D\",\"C\",\"N\",\"W\",\"V\"])\n",
    "\n",
    "puzzle = [i.split(\" \") for i in puzzle]\n",
    "puzzle = [[int(i[1]),int(i[3]),int(i[5])] for i in puzzle]\n",
    "\n",
    "def move(boxing, command):\n",
    "    a,b,c=command[0],command[1]-1,command[2]-1\n",
    "    for i in range(a):\n",
    "        x=boxing[b][-1]\n",
    "        boxing[b].pop()\n",
    "        boxing[c].append(x)\n",
    "for i in puzzle:\n",
    "    move(boxes, i)\n",
    "ans=\"\"\n",
    "for i in boxes:\n",
    "    ans+=i[-1]\n",
    "print(ans)"
   ]
  },
  {
   "cell_type": "code",
   "execution_count": 40,
   "id": "237c613c",
   "metadata": {},
   "outputs": [
    {
     "name": "stdout",
     "output_type": "stream",
     "text": [
      "VHJDDCWRD\n"
     ]
    }
   ],
   "source": [
    "boxes = []\n",
    "boxes.append([\"F\",\"H\",\"B\",\"V\",\"R\",\"Q\",\"D\",\"P\"])\n",
    "boxes.append([\"L\",\"D\",\"Z\",\"Q\",\"W\",\"V\"])\n",
    "boxes.append([\"H\",\"L\",\"Z\",\"Q\",\"G\",\"R\",\"P\",\"C\"])\n",
    "boxes.append([\"R\",\"D\",\"H\",\"F\",\"J\",\"V\",'B'])\n",
    "boxes.append([\"Z\",\"W\",\"L\",\"C\"])\n",
    "boxes.append([\"J\",\"R\",\"P\",\"N\",\"T\",\"G\",\"V\",\"M\"])\n",
    "boxes.append([\"J\",\"R\",\"L\",\"V\",\"M\",\"B\",\"S\"])\n",
    "boxes.append([\"D\",\"P\",\"J\"])\n",
    "boxes.append([\"D\",\"C\",\"N\",\"W\",\"V\"])\n",
    "boxes2 = [\"\".join(i for i in j) for j in boxes]\n",
    "def move2(boxing, command):\n",
    "    a,b,c=command[0],command[1]-1,command[2]-1\n",
    "    x=boxing[b][-a:]\n",
    "    boxing[b]=boxing[b][:-a]\n",
    "    boxing[c]+=x\n",
    "\n",
    "for i in puzzle:\n",
    "    move2(boxes2, i)\n",
    "    \n",
    "ans2=\"\"\n",
    "for i in boxes2:\n",
    "    ans2+=i[-1]\n",
    "print(ans2)\n"
   ]
  },
  {
   "cell_type": "code",
   "execution_count": null,
   "id": "479dcee0",
   "metadata": {},
   "outputs": [],
   "source": []
  }
 ],
 "metadata": {
  "kernelspec": {
   "display_name": "Python 3 (ipykernel)",
   "language": "python",
   "name": "python3"
  },
  "language_info": {
   "codemirror_mode": {
    "name": "ipython",
    "version": 3
   },
   "file_extension": ".py",
   "mimetype": "text/x-python",
   "name": "python",
   "nbconvert_exporter": "python",
   "pygments_lexer": "ipython3",
   "version": "3.11.0"
  }
 },
 "nbformat": 4,
 "nbformat_minor": 5
}
