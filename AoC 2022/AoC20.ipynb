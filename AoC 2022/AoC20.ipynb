{
 "cells": [
  {
   "cell_type": "code",
   "execution_count": 84,
   "metadata": {},
   "outputs": [],
   "source": [
    "puzzle = open(\"AoC20.txt\").read().splitlines()\n",
    "puzzle = [int(i) for i in puzzle]\n",
    "hashPuzz = [(i, puzzle[i]) for i in range(len(puzzle))]"
   ]
  },
  {
   "cell_type": "code",
   "execution_count": 87,
   "metadata": {},
   "outputs": [
    {
     "name": "stdout",
     "output_type": "stream",
     "text": [
      "7713\n"
     ]
    }
   ],
   "source": [
    "#Given an array of pairs, move the pair (i,v) v steps to the right in the array, looping if necessary\n",
    "def moveRight(arr, i, v):\n",
    "    index = 0\n",
    "    for x in range(len(arr)):\n",
    "        if arr[x][0] == i:\n",
    "            index = x\n",
    "            break\n",
    "    #newV = v % len(arr) - 1 if v < 0 else v % len(arr)\n",
    "    #Move the pair v steps to the right\n",
    "    newIndex = (index + v)%(len(arr)-1)\n",
    "    #Remove the pair from the array\n",
    "    arr.pop(index)\n",
    "    #Insert the pair at the new index\n",
    "    arr.insert(newIndex, (i, v))\n",
    "    return arr\n",
    "\n",
    "newHashPuzz = hashPuzz.copy()\n",
    "for i in range(len(hashPuzz)):\n",
    "    #print(hashPuzz[i][1], newHashPuzz)\n",
    "    newHashPuzz = moveRight(newHashPuzz, i, hashPuzz[i][1])\n",
    "#print(newHashPuzz)\n",
    "\n",
    "def findIndex(arr, v):\n",
    "    for i in range(len(arr)):\n",
    "        if arr[i][1] == v:\n",
    "            return i\n",
    "ans1 = 0\n",
    "zero = findIndex(newHashPuzz, 0)\n",
    "for i in range(0,4):\n",
    "    newIndex = (zero + 1000*i)%len(newHashPuzz)\n",
    "    #print(newHashPuzz[newIndex])\n",
    "    ans1 += newHashPuzz[newIndex][1]\n",
    "print(ans1)"
   ]
  },
  {
   "cell_type": "code",
   "execution_count": 88,
   "metadata": {},
   "outputs": [
    {
     "name": "stdout",
     "output_type": "stream",
     "text": [
      "1664569352803\n"
     ]
    }
   ],
   "source": [
    "hashPuzz2 = [(i, puzzle[i]*811589153) for i in range(len(puzzle))]\n",
    "newHashPuzz2 = hashPuzz2.copy()\n",
    "x = len(hashPuzz2)\n",
    "for i in range(10*len(hashPuzz2)):\n",
    "    #print(hashPuzz[i][1], newHashPuzz)\n",
    "    newHashPuzz2 = moveRight(newHashPuzz2, i%x, hashPuzz2[i%x][1])\n",
    "#print(newHashPuzz)\n",
    "ans2 = 0\n",
    "zero = findIndex(newHashPuzz2, 0)\n",
    "for i in range(0,4):\n",
    "    newIndex = (zero + 1000*i)%len(newHashPuzz2)\n",
    "    #print(newHashPuzz2[newIndex])\n",
    "    ans2 += newHashPuzz2[newIndex][1]\n",
    "print(ans2)"
   ]
  }
 ],
 "metadata": {
  "kernelspec": {
   "display_name": "Python 3.8.16 64-bit ('3.8.16')",
   "language": "python",
   "name": "python3"
  },
  "language_info": {
   "codemirror_mode": {
    "name": "ipython",
    "version": 3
   },
   "file_extension": ".py",
   "mimetype": "text/x-python",
   "name": "python",
   "nbconvert_exporter": "python",
   "pygments_lexer": "ipython3",
   "version": "3.8.16"
  },
  "orig_nbformat": 4,
  "vscode": {
   "interpreter": {
    "hash": "83d716789636f2c43bd4464069cb5695a0d9efbaa75c4707909d1f0a350467f7"
   }
  }
 },
 "nbformat": 4,
 "nbformat_minor": 2
}
