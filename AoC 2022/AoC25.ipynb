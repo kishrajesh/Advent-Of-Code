{
 "cells": [
  {
   "cell_type": "code",
   "execution_count": 1,
   "metadata": {},
   "outputs": [],
   "source": [
    "puzzle = open(\"AoC25.txt\").read().splitlines()\n"
   ]
  },
  {
   "cell_type": "code",
   "execution_count": 2,
   "metadata": {},
   "outputs": [
    {
     "name": "stdout",
     "output_type": "stream",
     "text": [
      "314159265\n"
     ]
    }
   ],
   "source": [
    "def convert(ch):\n",
    "    if(ch==\"1\"):\n",
    "        return 1\n",
    "    elif(ch==\"2\"):\n",
    "        return 2\n",
    "    elif(ch==\"0\"):\n",
    "        return 0\n",
    "    elif(ch==\"-\"):\n",
    "        return -1\n",
    "    elif(ch==\"=\"):\n",
    "        return -2\n",
    "def snafu(s):\n",
    "    ans = 0\n",
    "    for i in range(len(s)):\n",
    "        a = convert(s[i])\n",
    "        ans=5*ans+a\n",
    "    return ans\n"
   ]
  },
  {
   "cell_type": "code",
   "execution_count": 3,
   "metadata": {},
   "outputs": [
    {
     "name": "stdout",
     "output_type": "stream",
     "text": [
      "33038276688955\n"
     ]
    }
   ],
   "source": [
    "ans1 = 0\n",
    "for i in puzzle:\n",
    "    ans1+=snafu(i)\n",
    "print(ans1)"
   ]
  },
  {
   "cell_type": "code",
   "execution_count": 6,
   "metadata": {},
   "outputs": [],
   "source": [
    "def conv(i):\n",
    "    ans = \"\"\n",
    "    if(i==0):\n",
    "        return \"\"\n",
    "    x = i%5\n",
    "    if(x in [0,1,2]):\n",
    "        return conv(i//5)+str(x)\n",
    "    if(x==3):\n",
    "        return conv((i+2)//5)+\"=\"\n",
    "    if(x==4):\n",
    "        return conv((i+1)//5)+\"-\""
   ]
  },
  {
   "cell_type": "code",
   "execution_count": 9,
   "metadata": {},
   "outputs": [
    {
     "name": "stdout",
     "output_type": "stream",
     "text": [
      "2-=2==00-0==2=022=10\n"
     ]
    }
   ],
   "source": [
    "print(conv(33038276688955))"
   ]
  }
 ],
 "metadata": {
  "kernelspec": {
   "display_name": "Python 3.8.16 64-bit ('3.8.16')",
   "language": "python",
   "name": "python3"
  },
  "language_info": {
   "codemirror_mode": {
    "name": "ipython",
    "version": 3
   },
   "file_extension": ".py",
   "mimetype": "text/x-python",
   "name": "python",
   "nbconvert_exporter": "python",
   "pygments_lexer": "ipython3",
   "version": "3.8.16"
  },
  "orig_nbformat": 4,
  "vscode": {
   "interpreter": {
    "hash": "83d716789636f2c43bd4464069cb5695a0d9efbaa75c4707909d1f0a350467f7"
   }
  }
 },
 "nbformat": 4,
 "nbformat_minor": 2
}
