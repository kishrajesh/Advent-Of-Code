{
 "cells": [
  {
   "cell_type": "code",
   "execution_count": 1,
   "id": "f3614573",
   "metadata": {},
   "outputs": [],
   "source": [
    "puzzle = open(\"AoC06.txt\").read().splitlines()\n",
    "x = list(puzzle[0])"
   ]
  },
  {
   "cell_type": "code",
   "execution_count": 2,
   "id": "31ecc269",
   "metadata": {},
   "outputs": [
    {
     "name": "stdout",
     "output_type": "stream",
     "text": [
      "1480\n"
     ]
    }
   ],
   "source": [
    "def ans1(inp):\n",
    "    for i in range(len(inp)-3):\n",
    "        if(len(set([inp[i],inp[i+1],inp[i+2],inp[i+3]]))==4):\n",
    "            return(i+4)\n",
    "print(ans1(x))"
   ]
  },
  {
   "cell_type": "code",
   "execution_count": 3,
   "id": "2105df37",
   "metadata": {},
   "outputs": [
    {
     "name": "stdout",
     "output_type": "stream",
     "text": [
      "2746\n"
     ]
    }
   ],
   "source": [
    "def ans2(inp):\n",
    "    for i in range(len(inp)-13):\n",
    "        nums=[]\n",
    "        for j in range(14):\n",
    "            nums.append(inp[i+j])\n",
    "        if(len(set(nums))==14):\n",
    "            return(i+14)\n",
    "print(ans2(x))"
   ]
  }
 ],
 "metadata": {
  "kernelspec": {
   "display_name": "Python 3.11.0 64-bit",
   "language": "python",
   "name": "python3"
  },
  "language_info": {
   "codemirror_mode": {
    "name": "ipython",
    "version": 3
   },
   "file_extension": ".py",
   "mimetype": "text/x-python",
   "name": "python",
   "nbconvert_exporter": "python",
   "pygments_lexer": "ipython3",
   "version": "3.11.0"
  },
  "vscode": {
   "interpreter": {
    "hash": "aee8b7b246df8f9039afb4144a1f6fd8d2ca17a180786b69acc140d282b71a49"
   }
  }
 },
 "nbformat": 4,
 "nbformat_minor": 5
}
