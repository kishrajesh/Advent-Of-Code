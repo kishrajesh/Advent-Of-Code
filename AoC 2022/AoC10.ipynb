{
 "cells": [
  {
   "cell_type": "code",
   "execution_count": 32,
   "metadata": {},
   "outputs": [],
   "source": [
    "puzzle = open(\"AoC10.txt\").read().splitlines()"
   ]
  },
  {
   "cell_type": "code",
   "execution_count": 33,
   "metadata": {},
   "outputs": [],
   "source": [
    "reg = [1]\n",
    "X=1\n",
    "for i in puzzle:\n",
    "    reg.append(X)\n",
    "    if(\"addx\" in i):\n",
    "        X+=int(i.split(\" \")[1])\n",
    "        reg.append(X)\n"
   ]
  },
  {
   "cell_type": "code",
   "execution_count": 34,
   "metadata": {},
   "outputs": [
    {
     "name": "stdout",
     "output_type": "stream",
     "text": [
      "14920\n"
     ]
    }
   ],
   "source": [
    "ans1 = 0\n",
    "for i in [20,60,100,140,180,220]:\n",
    "    ans1+=reg[i-1]*i\n",
    "print(ans1)"
   ]
  },
  {
   "cell_type": "code",
   "execution_count": 39,
   "metadata": {},
   "outputs": [
    {
     "name": "stdout",
     "output_type": "stream",
     "text": [
      "██████░░░░██░░░░██░░░░████░░░░░░████░░░░░░████░░░░██████░░░░██░░░░██░░████████░░\n",
      "░░░░░░██░░██░░░░██░░██░░░░██░░██░░░░██░░██░░░░██░░██░░░░██░░██░░░░██░░░░░░░░████\n",
      "██████░░░░██░░░░██░░██░░░░░░░░██░░░░██░░██░░░░░░░░██████░░░░██░░░░██░░░░░░██░░░░\n",
      "░░░░░░██░░██░░░░██░░██░░░░░░░░████████░░██░░░░░░░░██░░░░██░░██░░░░██░░░░██░░░░░░\n",
      "░░░░░░██░░██░░░░██░░██░░░░██░░██░░░░██░░██░░░░██░░██░░░░██░░██░░░░██░░██░░░░░░░░\n",
      "██████░░░░░░████░░░░░░████░░░░██░░░░██░░░░████░░░░██████░░░░░░████░░░░████████░░\n"
     ]
    }
   ],
   "source": [
    "pic = [[\"\" for i in range(40)] for j in range(6)]\n",
    "for j in range(6):\n",
    "    for i in range(40):\n",
    "        if(reg[40*j+i] in [(40*j+i-1)%40,(40*j+i)%40, (40*j+i+1)%40]):\n",
    "            pic[j][i]=\"██\"\n",
    "        else:\n",
    "            pic[j][i]=\"░░\"\n",
    "pic = [\"\".join(i) for i in pic]\n",
    "for i in pic:\n",
    "    print(i)"
   ]
  },
  {
   "cell_type": "code",
   "execution_count": null,
   "metadata": {},
   "outputs": [],
   "source": []
  }
 ],
 "metadata": {
  "kernelspec": {
   "display_name": "Python 3.11.0 64-bit",
   "language": "python",
   "name": "python3"
  },
  "language_info": {
   "codemirror_mode": {
    "name": "ipython",
    "version": 3
   },
   "file_extension": ".py",
   "mimetype": "text/x-python",
   "name": "python",
   "nbconvert_exporter": "python",
   "pygments_lexer": "ipython3",
   "version": "3.11.0"
  },
  "orig_nbformat": 4,
  "vscode": {
   "interpreter": {
    "hash": "aee8b7b246df8f9039afb4144a1f6fd8d2ca17a180786b69acc140d282b71a49"
   }
  }
 },
 "nbformat": 4,
 "nbformat_minor": 2
}
