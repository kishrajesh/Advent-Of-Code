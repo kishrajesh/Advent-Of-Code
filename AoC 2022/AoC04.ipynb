{
 "cells": [
  {
   "cell_type": "code",
   "execution_count": 6,
   "id": "ae22ec02",
   "metadata": {},
   "outputs": [],
   "source": [
    "puzzle = open(\"AoC04.txt\").read().splitlines()\n",
    "puzzle = [i.split(\",\") for i in puzzle]\n",
    "puzzle = [[i[0].split(\"-\"), i[1].split(\"-\")] for i in puzzle]\n",
    "puzzle = [[[int(i[0][0]),int(i[0][1]),],[int(i[1][0]),int(i[1][1])]] for i in puzzle]"
   ]
  },
  {
   "cell_type": "code",
   "execution_count": 7,
   "id": "e3b4f6d7",
   "metadata": {},
   "outputs": [
    {
     "name": "stdout",
     "output_type": "stream",
     "text": [
      "550\n"
     ]
    }
   ],
   "source": [
    "ans = 0\n",
    "def inside(a,b):\n",
    "    if(a[0]<=b[0] and a[1]>=b[1]):\n",
    "        return True\n",
    "    if(a[0]>=b[0] and a[1]<=b[1]):\n",
    "        return True\n",
    "    return False\n",
    "for i in puzzle:\n",
    "    if(inside(i[0],i[1])):\n",
    "        ans+=1\n",
    "print(ans)"
   ]
  },
  {
   "cell_type": "code",
   "execution_count": 13,
   "id": "3782a027",
   "metadata": {},
   "outputs": [
    {
     "name": "stdout",
     "output_type": "stream",
     "text": [
      "931\n"
     ]
    }
   ],
   "source": [
    "def inside2(a,b):\n",
    "    if(a[1]>=b[0] and a[0]<=b[0]):\n",
    "        return True\n",
    "    if(b[1]>=a[0] and b[0]<=a[0]):\n",
    "        return True\n",
    "    return False\n",
    "ans2=0\n",
    "for i in puzzle:\n",
    "    if(inside2(i[0],i[1])):\n",
    "        ans2+=1\n",
    "print(ans2)"
   ]
  },
  {
   "cell_type": "code",
   "execution_count": null,
   "id": "93ca9647",
   "metadata": {},
   "outputs": [],
   "source": []
  }
 ],
 "metadata": {
  "kernelspec": {
   "display_name": "Python 3 (ipykernel)",
   "language": "python",
   "name": "python3"
  },
  "language_info": {
   "codemirror_mode": {
    "name": "ipython",
    "version": 3
   },
   "file_extension": ".py",
   "mimetype": "text/x-python",
   "name": "python",
   "nbconvert_exporter": "python",
   "pygments_lexer": "ipython3",
   "version": "3.11.0"
  }
 },
 "nbformat": 4,
 "nbformat_minor": 5
}
