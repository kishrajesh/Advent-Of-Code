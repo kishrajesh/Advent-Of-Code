{
 "cells": [
  {
   "cell_type": "code",
   "execution_count": 70,
   "metadata": {},
   "outputs": [],
   "source": [
    "puzzle = open(\"AoC09.txt\").read().splitlines()\n",
    "puzzle = [i.split() for i in puzzle]\n",
    "puzzle = [[i[0], int(i[1])] for i in puzzle]"
   ]
  },
  {
   "cell_type": "code",
   "execution_count": 71,
   "metadata": {},
   "outputs": [],
   "source": [
    "def sub(a,b):\n",
    "    return ((a[0]-b[0],a[1]-b[1]))\n",
    "def follow(h, t):\n",
    "    if(sub(h,t) in [(0,0),(0,1),(0,-1),(1,0),(-1,0),(-1,-1),(-1,1),(1,-1),(1,1)]):\n",
    "        return t\n",
    "    else:\n",
    "        if(sub(h,t)[0]==2 and -2<sub(h,t)[1]<2):\n",
    "            return (h[0]-1,h[1])\n",
    "        if(sub(h,t)[0]==-2 and -2<sub(h,t)[1]<2):\n",
    "            return (h[0]+1,h[1])\n",
    "        if(sub(h,t)[1]==2 and -2<sub(h,t)[0]<2):\n",
    "            return (h[0],h[1]-1)\n",
    "        if(sub(h,t)[1]==-2 and -2<sub(h,t)[0]<2):\n",
    "            return (h[0],h[1]+1)\n",
    "        if(sub(h,t)[0]==2 and sub(h,t)[1]==2):\n",
    "            return (h[0]-1,h[1]-1)\n",
    "        if(sub(h,t)[0]==2 and sub(h,t)[1]==-2):\n",
    "            return (h[0]-1,h[1]+1)\n",
    "        if(sub(h,t)[0]==-2 and sub(h,t)[1]==2):\n",
    "            return (h[0]+1,h[1]-1)\n",
    "        if(sub(h,t)[0]==-2 and sub(h,t)[1]==-2):\n",
    "            return (h[0]+1,h[1]+1)\n",
    "    return t"
   ]
  },
  {
   "cell_type": "code",
   "execution_count": 72,
   "metadata": {},
   "outputs": [
    {
     "name": "stdout",
     "output_type": "stream",
     "text": [
      "6256\n"
     ]
    }
   ],
   "source": [
    "tail1 = {(0,0)}\n",
    "h = (0,0)\n",
    "t = (0,0)\n",
    "moves = {}\n",
    "moves[\"U\"]=(0,1)\n",
    "moves[\"D\"]=(0,-1)\n",
    "moves[\"L\"]=(-1,0)\n",
    "moves[\"R\"]=(1,0)\n",
    "for i in puzzle:\n",
    "    for j in range(i[1]):\n",
    "        h = (h[0]+moves[i[0]][0],h[1]+moves[i[0]][1])\n",
    "        t = follow(h,t)\n",
    "        tail1.add(t)\n",
    "print(len(tail1))"
   ]
  },
  {
   "cell_type": "code",
   "execution_count": 73,
   "metadata": {},
   "outputs": [
    {
     "name": "stdout",
     "output_type": "stream",
     "text": [
      "2665\n"
     ]
    }
   ],
   "source": [
    "tail2 = {(0,0)}\n",
    "h = (0,0)\n",
    "t = [(0,0) for i in range(9)]\n",
    "moves = {}\n",
    "moves[\"U\"]=(0,1)\n",
    "moves[\"D\"]=(0,-1)\n",
    "moves[\"L\"]=(-1,0)\n",
    "moves[\"R\"]=(1,0)\n",
    "for i in puzzle:\n",
    "    for j in range(i[1]):\n",
    "        h = (h[0]+moves[i[0]][0],h[1]+moves[i[0]][1])\n",
    "        t[0] = follow(h,t[0])\n",
    "        for k in range(1,9):\n",
    "            t[k] = follow(t[k-1],t[k])\n",
    "        tail2.add(t[-1])\n",
    "print(len(tail2))"
   ]
  }
 ],
 "metadata": {
  "kernelspec": {
   "display_name": "Python 3.11.0 64-bit",
   "language": "python",
   "name": "python3"
  },
  "language_info": {
   "codemirror_mode": {
    "name": "ipython",
    "version": 3
   },
   "file_extension": ".py",
   "mimetype": "text/x-python",
   "name": "python",
   "nbconvert_exporter": "python",
   "pygments_lexer": "ipython3",
   "version": "3.11.0"
  },
  "orig_nbformat": 4,
  "vscode": {
   "interpreter": {
    "hash": "aee8b7b246df8f9039afb4144a1f6fd8d2ca17a180786b69acc140d282b71a49"
   }
  }
 },
 "nbformat": 4,
 "nbformat_minor": 2
}
