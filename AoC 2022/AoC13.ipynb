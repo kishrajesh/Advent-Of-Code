{
 "cells": [
  {
   "cell_type": "code",
   "execution_count": 29,
   "metadata": {},
   "outputs": [],
   "source": [
    "puzzle = open(\"AoC13.txt\").read().splitlines()\n",
    "pairs = []\n",
    "for i in range((len(puzzle)+1)//3):\n",
    "    a = eval(puzzle[3*i])\n",
    "    b = eval(puzzle[3*i+1])\n",
    "    pairs.append((a,b))"
   ]
  },
  {
   "cell_type": "code",
   "execution_count": 32,
   "metadata": {},
   "outputs": [],
   "source": [
    "def compareVal(a,b):\n",
    "    #0 if same, 1 if a>b, -1 if a<b\n",
    "    #1 is true, -1 is false\n",
    "    if(isinstance(a, int) and isinstance(b, int)):\n",
    "        if(a==b):\n",
    "            return 0\n",
    "        if(a>b):\n",
    "            return -1\n",
    "        if(a<b):\n",
    "            return 1\n",
    "    elif(isinstance(a, list) and isinstance(b, list)):\n",
    "        if(a==[] and b==[]):\n",
    "            return 0\n",
    "        if(a==[]):\n",
    "            return 1\n",
    "        if(b==[]):\n",
    "            return -1\n",
    "        if(compareVal(a[0],b[0])==0):\n",
    "            return compareVal(a[1:],b[1:])\n",
    "        else:\n",
    "            return compareVal(a[0],b[0])\n",
    "    else:\n",
    "        if(isinstance(a, int)):\n",
    "            return compareVal([a],b)\n",
    "        if(isinstance(b, int)):\n",
    "            return compareVal(a,[b])"
   ]
  },
  {
   "cell_type": "code",
   "execution_count": 34,
   "metadata": {},
   "outputs": [
    {
     "name": "stdout",
     "output_type": "stream",
     "text": [
      "5506\n"
     ]
    }
   ],
   "source": [
    "ans1=0\n",
    "for i in range(len(pairs)):\n",
    "    if(compareVal(pairs[i][0],pairs[i][1])==1):\n",
    "        ans1+=(i+1)\n",
    "print(ans1)"
   ]
  },
  {
   "cell_type": "code",
   "execution_count": 35,
   "metadata": {},
   "outputs": [
    {
     "name": "stdout",
     "output_type": "stream",
     "text": [
      "21756\n"
     ]
    }
   ],
   "source": [
    "import functools\n",
    "pair1, pair2 = [[2]], [[6]]\n",
    "pairs.append((pair1, pair2))\n",
    "p=[]\n",
    "for i in pairs:\n",
    "    p.append(i[0])\n",
    "    p.append(i[1])\n",
    "p.sort(key=functools.cmp_to_key(compareVal), reverse=True)\n",
    "index1=0\n",
    "index2=0\n",
    "for i in range(len(p)):\n",
    "    if(p[i]==pair1):\n",
    "        index1=i+1\n",
    "    if(p[i]==pair2):\n",
    "        index2=i+1\n",
    "ans2=index1*index2\n",
    "print(ans2)"
   ]
  }
 ],
 "metadata": {
  "kernelspec": {
   "display_name": "Python 3.11.0 64-bit",
   "language": "python",
   "name": "python3"
  },
  "language_info": {
   "codemirror_mode": {
    "name": "ipython",
    "version": 3
   },
   "file_extension": ".py",
   "mimetype": "text/x-python",
   "name": "python",
   "nbconvert_exporter": "python",
   "pygments_lexer": "ipython3",
   "version": "3.11.0"
  },
  "orig_nbformat": 4,
  "vscode": {
   "interpreter": {
    "hash": "aee8b7b246df8f9039afb4144a1f6fd8d2ca17a180786b69acc140d282b71a49"
   }
  }
 },
 "nbformat": 4,
 "nbformat_minor": 2
}
