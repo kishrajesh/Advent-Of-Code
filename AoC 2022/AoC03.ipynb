{
 "cells": [
  {
   "cell_type": "code",
   "execution_count": 24,
   "id": "f4f6f220",
   "metadata": {},
   "outputs": [],
   "source": [
    "puzzle = open(\"AoC03.txt\").read().splitlines()\n",
    "puzzle1 = [[i[:len(i)//2],i[len(i)//2:]] for i in puzzle]"
   ]
  },
  {
   "cell_type": "code",
   "execution_count": 25,
   "id": "40818764",
   "metadata": {},
   "outputs": [],
   "source": [
    "def value(s):\n",
    "    if(s.isupper()):\n",
    "        return(ord(s)-ord(\"A\")+27)\n",
    "    return(ord(s)-ord(\"a\")+1)"
   ]
  },
  {
   "cell_type": "code",
   "execution_count": 26,
   "id": "1c561bc7",
   "metadata": {},
   "outputs": [
    {
     "name": "stdout",
     "output_type": "stream",
     "text": [
      "8088\n"
     ]
    }
   ],
   "source": [
    "def common(a,b):\n",
    "    for i in range(len(a)):\n",
    "        for j in range(len(b)):\n",
    "            if(a[i]==b[j]):\n",
    "                return a[i]\n",
    "ans1=0\n",
    "for i in puzzle1:\n",
    "    ans1+=value(common(i[0],i[1]))\n",
    "print(ans1)"
   ]
  },
  {
   "cell_type": "code",
   "execution_count": 27,
   "id": "7bcf01b4",
   "metadata": {},
   "outputs": [
    {
     "name": "stdout",
     "output_type": "stream",
     "text": [
      "2522\n"
     ]
    }
   ],
   "source": [
    "def common2(a,b,c):\n",
    "    for i in range(len(a)):\n",
    "        for j in range(len(b)):\n",
    "            for k in range(len(c)):\n",
    "                if(a[i]==b[j] and b[j]==c[k]):\n",
    "                    return a[i]\n",
    "ans2=0\n",
    "for i in range(int(len(puzzle)/3)):\n",
    "    a,b,c=puzzle[3*i],puzzle[3*i+1],puzzle[3*i+2]\n",
    "    ans2+=value(common2(a,b,c))\n",
    "print(ans2)"
   ]
  }
 ],
 "metadata": {
  "kernelspec": {
   "display_name": "Python 3 (ipykernel)",
   "language": "python",
   "name": "python3"
  },
  "language_info": {
   "codemirror_mode": {
    "name": "ipython",
    "version": 3
   },
   "file_extension": ".py",
   "mimetype": "text/x-python",
   "name": "python",
   "nbconvert_exporter": "python",
   "pygments_lexer": "ipython3",
   "version": "3.11.0"
  }
 },
 "nbformat": 4,
 "nbformat_minor": 5
}
