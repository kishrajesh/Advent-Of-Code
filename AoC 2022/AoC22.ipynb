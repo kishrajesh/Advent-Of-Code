{
 "cells": [
  {
   "cell_type": "code",
   "execution_count": 4,
   "metadata": {},
   "outputs": [],
   "source": [
    "puzzle = open(\"AoC22.txt\").read().splitlines()\n",
    "spli = puzzle.index('')\n",
    "lines = []\n",
    "for i in range(spli):\n",
    "    lines.append(puzzle[i])\n",
    "for i in range(spli+1, len(puzzle)):\n",
    "    path = puzzle[i]"
   ]
  },
  {
   "cell_type": "code",
   "execution_count": 5,
   "metadata": {},
   "outputs": [],
   "source": [
    "dirs = []\n",
    "di = \"R\"\n",
    "steps = 0\n",
    "for i in range(len(path)):\n",
    "    if(path[i].isdigit()):\n",
    "        steps = steps*10 + int(path[i])\n",
    "    else:\n",
    "        dirs.append((di, steps))\n",
    "        steps = 0\n",
    "        di = path[i]\n",
    "dirs.append((di, steps))"
   ]
  },
  {
   "cell_type": "code",
   "execution_count": 6,
   "metadata": {},
   "outputs": [
    {
     "name": "stdout",
     "output_type": "stream",
     "text": [
      "[' ', ' ', ' ', ' ', ' ', ' ', ' ', ' ', ' ', ' ', ' ', ' ', ' ', ' ', ' ', ' ', ' ', ' ', ' ', ' ', ' ', ' ', ' ', ' ', ' ', ' ', ' ', ' ', ' ', ' ', ' ', ' ', ' ', ' ', ' ', ' ', ' ', ' ', ' ', ' ', ' ', ' ', ' ', ' ', ' ', ' ', ' ', ' ', ' ', ' ', '.', '.', '.', '.', '#', '#', '.', '.', '.', '#', '.', '.', '.', '.', '.', '.', '.', '.', '.', '.', '.', '#', '.', '.', '.', '.', '#', '.', '.', '.', '.', '.', '.', '.', '.', '.', '.', '.', '.', '.', '.', '.', '.', '.', '.', '.', '.', '.', '.', '.', '#', '.', '.', '.', '.', '.', '.', '.', '.', '.', '.', '.', '.', '.', '.', '.', '.', '.', '.', '.', '.', '.', '.', '#', '.', '.', '.', '.', '.', '.', '.', '.', '.', '.', '#', '.', '.', '.', '.', '.', '.', '.', '.', '.', '.', '.', '.', '.', '.', '.']\n"
     ]
    }
   ],
   "source": [
    "lines = [list(i) for i in lines]\n",
    "print(lines[0])"
   ]
  },
  {
   "cell_type": "code",
   "execution_count": 7,
   "metadata": {},
   "outputs": [],
   "source": [
    "def add(currentPos, dir):\n",
    "    return (currentPos[0]+dir[0], currentPos[1]+dir[1])\n",
    "def move(iniDir, changeDir):\n",
    "    if(changeDir == \"R\"):\n",
    "        if(iniDir == (0,1)):\n",
    "            return (1,0)\n",
    "        elif(iniDir == (1,0)):\n",
    "            return (0,-1)\n",
    "        elif(iniDir == (0,-1)):\n",
    "            return (-1,0)\n",
    "        elif(iniDir == (-1,0)):\n",
    "            return (0,1)\n",
    "    elif(changeDir == \"L\"):\n",
    "        if(iniDir == (0,1)):\n",
    "            return (-1,0)\n",
    "        elif(iniDir == (1,0)):\n",
    "            return (0,1)\n",
    "        elif(iniDir == (0,-1)):\n",
    "            return (1,0)\n",
    "        elif(iniDir == (-1,0)):\n",
    "            return (0,-1)"
   ]
  },
  {
   "cell_type": "code",
   "execution_count": 8,
   "metadata": {},
   "outputs": [],
   "source": [
    "#make function that takes an edge, a point on edge and direction and outputs the correct output point and direction\n",
    "edgeA = set([(0,i) for i in range(50,100)])\n",
    "edgeB = set([(0,i) for i in range(100,150)])\n",
    "edgeC = set([(i,50) for i in range(0,50)])\n",
    "edgeD = set([(i,149) for i in range(0,50)])\n",
    "edgeE = set([(i,50) for i in range(50,100)])\n",
    "edgeF = set([(i,99) for i in range(50,100)])\n",
    "edgeG = set([(100,i) for i in range(0,50)])\n",
    "edgeH = set([(i,0) for i in range(100,150)])\n",
    "edgeI = set([(i,99) for i in range(100,150)])\n",
    "edgeJ = set([(149,i) for i in range(50,100)])\n",
    "edgeK = set([(i,0) for i in range(150,200)])\n",
    "edgeL = set([(i,49) for i in range(150,200)])\n",
    "edgeM = set([(199,i) for i in range(0,50)])\n",
    "edgeN = set([(49,i) for i in range(100,150)])\n",
    "edges = [edgeA, edgeB, edgeC, edgeD, edgeE, edgeF, edgeH, edgeI, edgeJ, edgeK, edgeL, edgeM, edgeN]"
   ]
  },
  {
   "cell_type": "markdown",
   "metadata": {},
   "source": []
  },
  {
   "cell_type": "code",
   "execution_count": 9,
   "metadata": {},
   "outputs": [],
   "source": [
    "def changeEdge1(position, dir):\n",
    "    if(position in edgeA and dir == (-1,0)):\n",
    "        return ((position[0]+149,position[1]), dir)\n",
    "    elif(position in edgeB and dir == (-1,0)):\n",
    "        return ((position[0]+49,position[1]), dir)\n",
    "    elif(position in edgeC and dir == (0,-1)):\n",
    "        return ((position[0], position[1]+99), dir)\n",
    "    elif(position in edgeD and dir == (0,1)):\n",
    "        return ((position[0], position[1]-99), dir)\n",
    "    elif(position in edgeE and dir == (0,-1)):\n",
    "        return ((position[0], position[1]+49), dir)\n",
    "    elif(position in edgeF and dir == (0,1)):\n",
    "        return ((position[0], position[1]-49), dir)\n",
    "    elif(position in edgeG and dir == (-1,0)):\n",
    "        return ((position[0]+99, position[1]), dir)\n",
    "    elif(position in edgeH and dir == (0,-1)):\n",
    "        return ((position[0], position[1]+99), dir)\n",
    "    elif(position in edgeI and dir == (0,1)):\n",
    "        return ((position[0], position[1]-99), dir)\n",
    "    elif(position in edgeJ and dir == (1,0)):\n",
    "        return ((position[0]-149, position[1]), dir)\n",
    "    elif(position in edgeK and dir == (0,-1)):\n",
    "        return ((position[0], position[1]+49), dir)\n",
    "    elif(position in edgeL and dir == (0,1)):\n",
    "        return ((position[0], position[1]-49), dir)\n",
    "    elif(position in edgeM and dir == (1,0)):\n",
    "        return ((position[0]-99, position[1]), dir)\n",
    "    elif(position in edgeN and dir == (1,0)):\n",
    "        return ((position[0]-49, position[1]), dir)\n",
    "    return (add(position, dir), dir)"
   ]
  },
  {
   "cell_type": "code",
   "execution_count": 10,
   "metadata": {},
   "outputs": [],
   "source": [
    "def conv(st, di):\n",
    "    cSt = (st[0]+1)*1000+4*(st[1]+1)\n",
    "    if(di == (0,1)):\n",
    "        cD = 0\n",
    "    elif(di == (1,0)):\n",
    "        cD = 1\n",
    "    elif(di == (0,-1)):\n",
    "        cD = 2\n",
    "    elif(di == (-1,0)):\n",
    "        cD = 3\n",
    "    return cSt+cD"
   ]
  },
  {
   "cell_type": "code",
   "execution_count": 11,
   "metadata": {},
   "outputs": [
    {
     "name": "stdout",
     "output_type": "stream",
     "text": [
      "(63, 63) (0, 1)\n",
      "64256\n"
     ]
    }
   ],
   "source": [
    "start = (0,50)\n",
    "dir_i = (-1,0)\n",
    "for i in range(len(dirs)):\n",
    "    dir_i = move(dir_i, dirs[i][0])\n",
    "    for j in range(dirs[i][1]):\n",
    "        x, dir_i = changeEdge1(start, dir_i)\n",
    "        if lines[x[0]][x[1]] not in [\".\",\"#\"]:\n",
    "            print(lines[x[0]][x[1]])\n",
    "        if(lines[x[0]][x[1]] == '#'):\n",
    "            break\n",
    "        start = x\n",
    "print(start, dir_i)\n",
    "print(conv(start, dir_i))\n"
   ]
  },
  {
   "cell_type": "code",
   "execution_count": 16,
   "metadata": {},
   "outputs": [],
   "source": [
    "def changeEdge2(position, dir):\n",
    "    if(position in edgeA and dir == (-1,0)):\n",
    "        return ((position[1]+100, 0), (0,1))\n",
    "    elif(position in edgeB and dir == (-1,0)):\n",
    "        return ((199,position[1]-100), (-1,0))\n",
    "    elif(position in edgeC and dir == (0,-1)):\n",
    "        return ((149-position[0], 0), (0,1))\n",
    "    elif(position in edgeD and dir == (0,1)):\n",
    "        return ((149-position[0]), 99), (0,-1)\n",
    "    elif(position in edgeE and dir == (0,-1)):\n",
    "        return ((100, position[0]-50), (1,0))\n",
    "    elif(position in edgeF and dir == (0,1)):\n",
    "        return ((49, position[0]+50), (-1,0))\n",
    "    elif(position in edgeG and dir == (-1,0)):\n",
    "        return ((position[1]+50, 50), (0,1))\n",
    "    elif(position in edgeH and dir == (0,-1)):\n",
    "        return ((149-position[0], 50), (0,1))\n",
    "    elif(position in edgeI and dir == (0,1)):\n",
    "        return ((149-position[0], 149), (0,-1))\n",
    "    elif(position in edgeJ and dir == (1,0)):\n",
    "        return ((position[1]+100, 49), (0,-1))\n",
    "    elif(position in edgeK and dir == (0,-1)):\n",
    "        return ((0, position[0]-100), (1,0))\n",
    "    elif(position in edgeL and dir == (0,1)):\n",
    "        return ((149, position[0]-100), (-1,0))\n",
    "    elif(position in edgeM and dir == (1,0)):\n",
    "        return ((0, position[1]+100), (1,0))\n",
    "    elif(position in edgeN and dir == (1,0)):\n",
    "        return ((position[1]-50, 99), (0,-1))\n",
    "    return (add(position, dir), dir)"
   ]
  },
  {
   "cell_type": "code",
   "execution_count": 18,
   "metadata": {},
   "outputs": [
    {
     "name": "stdout",
     "output_type": "stream",
     "text": [
      "(108, 55) (0, 1)\n",
      "109224\n"
     ]
    }
   ],
   "source": [
    "start = (0,50)\n",
    "dir_i = (-1,0)\n",
    "for i in range(len(dirs)):\n",
    "    dir_i = move(dir_i, dirs[i][0])\n",
    "    for j in range(dirs[i][1]):\n",
    "        x, dir_x = changeEdge2(start, dir_i)\n",
    "        if lines[x[0]][x[1]] not in [\".\",\"#\"]:\n",
    "            print(lines[x[0]][x[1]])\n",
    "        if(lines[x[0]][x[1]] == '#'):\n",
    "            break\n",
    "        start = x\n",
    "        dir_i = dir_x\n",
    "print(start, dir_i)\n",
    "print(conv(start, dir_i))"
   ]
  }
 ],
 "metadata": {
  "kernelspec": {
   "display_name": "Python 3.8.16 64-bit ('3.8.16')",
   "language": "python",
   "name": "python3"
  },
  "language_info": {
   "codemirror_mode": {
    "name": "ipython",
    "version": 3
   },
   "file_extension": ".py",
   "mimetype": "text/x-python",
   "name": "python",
   "nbconvert_exporter": "python",
   "pygments_lexer": "ipython3",
   "version": "3.8.16"
  },
  "orig_nbformat": 4,
  "vscode": {
   "interpreter": {
    "hash": "83d716789636f2c43bd4464069cb5695a0d9efbaa75c4707909d1f0a350467f7"
   }
  }
 },
 "nbformat": 4,
 "nbformat_minor": 2
}
