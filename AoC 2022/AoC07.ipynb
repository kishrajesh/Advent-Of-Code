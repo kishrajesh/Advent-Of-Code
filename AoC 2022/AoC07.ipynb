{
 "cells": [
  {
   "cell_type": "code",
   "execution_count": 205,
   "metadata": {},
   "outputs": [],
   "source": [
    "puzzle = open(\"AoC07.txt\").read().splitlines()"
   ]
  },
  {
   "cell_type": "code",
   "execution_count": 206,
   "id": "2ba6bb0b",
   "metadata": {},
   "outputs": [],
   "source": [
    "# implement a data structure that simulates a file structure with folders and files with a getSize() method\n",
    "class Folder:\n",
    "    def __init__(self, name):\n",
    "        self.name = name\n",
    "        self.parent = None\n",
    "        self.files = []\n",
    "        self.folders = []\n",
    "        self.size = 0\n",
    "    def addFile(self, file):\n",
    "        self.files.append(file)\n",
    "        self.size += file.getSize()\n",
    "        while(self.parent != None):\n",
    "            self.parent.size += file.getSize()\n",
    "            self = self.parent\n",
    "    def addFolder(self, folder):\n",
    "        self.folders.append(folder)\n",
    "        self.size += folder.size\n",
    "        folder.parent = self\n",
    "    def getFiles(self):\n",
    "        return self.files\n",
    "    def getFolders(self):\n",
    "        return self.folders\n",
    "class File:\n",
    "    def __init__(self, name, size):\n",
    "        self.name = name\n",
    "        self.size = size\n",
    "    def getSize(self):\n",
    "        return self.size\n",
    "    def __str__(self):\n",
    "        return self.name + \" \" + str(self.size)"
   ]
  },
  {
   "cell_type": "code",
   "execution_count": 207,
   "id": "12ba9bef",
   "metadata": {},
   "outputs": [],
   "source": [
    "root = Folder(\"/\")\n",
    "current_folder = root\n",
    "read = False\n",
    "ctr = 0\n",
    "for i in puzzle:\n",
    "    if(\"$\" in i):\n",
    "        read = False\n",
    "    if(not read):\n",
    "        if(\"$ ls\" in i):\n",
    "            read = True\n",
    "        elif(\"$ cd\" in i):\n",
    "            if(i.split(\" \")[2] == \"..\"):\n",
    "                current_folder = current_folder.parent\n",
    "            else:\n",
    "                for j in current_folder.folders:\n",
    "                    if(j.name == i.split(\" \")[2]):\n",
    "                        current_folder = j\n",
    "    elif(read):\n",
    "        if(\"dir\" in i):\n",
    "            current_folder.addFolder(Folder(i.split(\" \")[1]))\n",
    "        else:\n",
    "            current_folder.addFile(File(i.split(\" \")[1], int(i.split(\" \")[0])))"
   ]
  },
  {
   "cell_type": "code",
   "execution_count": 208,
   "id": "c3003aae",
   "metadata": {},
   "outputs": [],
   "source": [
    "sizes = []\n",
    "#Do a breath first search into the tree and store the size of each folder\n",
    "# in a dictionary with the folder name as key\n",
    "queue = [root]\n",
    "while(len(queue) > 0):\n",
    "    current = queue.pop(0)\n",
    "    sizes.append(current.size)\n",
    "    for i in current.folders:\n",
    "        queue.append(i)"
   ]
  },
  {
   "cell_type": "code",
   "execution_count": 209,
   "id": "dcf0ca83",
   "metadata": {},
   "outputs": [
    {
     "name": "stdout",
     "output_type": "stream",
     "text": [
      "1118405\n"
     ]
    }
   ],
   "source": [
    "ans1=0\n",
    "\n",
    "for i in sizes:\n",
    "    if(i <= 100000):\n",
    "        ans1+=i\n",
    "print(ans1)"
   ]
  },
  {
   "cell_type": "code",
   "execution_count": 210,
   "id": "49e573dd",
   "metadata": {},
   "outputs": [
    {
     "name": "stdout",
     "output_type": "stream",
     "text": [
      "12545514\n"
     ]
    }
   ],
   "source": [
    "#find the value with the smallest value greater than 40000 in sizes\n",
    "ans2 = root.size\n",
    "tot = root.size\n",
    "for i in sizes:\n",
    "    if(i<ans2 and tot-i<=40000000):\n",
    "        ans2 = i\n",
    "print(ans2)    "
   ]
  }
 ],
 "metadata": {
  "kernelspec": {
   "display_name": "Python 3.11.0 64-bit",
   "language": "python",
   "name": "python3"
  },
  "language_info": {
   "codemirror_mode": {
    "name": "ipython",
    "version": 3
   },
   "file_extension": ".py",
   "mimetype": "text/x-python",
   "name": "python",
   "nbconvert_exporter": "python",
   "pygments_lexer": "ipython3",
   "version": "3.11.0"
  },
  "vscode": {
   "interpreter": {
    "hash": "aee8b7b246df8f9039afb4144a1f6fd8d2ca17a180786b69acc140d282b71a49"
   }
  }
 },
 "nbformat": 4,
 "nbformat_minor": 5
}
