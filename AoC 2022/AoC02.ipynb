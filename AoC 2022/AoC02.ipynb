{
 "cells": [
  {
   "cell_type": "code",
   "execution_count": 43,
   "id": "27cbbd60",
   "metadata": {},
   "outputs": [
    {
     "name": "stdout",
     "output_type": "stream",
     "text": [
      "8392\n"
     ]
    }
   ],
   "source": [
    "puzzle = open(\"AoC02.txt\").read().splitlines()\n",
    "puzzle = [i.split(\" \") for i in puzzle]\n",
    "d={}\n",
    "d['X']=1\n",
    "d['Y']=2\n",
    "d['Z']=3\n",
    "d['A']=1\n",
    "d['B']=2\n",
    "d['C']=3\n",
    "def win(a,b):\n",
    "    c,e=d[a],d[b]\n",
    "    if(c==e):\n",
    "        return 3\n",
    "    if((c+2-e)%3==0):\n",
    "        return 0\n",
    "    return 6\n",
    "ans=0\n",
    "for i in puzzle:\n",
    "    ans+=d[i[1]]+win(i[0],i[1])\n",
    "print(ans)"
   ]
  },
  {
   "cell_type": "code",
   "execution_count": 44,
   "id": "11ce3ced",
   "metadata": {},
   "outputs": [
    {
     "name": "stdout",
     "output_type": "stream",
     "text": [
      "10961\n"
     ]
    }
   ],
   "source": [
    "def win2(a,b):\n",
    "    if(d[b]==1):\n",
    "        return 0\n",
    "    if(d[b]==2):\n",
    "        return 3\n",
    "    return 6\n",
    "def getNew(a,b):\n",
    "    e=d[a]\n",
    "    f=d[b]\n",
    "    if(f==2):\n",
    "        return e\n",
    "    if(f==1):\n",
    "        if(e==1):\n",
    "            return 3\n",
    "        if(e==2):\n",
    "            return 1\n",
    "        return 2\n",
    "    if(f==3):\n",
    "        if(e==1):\n",
    "            return 2\n",
    "        if(e==2):\n",
    "            return 3\n",
    "        if(e==3):\n",
    "            return 1\n",
    "def ans2(a,b):\n",
    "    return win2(a,b)+getNew(a,b)\n",
    "ansFin=0\n",
    "for i in puzzle:\n",
    "    ansFin+=ans2(i[0],i[1])\n",
    "print(ansFin)"
   ]
  }
 ],
 "metadata": {
  "kernelspec": {
   "display_name": "Python 3 (ipykernel)",
   "language": "python",
   "name": "python3"
  },
  "language_info": {
   "codemirror_mode": {
    "name": "ipython",
    "version": 3
   },
   "file_extension": ".py",
   "mimetype": "text/x-python",
   "name": "python",
   "nbconvert_exporter": "python",
   "pygments_lexer": "ipython3",
   "version": "3.11.0"
  }
 },
 "nbformat": 4,
 "nbformat_minor": 5
}
