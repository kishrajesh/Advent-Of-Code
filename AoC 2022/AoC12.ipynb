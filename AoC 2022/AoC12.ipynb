{
 "cells": [
  {
   "cell_type": "code",
   "execution_count": 130,
   "metadata": {},
   "outputs": [],
   "source": [
    "puzzle = open(\"AoC12.txt\").read().splitlines()\n",
    "puzzle = [list(i) for i in puzzle]\n",
    "def value(s):\n",
    "    if(s==\"S\"):\n",
    "        return 1\n",
    "    elif(s==\"E\"):\n",
    "        return 26\n",
    "    return(ord(s)-ord(\"a\")+1)\n",
    "start = ()\n",
    "end = ()\n",
    "for i in range(len(puzzle)):\n",
    "    for j in range(len(puzzle[0])):\n",
    "        if(puzzle[i][j]==\"S\"):\n",
    "            start = (i,j)\n",
    "        if(puzzle[i][j]==\"E\"):\n",
    "            end = (i,j)\n",
    "\n",
    "puzzle = [[value(i) for i in j] for j in puzzle]\n",
    "gr =  {}\n",
    "directions = [(0,1), (0,-1), (1,0), (-1,0)]\n",
    "for i in range(len(puzzle)):\n",
    "    for j in range(len(puzzle[0])):\n",
    "        gr[(i,j)] = []\n",
    "        for k in directions:\n",
    "            if(0<=i+k[0]<len(puzzle) and 0<=j+k[1]<len(puzzle[0])):\n",
    "                if(puzzle[k[0]+i][k[1]+j]-1<=puzzle[i][j]):\n",
    "                    gr[(i,j)].append((k[0]+i,k[1]+j))"
   ]
  },
  {
   "cell_type": "code",
   "execution_count": 129,
   "metadata": {},
   "outputs": [
    {
     "name": "stdout",
     "output_type": "stream",
     "text": [
      "520\n"
     ]
    }
   ],
   "source": [
    "#write BFS to find the length of the shortest path in a graph\n",
    "def BFS(graph, start, goal):\n",
    "    explored = []\n",
    "    queue = [[start]]\n",
    "    if start == goal:\n",
    "        return 0\n",
    "    while queue:\n",
    "        path = queue.pop(0)\n",
    "        node = path[-1]\n",
    "        if node not in explored:\n",
    "            neighbours = graph[node]\n",
    "            for neighbour in neighbours:\n",
    "                new_path = list(path)\n",
    "                new_path.append(neighbour)\n",
    "                queue.append(new_path)\n",
    "                if neighbour == goal:\n",
    "                    return len(new_path)-1\n",
    "            explored.append(node)\n",
    "    return -1\n",
    "print(BFS(gr,start,end))"
   ]
  },
  {
   "cell_type": "code",
   "execution_count": 137,
   "metadata": {},
   "outputs": [
    {
     "name": "stdout",
     "output_type": "stream",
     "text": [
      "508\n"
     ]
    }
   ],
   "source": [
    "gr2 =  {}\n",
    "directions = [(0,1), (0,-1), (1,0), (-1,0)]\n",
    "for i in range(len(puzzle)):\n",
    "    for j in range(len(puzzle[0])):\n",
    "        gr2[(i,j)] = []\n",
    "        for k in directions:\n",
    "            if(0<=i+k[0]<len(puzzle) and 0<=j+k[1]<len(puzzle[0])):\n",
    "                if(puzzle[k[0]+i][k[1]+j]+1>=puzzle[i][j]):\n",
    "                    gr2[(i,j)].append((k[0]+i,k[1]+j))\n",
    "#write BFS to find the length of the shortest path in a graph\n",
    "def BFS2(graph, start, goal):\n",
    "    explored = []\n",
    "    queue = [[start]]\n",
    "    if start == goal:\n",
    "        return 0\n",
    "    while queue:\n",
    "        path = queue.pop(0)\n",
    "        node = path[-1]\n",
    "        if node not in explored:\n",
    "            neighbours = graph[node]\n",
    "            for neighbour in neighbours:\n",
    "                new_path = list(path)\n",
    "                new_path.append(neighbour)\n",
    "                queue.append(new_path)\n",
    "                if neighbour in goal:\n",
    "                    return len(new_path)-1\n",
    "            explored.append(node)\n",
    "    return -1\n",
    "starts = [(i,j) for i in range(len(puzzle)) for j in range(len(puzzle[0])) if(puzzle[i][j]==1)]\n",
    "print(BFS2(gr2,end,starts))"
   ]
  }
 ],
 "metadata": {
  "kernelspec": {
   "display_name": "Python 3.11.0 64-bit",
   "language": "python",
   "name": "python3"
  },
  "language_info": {
   "codemirror_mode": {
    "name": "ipython",
    "version": 3
   },
   "file_extension": ".py",
   "mimetype": "text/x-python",
   "name": "python",
   "nbconvert_exporter": "python",
   "pygments_lexer": "ipython3",
   "version": "3.11.0"
  },
  "orig_nbformat": 4,
  "vscode": {
   "interpreter": {
    "hash": "aee8b7b246df8f9039afb4144a1f6fd8d2ca17a180786b69acc140d282b71a49"
   }
  }
 },
 "nbformat": 4,
 "nbformat_minor": 2
}
