{
 "cells": [
  {
   "cell_type": "code",
   "execution_count": 114,
   "metadata": {},
   "outputs": [],
   "source": [
    "puzzle = open(\"AoC21.txt\").read().splitlines()\n",
    "puzzle = [i.split(\": \") for i in puzzle]\n",
    "\n",
    "hashV = {}\n",
    "opV = {}\n",
    "for i in range(len(puzzle)):\n",
    "    if(puzzle[i][1].isnumeric()):\n",
    "        puzzle[i][1] = int(puzzle[i][1])\n",
    "        hashV[puzzle[i][0]] = puzzle[i][1]\n",
    "    else:\n",
    "        puzzle[i][1] = puzzle[i][1].split(\" \")\n",
    "        opV[puzzle[i][0]] = puzzle[i][1]\n",
    "\n"
   ]
  },
  {
   "cell_type": "code",
   "execution_count": 115,
   "metadata": {},
   "outputs": [
    {
     "name": "stdout",
     "output_type": "stream",
     "text": [
      "['root', ['fgtg', '+', 'pbtm']]\n"
     ]
    }
   ],
   "source": [
    "for i in puzzle:\n",
    "    if(i[0]==\"root\"):\n",
    "        print(i)"
   ]
  },
  {
   "cell_type": "code",
   "execution_count": 116,
   "metadata": {},
   "outputs": [],
   "source": [
    "def operate(num1, num2, op):\n",
    "    #print(num1, num2)\n",
    "    if(op==\"+\"):\n",
    "        return num1+num2\n",
    "    elif(op==\"-\"):\n",
    "        return num1-num2\n",
    "    elif(op==\"*\"):\n",
    "        return num1*num2\n",
    "    elif(op==\"/\"):\n",
    "        return num1/num2\n",
    "    return 0\n",
    "\n",
    "def calc(value, hashVal, opVal):\n",
    "    if(value in hashVal.keys()):\n",
    "        return hashVal[value]\n",
    "    else:\n",
    "        a = opVal[value]\n",
    "        hashVal[value] = operate(calc(a[0], hashVal, opVal), calc(a[2], hashVal, opVal), a[1])\n",
    "        return hashVal[value]"
   ]
  },
  {
   "cell_type": "code",
   "execution_count": 117,
   "metadata": {},
   "outputs": [
    {
     "name": "stdout",
     "output_type": "stream",
     "text": [
      "41857219607906.0\n"
     ]
    }
   ],
   "source": [
    "print(calc(\"root\", hashV, opV))"
   ]
  },
  {
   "cell_type": "code",
   "execution_count": 118,
   "metadata": {},
   "outputs": [],
   "source": [
    "for i in puzzle:\n",
    "    if(i[0]==\"root\"):\n",
    "        a,b = i[1][0],i[1][2]"
   ]
  },
  {
   "cell_type": "code",
   "execution_count": 119,
   "metadata": {},
   "outputs": [
    {
     "name": "stdout",
     "output_type": "stream",
     "text": [
      "\u001b[31mERROR: Could not find a version that satisfies the requirement sympy.solvers (from versions: none)\u001b[0m\u001b[31m\n",
      "\u001b[0m\u001b[31mERROR: No matching distribution found for sympy.solvers\u001b[0m\u001b[31m\n",
      "\u001b[0m\u001b[33mWARNING: You are using pip version 22.0.4; however, version 22.3.1 is available.\n",
      "You should consider upgrading via the '/Users/kishorerajesh/.pyenv/versions/3.8.16/bin/python -m pip install --upgrade pip' command.\u001b[0m\u001b[33m\n",
      "\u001b[0mRequirement already satisfied: sympy in /Users/kishorerajesh/.pyenv/versions/3.8.16/lib/python3.8/site-packages (1.11.1)\n",
      "Requirement already satisfied: mpmath>=0.19 in /Users/kishorerajesh/.pyenv/versions/3.8.16/lib/python3.8/site-packages (from sympy) (1.2.1)\n",
      "\u001b[33mWARNING: You are using pip version 22.0.4; however, version 22.3.1 is available.\n",
      "You should consider upgrading via the '/Users/kishorerajesh/.pyenv/versions/3.8.16/bin/python -m pip install --upgrade pip' command.\u001b[0m\u001b[33m\n",
      "\u001b[0m"
     ]
    }
   ],
   "source": [
    "import sys\n",
    "!{sys.executable} -m pip install sympy.solvers\n",
    "!{sys.executable} -m pip install sympy\n",
    "\n",
    "from sympy.solvers import solve\n",
    "from sympy import Symbol"
   ]
  },
  {
   "cell_type": "code",
   "execution_count": 120,
   "metadata": {},
   "outputs": [
    {
     "name": "stdout",
     "output_type": "stream",
     "text": [
      "[3916936880447.99]\n"
     ]
    }
   ],
   "source": [
    "hashV = {}\n",
    "opV = {}\n",
    "for i in range(len(puzzle)):\n",
    "    if(isinstance(puzzle[i][1], int)):\n",
    "        hashV[puzzle[i][0]] = puzzle[i][1]\n",
    "    else:\n",
    "        opV[puzzle[i][0]] = puzzle[i][1]\n",
    "hashV[\"humn\"]=Symbol(\"humn\")\n",
    "print(solve(calc(a, hashV, opV)-calc(b, hashV, opV), hashV[\"humn\"]))"
   ]
  }
 ],
 "metadata": {
  "kernelspec": {
   "display_name": "Python 3.8.16 64-bit ('3.8.16')",
   "language": "python",
   "name": "python3"
  },
  "language_info": {
   "codemirror_mode": {
    "name": "ipython",
    "version": 3
   },
   "file_extension": ".py",
   "mimetype": "text/x-python",
   "name": "python",
   "nbconvert_exporter": "python",
   "pygments_lexer": "ipython3",
   "version": "3.8.16"
  },
  "orig_nbformat": 4,
  "vscode": {
   "interpreter": {
    "hash": "83d716789636f2c43bd4464069cb5695a0d9efbaa75c4707909d1f0a350467f7"
   }
  }
 },
 "nbformat": 4,
 "nbformat_minor": 2
}
