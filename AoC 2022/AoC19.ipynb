{
 "cells": [
  {
   "cell_type": "code",
   "execution_count": 22,
   "metadata": {},
   "outputs": [],
   "source": [
    "puzzle = open(\"AoC19.txt\").read().splitlines()\n",
    "puzzle = [i.split(\" \") for i in puzzle]\n",
    "rules = []\n",
    "for i in puzzle:\n",
    "    rules.append((int(i[6]), int(i[12]), (int(i[18]),int(i[21])),(int(i[27]),int(i[30]))))"
   ]
  },
  {
   "cell_type": "code",
   "execution_count": 30,
   "metadata": {},
   "outputs": [],
   "source": [
    "#Ore Robot (initialized at 1)\n",
    "#Ore (initialized at 0)\n",
    "#Clay Robot (initialized at 0)\n",
    "#Clay (initialized at 0)\n",
    "#Obsidian Robot (initialized at 0)\n",
    "#Obsidian (initialized at 0)\n",
    "#Geode Robot (initialized at 0)\n",
    "#Geode (initialized at 0)\n",
    "#For a rule, can spend rule[0] ore to make an ore robot, can spend rule[1] ore to make a clay robot, can spend rule[2][0] ore and rule[2][1] clay to make an obsidian robot, can spend rule[3][0] ore and rule[3][1] obsidian to make a geode robot\n",
    "#Each ore robot makes one ore a minute, each clay robot makes one clay a minute, each obsidian robot makes one obsidian a minute, each geode robot makes one geode a minute\n",
    "#Find the maximum number of geodes that can be made in t minutes\n",
    "#Use dynamic programming to solve this problem    \n",
    "from functools import lru_cache\n",
    "@lru_cache(maxsize = None)\n",
    "def maxGeodes(rule, t, ore_bot = 1, ore = 0, clay_bot = 0, clay = 0, obs_bot = 0, obs = 0, geo_bot = 0, geo = 0):\n",
    "    if t == 0:\n",
    "        return geo\n",
    "    else:\n",
    "        withOre = 0\n",
    "        withClay = 0\n",
    "        withNone = 0\n",
    "        withNone = maxGeodes(rule, t-1, ore_bot, ore+ore_bot, clay_bot, clay+clay_bot, obs_bot, obs+obs_bot, geo_bot, geo+geo_bot)\n",
    "        #Make geode robots\n",
    "        if ore >= rule[3][0] and obs >= rule[3][1]:\n",
    "            return (maxGeodes(rule, t-1, ore_bot, ore+ore_bot-rule[3][0], clay_bot, clay+clay_bot, obs_bot, obs+obs_bot-rule[3][1], geo_bot+1, geo+geo_bot))\n",
    "        #Make obsidian robots\n",
    "        if ore >= rule[2][0] and clay >= rule[2][1] and obs_bot < rule[3][1]:\n",
    "            return (maxGeodes(rule, t-1, ore_bot, ore+ore_bot-rule[2][0], clay_bot, clay+clay_bot-rule[2][1], obs_bot+1, obs+obs_bot, geo_bot, geo+geo_bot))\n",
    "        \n",
    "        #Make ore robots\n",
    "        if ore >= rule[0] and ore_bot<max(rule[1], rule[2][0], rule[3][0]):\n",
    "            withOre = maxGeodes(rule, t-1, ore_bot+1, ore+ore_bot-rule[0], clay_bot, clay+clay_bot, obs_bot, obs+obs_bot, geo_bot, geo+geo_bot)\n",
    "        #Make clay robots\n",
    "        if ore >= rule[1] and clay_bot < rule[2][1]:\n",
    "            withClay = maxGeodes(rule, t-1, ore_bot, ore+ore_bot-rule[1], clay_bot+1, clay+clay_bot, obs_bot, obs+obs_bot, geo_bot, geo+geo_bot)\n",
    "    return max(withNone, withClay, withOre)\n"
   ]
  },
  {
   "cell_type": "code",
   "execution_count": 31,
   "metadata": {},
   "outputs": [
    {
     "name": "stdout",
     "output_type": "stream",
     "text": [
      "1599\n"
     ]
    }
   ],
   "source": [
    "def totalScore():\n",
    "    ans = 0\n",
    "    for i in range(len(puzzle)):\n",
    "        ans+=(maxGeodes(rules[i], 24))*(i+1)\n",
    "    return ans\n",
    "print(totalScore())"
   ]
  },
  {
   "cell_type": "code",
   "execution_count": 32,
   "metadata": {},
   "outputs": [],
   "source": [
    "from functools import lru_cache\n",
    "@lru_cache(maxsize = None)\n",
    "def maxGeodes2(rule, t, ore_bot = 1, ore = 0, clay_bot = 0, clay = 0, obs_bot = 0, obs = 0, geo_bot = 0, geo = 0):\n",
    "    if t == 0:\n",
    "        return geo\n",
    "    else:\n",
    "        withOre = 0\n",
    "        withClay = 0\n",
    "        withNone = 0\n",
    "        withObs = 0\n",
    "        if ore < max(rule[1], rule[2][0], rule[3][0]):\n",
    "            withNone = maxGeodes2(rule, t-1, ore_bot, ore+ore_bot, clay_bot, clay+clay_bot, obs_bot, obs+obs_bot, geo_bot, geo+geo_bot)\n",
    "        #Make geode robots\n",
    "        if ore >= rule[3][0] and obs >= rule[3][1]:\n",
    "            withGeo = (maxGeodes2(rule, t-1, ore_bot, ore+ore_bot-rule[3][0], clay_bot, clay+clay_bot, obs_bot, obs+obs_bot-rule[3][1], geo_bot+1, geo+geo_bot))\n",
    "            return withGeo\n",
    "        #Make obsidian robots\n",
    "        if ore >= rule[2][0] and clay >= rule[2][1] and obs_bot < rule[3][1]:\n",
    "            withObs =  (maxGeodes2(rule, t-1, ore_bot, ore+ore_bot-rule[2][0], clay_bot, clay+clay_bot-rule[2][1], obs_bot+1, obs+obs_bot, geo_bot, geo+geo_bot))\n",
    "        \n",
    "        #Make ore robots\n",
    "        if ore >= rule[0] and ore_bot<max(rule[1], rule[2][0], rule[3][0]):\n",
    "            withOre = maxGeodes2(rule, t-1, ore_bot+1, ore+ore_bot-rule[0], clay_bot, clay+clay_bot, obs_bot, obs+obs_bot, geo_bot, geo+geo_bot)\n",
    "        #Make clay robots\n",
    "        if ore >= rule[1] and clay_bot < rule[2][1]:\n",
    "            withClay = maxGeodes2(rule, t-1, ore_bot, ore+ore_bot-rule[1], clay_bot+1, clay+clay_bot, obs_bot, obs+obs_bot, geo_bot, geo+geo_bot)\n",
    "    return max(withNone, withClay, withOre, withObs)"
   ]
  },
  {
   "cell_type": "code",
   "execution_count": 34,
   "metadata": {},
   "outputs": [
    {
     "name": "stdout",
     "output_type": "stream",
     "text": [
      "14112\n"
     ]
    }
   ],
   "source": [
    "ans2 = 1\n",
    "for i in range(3):\n",
    "    ans2*=(maxGeodes2(rules[i], 32))\n",
    "print((ans2))"
   ]
  }
 ],
 "metadata": {
  "kernelspec": {
   "display_name": "Python 3.8.16 64-bit ('3.8.16')",
   "language": "python",
   "name": "python3"
  },
  "language_info": {
   "codemirror_mode": {
    "name": "ipython",
    "version": 3
   },
   "file_extension": ".py",
   "mimetype": "text/x-python",
   "name": "python",
   "nbconvert_exporter": "python",
   "pygments_lexer": "ipython3",
   "version": "3.8.16"
  },
  "orig_nbformat": 4,
  "vscode": {
   "interpreter": {
    "hash": "83d716789636f2c43bd4464069cb5695a0d9efbaa75c4707909d1f0a350467f7"
   }
  }
 },
 "nbformat": 4,
 "nbformat_minor": 2
}
