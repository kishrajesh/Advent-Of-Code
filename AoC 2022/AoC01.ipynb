{
 "cells": [
  {
   "cell_type": "code",
   "execution_count": 10,
   "id": "568acb3e",
   "metadata": {},
   "outputs": [
    {
     "name": "stdout",
     "output_type": "stream",
     "text": [
      "71124\n"
     ]
    }
   ],
   "source": [
    "puzzle = open(\"AoC01.txt\").read().splitlines()\n",
    "sums = []\n",
    "ctr = 0\n",
    "for i in puzzle:\n",
    "    if(i == \"\"):\n",
    "        sums.append(ctr)\n",
    "        ctr=0\n",
    "    else:\n",
    "        ctr+= int(i)\n",
    "sums.sort()\n",
    "print(sums[-1])"
   ]
  },
  {
   "cell_type": "code",
   "execution_count": 11,
   "id": "8ba86777",
   "metadata": {},
   "outputs": [
    {
     "name": "stdout",
     "output_type": "stream",
     "text": [
      "204639\n"
     ]
    }
   ],
   "source": [
    "print(sums[-1]+sums[-2]+sums[-3])"
   ]
  }
 ],
 "metadata": {
  "kernelspec": {
   "display_name": "Python 3 (ipykernel)",
   "language": "python",
   "name": "python3"
  },
  "language_info": {
   "codemirror_mode": {
    "name": "ipython",
    "version": 3
   },
   "file_extension": ".py",
   "mimetype": "text/x-python",
   "name": "python",
   "nbconvert_exporter": "python",
   "pygments_lexer": "ipython3",
   "version": "3.11.0"
  }
 },
 "nbformat": 4,
 "nbformat_minor": 5
}
