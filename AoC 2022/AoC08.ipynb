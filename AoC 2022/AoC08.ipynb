{
 "cells": [
  {
   "cell_type": "code",
   "execution_count": 48,
   "metadata": {},
   "outputs": [],
   "source": [
    "puzzle = open(\"AoC08.txt\").read().splitlines()\n",
    "columns=[]\n",
    "for i in range(len(puzzle[0])):\n",
    "    columns.append(\"\".join([puzzle[j][i] for j in range(len(puzzle))]))"
   ]
  },
  {
   "cell_type": "code",
   "execution_count": 49,
   "metadata": {},
   "outputs": [],
   "source": [
    "def visible(s):\n",
    "    max=int(s[0])\n",
    "    a=[0]\n",
    "    for i in range(1,len(s)):\n",
    "        if(int(s[i])>max):\n",
    "            max=int(s[i])\n",
    "            a.append(i)\n",
    "    return a"
   ]
  },
  {
   "cell_type": "code",
   "execution_count": 50,
   "metadata": {},
   "outputs": [
    {
     "name": "stdout",
     "output_type": "stream",
     "text": [
      "1870\n"
     ]
    }
   ],
   "source": [
    "s=set()\n",
    "for i in range(len(puzzle)):\n",
    "    for j in visible(puzzle[i]):\n",
    "        s.add((i,j))\n",
    "    for j in visible(puzzle[i][::-1]):\n",
    "        s.add((i,len(puzzle[0])-j-1))\n",
    "for j in range(len(puzzle[0])):\n",
    "    for i in visible(columns[j]):\n",
    "        s.add((i,j))\n",
    "    for i in visible(columns[j][::-1]):\n",
    "        s.add((len(puzzle)-i-1,j))\n",
    "print(len(s))"
   ]
  },
  {
   "cell_type": "code",
   "execution_count": 51,
   "metadata": {},
   "outputs": [
    {
     "name": "stdout",
     "output_type": "stream",
     "text": [
      "517440\n"
     ]
    }
   ],
   "source": [
    "def viewing(puzz, i, j, dir):\n",
    "    curr=[i+dir[0],j+dir[1]]\n",
    "    h=puzz[i][j]\n",
    "    ctr=0\n",
    "    while(curr[0]>=0 and curr[0]<len(puzz) and curr[1]>=0 and curr[1]<len(puzz[0])):\n",
    "        ctr+=1\n",
    "        if(puzz[curr[0]][curr[1]]>=h):\n",
    "            return ctr\n",
    "        curr[0]+=dir[0]\n",
    "        curr[1]+=dir[1]\n",
    "    return ctr\n",
    "def viewingNum(puzz, i, j):\n",
    "    a=viewing(puzz, i, j, [1,0])\n",
    "    b=viewing(puzz, i, j, [-1,0])\n",
    "    c=viewing(puzz, i, j, [0,1])\n",
    "    d=viewing(puzz, i, j, [0,-1])\n",
    "    return(a*b*c*d)\n",
    "p = [list(i) for i in puzzle]\n",
    "p = [[int(j) for j in i] for i in p]\n",
    "v = 0\n",
    "for i in range(len(p)):\n",
    "    for j in range(len(p[0])):\n",
    "        v=max(v,viewingNum(p,i,j))\n",
    "print(v)"
   ]
  }
 ],
 "metadata": {
  "kernelspec": {
   "display_name": "Python 3.11.0 64-bit",
   "language": "python",
   "name": "python3"
  },
  "language_info": {
   "codemirror_mode": {
    "name": "ipython",
    "version": 3
   },
   "file_extension": ".py",
   "mimetype": "text/x-python",
   "name": "python",
   "nbconvert_exporter": "python",
   "pygments_lexer": "ipython3",
   "version": "3.11.0"
  },
  "orig_nbformat": 4,
  "vscode": {
   "interpreter": {
    "hash": "aee8b7b246df8f9039afb4144a1f6fd8d2ca17a180786b69acc140d282b71a49"
   }
  }
 },
 "nbformat": 4,
 "nbformat_minor": 2
}
