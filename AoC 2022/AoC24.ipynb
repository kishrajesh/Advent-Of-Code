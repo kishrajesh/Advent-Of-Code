{
 "cells": [
  {
   "cell_type": "code",
   "execution_count": 44,
   "metadata": {},
   "outputs": [],
   "source": [
    "puzzle = open(\"AoC24.txt\").read().splitlines()\n",
    "# ^ is up, < is left, > is right, v is down\n",
    "def parse(blizz):\n",
    "    if(blizz == \"^\"):\n",
    "        return (-1,0)\n",
    "    elif(blizz == \"v\"):\n",
    "        return (1,0)\n",
    "    elif(blizz == \">\"):\n",
    "        return (0,1)\n",
    "    elif(blizz == \"<\"):\n",
    "        return (0,-1)\n",
    "dirs = {}\n",
    "for i in [(0,1),(0,-1),(1,0),(-1,0)]:\n",
    "    dirs[i] = []\n",
    "for j in range(len(puzzle)):\n",
    "    line = puzzle[j]\n",
    "    for i in range(len(line)):\n",
    "        if(line[i]==\"^\" or line[i]==\"v\" or line[i]==\">\" or line[i]==\"<\"):\n",
    "            dirs[parse(line[i])].append((j,i))\n",
    "h = len(puzzle)-2\n",
    "w = len(puzzle[0])-2"
   ]
  },
  {
   "cell_type": "code",
   "execution_count": 45,
   "metadata": {},
   "outputs": [],
   "source": [
    "#write function that calculates positions of all snowstorms at time t\n",
    "#given the starting positions and blizzard directions at time 0 as a set of (name, (x,y), dir) tuples\n",
    "#use mod since blizzards wrap around        \n",
    "def calc(directions, time, height, width):\n",
    "    blizzards = []\n",
    "    for i in directions[(0,1)]:\n",
    "        blizzards.append((i[0], (i[1]+time-1)%width+1))\n",
    "        #print(i, blizzards[-1])\n",
    "    for i in directions[(0,-1)]:\n",
    "        blizzards.append((i[0], (i[1]-time-1)%width+1))\n",
    "        #print(i, blizzards[-1])\n",
    "    for i in directions[(1,0)]:\n",
    "        blizzards.append(((i[0]+time-1)%height+1, i[1]))\n",
    "        #print(i, blizzards[-1])\n",
    "    for i in directions[(-1,0)]:\n",
    "        blizzards.append(((i[0]-time-1)%height+1, i[1]))\n",
    "        #print(i, blizzards[-1])\n",
    "    return set(blizzards)\n",
    "calcs = {}\n",
    "for i in range(h):\n",
    "    for j in range(w):\n",
    "        for k in range(1000):\n",
    "            calcs[(k, (i+1,j+1))]=0\n",
    "for i in range(0, 1000):\n",
    "    a=(calc(dirs, i, h, w))\n",
    "    for j in a:\n",
    "        calcs[(i,(j[0],j[1]))]+=1\n",
    "    calcs[i,(0,1)]=0\n",
    "    calcs[i,(h+1,w)]=0\n",
    "#print(calc(dirs, 1, h, w))\n",
    "#print(calc(dirs, 1, h, w))"
   ]
  },
  {
   "cell_type": "code",
   "execution_count": 46,
   "metadata": {},
   "outputs": [],
   "source": [
    "#bfs for shortest path?\n",
    "def bfs(start, end, height, width, startTime):\n",
    "    queue = [(start, startTime)]\n",
    "    while queue:\n",
    "        (x,y), time = queue.pop(0)\n",
    "        if (x,y) == end:\n",
    "            return time\n",
    "        for i in [(0,1),(0,-1),(1,0),(-1,0)]:\n",
    "            #print(x+i[0], y+i[1])\n",
    "            #print(calc(dirs, time+1, height, width))\n",
    "            if  (x+i[0], y+i[1]) in [(0,1), (height+1, width)] or (1 <= x+i[0] <= height and 1 <= y+i[1] <= width) and calcs[((time+1)%(height*width), (x+i[0],y+i[1]))]==0:\n",
    "                #print(calc(dirs, time+1, height, width), (x+i[0], y+i[1]))\n",
    "                if(((x+i[0], y+i[1]), time+1)) not in queue:\n",
    "                    queue.append(((x+i[0], y+i[1]), time+1))\n",
    "        if calcs[((time+1)%(height*width), (x,y))]==0:\n",
    "            if(((x, y), time+1) not in queue):\n",
    "                queue.append(((x, y), time+1))\n",
    "        #print(len(queue))\n",
    "\n",
    "    return -1"
   ]
  },
  {
   "cell_type": "code",
   "execution_count": 47,
   "metadata": {},
   "outputs": [
    {
     "name": "stdout",
     "output_type": "stream",
     "text": [
      "281\n"
     ]
    }
   ],
   "source": [
    "a = (bfs((0,1), (len(puzzle)-1, len(puzzle[0])-2), h, w, 0))\n",
    "print(a)"
   ]
  },
  {
   "cell_type": "code",
   "execution_count": 48,
   "metadata": {},
   "outputs": [
    {
     "name": "stdout",
     "output_type": "stream",
     "text": [
      "807\n"
     ]
    }
   ],
   "source": [
    "b=(bfs((len(puzzle)-1, len(puzzle[0])-2), (0,1), h, w, a))\n",
    "c=(bfs((0,1), (len(puzzle)-1, len(puzzle[0])-2), h, w, b))\n",
    "print(c)"
   ]
  }
 ],
 "metadata": {
  "kernelspec": {
   "display_name": "Python 3.8.16 64-bit ('3.8.16')",
   "language": "python",
   "name": "python3"
  },
  "language_info": {
   "codemirror_mode": {
    "name": "ipython",
    "version": 3
   },
   "file_extension": ".py",
   "mimetype": "text/x-python",
   "name": "python",
   "nbconvert_exporter": "python",
   "pygments_lexer": "ipython3",
   "version": "3.8.16"
  },
  "orig_nbformat": 4,
  "vscode": {
   "interpreter": {
    "hash": "83d716789636f2c43bd4464069cb5695a0d9efbaa75c4707909d1f0a350467f7"
   }
  }
 },
 "nbformat": 4,
 "nbformat_minor": 2
}
