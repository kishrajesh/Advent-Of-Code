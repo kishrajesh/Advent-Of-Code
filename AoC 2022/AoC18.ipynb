{
 "cells": [
  {
   "cell_type": "code",
   "execution_count": 54,
   "metadata": {},
   "outputs": [],
   "source": [
    "puzzle = open(\"AoC18.txt\").read().splitlines()\n",
    "puzzle = [i.split(\",\") for i in puzzle]\n",
    "puzzle = [[int(i[0]), int(i[1]), int(i[2])] for i in puzzle]"
   ]
  },
  {
   "cell_type": "code",
   "execution_count": 55,
   "metadata": {},
   "outputs": [],
   "source": [
    "def connected(a,b):\n",
    "    if(a[0]==b[0] and a[1]==b[1] and abs(a[2]-b[2])==1):\n",
    "        return True\n",
    "    if(a[0]==b[0] and a[2]==b[2] and abs(a[1]-b[1])==1):\n",
    "        return True\n",
    "    if(a[1]==b[1] and a[2]==b[2] and abs(a[0]-b[0])==1):\n",
    "        return True\n",
    "\n",
    "conns = {}\n",
    "for i in range(len(puzzle)):\n",
    "    for j in range(len(puzzle)):\n",
    "        if(i!=j):\n",
    "            if(connected(puzzle[i],puzzle[j])):\n",
    "                if(i in conns):\n",
    "                    conns[i].append(j)\n",
    "                else:\n",
    "                    conns[i] = [j]\n"
   ]
  },
  {
   "cell_type": "code",
   "execution_count": 56,
   "metadata": {},
   "outputs": [
    {
     "name": "stdout",
     "output_type": "stream",
     "text": [
      "3412\n"
     ]
    }
   ],
   "source": [
    "total = 6*len(puzzle)\n",
    "overlap = 0\n",
    "for i in range(len(puzzle)):\n",
    "    if(i in conns.keys()):\n",
    "        overlap+=len(conns[i])\n",
    "ans1=total-overlap\n",
    "print(ans1)"
   ]
  },
  {
   "cell_type": "code",
   "execution_count": 58,
   "metadata": {},
   "outputs": [
    {
     "name": "stdout",
     "output_type": "stream",
     "text": [
      "2018\n"
     ]
    }
   ],
   "source": [
    "import sys\n",
    "sys.setrecursionlimit(10000)\n",
    "ans2 = 0\n",
    "dirs = [[0,0,1],[0,0,-1],[0,1,0],[0,-1,0],[1,0,0],[-1,0,0]]\n",
    "def add(point, dir):\n",
    "    return [point[0]+dir[0], point[1]+dir[1], point[2]+dir[2]]\n",
    "def floodfill(x,y,z, visited):\n",
    "    if(x<-1 or x>21 or y<-1 or y>21 or z<-1 or z>21):\n",
    "        return \n",
    "    if(visited[x+1][y+1][z+1]):\n",
    "        return \n",
    "    visited[x+1][y+1][z+1] = True\n",
    "    for i in dirs:\n",
    "        if(add([x,y,z],i) in puzzle):\n",
    "            global ans2\n",
    "            ans2 = ans2 + 1\n",
    "        else:\n",
    "            floodfill(x+i[0], y+i[1], z+i[2], visited)\n",
    "    return \n",
    "floodfill(20,20,20,[[[False for i in range(23)] for j in range(23)] for k in range(23)])\n",
    "print(ans2)"
   ]
  }
 ],
 "metadata": {
  "kernelspec": {
   "display_name": "Python 3.8.16 64-bit ('3.8.16')",
   "language": "python",
   "name": "python3"
  },
  "language_info": {
   "codemirror_mode": {
    "name": "ipython",
    "version": 3
   },
   "file_extension": ".py",
   "mimetype": "text/x-python",
   "name": "python",
   "nbconvert_exporter": "python",
   "pygments_lexer": "ipython3",
   "version": "3.8.16"
  },
  "orig_nbformat": 4,
  "vscode": {
   "interpreter": {
    "hash": "83d716789636f2c43bd4464069cb5695a0d9efbaa75c4707909d1f0a350467f7"
   }
  }
 },
 "nbformat": 4,
 "nbformat_minor": 2
}
