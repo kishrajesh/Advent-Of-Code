{
 "cells": [
  {
   "cell_type": "code",
   "execution_count": 193,
   "metadata": {},
   "outputs": [],
   "source": [
    "puzzle = open(\"AoC16.txt\").read().splitlines()\n",
    "puzzle = [i.split(\" \") for i in puzzle]\n",
    "valves = [i[1] for i in puzzle]\n",
    "flowrates = [int(i[4].split(\"=\")[-1][:-1]) for i in puzzle]\n",
    "outputs = {}\n",
    "for i in range(len(puzzle)):\n",
    "    ans = []\n",
    "    for j in range(9, len(puzzle[i])):\n",
    "        ans.append(puzzle[i][j][:2])\n",
    "    outputs[valves[i]]=ans\n",
    "flows = {}\n",
    "for i in range(len(valves)):\n",
    "    flows[valves[i]]=flowrates[i]"
   ]
  },
  {
   "cell_type": "code",
   "execution_count": 194,
   "metadata": {},
   "outputs": [],
   "source": [
    "dist = {}\n",
    "for i in range(len(valves)):\n",
    "    if flowrates[i]!=0:\n",
    "        dist[valves[i]]={}\n",
    "        for j in range(len(valves)):\n",
    "            if flowrates[j]!=0:\n",
    "                dist[valves[i]][valves[j]]=abs(i-j)"
   ]
  },
  {
   "cell_type": "code",
   "execution_count": 195,
   "metadata": {},
   "outputs": [
    {
     "name": "stdout",
     "output_type": "stream",
     "text": [
      "{'QE': 1, 'TN': 2, 'HK': 4, 'SK': 8, 'BY': 16, 'FE': 32, 'BM': 64, 'EI': 128, 'QN': 256, 'CJ': 512, 'CQ': 1024, 'SZ': 2048, 'XH': 4096, 'KI': 8192, 'NS': 16384}\n",
      "3\n"
     ]
    }
   ],
   "source": [
    "nonzero = [valves[i] for i in range(len(valves)) if flowrates[i]!=0]\n",
    "bin = {}\n",
    "for i in range(len(nonzero)):\n",
    "    bin[nonzero[i]]=2**i\n",
    "print(bin)\n",
    "def inbin(valve, bi):\n",
    "    return bi & (2**nonzero.index(valve))!=0\n",
    "def conv(visit):\n",
    "    ans = []\n",
    "    for i in range(len(nonzero)):\n",
    "        if visit & (2**i)!=0:\n",
    "            ans.append(nonzero[i])\n",
    "    ans2 = 0\n",
    "    for i in ans:\n",
    "        ans2+=flows[i]\n",
    "    return ans2\n",
    "print(conv(1))"
   ]
  },
  {
   "cell_type": "code",
   "execution_count": 196,
   "metadata": {},
   "outputs": [],
   "source": [
    "#find the minimum path between two rooms\n",
    "def findpath(start, end):\n",
    "    q = [(start, 0)]\n",
    "    visited = set()\n",
    "    while q:\n",
    "        node, dist = q.pop(0)\n",
    "        if node == end:\n",
    "            return dist\n",
    "        if node not in visited:\n",
    "            visited.add(node)\n",
    "            for i in outputs[node]:\n",
    "                q.append((i, dist+1))\n",
    "    return -1\n",
    "adjMatrix = {}\n",
    "for i in nonzero+[\"AA\"]:\n",
    "    for j in nonzero+[\"AA\"]:\n",
    "        #if(i!=\"AA\"):\n",
    "         #   adjMatrix[(i,j)]=findpath(i, j)+1\n",
    "        #else:\n",
    "        adjMatrix[(i,j)]=findpath(i, j)\n",
    "        if(adjMatrix[(i,j)]>=26):\n",
    "            print(i, j, adjMatrix[i, j])"
   ]
  },
  {
   "cell_type": "code",
   "execution_count": 197,
   "metadata": {},
   "outputs": [],
   "source": [
    "#find all paths starting from AA that have a total distance of at most 30\n",
    "#Only go to nodes that have a flowrate of at least 1\n",
    "#Distance between two nodes i and j is given by adjMatrix[(i,j)]\n",
    "#Don't visit a node more than once\n",
    "#The total distance of a path is the sum of the distances between each node\n",
    "#output a list of paths where each path has the form [(node1, time_left_1), (node2, time_left_2), ...]\n",
    "#where time_left_i is the amount of time left after visiting node_i\n",
    "#the first node in the path is always AA\n",
    "@lru_cache(maxsize=None)\n",
    "def findpaths(start, time, visited=frozenset()):\n",
    "    ans = []\n",
    "    if time <= 0:\n",
    "        return ans\n",
    "    if(flows[start]!=0 and start not in visited):\n",
    "        ans.append([(start, time-1)])\n",
    "    for i in nonzero:\n",
    "        if(i not in visited and i != start):\n",
    "            #if adjMatrix[(start, i)]<=time:\n",
    "                for j in findpaths(i, time-adjMatrix[(start, i)]-1, visited.union({start})):\n",
    "                    if(start in visited):\n",
    "                        print(visited, i)\n",
    "                    ans.append([(start, time-1)]+j)\n",
    "    return ans\n",
    "paths = findpaths(\"AA\", 31)"
   ]
  },
  {
   "cell_type": "code",
   "execution_count": 198,
   "metadata": {},
   "outputs": [
    {
     "name": "stdout",
     "output_type": "stream",
     "text": [
      "2077\n"
     ]
    }
   ],
   "source": [
    "def findPressure(path):\n",
    "    ans = 0\n",
    "    for i in path:\n",
    "        ans+=flows[i[0]]*i[1]\n",
    "    return ans\n",
    "ans = 0\n",
    "for i in paths:\n",
    "    ans = max(ans, findPressure(i))\n",
    "print(ans)"
   ]
  },
  {
   "cell_type": "code",
   "execution_count": 199,
   "metadata": {},
   "outputs": [
    {
     "name": "stdout",
     "output_type": "stream",
     "text": [
      "62834\n"
     ]
    }
   ],
   "source": [
    "paths2 = findpaths(\"AA\", 27)\n",
    "print(len(paths2))"
   ]
  },
  {
   "cell_type": "code",
   "execution_count": 202,
   "metadata": {},
   "outputs": [],
   "source": [
    "def conv(path):\n",
    "    ans = 0\n",
    "    for i in range(1,len(path)):\n",
    "        ans+=bin[path[i][0]]\n",
    "    return ans\n",
    "pressures = [findPressure(i) for i in paths2]\n",
    "bin = [conv(i) for i in paths2]"
   ]
  },
  {
   "cell_type": "code",
   "execution_count": 205,
   "metadata": {},
   "outputs": [
    {
     "name": "stdout",
     "output_type": "stream",
     "text": [
      "0\n",
      "1000\n",
      "2000\n",
      "3000\n",
      "4000\n",
      "5000\n",
      "6000\n",
      "7000\n",
      "8000\n",
      "9000\n",
      "10000\n",
      "11000\n",
      "12000\n",
      "13000\n",
      "14000\n",
      "15000\n",
      "16000\n",
      "17000\n",
      "18000\n",
      "19000\n",
      "20000\n",
      "21000\n",
      "22000\n",
      "23000\n",
      "24000\n",
      "25000\n",
      "26000\n",
      "27000\n",
      "28000\n",
      "29000\n",
      "30000\n",
      "31000\n",
      "32000\n",
      "33000\n",
      "34000\n",
      "35000\n",
      "36000\n",
      "37000\n",
      "38000\n",
      "39000\n",
      "40000\n",
      "41000\n",
      "42000\n",
      "43000\n",
      "44000\n",
      "45000\n",
      "46000\n",
      "47000\n",
      "48000\n",
      "49000\n",
      "50000\n",
      "51000\n",
      "52000\n",
      "53000\n",
      "54000\n",
      "55000\n",
      "56000\n",
      "57000\n",
      "58000\n",
      "59000\n",
      "60000\n",
      "61000\n",
      "62000\n",
      "2741\n"
     ]
    }
   ],
   "source": [
    "maxAns2 = 0\n",
    "for i in range(len(paths2)):\n",
    "    if(i%1000==0):\n",
    "        print(i)\n",
    "    for j in range(i+1, len(paths2)):\n",
    "        if(bin[i] & bin[j]==0):\n",
    "            maxAns2 = max(maxAns2, pressures[i]+pressures[j])\n",
    "print(maxAns2)"
   ]
  },
  {
   "cell_type": "code",
   "execution_count": null,
   "metadata": {},
   "outputs": [],
   "source": [
    "#Old code for part 1, runs too long\n",
    "\n",
    "cache = {}\n",
    "from functools import lru_cache\n",
    "@lru_cache(maxsize=None)\n",
    "def dfs(start, time, visited, tot_pressure=0):\n",
    "    if time == 1:\n",
    "        return (tot_pressure, visited)\n",
    "    withValve = (0,0)\n",
    "    if(flows[start]!=0 and (not inbin(start, visited))):\n",
    "        c = dfs(start, time-1, visited+bin[start], tot_pressure+conv(visited+bin[start]))\n",
    "        withValve = c\n",
    "        return withValve\n",
    "    withoutValve = (0,0)\n",
    "    for i in outputs[start]:\n",
    "        c = dfs(i, time-1, visited, tot_pressure+conv(visited))\n",
    "        withoutValve = max(withoutValve, c, key=lambda x: x[0])\n",
    "    winner = (0,0)\n",
    "    if(withValve[0]<withoutValve[0]):\n",
    "        winner = withoutValve\n",
    "    else:\n",
    "        winner = withValve\n",
    "    return winner\n",
    "\n",
    "print(dfs(\"AA\", 30, 0))"
   ]
  }
 ],
 "metadata": {
  "kernelspec": {
   "display_name": "Python 3 (ipykernel)",
   "language": "python",
   "name": "python3"
  },
  "language_info": {
   "codemirror_mode": {
    "name": "ipython",
    "version": 3
   },
   "file_extension": ".py",
   "mimetype": "text/x-python",
   "name": "python",
   "nbconvert_exporter": "python",
   "pygments_lexer": "ipython3",
   "version": "3.8.16"
  },
  "vscode": {
   "interpreter": {
    "hash": "83d716789636f2c43bd4464069cb5695a0d9efbaa75c4707909d1f0a350467f7"
   }
  }
 },
 "nbformat": 4,
 "nbformat_minor": 2
}
