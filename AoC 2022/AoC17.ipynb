{
 "cells": [
  {
   "cell_type": "code",
   "execution_count": 77,
   "metadata": {},
   "outputs": [],
   "source": [
    "puzzle = open(\"AoC17.txt\").read().splitlines()\n",
    "puzzle = list(puzzle[0])"
   ]
  },
  {
   "cell_type": "code",
   "execution_count": 78,
   "metadata": {},
   "outputs": [],
   "source": [
    "blocks = {}\n",
    "blocks[1] = [(0,0),(0,1),(0,2),(0,3)] # -\n",
    "blocks[2] = [(0,0),(1,0),(1,1),(1,-1),(2,0)] # +\n",
    "blocks[3] = [(0,0),(0,1),(0,2),(1,2),(2,2)] # ⅃\n",
    "blocks[4] = [(0,0),(1,0),(2,0),(3,0)] # |\n",
    "blocks[5] = [(0,0),(0,1),(1,0),(1,1)] # ▢\n",
    "left = {}\n",
    "left[1] = [(0,0)] # -\n",
    "left[2] = [(0,0),(1,-1),(2,0)] # +\n",
    "left[3] = [(0,0),(1,2),(2,2)] # ⅃\n",
    "left[4] = [(0,0),(1,0),(2,0),(3,0)] # |\n",
    "left[5] = [(0,0),(1,0)] # ▢\n",
    "down = {}\n",
    "down[1] = [(0,0),(0,1),(0,2),(0,3)] # -\n",
    "down[2] = [(0,0),(1,1),(1,-1)] # +\n",
    "down[3] = [(0,0),(0,1),(0,2)] # ⅃\n",
    "down[4] = [(0,0)] # |\n",
    "down[5] = [(0,0),(0,1)] # ▢\n",
    "right = {}\n",
    "right[1] = [(0,3)] # -\n",
    "right[2] = [(0,0),(1,1),(2,0)] # +\n",
    "right[3] = [(0,2),(1,2),(2,2)] # ⅃\n",
    "right[4] = [(0,0),(1,0),(2,0),(3,0)] # |\n",
    "right[5] = [(0,1),(1,1)] # ▢\n",
    "leftEdge = {}\n",
    "leftEdge[1] = 0 # -\n",
    "leftEdge[2] = 1 # +\n",
    "leftEdge[3] = 0 # ⅃\n",
    "leftEdge[4] = 0 # |\n",
    "leftEdge[5] = 0 # ▢\n",
    "height = {}\n",
    "height[1] = 1 # -\n",
    "height[2] = 3 # +\n",
    "height[3] = 3 # ⅃\n",
    "height[4] = 4 # |\n",
    "height[5] = 2 # ▢\n",
    "lr = {}\n",
    "lr[\"<\"] = (0,-1)\n",
    "lr[\">\"] = (0,1)"
   ]
  },
  {
   "cell_type": "code",
   "execution_count": 79,
   "metadata": {},
   "outputs": [],
   "source": [
    "def ad(block, dir):\n",
    "    return (block[0]+dir[0], block[1]+dir[1])\n",
    "\n",
    "def d(block, tet, pos):\n",
    "    #returns true if block can go down\n",
    "    for i in down[block]:\n",
    "        dow = ad(i, pos)\n",
    "        if ad((-1,0), dow) in tet:\n",
    "            return False\n",
    "    return True\n",
    "\n",
    "def l(block, tet, pos):\n",
    "    #returns true if block can go left\n",
    "    for i in left[block]:\n",
    "        lef = ad(i, pos)\n",
    "        if ad((0,-1), lef) in tet:\n",
    "            return False\n",
    "        if ad((0,-1),lef)[1]<0:\n",
    "            return False\n",
    "    return True\n",
    "\n",
    "def r(block, tet, pos):\n",
    "    #returns true if block can go right\n",
    "    for i in right[block]:\n",
    "        rig = ad(i, pos)\n",
    "        if ad((0,1), rig) in tet:\n",
    "            return False\n",
    "        if ad((0,1),rig)[1]>6:\n",
    "            return False\n",
    "    return True\n",
    "\n",
    "def move(block, tet, pos, ch):\n",
    "    if(ch==\"<\"):\n",
    "        return l(block,tet,pos)\n",
    "    elif(ch==\">\"):\n",
    "        return r(block,tet,pos)\n",
    "    return d(block,tet,pos)\n",
    "\n",
    "def init(block, to):\n",
    "    x = to+4\n",
    "    y = 2+leftEdge[block]\n",
    "    return (x,y)\n",
    "\n",
    "def add(block, tet, pos):\n",
    "    for i in blocks[block]:\n",
    "        tet.add(ad(i, pos))\n",
    "    return tet"
   ]
  },
  {
   "cell_type": "code",
   "execution_count": 80,
   "metadata": {},
   "outputs": [],
   "source": [
    "tet = set()\n",
    "for i in range(7):\n",
    "    tet.add((0,i))\n",
    "top = 0\n",
    "ctr = 0\n",
    "siz = len(puzzle)\n",
    "tops = []\n",
    "for i in range(2022):\n",
    "    block = i%5+1\n",
    "    pos = init(block, top)\n",
    "    ctr2 = 0\n",
    "    #print(pos)\n",
    "    while(True):\n",
    "        #print(pos)\n",
    "        if(ctr2%2==1):\n",
    "            #move down\n",
    "            #print(\"moving down: \", ctr2)\n",
    "            if(d(block, tet, pos)):\n",
    "                pos = ad((-1,0), pos)\n",
    "                #ctr2+=1\n",
    "                #continue\n",
    "            else:\n",
    "                #print(\"ok stopping now\", ctr2, pos)\n",
    "                #print(d(block, tet, pos))\n",
    "                #print([ad(ad(pos,j),(-1,0)) for j in down[block]])\n",
    "                #t = list(tet)\n",
    "                #t.sort()\n",
    "                #print(t)\n",
    "                tet = add(block, tet, pos)\n",
    "                top = max(pos[0]+height[block]-1,top)\n",
    "                break\n",
    "        else:\n",
    "            #move left/right\n",
    "            ch = puzzle[ctr%siz]\n",
    "            #print(ch)\n",
    "            #print(\"moved horizontally\")\n",
    "            ctr+=1\n",
    "            if(move(block, tet, pos, ch)):\n",
    "                #print(\"actually moved horizontally\")\n",
    "                #print(\"moving left/right: \", ctr2)\n",
    "                pos = ad(lr[ch], pos)\n",
    "                #ctr2+=1\n",
    "                #continue\n",
    "            #else:\n",
    "                #ctr2+=1\n",
    "                #continue\n",
    "        ctr2+=1\n",
    "    tops.append(top)"
   ]
  },
  {
   "cell_type": "code",
   "execution_count": 81,
   "metadata": {},
   "outputs": [
    {
     "name": "stdout",
     "output_type": "stream",
     "text": [
      "3217\n"
     ]
    }
   ],
   "source": [
    "print(top)"
   ]
  },
  {
   "cell_type": "code",
   "execution_count": 82,
   "metadata": {},
   "outputs": [],
   "source": [
    "def cach(positions, top):\n",
    "    #given a list of positions\n",
    "    #makes a list with the top 100 rows below top\n",
    "    if(top<100):\n",
    "        return positions\n",
    "    else:\n",
    "        return positions[top-100:top+1]\n",
    "        "
   ]
  },
  {
   "cell_type": "code",
   "execution_count": 83,
   "metadata": {},
   "outputs": [
    {
     "name": "stdout",
     "output_type": "stream",
     "text": [
      "(1, 440, 1815)\n"
     ]
    }
   ],
   "source": [
    "cached = [0 for i in range(10000000)]\n",
    "tet = set()\n",
    "for i in range(7):\n",
    "    tet.add((0,i))\n",
    "top = 0\n",
    "ctr = 0\n",
    "siz = len(puzzle)\n",
    "tops = []\n",
    "triples = []\n",
    "i=0\n",
    "while(i<10000000):\n",
    "    block = i%5+1\n",
    "    pos = init(block, top)\n",
    "    ctr2 = 0\n",
    "    while(True):\n",
    "        if(ctr2%2==1):\n",
    "            if(d(block, tet, pos)):\n",
    "                pos = ad((-1,0), pos)\n",
    "            else:\n",
    "                tet = add(block, tet, pos)\n",
    "                top = max(pos[0]+height[block]-1,top)\n",
    "                for k in blocks[block]:\n",
    "                    newP = ad(k, pos)\n",
    "                    cached[newP[1]]+=2**newP[0]\n",
    "                break\n",
    "        else:\n",
    "            ch = puzzle[ctr%siz]\n",
    "            ctr+=1\n",
    "            if(move(block, tet, pos, ch)):\n",
    "                pos = ad(lr[ch], pos)\n",
    "        ctr2+=1\n",
    "    tops.append(top)\n",
    "    c = cach(cached, top)\n",
    "    if((block, ctr%siz, c) in triples):\n",
    "        ans2_help = (block, ctr%siz, c, i)\n",
    "        break\n",
    "    triples.append((block, ctr%siz, c))\n",
    "    \n",
    "    i+=1\n",
    "print((ans2_help[0], ans2_help[1], ans2_help[3]))"
   ]
  },
  {
   "cell_type": "code",
   "execution_count": 84,
   "metadata": {},
   "outputs": [
    {
     "name": "stdout",
     "output_type": "stream",
     "text": [
      "(1, 440, 70)\n",
      "1585673352422\n"
     ]
    }
   ],
   "source": [
    "orig = ()\n",
    "for i in range(len(triples)):\n",
    "    if(triples[i][0] == ans2_help[0] and triples[i][1] == ans2_help[1] and triples[i][2] == ans2_help[2]):\n",
    "        orig = (triples[i][0], triples[i][1],i)\n",
    "print(orig)\n",
    "start_Cycle = orig[2]\n",
    "cycle_Length = ans2_help[3]-orig[2]\n",
    "start_top = tops[start_Cycle]\n",
    "top_Cycle = tops[ans2_help[3]]-start_top\n",
    "numCycles = (1000000000000-1-start_Cycle)//cycle_Length\n",
    "extraPart = (1000000000000-1-start_Cycle)%cycle_Length\n",
    "top_extra = tops[start_Cycle+extraPart]-start_top\n",
    "print(start_top+numCycles*top_Cycle+top_extra)"
   ]
  }
 ],
 "metadata": {
  "kernelspec": {
   "display_name": "Python 3.8.16 64-bit ('3.8.16')",
   "language": "python",
   "name": "python3"
  },
  "language_info": {
   "codemirror_mode": {
    "name": "ipython",
    "version": 3
   },
   "file_extension": ".py",
   "mimetype": "text/x-python",
   "name": "python",
   "nbconvert_exporter": "python",
   "pygments_lexer": "ipython3",
   "version": "3.8.16"
  },
  "orig_nbformat": 4,
  "vscode": {
   "interpreter": {
    "hash": "83d716789636f2c43bd4464069cb5695a0d9efbaa75c4707909d1f0a350467f7"
   }
  }
 },
 "nbformat": 4,
 "nbformat_minor": 2
}
