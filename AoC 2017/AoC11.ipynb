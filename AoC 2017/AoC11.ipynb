{
 "cells": [
  {
   "cell_type": "code",
   "execution_count": 10,
   "metadata": {},
   "outputs": [],
   "source": [
    "puzzle = open(\"AoC11.txt\").read().splitlines()\n",
    "puzzle = puzzle[0].split(\",\")"
   ]
  },
  {
   "cell_type": "code",
   "execution_count": 11,
   "metadata": {},
   "outputs": [],
   "source": [
    "dirs = {}\n",
    "dirs['n']=(0,1)\n",
    "dirs['ne']=(1,0.5)\n",
    "dirs['se']=(1,-0.5)\n",
    "dirs['s']=(0,-1)\n",
    "dirs['sw']=(-1,-0.5)\n",
    "dirs['nw']=(-1,0.5)"
   ]
  },
  {
   "cell_type": "code",
   "execution_count": 19,
   "metadata": {},
   "outputs": [],
   "source": [
    "def distanceFrom(x,y):\n",
    "    #abs(x) number of steps in x direction\n",
    "    #abs(abs(y)-abs(x)/2) number of steps in y direction\n",
    "    return abs(abs(x)+abs(y)-abs(x)/2)"
   ]
  },
  {
   "cell_type": "code",
   "execution_count": 20,
   "metadata": {},
   "outputs": [
    {
     "name": "stdout",
     "output_type": "stream",
     "text": [
      "794.0\n",
      "1524.0\n"
     ]
    }
   ],
   "source": [
    "fin = (0,0)\n",
    "maxFin = 0\n",
    "for i in puzzle:\n",
    "    fin = (fin[0]+dirs[i][0],fin[1]+dirs[i][1])\n",
    "    maxFin = max(maxFin,distanceFrom(fin[0],fin[1]))\n",
    "ans1 = distanceFrom(fin[0],fin[1])\n",
    "ans2 = maxFin\n",
    "print(ans1)\n",
    "print(ans2)"
   ]
  }
 ],
 "metadata": {
  "kernelspec": {
   "display_name": "Python 3",
   "language": "python",
   "name": "python3"
  },
  "language_info": {
   "codemirror_mode": {
    "name": "ipython",
    "version": 3
   },
   "file_extension": ".py",
   "mimetype": "text/x-python",
   "name": "python",
   "nbconvert_exporter": "python",
   "pygments_lexer": "ipython3",
   "version": "3.8.16"
  },
  "orig_nbformat": 4
 },
 "nbformat": 4,
 "nbformat_minor": 2
}
