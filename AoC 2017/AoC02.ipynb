{
 "cells": [
  {
   "cell_type": "code",
   "execution_count": 6,
   "metadata": {},
   "outputs": [],
   "source": [
    "puzzle = open(\"AoC02.txt\").read().splitlines()\n",
    "for i in range(len(puzzle)):\n",
    "    puzzle[i] = puzzle[i].split()\n",
    "    puzzle[i] = [int(x) for x in puzzle[i]]"
   ]
  },
  {
   "cell_type": "code",
   "execution_count": 8,
   "metadata": {},
   "outputs": [
    {
     "name": "stdout",
     "output_type": "stream",
     "text": [
      "32121\n"
     ]
    }
   ],
   "source": [
    "ans1 = 0\n",
    "for i in puzzle:\n",
    "    ans1+=max(i)-min(i)\n",
    "print(ans1)"
   ]
  },
  {
   "cell_type": "code",
   "execution_count": 9,
   "metadata": {},
   "outputs": [
    {
     "name": "stdout",
     "output_type": "stream",
     "text": [
      "197.0\n"
     ]
    }
   ],
   "source": [
    "def findDivisible(l):\n",
    "    for i in range(len(l)):\n",
    "        for j in range(len(l)):\n",
    "            if i!=j and l[i]%l[j]==0:\n",
    "                return l[i]/l[j]\n",
    "ans2 = 0\n",
    "for i in puzzle:\n",
    "    ans2+=findDivisible(i)\n",
    "print(ans2)"
   ]
  },
  {
   "cell_type": "code",
   "execution_count": null,
   "metadata": {},
   "outputs": [],
   "source": []
  }
 ],
 "metadata": {
  "kernelspec": {
   "display_name": "Python 3",
   "language": "python",
   "name": "python3"
  },
  "language_info": {
   "codemirror_mode": {
    "name": "ipython",
    "version": 3
   },
   "file_extension": ".py",
   "mimetype": "text/x-python",
   "name": "python",
   "nbconvert_exporter": "python",
   "pygments_lexer": "ipython3",
   "version": "3.8.16"
  },
  "orig_nbformat": 4
 },
 "nbformat": 4,
 "nbformat_minor": 2
}
