{
 "cells": [
  {
   "cell_type": "code",
   "execution_count": 1,
   "metadata": {},
   "outputs": [],
   "source": [
    "puzzle = open(\"AoC12.txt\").read().splitlines()"
   ]
  },
  {
   "cell_type": "code",
   "execution_count": 3,
   "metadata": {},
   "outputs": [],
   "source": [
    "pipes = {}\n",
    "for line in puzzle:\n",
    "    line = line.split(\" <-> \")\n",
    "    pipes[line[0]] = line[1].split(\", \")"
   ]
  },
  {
   "cell_type": "code",
   "execution_count": 6,
   "metadata": {},
   "outputs": [
    {
     "name": "stdout",
     "output_type": "stream",
     "text": [
      "115\n"
     ]
    }
   ],
   "source": [
    "groupZero = set([\"0\"])\n",
    "queue = [\"0\"]\n",
    "while queue:\n",
    "    for pipe in pipes[queue.pop()]:\n",
    "        if pipe not in groupZero:\n",
    "            groupZero.add(pipe)\n",
    "            queue.append(pipe)\n",
    "ans1 = len(groupZero)\n",
    "print(ans1)\n"
   ]
  },
  {
   "cell_type": "code",
   "execution_count": 8,
   "metadata": {},
   "outputs": [
    {
     "name": "stdout",
     "output_type": "stream",
     "text": [
      "221\n"
     ]
    }
   ],
   "source": [
    "groups = set()\n",
    "visited = set()\n",
    "for pipe in pipes:\n",
    "    if pipe not in visited:\n",
    "        newGroup = set([pipe])\n",
    "        queue = [pipe]\n",
    "        visited.add(pipe)\n",
    "        while queue:\n",
    "            for pipe in pipes[queue.pop()]:\n",
    "                if pipe not in newGroup:\n",
    "                    newGroup.add(pipe)\n",
    "                    queue.append(pipe)\n",
    "                    visited.add(pipe)\n",
    "        groups.add(frozenset(newGroup))\n",
    "ans2 = len(groups)\n",
    "print(ans2)"
   ]
  },
  {
   "cell_type": "code",
   "execution_count": null,
   "metadata": {},
   "outputs": [],
   "source": []
  }
 ],
 "metadata": {
  "kernelspec": {
   "display_name": "Python 3",
   "language": "python",
   "name": "python3"
  },
  "language_info": {
   "codemirror_mode": {
    "name": "ipython",
    "version": 3
   },
   "file_extension": ".py",
   "mimetype": "text/x-python",
   "name": "python",
   "nbconvert_exporter": "python",
   "pygments_lexer": "ipython3",
   "version": "3.8.16"
  },
  "orig_nbformat": 4
 },
 "nbformat": 4,
 "nbformat_minor": 2
}
