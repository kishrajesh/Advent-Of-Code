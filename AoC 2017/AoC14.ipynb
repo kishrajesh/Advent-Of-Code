{
 "cells": [
  {
   "cell_type": "code",
   "execution_count": 2,
   "metadata": {},
   "outputs": [],
   "source": [
    "puzzle = open(\"AoC14.txt\").read().splitlines()\n",
    "puzzle = puzzle[0]"
   ]
  },
  {
   "cell_type": "code",
   "execution_count": 10,
   "metadata": {},
   "outputs": [],
   "source": [
    "def knotHash(s):\n",
    "    s = [ord(c) for c in s]\n",
    "    s += [17, 31, 73, 47, 23]\n",
    "    skip = 0\n",
    "    pos = 0\n",
    "    list = [i for i in range(256)]\n",
    "    for _ in range(64):\n",
    "        for p in s:\n",
    "            p = int(p)\n",
    "            if p > 0:\n",
    "                list = list[pos:] + list[:pos]\n",
    "                list[:p] = list[:p][::-1]\n",
    "                list = list[-pos:] + list[:-pos]\n",
    "            pos += p + skip\n",
    "            skip += 1\n",
    "            pos = pos % len(list)\n",
    "    dense = []\n",
    "    for i in range(16):\n",
    "        xOr = 0\n",
    "        for j in range(16):\n",
    "            xOr ^= list[i * 16 + j]\n",
    "        dense.append(xOr)\n",
    "    out = \"\".join([hex(x)[2:].zfill(2) for x in dense])\n",
    "    out = \"\".join([bin(int(x, 16))[2:].zfill(4) for x in out])\n",
    "    return out"
   ]
  },
  {
   "cell_type": "code",
   "execution_count": 12,
   "metadata": {},
   "outputs": [
    {
     "name": "stdout",
     "output_type": "stream",
     "text": [
      "8074\n"
     ]
    }
   ],
   "source": [
    "ans1 = 0\n",
    "for i in range(128):\n",
    "    ans1 += knotHash(puzzle + \"-\" + str(i)).count(\"1\")\n",
    "print(ans1)"
   ]
  },
  {
   "cell_type": "code",
   "execution_count": 14,
   "metadata": {},
   "outputs": [],
   "source": [
    "grid = []\n",
    "for i in range(128):\n",
    "    grid.append(list(knotHash(puzzle + \"-\" + str(i))))"
   ]
  },
  {
   "cell_type": "code",
   "execution_count": 15,
   "metadata": {},
   "outputs": [
    {
     "name": "stdout",
     "output_type": "stream",
     "text": [
      "1212\n"
     ]
    }
   ],
   "source": [
    "#find all groups\n",
    "groups = 0\n",
    "for i in range(128):\n",
    "    for j in range(128):\n",
    "        if grid[i][j] == \"1\":\n",
    "            groups += 1\n",
    "            stack = [(i, j)]\n",
    "            while stack:\n",
    "                x, y = stack.pop()\n",
    "                grid[x][y] = \"0\"\n",
    "                if x > 0 and grid[x - 1][y] == \"1\":\n",
    "                    stack.append((x - 1, y))\n",
    "                if x < 127 and grid[x + 1][y] == \"1\":\n",
    "                    stack.append((x + 1, y))\n",
    "                if y > 0 and grid[x][y - 1] == \"1\":\n",
    "                    stack.append((x, y - 1))\n",
    "                if y < 127 and grid[x][y + 1] == \"1\":\n",
    "                    stack.append((x, y + 1))\n",
    "print(groups)\n"
   ]
  },
  {
   "cell_type": "code",
   "execution_count": null,
   "metadata": {},
   "outputs": [],
   "source": []
  }
 ],
 "metadata": {
  "kernelspec": {
   "display_name": "Python 3",
   "language": "python",
   "name": "python3"
  },
  "language_info": {
   "codemirror_mode": {
    "name": "ipython",
    "version": 3
   },
   "file_extension": ".py",
   "mimetype": "text/x-python",
   "name": "python",
   "nbconvert_exporter": "python",
   "pygments_lexer": "ipython3",
   "version": "3.8.16"
  },
  "orig_nbformat": 4
 },
 "nbformat": 4,
 "nbformat_minor": 2
}
