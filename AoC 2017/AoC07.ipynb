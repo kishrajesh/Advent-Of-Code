{
 "cells": [
  {
   "cell_type": "code",
   "execution_count": 1,
   "metadata": {},
   "outputs": [],
   "source": [
    "puzzle = open(\"AoC07.txt\").read().splitlines()"
   ]
  },
  {
   "cell_type": "code",
   "execution_count": 2,
   "metadata": {},
   "outputs": [],
   "source": [
    "nodes = {} #dict of nodes with nodes[key] = [list of nodes that key depends on]\n",
    "weights = {} #dict of weights with weights[key] = weight of key\n",
    "for p in puzzle:\n",
    "    if(\"->\" in p):\n",
    "        node, children = p.split(\" -> \")\n",
    "        children = children.split(\", \")\n",
    "        nodes[node.split(\" \")[0]] = children\n",
    "        weights[node.split(\" \")[0]] = int(node.split(\" \")[1][1:-1])\n",
    "    else:\n",
    "        node = p.split(\" \")[0]\n",
    "        nodes[node] = []\n",
    "        weights[node] = int(p.split(\" \")[1][1:-1])"
   ]
  },
  {
   "cell_type": "code",
   "execution_count": 3,
   "metadata": {},
   "outputs": [
    {
     "name": "stdout",
     "output_type": "stream",
     "text": [
      "cqmvs\n"
     ]
    }
   ],
   "source": [
    "parents = {}\n",
    "for node in nodes:\n",
    "    parents[node]=[]\n",
    "for node in nodes:\n",
    "    for child in nodes[node]:\n",
    "        parents[child].append(node)\n",
    "for i in nodes:\n",
    "    if parents[i]==[]:\n",
    "        root = i\n",
    "        break\n",
    "print(root)"
   ]
  },
  {
   "cell_type": "code",
   "execution_count": 21,
   "metadata": {},
   "outputs": [
    {
     "name": "stdout",
     "output_type": "stream",
     "text": [
      "['bntzksk', 'cqmvs']\n",
      "bntzksk vmttcwe 2615\n",
      "bntzksk ukwlfcf 2607\n",
      "bntzksk zzpevgd 2607\n",
      "\n",
      "cqmvs bntzksk 45118\n",
      "cqmvs mvpqv 45110\n",
      "cqmvs pthnz 45110\n",
      "cqmvs xinxep 45110\n",
      "cqmvs qnhvjec 45110\n",
      "cqmvs znztzxd 45110\n",
      "cqmvs silwwua 45110\n",
      "\n",
      "2310\n"
     ]
    }
   ],
   "source": [
    "def getWeight(node):\n",
    "    if nodes[node]==[]:\n",
    "        return weights[node]\n",
    "    else:\n",
    "        return weights[node]+sum([getWeight(i) for i in nodes[node]])\n",
    "unbalancedParents = []\n",
    "for p in nodes:\n",
    "    if(len(nodes[p])>1):\n",
    "        w = [getWeight(i) for i in nodes[p]]\n",
    "        if(len(set(w))!=1):\n",
    "            unbalancedParents.append(p)\n",
    "print(unbalancedParents)\n",
    "for p in unbalancedParents:\n",
    "    for i in nodes[p]:\n",
    "        print(p, i, getWeight(i))\n",
    "    print()\n",
    "\n",
    "print(weights[\"vmttcwe\"]-8)\n"
   ]
  },
  {
   "cell_type": "code",
   "execution_count": null,
   "metadata": {},
   "outputs": [],
   "source": []
  }
 ],
 "metadata": {
  "kernelspec": {
   "display_name": "Python 3",
   "language": "python",
   "name": "python3"
  },
  "language_info": {
   "codemirror_mode": {
    "name": "ipython",
    "version": 3
   },
   "file_extension": ".py",
   "mimetype": "text/x-python",
   "name": "python",
   "nbconvert_exporter": "python",
   "pygments_lexer": "ipython3",
   "version": "3.8.16"
  },
  "orig_nbformat": 4
 },
 "nbformat": 4,
 "nbformat_minor": 2
}
