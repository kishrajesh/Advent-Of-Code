{
 "cells": [
  {
   "cell_type": "code",
   "execution_count": 21,
   "metadata": {},
   "outputs": [
    {
     "name": "stdout",
     "output_type": "stream",
     "text": [
      "[10, 3, 15, 10, 5, 15, 5, 15, 9, 2, 5, 8, 5, 2, 3, 6]\n"
     ]
    }
   ],
   "source": [
    "puzzle = open(\"AoC06.txt\").read().splitlines()\n",
    "puzzle = puzzle[0].split(\"\\t\")\n",
    "puzzle = [int(x) for x in puzzle]\n",
    "print(puzzle)"
   ]
  },
  {
   "cell_type": "code",
   "execution_count": 22,
   "metadata": {},
   "outputs": [
    {
     "name": "stdout",
     "output_type": "stream",
     "text": [
      "14029\n"
     ]
    }
   ],
   "source": [
    "def reAllocate(l):\n",
    "    l = l.copy()\n",
    "    maxIndex = l.index(max(l))\n",
    "    blocks = l[maxIndex]\n",
    "    l[maxIndex] = 0\n",
    "    for i in range(blocks):\n",
    "        l[(maxIndex + i + 1) % len(l)] += 1\n",
    "    return l\n",
    "cycles = 0\n",
    "seen = []\n",
    "puzzle2 = puzzle.copy()\n",
    "while puzzle2 not in seen:\n",
    "    seen.append(puzzle2)\n",
    "    puzzle2 = reAllocate(puzzle2)\n",
    "    cycles += 1\n",
    "print(cycles)"
   ]
  },
  {
   "cell_type": "code",
   "execution_count": 19,
   "metadata": {},
   "outputs": [
    {
     "name": "stdout",
     "output_type": "stream",
     "text": [
      "2765\n"
     ]
    }
   ],
   "source": [
    "cycles = 0\n",
    "seen = {}\n",
    "puzzle3 = puzzle.copy()\n",
    "while tuple(puzzle3) not in seen:\n",
    "    seen[tuple(puzzle3)] = cycles\n",
    "    puzzle3 = reAllocate(puzzle3)\n",
    "    cycles += 1\n",
    "print(cycles - seen[tuple(puzzle3)])"
   ]
  },
  {
   "cell_type": "code",
   "execution_count": null,
   "metadata": {},
   "outputs": [],
   "source": []
  }
 ],
 "metadata": {
  "kernelspec": {
   "display_name": "Python 3",
   "language": "python",
   "name": "python3"
  },
  "language_info": {
   "codemirror_mode": {
    "name": "ipython",
    "version": 3
   },
   "file_extension": ".py",
   "mimetype": "text/x-python",
   "name": "python",
   "nbconvert_exporter": "python",
   "pygments_lexer": "ipython3",
   "version": "3.8.16"
  },
  "orig_nbformat": 4
 },
 "nbformat": 4,
 "nbformat_minor": 2
}
