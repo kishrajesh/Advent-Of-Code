{
 "cells": [
  {
   "cell_type": "code",
   "execution_count": 1,
   "metadata": {},
   "outputs": [],
   "source": [
    "puzzle = open(\"AoC08.txt\").read().splitlines()\n",
    "puzzle = [p.split(\" \") for p in puzzle]"
   ]
  },
  {
   "cell_type": "code",
   "execution_count": 4,
   "metadata": {},
   "outputs": [],
   "source": [
    "registers = set()\n",
    "for p in puzzle:\n",
    "    registers.add(p[0])"
   ]
  },
  {
   "cell_type": "code",
   "execution_count": 6,
   "metadata": {},
   "outputs": [],
   "source": [
    "def check(var, cond, val2, dict):\n",
    "    if cond == \">\":\n",
    "        return dict[var] > int(val2)\n",
    "    elif cond == \"<\":\n",
    "        return dict[var] < int(val2)\n",
    "    elif cond == \">=\":\n",
    "        return dict[var] >= int(val2)\n",
    "    elif cond == \"<=\":\n",
    "        return dict[var] <= int(val2)\n",
    "    elif cond == \"==\":\n",
    "        return dict[var] == int(val2)\n",
    "    elif cond == \"!=\":\n",
    "        return dict[var] != int(val2)"
   ]
  },
  {
   "cell_type": "code",
   "execution_count": 8,
   "metadata": {},
   "outputs": [
    {
     "name": "stdout",
     "output_type": "stream",
     "text": [
      "5221\n"
     ]
    }
   ],
   "source": [
    "regs = {}\n",
    "for r in registers:\n",
    "    regs[r]=0\n",
    "for i in range(len(puzzle)):\n",
    "    reg1 = puzzle[i][0]\n",
    "    instr = puzzle[i][1]\n",
    "    step = int(puzzle[i][2])\n",
    "    reg2 = puzzle[i][4]\n",
    "    cond = puzzle[i][5]\n",
    "    val = int(puzzle[i][6])\n",
    "    if(check(reg2, cond, val, regs)):\n",
    "        if instr == \"inc\":\n",
    "            regs[reg1] += step\n",
    "        elif instr == \"dec\":\n",
    "            regs[reg1] -= step\n",
    "ans1 = max(regs.values())\n",
    "print(ans1)\n"
   ]
  },
  {
   "cell_type": "code",
   "execution_count": 9,
   "metadata": {},
   "outputs": [
    {
     "name": "stdout",
     "output_type": "stream",
     "text": [
      "7491\n"
     ]
    }
   ],
   "source": [
    "ans2 = 0\n",
    "regs = {}\n",
    "for r in registers:\n",
    "    regs[r]=0\n",
    "for i in range(len(puzzle)):\n",
    "    reg1 = puzzle[i][0]\n",
    "    instr = puzzle[i][1]\n",
    "    step = int(puzzle[i][2])\n",
    "    reg2 = puzzle[i][4]\n",
    "    cond = puzzle[i][5]\n",
    "    val = int(puzzle[i][6])\n",
    "    if(check(reg2, cond, val, regs)):\n",
    "        if instr == \"inc\":\n",
    "            regs[reg1] += step\n",
    "        elif instr == \"dec\":\n",
    "            regs[reg1] -= step\n",
    "    ans2 = max(ans2, regs[reg1])\n",
    "print(ans2)"
   ]
  },
  {
   "cell_type": "code",
   "execution_count": null,
   "metadata": {},
   "outputs": [],
   "source": []
  }
 ],
 "metadata": {
  "kernelspec": {
   "display_name": "Python 3",
   "language": "python",
   "name": "python3"
  },
  "language_info": {
   "codemirror_mode": {
    "name": "ipython",
    "version": 3
   },
   "file_extension": ".py",
   "mimetype": "text/x-python",
   "name": "python",
   "nbconvert_exporter": "python",
   "pygments_lexer": "ipython3",
   "version": "3.8.16"
  },
  "orig_nbformat": 4
 },
 "nbformat": 4,
 "nbformat_minor": 2
}
