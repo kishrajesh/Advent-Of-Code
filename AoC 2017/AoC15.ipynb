{
 "cells": [
  {
   "cell_type": "code",
   "execution_count": 4,
   "metadata": {},
   "outputs": [],
   "source": [
    "puzzle = open(\"AoC15.txt\").read().splitlines()\n",
    "gen1st = int(puzzle[0].split(\" \")[4])\n",
    "gen2st = int(puzzle[1].split(\" \")[4])"
   ]
  },
  {
   "cell_type": "code",
   "execution_count": 7,
   "metadata": {},
   "outputs": [],
   "source": [
    "fac1 = 16807\n",
    "fac2 = 48271\n",
    "div = 2147483647"
   ]
  },
  {
   "cell_type": "code",
   "execution_count": 8,
   "metadata": {},
   "outputs": [],
   "source": [
    "def match(x, y):\n",
    "    return (x & 0xFFFF) == (y & 0xFFFF)"
   ]
  },
  {
   "cell_type": "code",
   "execution_count": 9,
   "metadata": {},
   "outputs": [
    {
     "name": "stdout",
     "output_type": "stream",
     "text": [
      "600\n"
     ]
    }
   ],
   "source": [
    "ans1 = 0\n",
    "g1 = gen1st\n",
    "g2 = gen2st\n",
    "for i in range(40000000):\n",
    "    g1 = (g1 * fac1) % div\n",
    "    g2 = (g2 * fac2) % div\n",
    "    if match(g1, g2):\n",
    "        ans1 += 1\n",
    "print(ans1)"
   ]
  },
  {
   "cell_type": "code",
   "execution_count": 10,
   "metadata": {},
   "outputs": [
    {
     "name": "stdout",
     "output_type": "stream",
     "text": [
      "313\n"
     ]
    }
   ],
   "source": [
    "ans2 = 0\n",
    "g1 = gen1st\n",
    "g2 = gen2st\n",
    "for i in range(5000000):\n",
    "    while True:\n",
    "        g1 = (g1 * fac1) % div\n",
    "        if g1 % 4 == 0:\n",
    "            break\n",
    "    while True:\n",
    "        g2 = (g2 * fac2) % div\n",
    "        if g2 % 8 == 0:\n",
    "            break\n",
    "    if match(g1, g2):\n",
    "        ans2 += 1\n",
    "print(ans2)"
   ]
  },
  {
   "cell_type": "code",
   "execution_count": null,
   "metadata": {},
   "outputs": [],
   "source": []
  }
 ],
 "metadata": {
  "kernelspec": {
   "display_name": "Python 3",
   "language": "python",
   "name": "python3"
  },
  "language_info": {
   "codemirror_mode": {
    "name": "ipython",
    "version": 3
   },
   "file_extension": ".py",
   "mimetype": "text/x-python",
   "name": "python",
   "nbconvert_exporter": "python",
   "pygments_lexer": "ipython3",
   "version": "3.8.16"
  },
  "orig_nbformat": 4
 },
 "nbformat": 4,
 "nbformat_minor": 2
}
