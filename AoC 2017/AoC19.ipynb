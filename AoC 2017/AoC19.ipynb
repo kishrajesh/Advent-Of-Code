{
 "cells": [
  {
   "cell_type": "code",
   "execution_count": 26,
   "metadata": {},
   "outputs": [],
   "source": [
    "puzzle = open(\"AoC19.txt\").read().splitlines()\n",
    "puzzle = [list(s) for s in puzzle]"
   ]
  },
  {
   "cell_type": "code",
   "execution_count": 27,
   "metadata": {},
   "outputs": [],
   "source": [
    "start = puzzle[0].index(\"|\")"
   ]
  },
  {
   "cell_type": "code",
   "execution_count": 28,
   "metadata": {},
   "outputs": [
    {
     "name": "stdout",
     "output_type": "stream",
     "text": [
      "FEZDNIVJWT\n",
      "17200\n"
     ]
    }
   ],
   "source": [
    "letters = []\n",
    "steps = 0\n",
    "x = start\n",
    "y = 0\n",
    "direction = \"down\"\n",
    "while True:\n",
    "    if direction == \"down\":\n",
    "        y += 1\n",
    "    elif direction == \"up\":\n",
    "        y -= 1\n",
    "    elif direction == \"left\":\n",
    "        x -= 1\n",
    "    elif direction == \"right\":\n",
    "        x += 1\n",
    "    steps += 1\n",
    "    if puzzle[y][x] == \"+\":\n",
    "        if direction == \"down\" or direction == \"up\":\n",
    "            if puzzle[y][x-1] == \"-\":\n",
    "                direction = \"left\"\n",
    "            else:\n",
    "                direction = \"right\"\n",
    "        else:\n",
    "            if puzzle[y-1][x] == \"|\":\n",
    "                direction = \"up\"\n",
    "            else:\n",
    "                direction = \"down\"\n",
    "    elif puzzle[y][x] == \" \":\n",
    "        break\n",
    "    elif puzzle[y][x] not in [\"|\", \"-\", \"+\"]:\n",
    "        letters.append(puzzle[y][x])\n",
    "ans1 = \"\".join(letters)\n",
    "print(ans1)\n",
    "ans2 = steps\n",
    "print(ans2)"
   ]
  },
  {
   "cell_type": "code",
   "execution_count": null,
   "metadata": {},
   "outputs": [],
   "source": []
  }
 ],
 "metadata": {
  "kernelspec": {
   "display_name": "Python 3",
   "language": "python",
   "name": "python3"
  },
  "language_info": {
   "codemirror_mode": {
    "name": "ipython",
    "version": 3
   },
   "file_extension": ".py",
   "mimetype": "text/x-python",
   "name": "python",
   "nbconvert_exporter": "python",
   "pygments_lexer": "ipython3",
   "version": "3.8.16"
  },
  "orig_nbformat": 4
 },
 "nbformat": 4,
 "nbformat_minor": 2
}
