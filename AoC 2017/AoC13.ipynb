{
 "cells": [
  {
   "cell_type": "code",
   "execution_count": 1,
   "metadata": {},
   "outputs": [],
   "source": [
    "puzzle = open(\"AoC13.txt\").read().splitlines()"
   ]
  },
  {
   "cell_type": "code",
   "execution_count": 2,
   "metadata": {},
   "outputs": [],
   "source": [
    "walls = {}\n",
    "for line in puzzle:\n",
    "    depth, range = line.split(\": \")\n",
    "    walls[int(depth)] = int(range)"
   ]
  },
  {
   "cell_type": "code",
   "execution_count": 3,
   "metadata": {},
   "outputs": [
    {
     "name": "stdout",
     "output_type": "stream",
     "text": [
      "1704\n"
     ]
    }
   ],
   "source": [
    "severity = 0\n",
    "for depth in walls:\n",
    "    if depth % ((walls[depth] - 1) * 2) == 0:\n",
    "        severity += depth * walls[depth]\n",
    "ans1 = severity\n",
    "print(ans1)"
   ]
  },
  {
   "cell_type": "code",
   "execution_count": 4,
   "metadata": {},
   "outputs": [
    {
     "name": "stdout",
     "output_type": "stream",
     "text": [
      "3970918\n"
     ]
    }
   ],
   "source": [
    "ctr = 0\n",
    "while True:\n",
    "    for depth in walls:\n",
    "        if (depth + ctr) % ((walls[depth] - 1) * 2) == 0:\n",
    "            break\n",
    "    else:\n",
    "        break\n",
    "    ctr += 1\n",
    "ans2 = ctr\n",
    "print(ans2)"
   ]
  },
  {
   "cell_type": "code",
   "execution_count": null,
   "metadata": {},
   "outputs": [],
   "source": []
  }
 ],
 "metadata": {
  "kernelspec": {
   "display_name": "Python 3",
   "language": "python",
   "name": "python3"
  },
  "language_info": {
   "codemirror_mode": {
    "name": "ipython",
    "version": 3
   },
   "file_extension": ".py",
   "mimetype": "text/x-python",
   "name": "python",
   "nbconvert_exporter": "python",
   "pygments_lexer": "ipython3",
   "version": "3.8.16"
  },
  "orig_nbformat": 4
 },
 "nbformat": 4,
 "nbformat_minor": 2
}
