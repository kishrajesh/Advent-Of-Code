{
 "cells": [
  {
   "cell_type": "code",
   "execution_count": 19,
   "metadata": {},
   "outputs": [],
   "source": [
    "puzzle = open(\"AoC03.txt\").read().splitlines()\n",
    "puzzle = int(puzzle[0])"
   ]
  },
  {
   "cell_type": "code",
   "execution_count": 20,
   "metadata": {},
   "outputs": [
    {
     "name": "stdout",
     "output_type": "stream",
     "text": [
      "326\n"
     ]
    }
   ],
   "source": [
    "import math\n",
    "def distToCenter(n):\n",
    "    if n==1:\n",
    "        return 0\n",
    "    else:\n",
    "        layer = math.ceil((math.sqrt(n)-1)/2)\n",
    "        pos = (n-(2*layer-1)**2)%(2*layer)\n",
    "        dist = abs(layer) + abs(pos-layer)\n",
    "        return dist\n",
    "print(distToCenter(puzzle))"
   ]
  },
  {
   "cell_type": "code",
   "execution_count": 32,
   "metadata": {},
   "outputs": [
    {
     "name": "stdout",
     "output_type": "stream",
     "text": [
      "(0, 0) 1\n",
      "(0, 1) 1\n",
      "(-1, 1) 2\n",
      "(-1, 0) 4\n",
      "(-1, -1) 5\n",
      "(0, -1) 10\n",
      "(1, -1) 11\n",
      "(1, 0) 23\n",
      "(1, 1) 25\n",
      "(1, 2) 26\n",
      "(0, 2) 54\n",
      "(-1, 2) 57\n",
      "(-2, 2) 59\n",
      "(-2, 1) 122\n",
      "(-2, 0) 133\n",
      "(-2, -1) 142\n",
      "(-2, -2) 147\n",
      "(-1, -2) 304\n",
      "(0, -2) 330\n",
      "(1, -2) 351\n",
      "(2, -2) 362\n",
      "(2, -1) 747\n",
      "(2, 0) 806\n",
      "(2, 1) 880\n",
      "(2, 2) 931\n",
      "(2, 3) 957\n",
      "(1, 3) 1968\n",
      "(0, 3) 2105\n",
      "(-1, 3) 2275\n",
      "(-2, 3) 2391\n",
      "(-3, 3) 2450\n",
      "(-3, 2) 5022\n",
      "(-3, 1) 5336\n",
      "(-3, 0) 5733\n",
      "(-3, -1) 6155\n",
      "(-3, -2) 6444\n",
      "(-3, -3) 6591\n",
      "(-2, -3) 13486\n",
      "(-1, -3) 14267\n",
      "(0, -3) 15252\n",
      "(1, -3) 16295\n",
      "(2, -3) 17008\n",
      "(3, -3) 17370\n",
      "(3, -2) 35487\n",
      "(3, -1) 37402\n",
      "(3, 0) 39835\n",
      "(3, 1) 42452\n",
      "(3, 2) 45220\n",
      "(3, 3) 47108\n",
      "(3, 4) 48065\n",
      "(2, 4) 98098\n",
      "(1, 4) 103128\n",
      "(0, 4) 109476\n",
      "(-1, 4) 116247\n",
      "(-2, 4) 123363\n",
      "(-3, 4) 128204\n",
      "(-4, 4) 130654\n",
      "(-4, 3) 266330\n",
      "(-4, 2) 279138\n",
      "(-4, 1) 295229\n",
      "(-4, 0) 312453\n",
      "(-4, -1) 330785\n",
      "(-4, -2) 349975\n",
      "(-4, -3) 363010\n",
      "363010\n"
     ]
    }
   ],
   "source": [
    "def firstLarger(n):\n",
    "    grid = {(0,0):1}\n",
    "    x,y = 0,0\n",
    "    dx,dy = 1,0\n",
    "    lenTurn = 0\n",
    "    numTurn = 1\n",
    "    while True:\n",
    "        grid[(x,y)] = sum(grid.get((x+i,y+j),0) for i in range(-1,2) for j in range(-1,2))\n",
    "        if grid[(x,y)] > n:\n",
    "            return grid[(x,y)]\n",
    "        numTurn -= 1\n",
    "        if numTurn == 0:\n",
    "            dx,dy = -dy,dx\n",
    "            if dx == 0:\n",
    "                lenTurn += 1\n",
    "            numTurn = lenTurn\n",
    "        x, y = x+dx, y+dy\n",
    "\n",
    "\n",
    "print(firstLarger(puzzle))"
   ]
  },
  {
   "cell_type": "code",
   "execution_count": null,
   "metadata": {},
   "outputs": [],
   "source": []
  }
 ],
 "metadata": {
  "kernelspec": {
   "display_name": "Python 3",
   "language": "python",
   "name": "python3"
  },
  "language_info": {
   "codemirror_mode": {
    "name": "ipython",
    "version": 3
   },
   "file_extension": ".py",
   "mimetype": "text/x-python",
   "name": "python",
   "nbconvert_exporter": "python",
   "pygments_lexer": "ipython3",
   "version": "3.8.16"
  },
  "orig_nbformat": 4
 },
 "nbformat": 4,
 "nbformat_minor": 2
}
