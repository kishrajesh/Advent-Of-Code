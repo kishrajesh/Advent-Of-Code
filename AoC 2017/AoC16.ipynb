{
 "cells": [
  {
   "cell_type": "code",
   "execution_count": 4,
   "metadata": {},
   "outputs": [],
   "source": [
    "puzzle = open(\"AoC16.txt\").read().splitlines()\n",
    "puzzle = puzzle[0].split(\",\")\n"
   ]
  },
  {
   "cell_type": "code",
   "execution_count": 3,
   "metadata": {},
   "outputs": [],
   "source": [
    "s = \"abcdefghijklmnop\"\n",
    "def spin(X, s):\n",
    "    return s[-X:] + s[:-X]\n",
    "def exc(A,B,s):\n",
    "    s = list(s)\n",
    "    s[A], s[B] = s[B], s[A]\n",
    "    return \"\".join(s)\n",
    "def part(A,B,s):\n",
    "    a = s.find(A)\n",
    "    b = s.find(B)\n",
    "    return exc(a,b,s)"
   ]
  },
  {
   "cell_type": "code",
   "execution_count": 5,
   "metadata": {},
   "outputs": [
    {
     "name": "stdout",
     "output_type": "stream",
     "text": [
      "bijankplfgmeodhc\n"
     ]
    }
   ],
   "source": [
    "ans1 = s\n",
    "for p in puzzle:\n",
    "    if p[0] == \"s\":\n",
    "        ans1 = spin(int(p[1:]), ans1)\n",
    "    elif p[0] == \"x\":\n",
    "        a,b = map(int, p[1:].split(\"/\"))\n",
    "        ans1 = exc(a,b,ans1)\n",
    "    elif p[0] == \"p\":\n",
    "        a,b = p[1:].split(\"/\")\n",
    "        ans1 = part(a,b,ans1)\n",
    "print(ans1)"
   ]
  },
  {
   "cell_type": "code",
   "execution_count": 42,
   "metadata": {},
   "outputs": [],
   "source": [
    "def dance2(s):\n",
    "    ans = s\n",
    "    for p in puzzle:\n",
    "        if p[0] == \"s\":\n",
    "            ans = spin(int(p[1:]), ans)\n",
    "        elif p[0] == \"x\":\n",
    "            a,b = map(int, p[1:].split(\"/\"))\n",
    "            ans = exc(a,b,ans)\n",
    "        elif p[0] == \"p\":\n",
    "            a,b = p[1:].split(\"/\")\n",
    "            ans = part(a,b,ans)\n",
    "    return ans"
   ]
  },
  {
   "cell_type": "code",
   "execution_count": 49,
   "metadata": {},
   "outputs": [
    {
     "name": "stdout",
     "output_type": "stream",
     "text": [
      "36\n"
     ]
    }
   ],
   "source": [
    "rot = \"abcdefghijklmnop\"\n",
    "cycle = 0\n",
    "while True:\n",
    "    rot = dance2(rot)\n",
    "    cycle+=1\n",
    "    if(rot == \"abcdefghijklmnop\"):\n",
    "        break\n",
    "\n",
    "print(cycle)"
   ]
  },
  {
   "cell_type": "code",
   "execution_count": 50,
   "metadata": {},
   "outputs": [
    {
     "name": "stdout",
     "output_type": "stream",
     "text": [
      "bpjahknliomefdgc\n"
     ]
    }
   ],
   "source": [
    "ans2 = \"abcdefghijklmnop\"\n",
    "for i in range(1000000000 % (cycle)):\n",
    "    ans2 = dance2(ans2)\n",
    "print(ans2)"
   ]
  },
  {
   "cell_type": "code",
   "execution_count": null,
   "metadata": {},
   "outputs": [],
   "source": []
  }
 ],
 "metadata": {
  "kernelspec": {
   "display_name": "Python 3",
   "language": "python",
   "name": "python3"
  },
  "language_info": {
   "codemirror_mode": {
    "name": "ipython",
    "version": 3
   },
   "file_extension": ".py",
   "mimetype": "text/x-python",
   "name": "python",
   "nbconvert_exporter": "python",
   "pygments_lexer": "ipython3",
   "version": "3.8.16"
  },
  "orig_nbformat": 4
 },
 "nbformat": 4,
 "nbformat_minor": 2
}
