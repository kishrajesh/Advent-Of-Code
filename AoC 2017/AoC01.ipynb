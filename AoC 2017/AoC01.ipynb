{
 "cells": [
  {
   "cell_type": "code",
   "execution_count": 1,
   "id": "2fcb446d",
   "metadata": {},
   "outputs": [],
   "source": [
    "puzzle = open(\"AoC01.txt\").read().splitlines()"
   ]
  },
  {
   "cell_type": "code",
   "execution_count": 2,
   "id": "89d0ec85",
   "metadata": {},
   "outputs": [],
   "source": [
    "puzzle = puzzle[0]"
   ]
  },
  {
   "cell_type": "code",
   "execution_count": 4,
   "id": "88e2d99f",
   "metadata": {},
   "outputs": [
    {
     "name": "stdout",
     "output_type": "stream",
     "text": [
      "1175\n"
     ]
    }
   ],
   "source": [
    "ans = 0\n",
    "for i in range(len(puzzle)):\n",
    "    if(puzzle[i]==puzzle[(i+1)%len(puzzle)]):\n",
    "        ans+=int(puzzle[i])\n",
    "print(ans)"
   ]
  },
  {
   "cell_type": "code",
   "execution_count": 5,
   "id": "7c546be0",
   "metadata": {},
   "outputs": [
    {
     "name": "stdout",
     "output_type": "stream",
     "text": [
      "1166\n"
     ]
    }
   ],
   "source": [
    "ans2 = 0\n",
    "n = len(puzzle)\n",
    "half = n//2\n",
    "for i in range(n):\n",
    "    if(puzzle[i]==puzzle[(i+half)%n]):\n",
    "        ans2+=int(puzzle[i])\n",
    "print(ans2)"
   ]
  },
  {
   "cell_type": "code",
   "execution_count": null,
   "id": "5135841b",
   "metadata": {},
   "outputs": [],
   "source": []
  }
 ],
 "metadata": {
  "kernelspec": {
   "display_name": "Python 3 (ipykernel)",
   "language": "python",
   "name": "python3"
  },
  "language_info": {
   "codemirror_mode": {
    "name": "ipython",
    "version": 3
   },
   "file_extension": ".py",
   "mimetype": "text/x-python",
   "name": "python",
   "nbconvert_exporter": "python",
   "pygments_lexer": "ipython3",
   "version": "3.11.0"
  }
 },
 "nbformat": 4,
 "nbformat_minor": 5
}
