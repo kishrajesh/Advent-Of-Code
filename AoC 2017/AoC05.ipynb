{
 "cells": [
  {
   "cell_type": "code",
   "execution_count": 1,
   "metadata": {},
   "outputs": [],
   "source": [
    "puzzle = open(\"AoC05.txt\").read().splitlines()\n",
    "puzzle = [int(i) for i in puzzle]"
   ]
  },
  {
   "cell_type": "code",
   "execution_count": 2,
   "metadata": {},
   "outputs": [
    {
     "name": "stdout",
     "output_type": "stream",
     "text": [
      "336905\n"
     ]
    }
   ],
   "source": [
    "puzzle2 = [i for i in puzzle]\n",
    "n = len(puzzle2)\n",
    "i = 0\n",
    "steps = 0\n",
    "while i < n and i>=0:\n",
    "    steps += 1\n",
    "    j = puzzle2[i]\n",
    "    puzzle2[i] += 1\n",
    "    i += j\n",
    "print(steps)"
   ]
  },
  {
   "cell_type": "code",
   "execution_count": 3,
   "metadata": {},
   "outputs": [
    {
     "name": "stdout",
     "output_type": "stream",
     "text": [
      "21985262\n"
     ]
    }
   ],
   "source": [
    "puzzle3 = [i for i in puzzle]\n",
    "n = len(puzzle3)\n",
    "i = 0\n",
    "steps = 0\n",
    "while i < n and i>=0:\n",
    "    steps += 1\n",
    "    j = puzzle3[i]\n",
    "    if j >= 3:\n",
    "        puzzle3[i] -= 1\n",
    "    else:\n",
    "        puzzle3[i] += 1\n",
    "    i += j\n",
    "print(steps)"
   ]
  },
  {
   "cell_type": "code",
   "execution_count": null,
   "metadata": {},
   "outputs": [],
   "source": []
  }
 ],
 "metadata": {
  "kernelspec": {
   "display_name": "Python 3",
   "language": "python",
   "name": "python3"
  },
  "language_info": {
   "codemirror_mode": {
    "name": "ipython",
    "version": 3
   },
   "file_extension": ".py",
   "mimetype": "text/x-python",
   "name": "python",
   "nbconvert_exporter": "python",
   "pygments_lexer": "ipython3",
   "version": "3.8.16"
  },
  "orig_nbformat": 4
 },
 "nbformat": 4,
 "nbformat_minor": 2
}
