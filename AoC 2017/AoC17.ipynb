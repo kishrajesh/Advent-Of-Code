{
 "cells": [
  {
   "cell_type": "code",
   "execution_count": 1,
   "metadata": {},
   "outputs": [],
   "source": [
    "puzzle = open(\"AoC17.txt\").read().splitlines()\n",
    "puzzle = int(puzzle[0])"
   ]
  },
  {
   "cell_type": "code",
   "execution_count": 6,
   "metadata": {},
   "outputs": [
    {
     "name": "stdout",
     "output_type": "stream",
     "text": [
      "1670\n"
     ]
    }
   ],
   "source": [
    "spinlock = [0]\n",
    "pos = 0\n",
    "for i in range(1, 2018):\n",
    "    pos = (pos + puzzle) % len(spinlock) + 1\n",
    "    spinlock.insert(pos, i)\n",
    "ans1 = spinlock[spinlock.index(2017) + 1]\n",
    "print(ans1)"
   ]
  },
  {
   "cell_type": "code",
   "execution_count": 15,
   "metadata": {},
   "outputs": [
    {
     "name": "stdout",
     "output_type": "stream",
     "text": [
      "2316253\n"
     ]
    }
   ],
   "source": [
    "ans2 = 0\n",
    "pos = 0\n",
    "for i in range(1, 50000001):\n",
    "    pos = (pos + puzzle) % i + 1\n",
    "    if pos == 1 and i != 1:\n",
    "        ans2 = i\n",
    "print(ans2)"
   ]
  },
  {
   "cell_type": "code",
   "execution_count": null,
   "metadata": {},
   "outputs": [],
   "source": []
  }
 ],
 "metadata": {
  "kernelspec": {
   "display_name": "Python 3",
   "language": "python",
   "name": "python3"
  },
  "language_info": {
   "codemirror_mode": {
    "name": "ipython",
    "version": 3
   },
   "file_extension": ".py",
   "mimetype": "text/x-python",
   "name": "python",
   "nbconvert_exporter": "python",
   "pygments_lexer": "ipython3",
   "version": "3.8.16"
  },
  "orig_nbformat": 4
 },
 "nbformat": 4,
 "nbformat_minor": 2
}
