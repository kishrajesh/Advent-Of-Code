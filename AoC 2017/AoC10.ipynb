{
 "cells": [
  {
   "cell_type": "code",
   "execution_count": 1,
   "metadata": {},
   "outputs": [],
   "source": [
    "puzzle = open(\"AoC10.txt\").read().splitlines()\n",
    "puzzle = puzzle[0].split(\",\")"
   ]
  },
  {
   "cell_type": "code",
   "execution_count": 2,
   "metadata": {},
   "outputs": [
    {
     "name": "stdout",
     "output_type": "stream",
     "text": [
      "11375\n"
     ]
    }
   ],
   "source": [
    "list = [i for i in range(256)]\n",
    "skip = 0\n",
    "pos = 0\n",
    "for p in puzzle:\n",
    "    p = int(p)\n",
    "    if p > 0:\n",
    "        list = list[pos:] + list[:pos]\n",
    "        list[:p] = list[:p][::-1]\n",
    "        list = list[-pos:] + list[:-pos]\n",
    "    pos += p + skip\n",
    "    skip += 1\n",
    "    pos = pos % len(list)\n",
    "print(list[0] * list[1])"
   ]
  },
  {
   "cell_type": "code",
   "execution_count": 3,
   "metadata": {},
   "outputs": [
    {
     "name": "stdout",
     "output_type": "stream",
     "text": [
      "e0387e2ad112b7c2ef344e44885fe4d8\n"
     ]
    }
   ],
   "source": [
    "puzzle2 = open(\"AoC10.txt\").read().splitlines()\n",
    "puzzle2 = [ord(c) for c in puzzle2[0]]\n",
    "puzzle2 += [17, 31, 73, 47, 23]\n",
    "skip = 0\n",
    "pos = 0\n",
    "list = [i for i in range(256)]\n",
    "for _ in range(64):\n",
    "    for p in puzzle2:\n",
    "        p = int(p)\n",
    "        if p > 0:\n",
    "            list = list[pos:] + list[:pos]\n",
    "            list[:p] = list[:p][::-1]\n",
    "            list = list[-pos:] + list[:-pos]\n",
    "        pos += p + skip\n",
    "        skip += 1\n",
    "        pos = pos % len(list)\n",
    "dense = []\n",
    "for i in range(16):\n",
    "    xOr = 0\n",
    "    for j in range(16):\n",
    "        xOr ^= list[i * 16 + j]\n",
    "    dense.append(xOr)\n",
    "print(\"\".join([hex(x)[2:].zfill(2) for x in dense]))"
   ]
  },
  {
   "cell_type": "code",
   "execution_count": null,
   "metadata": {},
   "outputs": [],
   "source": []
  }
 ],
 "metadata": {
  "kernelspec": {
   "display_name": "Python 3",
   "language": "python",
   "name": "python3"
  },
  "language_info": {
   "codemirror_mode": {
    "name": "ipython",
    "version": 3
   },
   "file_extension": ".py",
   "mimetype": "text/x-python",
   "name": "python",
   "nbconvert_exporter": "python",
   "pygments_lexer": "ipython3",
   "version": "3.8.16"
  },
  "orig_nbformat": 4
 },
 "nbformat": 4,
 "nbformat_minor": 2
}
