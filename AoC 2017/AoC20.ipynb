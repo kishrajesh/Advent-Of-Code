{
 "cells": [
  {
   "cell_type": "code",
   "execution_count": 101,
   "metadata": {},
   "outputs": [],
   "source": [
    "puzzle = open(\"AoC20.txt\").read().splitlines()"
   ]
  },
  {
   "cell_type": "code",
   "execution_count": 102,
   "metadata": {},
   "outputs": [],
   "source": [
    "pos = []\n",
    "vel = []\n",
    "acc = []\n",
    "for line in puzzle:\n",
    "    p, v, a = line.split(\", \")\n",
    "    p = p[3:-1].split(\",\")\n",
    "    v = v[3:-1].split(\",\")\n",
    "    a = a[3:-1].split(\",\")\n",
    "    pos.append([int(p[0]), int(p[1]), int(p[2])])\n",
    "    vel.append([int(v[0]), int(v[1]), int(v[2])])\n",
    "    acc.append([int(a[0]), int(a[1]), int(a[2])])"
   ]
  },
  {
   "cell_type": "code",
   "execution_count": 103,
   "metadata": {},
   "outputs": [],
   "source": [
    "def update(p, v, a):\n",
    "    v[0] += a[0]\n",
    "    v[1] += a[1]\n",
    "    v[2] += a[2]\n",
    "    p[0] += v[0]\n",
    "    p[1] += v[1]\n",
    "    p[2] += v[2]\n",
    "    return p, v, a"
   ]
  },
  {
   "cell_type": "code",
   "execution_count": 104,
   "metadata": {},
   "outputs": [],
   "source": [
    "def closer(part1, part2):\n",
    "    [p1, v1, a1] = part1\n",
    "    [p2, v2, a2] = part2\n",
    "    distA1 = abs(a1[0]) + abs(a1[1]) + abs(a1[2])\n",
    "    distA2 = abs(a2[0]) + abs(a2[1]) + abs(a2[2])\n",
    "    if distA1 > distA2:\n",
    "        return False\n",
    "    elif distA2 > distA1:\n",
    "        return True\n",
    "    distV1 = abs(v1[0]) + abs(v1[1]) + abs(v1[2])\n",
    "    distV2 = abs(v2[0]) + abs(v2[1]) + abs(v2[2])\n",
    "    if distV1 > distV2:\n",
    "        return False\n",
    "    elif distV2 > distV1:\n",
    "        return True\n",
    "    distP1 = abs(p1[0]) + abs(p1[1]) + abs(p1[2])\n",
    "    distP2 = abs(p2[0]) + abs(p2[1]) + abs(p2[2])\n",
    "    if distP1 > distP2:\n",
    "        return False\n",
    "    elif distP2 > distP1:\n",
    "        return True\n",
    "    return True"
   ]
  },
  {
   "cell_type": "code",
   "execution_count": 105,
   "metadata": {},
   "outputs": [
    {
     "name": "stdout",
     "output_type": "stream",
     "text": [
      "161\n"
     ]
    }
   ],
   "source": [
    "ans1 = 0\n",
    "for i in range(1, len(puzzle)):\n",
    "    if closer([pos[i], vel[i], acc[i]], [pos[ans1], vel[ans1], acc[ans1]]):\n",
    "        ans1 = i\n",
    "print(ans1)"
   ]
  },
  {
   "cell_type": "code",
   "execution_count": 113,
   "metadata": {},
   "outputs": [],
   "source": [
    "def gettime(part1, part2):\n",
    "    [p1, v1, a1] = part1\n",
    "    [p2, v2, a2] = part2\n",
    "    if(a1==a2 and v1==v2):\n",
    "        if(p1==p2):\n",
    "            return -2\n",
    "        else:\n",
    "            return -1\n",
    "    if(a1==a2 and v1!=v2):\n",
    "        t = (p2-p1)/(v1-v2)\n",
    "        if(t>=0 and t%1==0.0):\n",
    "            return t\n",
    "    detr = (a1-a2+2*v1-2*v2)**2-8*(a1-a2)*(p1-p2)\n",
    "    if(detr<0):\n",
    "        return -1\n",
    "    if a1!=a2:\n",
    "        t1 = ((a1-a2+2*v1-2*v2)+detr)/(2*(a1-a2))\n",
    "        t2 = ((a1-a2+2*v1-2*v2)-detr)/(2*(a1-a2))\n",
    "        if(t1>=0 and t1%1==0.0):\n",
    "            return t1\n",
    "        if(t2>=0 and t2%1==0.0):\n",
    "            return t2\n",
    "        return -1\n",
    "    return -1\n",
    "def intersect(part1, part2):\n",
    "    [p1, v1, a1] = part1\n",
    "    [p2, v2, a2] = part2\n",
    "    [x1, y1, z1] = p1\n",
    "    [x2, y2, z2] = p2\n",
    "    [vx1, vy1, vz1] = v1\n",
    "    [vx2, vy2, vz2] = v2\n",
    "    [ax1, ay1, az1] = a1\n",
    "    [ax2, ay2, az2] = a2\n",
    "    t1 = gettime([x1, vx1, ax1], [x2, vx2, ax2])\n",
    "    t2 = gettime([y1, vy1, ay1], [y2, vy2, ay2])\n",
    "    t3 = gettime([z1, vz1, az1], [z2, vz2, az2])\n",
    "    #print(t1, t2, t3)\n",
    "    if(t1==-1 or t2==-1 or t3==-1):\n",
    "        return -1\n",
    "    return max(t1, t2, t3)\n",
    "\n"
   ]
  },
  {
   "cell_type": "code",
   "execution_count": 124,
   "metadata": {},
   "outputs": [
    {
     "name": "stdout",
     "output_type": "stream",
     "text": [
      "2\n"
     ]
    }
   ],
   "source": [
    "times = []\n",
    "for i in range(len(puzzle)):\n",
    "    for j in range(i+1, len(puzzle)):\n",
    "        if intersect([pos[i], vel[i], acc[i]], [pos[j], vel[j], acc[j]])>=0:\n",
    "            times.append([i, j, intersect([pos[i], vel[i], acc[i]], [pos[j], vel[j], acc[j]])])\n",
    "times.sort(key=lambda x: x[2])\n",
    "#print(times)\n",
    "timers = [x[2] for x in times]\n",
    "timers = list(set(timers))\n",
    "times2 = {}\n",
    "for i in timers:\n",
    "    times2[i] = set()\n",
    "for i in range(len(times)):\n",
    "    times2[times[i][2]].add(times[i][0])\n",
    "    times2[times[i][2]].add(times[i][1])\n",
    "\n",
    "poins = set()\n",
    "for i in range(len(puzzle)):\n",
    "    poins.add(i)\n",
    "for i in timers:\n",
    "    #if more than one particle in times2[i] is in poins, remove all of them\n",
    "    #else, do not remove anything\n",
    "    inters = times2[i]\n",
    "    if(len(inters.union(poins))>1):\n",
    "        for j in inters:\n",
    "            if j in poins:\n",
    "                poins.discard(j)\n",
    "            \n",
    "#print(poins)\n",
    "ans2 = len(poins)\n",
    "print(ans2)"
   ]
  },
  {
   "cell_type": "code",
   "execution_count": null,
   "metadata": {},
   "outputs": [],
   "source": []
  }
 ],
 "metadata": {
  "kernelspec": {
   "display_name": "Python 3",
   "language": "python",
   "name": "python3"
  },
  "language_info": {
   "codemirror_mode": {
    "name": "ipython",
    "version": 3
   },
   "file_extension": ".py",
   "mimetype": "text/x-python",
   "name": "python",
   "nbconvert_exporter": "python",
   "pygments_lexer": "ipython3",
   "version": "3.8.16"
  },
  "orig_nbformat": 4
 },
 "nbformat": 4,
 "nbformat_minor": 2
}
