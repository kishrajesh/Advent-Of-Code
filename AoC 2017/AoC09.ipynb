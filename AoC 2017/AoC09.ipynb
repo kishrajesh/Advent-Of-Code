{
 "cells": [
  {
   "cell_type": "code",
   "execution_count": 3,
   "metadata": {},
   "outputs": [],
   "source": [
    "puzzle = open(\"AoC09.txt\").read().splitlines()"
   ]
  },
  {
   "cell_type": "code",
   "execution_count": 5,
   "metadata": {},
   "outputs": [
    {
     "name": "stdout",
     "output_type": "stream",
     "text": [
      "12396\n",
      "6346\n"
     ]
    }
   ],
   "source": [
    "def parseStream(s):\n",
    "    groups = []\n",
    "    garbage = False\n",
    "    ignore = False\n",
    "    group = 0\n",
    "    score = 0\n",
    "    garbageCount = 0\n",
    "    for c in s:\n",
    "        if ignore:\n",
    "            ignore = False\n",
    "        elif c == \"!\":\n",
    "            ignore = True\n",
    "        elif garbage and c == \">\":\n",
    "            garbage = False\n",
    "        elif garbage:\n",
    "            garbageCount += 1\n",
    "        elif c == \"<\":\n",
    "            garbage = True\n",
    "        elif c == \"{\":\n",
    "            group += 1\n",
    "            groups.append(group)\n",
    "        elif c == \"}\":\n",
    "            score += groups.pop()\n",
    "            group -= 1\n",
    "    return score, garbageCount\n",
    "ans1, ans2 = parseStream(puzzle[0])\n",
    "print(ans1)\n",
    "print(ans2)"
   ]
  },
  {
   "cell_type": "code",
   "execution_count": null,
   "metadata": {},
   "outputs": [],
   "source": []
  }
 ],
 "metadata": {
  "kernelspec": {
   "display_name": "Python 3",
   "language": "python",
   "name": "python3"
  },
  "language_info": {
   "codemirror_mode": {
    "name": "ipython",
    "version": 3
   },
   "file_extension": ".py",
   "mimetype": "text/x-python",
   "name": "python",
   "nbconvert_exporter": "python",
   "pygments_lexer": "ipython3",
   "version": "3.8.16"
  },
  "orig_nbformat": 4
 },
 "nbformat": 4,
 "nbformat_minor": 2
}
